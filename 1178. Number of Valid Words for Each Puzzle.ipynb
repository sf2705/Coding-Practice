{
 "cells": [
  {
   "cell_type": "markdown",
   "metadata": {},
   "source": [
    "### 2021-11-08\n",
    "\n",
    "https://leetcode.com/problems/number-of-valid-words-for-each-puzzle/"
   ]
  },
  {
   "cell_type": "code",
   "execution_count": 7,
   "metadata": {},
   "outputs": [],
   "source": [
    "def findNumOfValidWords(words, puzzles):\n",
    "    \"\"\"\n",
    "    :type words: List[str]\n",
    "    :type puzzles: List[str]\n",
    "    :rtype: List[int]\n",
    "    \"\"\"\n",
    "    from collections import Counter\n",
    "    \n",
    "    cnt = Counter(frozenset(w) for w in words)\n",
    "    res = []\n",
    "    \n",
    "    for p in puzzles:\n",
    "        temp = [p[0]]\n",
    "        for ch in p[1:]:\n",
    "            temp += [s + ch for s in temp]\n",
    "            print(temp)\n",
    "        \n",
    "        res.append(sum(cnt[frozenset(s)] for s in temp))\n",
    "    return"
   ]
  },
  {
   "cell_type": "code",
   "execution_count": 9,
   "metadata": {},
   "outputs": [
    {
     "name": "stdout",
     "output_type": "stream",
     "text": [
      "['a', 'ab']\n",
      "['a', 'ab', 'ao', 'abo']\n",
      "['a', 'ab', 'ao', 'abo', 'av', 'abv', 'aov', 'abov']\n",
      "['a', 'ab', 'ao', 'abo', 'av', 'abv', 'aov', 'abov', 'ae', 'abe', 'aoe', 'aboe', 'ave', 'abve', 'aove', 'above']\n",
      "['a', 'ab', 'ao', 'abo', 'av', 'abv', 'aov', 'abov', 'ae', 'abe', 'aoe', 'aboe', 'ave', 'abve', 'aove', 'above', 'ay', 'aby', 'aoy', 'aboy', 'avy', 'abvy', 'aovy', 'abovy', 'aey', 'abey', 'aoey', 'aboey', 'avey', 'abvey', 'aovey', 'abovey']\n",
      "['a', 'ab', 'ao', 'abo', 'av', 'abv', 'aov', 'abov', 'ae', 'abe', 'aoe', 'aboe', 'ave', 'abve', 'aove', 'above', 'ay', 'aby', 'aoy', 'aboy', 'avy', 'abvy', 'aovy', 'abovy', 'aey', 'abey', 'aoey', 'aboey', 'avey', 'abvey', 'aovey', 'abovey', 'az', 'abz', 'aoz', 'aboz', 'avz', 'abvz', 'aovz', 'abovz', 'aez', 'abez', 'aoez', 'aboez', 'avez', 'abvez', 'aovez', 'abovez', 'ayz', 'abyz', 'aoyz', 'aboyz', 'avyz', 'abvyz', 'aovyz', 'abovyz', 'aeyz', 'abeyz', 'aoeyz', 'aboeyz', 'aveyz', 'abveyz', 'aoveyz', 'aboveyz']\n"
     ]
    }
   ],
   "source": [
    "words = [\"aaaa\",\"asas\",\"able\",\"ability\",\"actt\",\"actor\",\"access\"]\n",
    "puzzles = [\"aboveyz\"]\n",
    "findNumOfValidWords(words, puzzles)"
   ]
  },
  {
   "cell_type": "code",
   "execution_count": 8,
   "metadata": {},
   "outputs": [
    {
     "name": "stdout",
     "output_type": "stream",
     "text": [
      "['a', 'ab']\n",
      "['a', 'ab', 'ao', 'abo']\n",
      "['a', 'ab', 'ao', 'abo', 'av', 'abv', 'aov', 'abov']\n",
      "['a', 'ab', 'ao', 'abo', 'av', 'abv', 'aov', 'abov', 'ae', 'abe', 'aoe', 'aboe', 'ave', 'abve', 'aove', 'above']\n",
      "['a', 'ab', 'ao', 'abo', 'av', 'abv', 'aov', 'abov', 'ae', 'abe', 'aoe', 'aboe', 'ave', 'abve', 'aove', 'above', 'ay', 'aby', 'aoy', 'aboy', 'avy', 'abvy', 'aovy', 'abovy', 'aey', 'abey', 'aoey', 'aboey', 'avey', 'abvey', 'aovey', 'abovey']\n",
      "['a', 'ab', 'ao', 'abo', 'av', 'abv', 'aov', 'abov', 'ae', 'abe', 'aoe', 'aboe', 'ave', 'abve', 'aove', 'above', 'ay', 'aby', 'aoy', 'aboy', 'avy', 'abvy', 'aovy', 'abovy', 'aey', 'abey', 'aoey', 'aboey', 'avey', 'abvey', 'aovey', 'abovey', 'az', 'abz', 'aoz', 'aboz', 'avz', 'abvz', 'aovz', 'abovz', 'aez', 'abez', 'aoez', 'aboez', 'avez', 'abvez', 'aovez', 'abovez', 'ayz', 'abyz', 'aoyz', 'aboyz', 'avyz', 'abvyz', 'aovyz', 'abovyz', 'aeyz', 'abeyz', 'aoeyz', 'aboeyz', 'aveyz', 'abveyz', 'aoveyz', 'aboveyz']\n"
     ]
    }
   ],
   "source": [
    "words = [\"aaaa\",\"asas\",\"able\",\"ability\",\"actt\",\"actor\",\"access\"]\n",
    "puzzles = [\"aboveyz\",\"abrodyz\",\"abslute\",\"absoryz\",\"actresz\",\"gaswxyz\"]\n",
    "findNumOfValidWords(words, puzzles)"
   ]
  },
  {
   "cell_type": "code",
   "execution_count": null,
   "metadata": {},
   "outputs": [],
   "source": [
    "words = [\"apple\",\"pleas\",\"please\"]\n",
    "puzzles = [\"aelwxyz\",\"aelpxyz\",\"aelpsxy\",\"saelpxy\",\"xaelpsy\"]\n",
    "findNumOfValidWords(words, puzzles)"
   ]
  }
 ],
 "metadata": {
  "kernelspec": {
   "display_name": "Python 3",
   "language": "python",
   "name": "python3"
  },
  "language_info": {
   "codemirror_mode": {
    "name": "ipython",
    "version": 3
   },
   "file_extension": ".py",
   "mimetype": "text/x-python",
   "name": "python",
   "nbconvert_exporter": "python",
   "pygments_lexer": "ipython3",
   "version": "3.8.5"
  }
 },
 "nbformat": 4,
 "nbformat_minor": 4
}
