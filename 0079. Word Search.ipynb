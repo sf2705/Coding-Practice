{
 "cells": [
  {
   "cell_type": "markdown",
   "metadata": {},
   "source": [
    "### 2021-10-08\n",
    "\n",
    "https://leetcode.com/problems/word-search/"
   ]
  },
  {
   "cell_type": "code",
   "execution_count": 12,
   "metadata": {},
   "outputs": [],
   "source": [
    "def exist(board, word):\n",
    "    \"\"\"\n",
    "    :type board: List[List[str]]\n",
    "    :type word: str\n",
    "    :rtype: bool\n",
    "    \"\"\"\n",
    "    if not board:\n",
    "        return False\n",
    "    \n",
    "    def dfs(board, i, j, word):\n",
    "        if len(word) == 0:\n",
    "            return True\n",
    "        if i<0 or i>=len(board) or j<0 or j>=len(board[0]) or word[0]!=board[i][j]:\n",
    "            return False\n",
    "        \n",
    "        w = board[i][j]\n",
    "        board[i][j] = ''\n",
    "        \n",
    "        res = dfs(board, i+1, j, word[1:]) or \\\n",
    "                dfs(board, i-1, j, word[1:]) or \\\n",
    "                dfs(board, i, j+1, word[1:]) or \\\n",
    "                dfs(board, i, j-1, word[1:])\n",
    "        \n",
    "        board[i][j] = w\n",
    "        return res\n",
    "    \n",
    "    for i in range(len(board)):\n",
    "        for j in range(len(board[0])):\n",
    "            if dfs(board, i, j, word):\n",
    "                return True\n",
    "    return False\n"
   ]
  },
  {
   "cell_type": "code",
   "execution_count": 13,
   "metadata": {},
   "outputs": [
    {
     "data": {
      "text/plain": [
       "True"
      ]
     },
     "execution_count": 13,
     "metadata": {},
     "output_type": "execute_result"
    }
   ],
   "source": [
    "board = [[\"A\",\"B\",\"C\",\"E\"],[\"S\",\"F\",\"C\",\"S\"],[\"A\",\"D\",\"E\",\"E\"]]\n",
    "word = \"ABCCED\"\n",
    "exist(board, word)"
   ]
  },
  {
   "cell_type": "code",
   "execution_count": 14,
   "metadata": {},
   "outputs": [
    {
     "data": {
      "text/plain": [
       "True"
      ]
     },
     "execution_count": 14,
     "metadata": {},
     "output_type": "execute_result"
    }
   ],
   "source": [
    "board = [[\"A\",\"B\",\"C\",\"E\"],[\"S\",\"F\",\"C\",\"S\"],[\"A\",\"D\",\"E\",\"E\"]]\n",
    "word = \"SEE\"\n",
    "exist(board, word)"
   ]
  },
  {
   "cell_type": "code",
   "execution_count": 15,
   "metadata": {},
   "outputs": [
    {
     "data": {
      "text/plain": [
       "False"
      ]
     },
     "execution_count": 15,
     "metadata": {},
     "output_type": "execute_result"
    }
   ],
   "source": [
    "board = [[\"A\",\"B\",\"C\",\"E\"],[\"S\",\"F\",\"C\",\"S\"],[\"A\",\"D\",\"E\",\"E\"]]\n",
    "word = \"ABCB\"\n",
    "exist(board, word)"
   ]
  },
  {
   "cell_type": "code",
   "execution_count": 16,
   "metadata": {},
   "outputs": [
    {
     "data": {
      "text/plain": [
       "True"
      ]
     },
     "execution_count": 16,
     "metadata": {},
     "output_type": "execute_result"
    }
   ],
   "source": [
    "board = [[\"a\"]]\n",
    "word = \"a\"\n",
    "exist(board, word)"
   ]
  },
  {
   "cell_type": "code",
   "execution_count": null,
   "metadata": {},
   "outputs": [],
   "source": []
  }
 ],
 "metadata": {
  "kernelspec": {
   "display_name": "Python 3",
   "language": "python",
   "name": "python3"
  },
  "language_info": {
   "codemirror_mode": {
    "name": "ipython",
    "version": 3
   },
   "file_extension": ".py",
   "mimetype": "text/x-python",
   "name": "python",
   "nbconvert_exporter": "python",
   "pygments_lexer": "ipython3",
   "version": "3.8.5"
  }
 },
 "nbformat": 4,
 "nbformat_minor": 4
}
