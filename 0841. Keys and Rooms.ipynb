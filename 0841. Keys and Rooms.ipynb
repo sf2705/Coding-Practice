{
 "cells": [
  {
   "cell_type": "markdown",
   "metadata": {},
   "source": [
    "### 2021-03-19\n",
    "\n",
    "https://leetcode.com/problems/keys-and-rooms/"
   ]
  },
  {
   "cell_type": "code",
   "execution_count": 8,
   "metadata": {},
   "outputs": [],
   "source": [
    "def canVisitAllRooms(rooms):\n",
    "    \"\"\"\n",
    "    :type rooms: List[List[int]]\n",
    "    :rtype: bool\n",
    "    \"\"\"\n",
    "    visited = [0] * len(rooms)\n",
    "    stack = [0]\n",
    "    while stack:\n",
    "        #print(stack, visited)\n",
    "        i = stack.pop(0)\n",
    "        visited[i] = 1\n",
    "        for j in rooms[i]:\n",
    "            if visited[j] == 0:\n",
    "                stack.append(j)\n",
    "    return sum(visited) == len(rooms)\n",
    "        \n",
    "        "
   ]
  },
  {
   "cell_type": "code",
   "execution_count": 9,
   "metadata": {},
   "outputs": [
    {
     "name": "stdout",
     "output_type": "stream",
     "text": [
      "[0] [0, 0, 0, 0]\n",
      "[1] [1, 0, 0, 0]\n",
      "[2] [1, 1, 0, 0]\n",
      "[3] [1, 1, 1, 0]\n"
     ]
    },
    {
     "data": {
      "text/plain": [
       "True"
      ]
     },
     "execution_count": 9,
     "metadata": {},
     "output_type": "execute_result"
    }
   ],
   "source": [
    "rooms = [[1],[2],[3],[]]\n",
    "canVisitAllRooms(rooms)"
   ]
  },
  {
   "cell_type": "code",
   "execution_count": 10,
   "metadata": {},
   "outputs": [
    {
     "name": "stdout",
     "output_type": "stream",
     "text": [
      "[0] [0, 0, 0, 0]\n",
      "[1, 3] [1, 0, 0, 0]\n",
      "[3, 3] [1, 1, 0, 0]\n",
      "[3] [1, 1, 0, 1]\n"
     ]
    },
    {
     "data": {
      "text/plain": [
       "False"
      ]
     },
     "execution_count": 10,
     "metadata": {},
     "output_type": "execute_result"
    }
   ],
   "source": [
    "rooms = [[1,3],[3,0,1],[2],[0]]\n",
    "canVisitAllRooms(rooms)"
   ]
  },
  {
   "cell_type": "code",
   "execution_count": null,
   "metadata": {},
   "outputs": [],
   "source": []
  }
 ],
 "metadata": {
  "kernelspec": {
   "display_name": "Python 3",
   "language": "python",
   "name": "python3"
  },
  "language_info": {
   "codemirror_mode": {
    "name": "ipython",
    "version": 3
   },
   "file_extension": ".py",
   "mimetype": "text/x-python",
   "name": "python",
   "nbconvert_exporter": "python",
   "pygments_lexer": "ipython3",
   "version": "3.8.5"
  }
 },
 "nbformat": 4,
 "nbformat_minor": 4
}
