{
 "cells": [
  {
   "cell_type": "markdown",
   "metadata": {},
   "source": [
    "### 2021-09-09\n",
    "\n",
    "https://leetcode.com/problems/largest-plus-sign/"
   ]
  },
  {
   "cell_type": "code",
   "execution_count": 7,
   "metadata": {},
   "outputs": [],
   "source": [
    "def orderOfLargestPlusSign(n, mines):\n",
    "    \"\"\"\n",
    "    :type n: int\n",
    "    :type mines: List[List[int]]\n",
    "    :rtype: int\n",
    "    \"\"\"\n",
    "    grid = [[n]*n for i in range(n)]\n",
    "\n",
    "    for r, c in mines:\n",
    "        grid[r][c] = 0\n",
    "\n",
    "    for i in range(n):\n",
    "        l, r, u, d = 0, 0, 0, 0\n",
    "        \n",
    "        for j in range(n):\n",
    "            k = n-j-1\n",
    "            \n",
    "            l = 0 if grid[i][j] == 0 else l+1\n",
    "            grid[i][j] = min(grid[i][j], l)\n",
    "            \n",
    "            r = 0 if grid[i][k] == 0 else r+1\n",
    "            grid[i][k] = min(grid[i][k], r)\n",
    "            \n",
    "            u = 0 if grid[j][i] == 0 else u+1\n",
    "            grid[j][i] = min(grid[j][i], u)\n",
    "            \n",
    "            d = 0 if grid[k][i] == 0 else d+1\n",
    "            grid[k][i] = min(grid[k][i], d)\n",
    "            \n",
    "    return max(map(max, grid))\n",
    "            \n",
    "            "
   ]
  },
  {
   "cell_type": "code",
   "execution_count": 8,
   "metadata": {},
   "outputs": [
    {
     "data": {
      "text/plain": [
       "2"
      ]
     },
     "execution_count": 8,
     "metadata": {},
     "output_type": "execute_result"
    }
   ],
   "source": [
    "n = 5\n",
    "mines = [[4,2]]\n",
    "orderOfLargestPlusSign(n, mines)"
   ]
  },
  {
   "cell_type": "code",
   "execution_count": 10,
   "metadata": {},
   "outputs": [
    {
     "data": {
      "text/plain": [
       "0"
      ]
     },
     "execution_count": 10,
     "metadata": {},
     "output_type": "execute_result"
    }
   ],
   "source": [
    "n = 1\n",
    "mines = [[0,0]]\n",
    "orderOfLargestPlusSign(n, mines)"
   ]
  },
  {
   "cell_type": "code",
   "execution_count": null,
   "metadata": {},
   "outputs": [],
   "source": []
  }
 ],
 "metadata": {
  "kernelspec": {
   "display_name": "Python 3",
   "language": "python",
   "name": "python3"
  },
  "language_info": {
   "codemirror_mode": {
    "name": "ipython",
    "version": 3
   },
   "file_extension": ".py",
   "mimetype": "text/x-python",
   "name": "python",
   "nbconvert_exporter": "python",
   "pygments_lexer": "ipython3",
   "version": "3.8.5"
  }
 },
 "nbformat": 4,
 "nbformat_minor": 4
}
