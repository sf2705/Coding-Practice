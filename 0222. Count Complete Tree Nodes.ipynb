{
 "cells": [
  {
   "cell_type": "markdown",
   "metadata": {},
   "source": [
    "### 2021-10-24\n",
    "\n",
    "https://leetcode.com/problems/count-complete-tree-nodes/"
   ]
  },
  {
   "cell_type": "code",
   "execution_count": null,
   "metadata": {},
   "outputs": [],
   "source": [
    "# Definition for a binary tree node.\n",
    "# class TreeNode(object):\n",
    "#     def __init__(self, val=0, left=None, right=None):\n",
    "#         self.val = val\n",
    "#         self.left = left\n",
    "#         self.right = right\n",
    "class Solution(object):\n",
    "    def countNodes(self, root):\n",
    "        \"\"\"\n",
    "        :type root: TreeNode\n",
    "        :rtype: int\n",
    "        \"\"\"\n",
    "        \n",
    "        # if left_depth == right_depth, we can make sure that left subtree is full, but not sure about right subtree\n",
    "        # if left_depth != right_depth, then we are sure the the right subtree is full, but next level's left subtree may not\n",
    "        \n",
    "        def get_depth(node):\n",
    "            if not node:\n",
    "                return 0\n",
    "            return 1 + get_depth(node.left)\n",
    "        \n",
    "        if not root:\n",
    "            return 0\n",
    "        \n",
    "        left_depth = get_depth(root.left)\n",
    "        right_depth = get_depth(root.right)\n",
    "        \n",
    "        if left_depth == right_depth:\n",
    "            return 2 ** left_depth + self.countNodes(root.right)\n",
    "        \n",
    "        return 2 ** right_depth + self.countNodes(root.left)\n",
    "            \n",
    "        "
   ]
  }
 ],
 "metadata": {
  "kernelspec": {
   "display_name": "Python 3",
   "language": "python",
   "name": "python3"
  },
  "language_info": {
   "codemirror_mode": {
    "name": "ipython",
    "version": 3
   },
   "file_extension": ".py",
   "mimetype": "text/x-python",
   "name": "python",
   "nbconvert_exporter": "python",
   "pygments_lexer": "ipython3",
   "version": "3.8.5"
  }
 },
 "nbformat": 4,
 "nbformat_minor": 4
}
