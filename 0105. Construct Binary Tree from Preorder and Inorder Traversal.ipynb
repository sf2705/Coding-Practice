{
 "cells": [
  {
   "cell_type": "markdown",
   "metadata": {},
   "source": [
    "### 2021-01-17\n",
    "\n",
    "https://leetcode.com/problems/construct-binary-tree-from-preorder-and-inorder-traversal/"
   ]
  },
  {
   "cell_type": "markdown",
   "metadata": {},
   "source": [
    "\n",
    "inorder: left subtree ==> root node ==> right subtree\n",
    "\n",
    "preorder: root node ==> left subtree ==> right subtree\n",
    "\n",
    "The first node in preorder is our root\n",
    "\n",
    "\n",
    "Example:\n",
    "\n",
    "inorder = [9,3,15,20,7]\n",
    "\n",
    "preorder = [3,9,20,15,7]\n",
    "\n",
    "3 is the root, so we can use 3 to divide inorder to two parts, [9], [15,20,7]\n",
    "\n",
    "Then use the number on the left of 3, which is 9 to divide preorder to two parts, [9], [20,15,7]\n",
    "\n",
    "inorder:     [9]  [15,20,7]\n",
    "\n",
    "preorder:    [9], [20,15,7]\n",
    "\n",
    "Then we can do the same thing again, 20 is the root for the array on the right, then \n",
    "\n",
    "inorder right array:   [15], [7]\n",
    "\n",
    "postorder right array: [15], [7]\n",
    "\n"
   ]
  },
  {
   "cell_type": "code",
   "execution_count": null,
   "metadata": {},
   "outputs": [],
   "source": [
    "# Definition for a binary tree node.\n",
    "# class TreeNode(object):\n",
    "#     def __init__(self, val=0, left=None, right=None):\n",
    "#         self.val = val\n",
    "#         self.left = left\n",
    "#         self.right = right\n",
    "class Solution(object):\n",
    "    def buildTree(self, preorder, inorder):\n",
    "        \"\"\"\n",
    "        :type preorder: List[int]\n",
    "        :type inorder: List[int]\n",
    "        :rtype: TreeNode\n",
    "        \"\"\"\n",
    "        \n",
    "        # track the index of all the numbers in inorder\n",
    "        dic = {}\n",
    "        for i in range(len(inorder)):\n",
    "            dic[inorder[i]] = i\n",
    "        \n",
    "        def helper(l, r):\n",
    "            if l > r:\n",
    "                return None\n",
    "            # root node of tree or subtree\n",
    "            node = TreeNode(preorder.pop(0))\n",
    "            \n",
    "            # mid is the place of root node in inorder, then split the array to left and right according to this index\n",
    "            mid = dic[node.val]\n",
    "            \n",
    "            # since preorder and inorder both have left first, when we pop(0), left subtree is pop out first\n",
    "            # therefore, we should do left first, then right\n",
    "            node.left = helper(l, mid-1)\n",
    "            node.right = helper(mid+1, r)\n",
    "            \n",
    "            return node\n",
    "        return helper(0, len(inorder)-1)"
   ]
  }
 ],
 "metadata": {
  "kernelspec": {
   "display_name": "Python 3",
   "language": "python",
   "name": "python3"
  },
  "language_info": {
   "codemirror_mode": {
    "name": "ipython",
    "version": 3
   },
   "file_extension": ".py",
   "mimetype": "text/x-python",
   "name": "python",
   "nbconvert_exporter": "python",
   "pygments_lexer": "ipython3",
   "version": "3.8.5"
  }
 },
 "nbformat": 4,
 "nbformat_minor": 4
}
