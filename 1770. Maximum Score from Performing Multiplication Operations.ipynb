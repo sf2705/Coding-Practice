{
 "cells": [
  {
   "cell_type": "markdown",
   "metadata": {},
   "source": [
    "### 2020-02-20\n",
    "\n",
    "https://leetcode.com/problems/maximum-score-from-performing-multiplication-operations/"
   ]
  },
  {
   "cell_type": "markdown",
   "metadata": {},
   "source": [
    "#### Recursion -- time limit exceed"
   ]
  },
  {
   "cell_type": "code",
   "execution_count": 52,
   "metadata": {},
   "outputs": [],
   "source": [
    "def maximumScore(nums, multipliers):\n",
    "    \"\"\"\n",
    "    :type nums: List[int]\n",
    "    :type multipliers: List[int]\n",
    "    :rtype: int\n",
    "    \"\"\"\n",
    "    def rec(nums, multipliers, res):\n",
    "        \n",
    "        if not multipliers:\n",
    "            return res\n",
    "        else:\n",
    "            m = multipliers[0]\n",
    "            start = rec(nums[1:], multipliers[1:], res + nums[0]*m)\n",
    "            end = rec(nums[:-1], multipliers[1:], res + nums[-1]*m)\n",
    "            \n",
    "            return max(start, end)\n",
    "    \n",
    "    return rec(nums, multipliers, 0)\n",
    "        \n",
    "        "
   ]
  },
  {
   "cell_type": "markdown",
   "metadata": {},
   "source": [
    "#### Recursion modified -- Time Limit Exceeded"
   ]
  },
  {
   "cell_type": "code",
   "execution_count": 61,
   "metadata": {},
   "outputs": [],
   "source": [
    "def maximumScore(nums, multipliers):\n",
    "    \"\"\"\n",
    "    :type nums: List[int]\n",
    "    :type multipliers: List[int]\n",
    "    :rtype: int\n",
    "    \"\"\"\n",
    "    def rec(left, right, k):\n",
    "        \n",
    "        if k == len(multipliers):\n",
    "            return 0\n",
    "        else:\n",
    "            start = nums[left]*multipliers[k] + rec(left+1, right, k+1)\n",
    "            end = nums[right]*multipliers[k] + rec(left, right-1, k+1)\n",
    "            \n",
    "            return max(start, end)\n",
    "    \n",
    "    return rec(0, len(nums)-1, 0)\n",
    "        \n",
    "        "
   ]
  },
  {
   "cell_type": "markdown",
   "metadata": {},
   "source": [
    "#### Bottom-up DP"
   ]
  },
  {
   "cell_type": "code",
   "execution_count": 58,
   "metadata": {},
   "outputs": [],
   "source": [
    "def maximumScore(nums, multipliers):\n",
    "    \"\"\"\n",
    "    :type nums: List[int]\n",
    "    :type multipliers: List[int]\n",
    "    :rtype: int\n",
    "    \"\"\"\n",
    "    n, m = len(nums), len(multipliers)\n",
    "    dp = [[0]*m for _ in range(m+1)]\n",
    "    \n",
    "    for i in range(m-1, -1, -1):\n",
    "        for j in range(i, m):\n",
    "            k = i + m - j -1\n",
    "            dp[i][j] = max(nums[i]* multipliers[k] + dp[i+1][j], \\\n",
    "                          nums[j-m+n]*multipliers[k] + dp[i][j-1])\n",
    "    return dp[0][-1]"
   ]
  },
  {
   "cell_type": "code",
   "execution_count": 62,
   "metadata": {},
   "outputs": [
    {
     "data": {
      "text/plain": [
       "14"
      ]
     },
     "execution_count": 62,
     "metadata": {},
     "output_type": "execute_result"
    }
   ],
   "source": [
    "nums = [1,2,3]\n",
    "multipliers = [3,2,1]\n",
    "maximumScore(nums, multipliers)"
   ]
  },
  {
   "cell_type": "code",
   "execution_count": 63,
   "metadata": {},
   "outputs": [
    {
     "data": {
      "text/plain": [
       "102"
      ]
     },
     "execution_count": 63,
     "metadata": {},
     "output_type": "execute_result"
    }
   ],
   "source": [
    "nums = [-5,-3,-3,-2,7,1]\n",
    "multipliers = [-10,-5,3,4,6]\n",
    "maximumScore(nums, multipliers)"
   ]
  },
  {
   "cell_type": "code",
   "execution_count": null,
   "metadata": {},
   "outputs": [],
   "source": []
  }
 ],
 "metadata": {
  "kernelspec": {
   "display_name": "Python 3",
   "language": "python",
   "name": "python3"
  },
  "language_info": {
   "codemirror_mode": {
    "name": "ipython",
    "version": 3
   },
   "file_extension": ".py",
   "mimetype": "text/x-python",
   "name": "python",
   "nbconvert_exporter": "python",
   "pygments_lexer": "ipython3",
   "version": "3.8.5"
  }
 },
 "nbformat": 4,
 "nbformat_minor": 4
}
