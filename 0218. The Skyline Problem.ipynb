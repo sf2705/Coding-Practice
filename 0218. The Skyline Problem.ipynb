{
 "cells": [
  {
   "cell_type": "markdown",
   "metadata": {},
   "source": [
    "### 2021-02-27\n",
    "\n",
    "https://leetcode.com/problems/the-skyline-problem/"
   ]
  },
  {
   "cell_type": "code",
   "execution_count": 1,
   "metadata": {},
   "outputs": [],
   "source": [
    "def getSkyline(buildings):\n",
    "    \"\"\"\n",
    "    :type buildings: List[List[int]]\n",
    "    :rtype: List[List[int]]\n",
    "    \"\"\"\n",
    "    from heapq import heappush, heappop\n",
    "    \n",
    "    # since we are using minimum heap, we need to change height to negative\n",
    "    bd = [(left, -height, right) for left, right, height in buildings]\n",
    "    \n",
    "    # add building end (act as buildings with 0 height)\n",
    "    bd += list({(right, 0, 0) for left, right, height in buildings})\n",
    "    bd.sort()\n",
    "    \n",
    "    res = [[0, 0]] # [position, height]\n",
    "    hp = [(0, float('inf'))] #[height, endposition]\n",
    "    \n",
    "    for left, neg_height, right in bd:\n",
    "        while left >= hp[0][1]:\n",
    "            heappop(hp)\n",
    "        \n",
    "        if neg_height:\n",
    "            heappush(hp, (neg_height, right))\n",
    "        \n",
    "        if res[-1][1] != -hp[0][0]:\n",
    "            res.append([left, -hp[0][0]])\n",
    "    return res[1:]"
   ]
  },
  {
   "cell_type": "code",
   "execution_count": 2,
   "metadata": {},
   "outputs": [
    {
     "data": {
      "text/plain": [
       "[[2, 10], [3, 15], [7, 12], [12, 0], [15, 10], [20, 8], [24, 0]]"
      ]
     },
     "execution_count": 2,
     "metadata": {},
     "output_type": "execute_result"
    }
   ],
   "source": [
    "buildings = [[2,9,10],[3,7,15],[5,12,12],[15,20,10],[19,24,8]]\n",
    "getSkyline(buildings)"
   ]
  },
  {
   "cell_type": "code",
   "execution_count": 3,
   "metadata": {},
   "outputs": [
    {
     "data": {
      "text/plain": [
       "[[0, 3], [5, 0]]"
      ]
     },
     "execution_count": 3,
     "metadata": {},
     "output_type": "execute_result"
    }
   ],
   "source": [
    "buildings = [[0,2,3],[2,5,3]]\n",
    "getSkyline(buildings)"
   ]
  },
  {
   "cell_type": "code",
   "execution_count": null,
   "metadata": {},
   "outputs": [],
   "source": []
  }
 ],
 "metadata": {
  "kernelspec": {
   "display_name": "Python 3",
   "language": "python",
   "name": "python3"
  },
  "language_info": {
   "codemirror_mode": {
    "name": "ipython",
    "version": 3
   },
   "file_extension": ".py",
   "mimetype": "text/x-python",
   "name": "python",
   "nbconvert_exporter": "python",
   "pygments_lexer": "ipython3",
   "version": "3.8.5"
  }
 },
 "nbformat": 4,
 "nbformat_minor": 4
}
