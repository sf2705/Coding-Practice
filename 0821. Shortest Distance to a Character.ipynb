{
 "cells": [
  {
   "cell_type": "markdown",
   "metadata": {},
   "source": [
    "### 2021-02-07\n",
    "\n",
    "https://leetcode.com/problems/shortest-distance-to-a-character/"
   ]
  },
  {
   "cell_type": "code",
   "execution_count": 13,
   "metadata": {},
   "outputs": [],
   "source": [
    "def shortestToChar(s, c):\n",
    "    \"\"\"\n",
    "    :type s: str\n",
    "    :type c: str\n",
    "    :rtype: List[int]\n",
    "    \"\"\"\n",
    "    c_list = []\n",
    "    for i in range(len(s)):\n",
    "        if s[i] == c:\n",
    "            c_list.append(i)\n",
    "    #print(c_list)\n",
    "    answer = []\n",
    "    cur_c = c_list.pop(0)\n",
    "    for i in range(len(s)):\n",
    "        #print(i, cur_c)\n",
    "        if c_list and i >= c_list[0]:\n",
    "            cur_c = c_list.pop(0)\n",
    "        if c_list:\n",
    "            answer.append(min(abs(cur_c - i), abs(c_list[0]-i)))\n",
    "        else:\n",
    "            answer.append(abs(cur_c - i))\n",
    "    return answer\n",
    "    "
   ]
  },
  {
   "cell_type": "code",
   "execution_count": 14,
   "metadata": {},
   "outputs": [
    {
     "name": "stdout",
     "output_type": "stream",
     "text": [
      "[3, 5, 6, 11]\n",
      "0 3\n",
      "1 3\n",
      "2 3\n",
      "3 3\n",
      "4 3\n",
      "5 3\n",
      "6 5\n",
      "7 6\n",
      "8 6\n",
      "9 6\n",
      "10 6\n",
      "11 6\n"
     ]
    },
    {
     "data": {
      "text/plain": [
       "[3, 2, 1, 0, 1, 0, 0, 1, 2, 2, 1, 0]"
      ]
     },
     "execution_count": 14,
     "metadata": {},
     "output_type": "execute_result"
    }
   ],
   "source": [
    "s = \"loveleetcode\"\n",
    "c = \"e\"\n",
    "shortestToChar(s, c)"
   ]
  },
  {
   "cell_type": "code",
   "execution_count": 4,
   "metadata": {},
   "outputs": [
    {
     "data": {
      "text/plain": [
       "[3, 2, 1, 0]"
      ]
     },
     "execution_count": 4,
     "metadata": {},
     "output_type": "execute_result"
    }
   ],
   "source": [
    "s = \"aaab\"\n",
    "c = \"b\"\n",
    "shortestToChar(s, c)"
   ]
  },
  {
   "cell_type": "code",
   "execution_count": null,
   "metadata": {},
   "outputs": [],
   "source": []
  }
 ],
 "metadata": {
  "kernelspec": {
   "display_name": "Python 3",
   "language": "python",
   "name": "python3"
  },
  "language_info": {
   "codemirror_mode": {
    "name": "ipython",
    "version": 3
   },
   "file_extension": ".py",
   "mimetype": "text/x-python",
   "name": "python",
   "nbconvert_exporter": "python",
   "pygments_lexer": "ipython3",
   "version": "3.8.5"
  }
 },
 "nbformat": 4,
 "nbformat_minor": 4
}
