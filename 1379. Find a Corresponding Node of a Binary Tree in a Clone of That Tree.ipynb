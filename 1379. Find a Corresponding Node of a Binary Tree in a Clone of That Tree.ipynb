{
 "cells": [
  {
   "cell_type": "markdown",
   "metadata": {},
   "source": [
    "### 2021-01-02"
   ]
  },
  {
   "cell_type": "markdown",
   "metadata": {},
   "source": [
    "https://leetcode.com/problems/find-a-corresponding-node-of-a-binary-tree-in-a-clone-of-that-tree/"
   ]
  },
  {
   "cell_type": "code",
   "execution_count": null,
   "metadata": {},
   "outputs": [],
   "source": [
    "# Definition for a binary tree node.\n",
    "# class TreeNode(object):\n",
    "#     def __init__(self, x):\n",
    "#         self.val = x\n",
    "#         self.left = None\n",
    "#         self.right = None\n",
    "\n",
    "class Solution(object):\n",
    "    def getTargetCopy(self, original, cloned, target):\n",
    "        \"\"\"\n",
    "        :type original: TreeNode\n",
    "        :type cloned: TreeNode\n",
    "        :type target: TreeNode\n",
    "        :rtype: TreeNode\n",
    "        \"\"\"\n",
    "        # need to traverse all the nodes to check if a node's value equals to the target value.\n",
    "        # if repeated value is allowed, then compare if a node is target\n",
    "        def inorder(orig, cl, target):\n",
    "            \"\"\"\n",
    "            :type orig: TreeNode\n",
    "            :type cl: TreeNode\n",
    "            :type target: TreeNode\n",
    "            :rtype: None\n",
    "            \"\"\"\n",
    "            # if node exist\n",
    "            if orig:\n",
    "                # check the left\n",
    "                inorder(orig.left, cl.left, target)\n",
    "                # store the result if meets target\n",
    "                if orig is target:\n",
    "                    self.result = cl\n",
    "                # check the right\n",
    "                inorder(orig.right, cl.right, target)\n",
    "                \n",
    "            return\n",
    "        \n",
    "        inorder(original, cloned, target)\n",
    "        return self.result"
   ]
  }
 ],
 "metadata": {
  "kernelspec": {
   "display_name": "Python 3",
   "language": "python",
   "name": "python3"
  },
  "language_info": {
   "codemirror_mode": {
    "name": "ipython",
    "version": 3
   },
   "file_extension": ".py",
   "mimetype": "text/x-python",
   "name": "python",
   "nbconvert_exporter": "python",
   "pygments_lexer": "ipython3",
   "version": "3.8.5"
  }
 },
 "nbformat": 4,
 "nbformat_minor": 4
}
