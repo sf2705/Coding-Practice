{
 "cells": [
  {
   "cell_type": "markdown",
   "metadata": {},
   "source": [
    "### Q1"
   ]
  },
  {
   "cell_type": "code",
   "execution_count": 29,
   "metadata": {},
   "outputs": [],
   "source": [
    "def maximumUnits(boxTypes, truckSize):\n",
    "    \"\"\"\n",
    "    :type boxTypes: List[List[int]]\n",
    "    :type truckSize: int\n",
    "    :rtype: int\n",
    "    \"\"\"\n",
    "    if not boxTypes:\n",
    "        return 0\n",
    "    ord_types = sorted(boxTypes, key = lambda x:x[1], reverse = True)\n",
    "    units = 0\n",
    "    total = 0\n",
    "    for box in ord_types:\n",
    "        while units < truckSize and box[0] > 0:\n",
    "            total += box[1]\n",
    "            units += 1\n",
    "            box[0] -= 1\n",
    "        print(box, units)\n",
    "    return total"
   ]
  },
  {
   "cell_type": "code",
   "execution_count": 30,
   "metadata": {},
   "outputs": [
    {
     "name": "stdout",
     "output_type": "stream",
     "text": [
      "[0, 3] 1\n",
      "[0, 2] 3\n",
      "[2, 1] 4\n"
     ]
    },
    {
     "data": {
      "text/plain": [
       "8"
      ]
     },
     "execution_count": 30,
     "metadata": {},
     "output_type": "execute_result"
    }
   ],
   "source": [
    "boxTypes = [[1,3],[2,2],[3,1]]\n",
    "truckSize = 4\n",
    "maximumUnits(boxTypes, truckSize)"
   ]
  },
  {
   "cell_type": "code",
   "execution_count": 31,
   "metadata": {},
   "outputs": [
    {
     "name": "stdout",
     "output_type": "stream",
     "text": [
      "[0, 10] 5\n",
      "[0, 9] 8\n",
      "[2, 7] 10\n",
      "[2, 5] 10\n"
     ]
    },
    {
     "data": {
      "text/plain": [
       "91"
      ]
     },
     "execution_count": 31,
     "metadata": {},
     "output_type": "execute_result"
    }
   ],
   "source": [
    "boxTypes = [[5,10],[2,5],[4,7],[3,9]]\n",
    "truckSize = 10\n",
    "maximumUnits(boxTypes, truckSize)"
   ]
  },
  {
   "cell_type": "markdown",
   "metadata": {},
   "source": [
    "### Question 2"
   ]
  },
  {
   "cell_type": "code",
   "execution_count": 50,
   "metadata": {},
   "outputs": [],
   "source": [
    "def countPairs(deliciousness):\n",
    "    \"\"\"\n",
    "    :type deliciousness: List[int]\n",
    "    :rtype: int\n",
    "    \"\"\"\n",
    "    dic = dict()\n",
    "    for d in deliciousness:\n",
    "        if d not in dic:\n",
    "            dic[d] = 1\n",
    "        else:\n",
    "            dic[d] += 1\n",
    "    deliciousness = list(set(deliciousness))\n",
    "    print(deliciousness)\n",
    "    res = 0\n",
    "    for i in range(len(deliciousness)):\n",
    "        for j in range(i, len(deliciousness)):\n",
    "            s = (deliciousness[i] + deliciousness[j]) % (10**9 + 7)\n",
    "            while s > 1 and s % 2 == 0:\n",
    "                s /= 2\n",
    "            if s == 1:\n",
    "                if i == j:\n",
    "                    res += dic[deliciousness[i]] * (dic[deliciousness[i]]-1) // 2\n",
    "                else:\n",
    "                    res += dic[deliciousness[i]] * dic[deliciousness[j]]\n",
    "    return res"
   ]
  },
  {
   "cell_type": "code",
   "execution_count": 51,
   "metadata": {},
   "outputs": [
    {
     "name": "stdout",
     "output_type": "stream",
     "text": [
      "[1, 3, 5, 7, 9]\n"
     ]
    },
    {
     "data": {
      "text/plain": [
       "4"
      ]
     },
     "execution_count": 51,
     "metadata": {},
     "output_type": "execute_result"
    }
   ],
   "source": [
    "deliciousness = [1,3,5,7,9]\n",
    "countPairs(deliciousness)"
   ]
  },
  {
   "cell_type": "code",
   "execution_count": 52,
   "metadata": {},
   "outputs": [
    {
     "name": "stdout",
     "output_type": "stream",
     "text": [
      "[1, 3, 7]\n"
     ]
    },
    {
     "data": {
      "text/plain": [
       "15"
      ]
     },
     "execution_count": 52,
     "metadata": {},
     "output_type": "execute_result"
    }
   ],
   "source": [
    "deliciousness = [1,1,1,3,3,3,7]\n",
    "countPairs(deliciousness)"
   ]
  },
  {
   "cell_type": "markdown",
   "metadata": {},
   "source": [
    "### Q3"
   ]
  },
  {
   "cell_type": "code",
   "execution_count": null,
   "metadata": {},
   "outputs": [],
   "source": []
  }
 ],
 "metadata": {
  "kernelspec": {
   "display_name": "Python 3",
   "language": "python",
   "name": "python3"
  },
  "language_info": {
   "codemirror_mode": {
    "name": "ipython",
    "version": 3
   },
   "file_extension": ".py",
   "mimetype": "text/x-python",
   "name": "python",
   "nbconvert_exporter": "python",
   "pygments_lexer": "ipython3",
   "version": "3.8.5"
  }
 },
 "nbformat": 4,
 "nbformat_minor": 4
}
