{
 "cells": [
  {
   "cell_type": "markdown",
   "metadata": {},
   "source": [
    "### 2021-01-23\n",
    "\n",
    "https://leetcode.com/problems/change-minimum-characters-to-satisfy-one-of-three-conditions/"
   ]
  },
  {
   "cell_type": "code",
   "execution_count": null,
   "metadata": {},
   "outputs": [],
   "source": [
    "def minCharacters(a, b):\n",
    "    \"\"\"\n",
    "    :type a: str\n",
    "    :type b: str\n",
    "    :rtype: int\n",
    "    \"\"\"\n",
    "    c1 = Counter(ord(ch) - 97 for ch in a)\n",
    "    c2 = Counter(ord(ch) - 97 for ch in b)\n",
    "    \n",
    "    # condition 3\n",
    "    res = len(a) + len(b) - max((c1+c2).values()) \n",
    "    \n",
    "    for i in range(25):\n",
    "        c1[i+1] += c1[i]\n",
    "        c2[i+1] += c2[i]\n",
    "        # condition 1\n",
    "        # need to change all letters in a that has order less than i\n",
    "        # then also need to change  all letters in b that has order less than i, to make it strictly greater than a\n",
    "        res = min(res, len(a) - c1[i] + c2[i]) \n",
    "        # condition 2\n",
    "        res = min(res, len(b) - c2[i] + c1[i])\n",
    "    return res"
   ]
  }
 ],
 "metadata": {
  "kernelspec": {
   "display_name": "Python 3",
   "language": "python",
   "name": "python3"
  },
  "language_info": {
   "codemirror_mode": {
    "name": "ipython",
    "version": 3
   },
   "file_extension": ".py",
   "mimetype": "text/x-python",
   "name": "python",
   "nbconvert_exporter": "python",
   "pygments_lexer": "ipython3",
   "version": "3.8.5"
  }
 },
 "nbformat": 4,
 "nbformat_minor": 4
}
