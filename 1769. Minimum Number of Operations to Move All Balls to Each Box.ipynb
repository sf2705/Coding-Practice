{
 "cells": [
  {
   "cell_type": "markdown",
   "metadata": {},
   "source": [
    "### 2020-02-20\n",
    "\n",
    "https://leetcode.com/problems/minimum-number-of-operations-to-move-all-balls-to-each-box/"
   ]
  },
  {
   "cell_type": "code",
   "execution_count": 15,
   "metadata": {},
   "outputs": [],
   "source": [
    "def minOperations(boxes):\n",
    "    \"\"\"\n",
    "    :type boxes: str\n",
    "    :rtype: List[int]\n",
    "    \"\"\"\n",
    "    res = []\n",
    "    n = len(boxes)\n",
    "    balls = []\n",
    "    for i in range(len(boxes)):\n",
    "        if boxes[i] == '1':\n",
    "            balls.append(i)\n",
    "    print(balls)\n",
    "    \n",
    "    for j in range(n):\n",
    "        moves = [abs(j-b) for b in balls]\n",
    "        print(j, moves)\n",
    "        res.append(sum(moves))\n",
    "    return res\n",
    "        "
   ]
  },
  {
   "cell_type": "code",
   "execution_count": 16,
   "metadata": {},
   "outputs": [
    {
     "name": "stdout",
     "output_type": "stream",
     "text": [
      "[0, 1]\n",
      "0 [0, 1]\n",
      "1 [1, 0]\n",
      "2 [2, 1]\n"
     ]
    },
    {
     "data": {
      "text/plain": [
       "[1, 1, 3]"
      ]
     },
     "execution_count": 16,
     "metadata": {},
     "output_type": "execute_result"
    }
   ],
   "source": [
    "boxes = \"110\"\n",
    "minOperations(boxes)"
   ]
  },
  {
   "cell_type": "code",
   "execution_count": 17,
   "metadata": {},
   "outputs": [
    {
     "name": "stdout",
     "output_type": "stream",
     "text": [
      "[2, 4, 5]\n",
      "0 [2, 4, 5]\n",
      "1 [1, 3, 4]\n",
      "2 [0, 2, 3]\n",
      "3 [1, 1, 2]\n",
      "4 [2, 0, 1]\n",
      "5 [3, 1, 0]\n"
     ]
    },
    {
     "data": {
      "text/plain": [
       "[11, 8, 5, 4, 3, 4]"
      ]
     },
     "execution_count": 17,
     "metadata": {},
     "output_type": "execute_result"
    }
   ],
   "source": [
    "boxes = \"001011\"\n",
    "minOperations(boxes)"
   ]
  },
  {
   "cell_type": "code",
   "execution_count": null,
   "metadata": {},
   "outputs": [],
   "source": []
  }
 ],
 "metadata": {
  "kernelspec": {
   "display_name": "Python 3",
   "language": "python",
   "name": "python3"
  },
  "language_info": {
   "codemirror_mode": {
    "name": "ipython",
    "version": 3
   },
   "file_extension": ".py",
   "mimetype": "text/x-python",
   "name": "python",
   "nbconvert_exporter": "python",
   "pygments_lexer": "ipython3",
   "version": "3.8.5"
  }
 },
 "nbformat": 4,
 "nbformat_minor": 4
}
