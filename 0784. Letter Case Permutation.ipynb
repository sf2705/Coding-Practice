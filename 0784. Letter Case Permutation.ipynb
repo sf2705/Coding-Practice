{
 "cells": [
  {
   "cell_type": "markdown",
   "metadata": {},
   "source": [
    "### 2021-02-16\n",
    "\n",
    "https://leetcode.com/problems/letter-case-permutation/"
   ]
  },
  {
   "cell_type": "code",
   "execution_count": 14,
   "metadata": {},
   "outputs": [],
   "source": [
    "def letterCasePermutation(S):\n",
    "    \"\"\"\n",
    "    :type S: str\n",
    "    :rtype: List[str]\n",
    "    \"\"\"\n",
    "    stack = [S]\n",
    "    for i in range(len(S)):\n",
    "        c = S[i]\n",
    "        if c.isalpha():\n",
    "            length = len(stack)\n",
    "            for n in range(length):\n",
    "                string = stack.pop(0)\n",
    "                print(string)\n",
    "                stack.append(string[:i] + c.lower() + string[i+1:])\n",
    "                stack.append(string[:i] + c.upper() + string[i+1:])\n",
    "                print(stack)\n",
    "    return stack"
   ]
  },
  {
   "cell_type": "code",
   "execution_count": 15,
   "metadata": {},
   "outputs": [
    {
     "name": "stdout",
     "output_type": "stream",
     "text": [
      "a1b2\n",
      "['a1b2', 'A1b2']\n",
      "a1b2\n",
      "['A1b2', 'a1b2', 'a1B2']\n",
      "A1b2\n",
      "['a1b2', 'a1B2', 'A1b2', 'A1B2']\n"
     ]
    },
    {
     "data": {
      "text/plain": [
       "['a1b2', 'a1B2', 'A1b2', 'A1B2']"
      ]
     },
     "execution_count": 15,
     "metadata": {},
     "output_type": "execute_result"
    }
   ],
   "source": [
    "S = \"a1b2\"\n",
    "letterCasePermutation(S)"
   ]
  },
  {
   "cell_type": "code",
   "execution_count": 16,
   "metadata": {},
   "outputs": [
    {
     "name": "stdout",
     "output_type": "stream",
     "text": [
      "3z4\n",
      "['3z4', '3Z4']\n"
     ]
    },
    {
     "data": {
      "text/plain": [
       "['3z4', '3Z4']"
      ]
     },
     "execution_count": 16,
     "metadata": {},
     "output_type": "execute_result"
    }
   ],
   "source": [
    "S = \"3z4\"\n",
    "letterCasePermutation(S)"
   ]
  },
  {
   "cell_type": "code",
   "execution_count": 17,
   "metadata": {},
   "outputs": [
    {
     "data": {
      "text/plain": [
       "['12345']"
      ]
     },
     "execution_count": 17,
     "metadata": {},
     "output_type": "execute_result"
    }
   ],
   "source": [
    "S = \"12345\"\n",
    "letterCasePermutation(S)"
   ]
  },
  {
   "cell_type": "code",
   "execution_count": 18,
   "metadata": {},
   "outputs": [
    {
     "data": {
      "text/plain": [
       "['0']"
      ]
     },
     "execution_count": 18,
     "metadata": {},
     "output_type": "execute_result"
    }
   ],
   "source": [
    "S = \"0\"\n",
    "letterCasePermutation(S)"
   ]
  },
  {
   "cell_type": "code",
   "execution_count": null,
   "metadata": {},
   "outputs": [],
   "source": []
  }
 ],
 "metadata": {
  "kernelspec": {
   "display_name": "Python 3",
   "language": "python",
   "name": "python3"
  },
  "language_info": {
   "codemirror_mode": {
    "name": "ipython",
    "version": 3
   },
   "file_extension": ".py",
   "mimetype": "text/x-python",
   "name": "python",
   "nbconvert_exporter": "python",
   "pygments_lexer": "ipython3",
   "version": "3.8.5"
  }
 },
 "nbformat": 4,
 "nbformat_minor": 4
}
