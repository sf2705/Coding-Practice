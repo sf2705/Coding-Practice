{
 "cells": [
  {
   "cell_type": "markdown",
   "metadata": {},
   "source": [
    "### 2021-01-09"
   ]
  },
  {
   "cell_type": "markdown",
   "metadata": {},
   "source": [
    "https://leetcode.com/problems/word-ladder/"
   ]
  },
  {
   "cell_type": "code",
   "execution_count": 7,
   "metadata": {},
   "outputs": [],
   "source": [
    "def ladderLength(beginWord, endWord, wordList):\n",
    "    \"\"\"\n",
    "    :type beginWord: str\n",
    "    :type endWord: str\n",
    "    :type wordList: List[str]\n",
    "    :rtype: int\n",
    "    \"\"\"\n",
    "    import collections\n",
    "\n",
    "    if endWord not in wordList:\n",
    "        return 0\n",
    "    \n",
    "    wordList = set(wordList)\n",
    "    queue = collections.deque([[beginWord, 1]])\n",
    "    while queue:\n",
    "        word, length = queue.popleft()\n",
    "        if word == endWord:\n",
    "            return length\n",
    "        for i in range(len(word)):\n",
    "            for ch in 'abcdefghijklmnopqrstuvwxyz':\n",
    "                new_w = word[:i] + ch + word[i+1:]\n",
    "                if new_w in wordList:\n",
    "                    queue.append([new_w, length+1])\n",
    "                    wordList.remove(new_w)\n",
    "    return 0"
   ]
  },
  {
   "cell_type": "code",
   "execution_count": 8,
   "metadata": {},
   "outputs": [
    {
     "data": {
      "text/plain": [
       "5"
      ]
     },
     "execution_count": 8,
     "metadata": {},
     "output_type": "execute_result"
    }
   ],
   "source": [
    "beginWord = \"hit\"\n",
    "endWord = \"cog\"\n",
    "wordList = [\"hot\",\"dot\",\"dog\",\"lot\",\"log\",\"cog\"]\n",
    "ladderLength(beginWord, endWord, wordList)"
   ]
  },
  {
   "cell_type": "code",
   "execution_count": 10,
   "metadata": {},
   "outputs": [
    {
     "data": {
      "text/plain": [
       "0"
      ]
     },
     "execution_count": 10,
     "metadata": {},
     "output_type": "execute_result"
    }
   ],
   "source": [
    "beginWord = \"hit\"\n",
    "endWord = \"cog\"\n",
    "wordList = [\"hot\",\"dot\",\"dog\",\"lot\",\"log\"]\n",
    "ladderLength(beginWord, endWord, wordList)"
   ]
  },
  {
   "cell_type": "code",
   "execution_count": null,
   "metadata": {},
   "outputs": [],
   "source": []
  }
 ],
 "metadata": {
  "kernelspec": {
   "display_name": "Python 3",
   "language": "python",
   "name": "python3"
  },
  "language_info": {
   "codemirror_mode": {
    "name": "ipython",
    "version": 3
   },
   "file_extension": ".py",
   "mimetype": "text/x-python",
   "name": "python",
   "nbconvert_exporter": "python",
   "pygments_lexer": "ipython3",
   "version": "3.8.5"
  }
 },
 "nbformat": 4,
 "nbformat_minor": 4
}
