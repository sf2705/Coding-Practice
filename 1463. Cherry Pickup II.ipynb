{
 "cells": [
  {
   "cell_type": "markdown",
   "metadata": {},
   "source": [
    "### 2022-01-07\n",
    "\n",
    "https://leetcode.com/problems/cherry-pickup-ii/"
   ]
  },
  {
   "cell_type": "code",
   "execution_count": 3,
   "metadata": {},
   "outputs": [],
   "source": [
    "def cherryPickup(grid):\n",
    "    \"\"\"\n",
    "    :type grid: List[List[int]]\n",
    "    :rtype: int\n",
    "    \"\"\"\n",
    "\n",
    "    from functools import lru_cache\n",
    "    \n",
    "    m = len(grid)\n",
    "    n = len(grid[0])\n",
    "    \n",
    "    @lru_cache(None)\n",
    "    \n",
    "    def dp(r, c1, c2):\n",
    "        if r == m:\n",
    "            return 0\n",
    "        \n",
    "        if c1 == c2:\n",
    "            cur = grid[r][c1]\n",
    "        else:\n",
    "            cur = grid[r][c1] + grid[r][c2]\n",
    "        \n",
    "        res = 0\n",
    "        for nxt1 in (c1-1, c1, c1+1):\n",
    "            for nxt2 in (c2-1, c2, c2+1):\n",
    "                if 0 <= nxt1 < n and 0 <= nxt2 < n:\n",
    "                    res = max(res, dp(r+1, nxt1, nxt2))\n",
    "        return cur + res\n",
    "    \n",
    "    return dp(0, 0, n-1)"
   ]
  },
  {
   "cell_type": "code",
   "execution_count": 4,
   "metadata": {},
   "outputs": [
    {
     "data": {
      "text/plain": [
       "24"
      ]
     },
     "execution_count": 4,
     "metadata": {},
     "output_type": "execute_result"
    }
   ],
   "source": [
    "grid = [[3,1,1],[2,5,1],[1,5,5],[2,1,1]]\n",
    "cherryPickup(grid)"
   ]
  },
  {
   "cell_type": "code",
   "execution_count": 5,
   "metadata": {},
   "outputs": [
    {
     "data": {
      "text/plain": [
       "28"
      ]
     },
     "execution_count": 5,
     "metadata": {},
     "output_type": "execute_result"
    }
   ],
   "source": [
    "grid = [[1,0,0,0,0,0,1],[2,0,0,0,0,3,0],[2,0,9,0,0,0,0],[0,3,0,5,4,0,0],[1,0,2,3,0,0,6]]\n",
    "cherryPickup(grid)"
   ]
  },
  {
   "cell_type": "code",
   "execution_count": null,
   "metadata": {},
   "outputs": [],
   "source": []
  }
 ],
 "metadata": {
  "kernelspec": {
   "display_name": "Python 3",
   "language": "python",
   "name": "python3"
  },
  "language_info": {
   "codemirror_mode": {
    "name": "ipython",
    "version": 3
   },
   "file_extension": ".py",
   "mimetype": "text/x-python",
   "name": "python",
   "nbconvert_exporter": "python",
   "pygments_lexer": "ipython3",
   "version": "3.8.5"
  }
 },
 "nbformat": 4,
 "nbformat_minor": 4
}
