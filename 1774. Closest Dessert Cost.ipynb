{
 "cells": [
  {
   "cell_type": "markdown",
   "metadata": {},
   "source": [
    "### 2021-02-27\n",
    "\n",
    "https://leetcode.com/problems/closest-dessert-cost/"
   ]
  },
  {
   "cell_type": "code",
   "execution_count": null,
   "metadata": {},
   "outputs": [],
   "source": [
    "class Solution(object):\n",
    "    def closestCost(self, baseCosts, toppingCosts, target):\n",
    "        \"\"\"\n",
    "        :type baseCosts: List[int]\n",
    "        :type toppingCosts: List[int]\n",
    "        :type target: int\n",
    "        :rtype: int\n",
    "        \"\"\"\n",
    "        self.res = float('inf')\n",
    "        toppingCosts.sort()\n",
    "        for base in baseCosts:\n",
    "            self.dfs(toppingCosts, base, target)\n",
    "        return self.res\n",
    "\n",
    "    def dfs(self, topping, total, target):\n",
    "        if abs(target - total) < abs(self.res - target):\n",
    "            self.res = total\n",
    "\n",
    "        if total > target:\n",
    "            return\n",
    "\n",
    "        for i in range(len(topping)):\n",
    "            self.dfs(topping[i+1:], total, target) # no topping i\n",
    "            self.dfs(topping[i+1:], total + topping[i], target) # one topping i\n",
    "            self.dfs(topping[i+1:], total + 2*topping[i], target) # two topping i\n",
    "\n"
   ]
  }
 ],
 "metadata": {
  "kernelspec": {
   "display_name": "Python 3",
   "language": "python",
   "name": "python3"
  },
  "language_info": {
   "codemirror_mode": {
    "name": "ipython",
    "version": 3
   },
   "file_extension": ".py",
   "mimetype": "text/x-python",
   "name": "python",
   "nbconvert_exporter": "python",
   "pygments_lexer": "ipython3",
   "version": "3.8.5"
  }
 },
 "nbformat": 4,
 "nbformat_minor": 4
}
