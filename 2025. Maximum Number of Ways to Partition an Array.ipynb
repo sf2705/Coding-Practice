{
 "cells": [
  {
   "cell_type": "markdown",
   "metadata": {},
   "source": [
    "### 2021-10-02\n",
    "\n",
    "https://leetcode.com/problems/maximum-number-of-ways-to-partition-an-array/"
   ]
  },
  {
   "cell_type": "code",
   "execution_count": 21,
   "metadata": {},
   "outputs": [],
   "source": [
    "def waysToPartition(nums, k):\n",
    "    \"\"\"\n",
    "    :type nums: List[int]\n",
    "    :type k: int\n",
    "    :rtype: int\n",
    "    \"\"\"\n",
    "    from collections import Counter\n",
    "    \n",
    "    pre_sum = [nums[0]]\n",
    "    for n in nums[1:]:\n",
    "        pre_sum.append(n + pre_sum[-1])\n",
    "    total = sum(nums)\n",
    "    print(pre_sum, total)\n",
    "    res = 0\n",
    "    \n",
    "    # if there is no change\n",
    "    if total % 2 == 0:\n",
    "        res = pre_sum[:-1].count(total // 2)\n",
    "    \n",
    "    before = Counter()\n",
    "    after = Counter()\n",
    "    \n",
    "    for prefix in pre_sum[:-1]:\n",
    "        before[total - 2 * prefix] += 1\n",
    "        print(before)\n",
    "    \n",
    "    res = max(res, before[k-nums[0]])\n",
    "    print(res)\n",
    "    \n",
    "    for prefix, n in zip(pre_sum, nums[1:]):\n",
    "        gap = total - 2 * prefix\n",
    "        before[gap] -= 1\n",
    "        after[-gap] += 1\n",
    "        res = max(res, before[k-n] + after[k-n])\n",
    "    \n",
    "    return res\n",
    "        \n"
   ]
  },
  {
   "cell_type": "code",
   "execution_count": 22,
   "metadata": {},
   "outputs": [
    {
     "name": "stdout",
     "output_type": "stream",
     "text": [
      "[2, 1, 3] 3\n",
      "Counter({-1: 1})\n",
      "Counter({-1: 1, 1: 1})\n",
      "1\n"
     ]
    },
    {
     "data": {
      "text/plain": [
       "1"
      ]
     },
     "execution_count": 22,
     "metadata": {},
     "output_type": "execute_result"
    }
   ],
   "source": [
    "nums = [2,-1,2]\n",
    "k = 3\n",
    "waysToPartition(nums, k)"
   ]
  },
  {
   "cell_type": "code",
   "execution_count": 14,
   "metadata": {},
   "outputs": [
    {
     "data": {
      "text/plain": [
       "2"
      ]
     },
     "execution_count": 14,
     "metadata": {},
     "output_type": "execute_result"
    }
   ],
   "source": [
    "nums = [0,0,0]\n",
    "k = 1\n",
    "waysToPartition(nums, k)"
   ]
  },
  {
   "cell_type": "code",
   "execution_count": 15,
   "metadata": {},
   "outputs": [
    {
     "data": {
      "text/plain": [
       "4"
      ]
     },
     "execution_count": 15,
     "metadata": {},
     "output_type": "execute_result"
    }
   ],
   "source": [
    "nums = [22,4,-25,-20,-15,15,-16,7,19,-10,0,-13,-14]\n",
    "k = -33\n",
    "waysToPartition(nums, k)"
   ]
  },
  {
   "cell_type": "code",
   "execution_count": null,
   "metadata": {},
   "outputs": [],
   "source": []
  }
 ],
 "metadata": {
  "kernelspec": {
   "display_name": "Python 3",
   "language": "python",
   "name": "python3"
  },
  "language_info": {
   "codemirror_mode": {
    "name": "ipython",
    "version": 3
   },
   "file_extension": ".py",
   "mimetype": "text/x-python",
   "name": "python",
   "nbconvert_exporter": "python",
   "pygments_lexer": "ipython3",
   "version": "3.8.5"
  }
 },
 "nbformat": 4,
 "nbformat_minor": 4
}
