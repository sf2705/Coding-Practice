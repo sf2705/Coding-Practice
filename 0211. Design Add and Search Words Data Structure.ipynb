{
 "cells": [
  {
   "cell_type": "markdown",
   "metadata": {},
   "source": [
    "### 2022-01-27\n",
    "\n",
    "https://leetcode.com/problems/design-add-and-search-words-data-structure/"
   ]
  },
  {
   "cell_type": "code",
   "execution_count": null,
   "metadata": {},
   "outputs": [],
   "source": [
    "class TrieNode():\n",
    "    \n",
    "    from collections import defaultdict\n",
    "    \n",
    "    def __init__(self):\n",
    "        self.children = defaultdict(TrieNode)\n",
    "        self.seen = False\n",
    "\n",
    "class WordDictionary(object):\n",
    "\n",
    "    def __init__(self):\n",
    "        self.root = TrieNode()\n",
    "\n",
    "    def addWord(self, word):\n",
    "        \"\"\"\n",
    "        :type word: str\n",
    "        :rtype: None\n",
    "        \"\"\"\n",
    "        node = self.root\n",
    "        for w in word:\n",
    "            node = node.children[w]\n",
    "        node.seen = True\n",
    "        \n",
    "\n",
    "    def search(self, word):\n",
    "        \"\"\"\n",
    "        :type word: str\n",
    "        :rtype: bool\n",
    "        \"\"\"\n",
    "        node = self.root\n",
    "        self.res = False\n",
    "        self.dfs(node, word)\n",
    "        return self.res\n",
    "    \n",
    "    def dfs(self, node, word):\n",
    "        \n",
    "        if not word: \n",
    "            if node.seen:\n",
    "                self.res = True\n",
    "            return \n",
    "        \n",
    "        if word[0] == '.':\n",
    "            for n in node.children.values():\n",
    "                self.dfs(n, word[1:])\n",
    "        else:\n",
    "            node = node.children.get(word[0])\n",
    "            if not node:\n",
    "                return \n",
    "            self.dfs(node, word[1:])\n",
    "            \n",
    "        \n",
    "\n",
    "\n",
    "# Your WordDictionary object will be instantiated and called as such:\n",
    "# obj = WordDictionary()\n",
    "# obj.addWord(word)\n",
    "# param_2 = obj.search(word)"
   ]
  }
 ],
 "metadata": {
  "kernelspec": {
   "display_name": "Python 3",
   "language": "python",
   "name": "python3"
  },
  "language_info": {
   "codemirror_mode": {
    "name": "ipython",
    "version": 3
   },
   "file_extension": ".py",
   "mimetype": "text/x-python",
   "name": "python",
   "nbconvert_exporter": "python",
   "pygments_lexer": "ipython3",
   "version": "3.8.5"
  }
 },
 "nbformat": 4,
 "nbformat_minor": 4
}
