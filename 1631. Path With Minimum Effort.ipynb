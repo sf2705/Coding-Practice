{
 "cells": [
  {
   "cell_type": "markdown",
   "metadata": {},
   "source": [
    "### 2021-01-26\n",
    "\n",
    "https://leetcode.com/problems/path-with-minimum-effort/"
   ]
  },
  {
   "cell_type": "markdown",
   "metadata": {},
   "source": [
    "Dijkstra\n",
    "\n",
    "`\n",
    "1. initialize efforst on (0, 0) as 0, and all other as inf\n",
    "2. put all currently reachable cells into a priority queue, priority ordered by the correspoinding current effort\n",
    "3. when poped out a cell with currently minimum effort, check if we reach the end.\n",
    "if yes, return the solution, else update mimimum effort\n",
    "\n",
    "`"
   ]
  },
  {
   "cell_type": "code",
   "execution_count": 34,
   "metadata": {},
   "outputs": [],
   "source": [
    "def minimumEffortPath(heights):\n",
    "    \"\"\"\n",
    "    :type heights: List[List[int]]\n",
    "    :rtype: int\n",
    "    \"\"\"\n",
    "    import heapq\n",
    "    \n",
    "    m = len(heights)\n",
    "    n = len(heights[0])\n",
    "    efforts = [[float('inf')] * n for i in range(m)]\n",
    "    efforts[0][0] = 0\n",
    "    heap = [(0,0,0)]\n",
    "    while heap:\n",
    "        #print(heap)\n",
    "        effort, i, j = heapq.heappop(heap)\n",
    "        if (i, j) == (m-1, n-1):\n",
    "            return effort\n",
    "        \n",
    "        for r, c in (i, j+1), (i, j-1), (i+1, j), (i-1, j):\n",
    "            if 0<= r < m and 0<= c < n:\n",
    "                new_eff = max(effort, abs(heights[r][c] - heights[i][j]))\n",
    "                #print((r,c, heights[r][c]), (i,j, heights[i][j]), new_eff)\n",
    "                if efforts[r][c] > new_eff:\n",
    "                    efforts[r][c] = new_eff\n",
    "                    heapq.heappush(heap, (new_eff, r, c))\n",
    "    return -1"
   ]
  },
  {
   "cell_type": "code",
   "execution_count": 27,
   "metadata": {},
   "outputs": [
    {
     "data": {
      "text/plain": [
       "2"
      ]
     },
     "execution_count": 27,
     "metadata": {},
     "output_type": "execute_result"
    }
   ],
   "source": [
    "heights = [[1,2,2],[3,8,2],[5,3,5]]\n",
    "minimumEffortPath(heights)"
   ]
  },
  {
   "cell_type": "code",
   "execution_count": 28,
   "metadata": {},
   "outputs": [
    {
     "data": {
      "text/plain": [
       "1"
      ]
     },
     "execution_count": 28,
     "metadata": {},
     "output_type": "execute_result"
    }
   ],
   "source": [
    "heights = [[1,2,3],[3,8,4],[5,3,5]]\n",
    "minimumEffortPath(heights)"
   ]
  },
  {
   "cell_type": "code",
   "execution_count": 37,
   "metadata": {},
   "outputs": [
    {
     "name": "stdout",
     "output_type": "stream",
     "text": [
      "[(0, 0, 0)]\n",
      "(0, 1, 2) (0, 0, 1) 1\n",
      "(1, 0, 1) (0, 0, 1) 0\n",
      "[(0, 1, 0), (1, 0, 1)]\n",
      "(1, 1, 2) (1, 0, 1) 1\n",
      "(2, 0, 1) (1, 0, 1) 0\n",
      "(0, 0, 1) (1, 0, 1) 0\n",
      "[(0, 2, 0), (1, 1, 1), (1, 0, 1)]\n",
      "(2, 1, 2) (2, 0, 1) 1\n",
      "(3, 0, 1) (2, 0, 1) 0\n",
      "(1, 0, 1) (2, 0, 1) 0\n",
      "[(0, 3, 0), (1, 0, 1), (1, 2, 1), (1, 1, 1)]\n",
      "(3, 1, 2) (3, 0, 1) 1\n",
      "(4, 0, 1) (3, 0, 1) 0\n",
      "(2, 0, 1) (3, 0, 1) 0\n",
      "[(0, 4, 0), (1, 0, 1), (1, 2, 1), (1, 3, 1), (1, 1, 1)]\n",
      "(4, 1, 1) (4, 0, 1) 0\n",
      "(3, 0, 1) (4, 0, 1) 0\n",
      "[(0, 4, 1), (1, 0, 1), (1, 2, 1), (1, 3, 1), (1, 1, 1)]\n",
      "(4, 2, 1) (4, 1, 1) 0\n",
      "(4, 0, 1) (4, 1, 1) 0\n",
      "(3, 1, 2) (4, 1, 1) 1\n",
      "[(0, 4, 2), (1, 0, 1), (1, 2, 1), (1, 3, 1), (1, 1, 1)]\n",
      "(4, 3, 2) (4, 2, 1) 1\n",
      "(4, 1, 1) (4, 2, 1) 0\n",
      "(3, 2, 1) (4, 2, 1) 0\n",
      "[(0, 3, 2), (1, 1, 1), (1, 0, 1), (1, 3, 1), (1, 4, 3), (1, 2, 1)]\n",
      "(3, 3, 2) (3, 2, 1) 1\n",
      "(3, 1, 2) (3, 2, 1) 1\n",
      "(4, 2, 1) (3, 2, 1) 0\n",
      "(2, 2, 1) (3, 2, 1) 0\n",
      "[(0, 2, 2), (1, 1, 1), (1, 0, 1), (1, 3, 1), (1, 4, 3), (1, 3, 3), (1, 2, 1)]\n",
      "(2, 3, 2) (2, 2, 1) 1\n",
      "(2, 1, 2) (2, 2, 1) 1\n",
      "(3, 2, 1) (2, 2, 1) 0\n",
      "(1, 2, 1) (2, 2, 1) 0\n",
      "[(0, 1, 2), (1, 0, 1), (1, 2, 1), (1, 1, 1), (1, 4, 3), (1, 3, 3), (1, 2, 3), (1, 3, 1)]\n",
      "(1, 3, 2) (1, 2, 1) 1\n",
      "(1, 1, 2) (1, 2, 1) 1\n",
      "(2, 2, 1) (1, 2, 1) 0\n",
      "(0, 2, 1) (1, 2, 1) 0\n",
      "[(0, 0, 2), (1, 0, 1), (1, 2, 1), (1, 1, 1), (1, 4, 3), (1, 3, 3), (1, 2, 3), (1, 3, 1), (1, 1, 3)]\n",
      "(0, 3, 1) (0, 2, 1) 0\n",
      "(0, 1, 2) (0, 2, 1) 1\n",
      "(1, 2, 1) (0, 2, 1) 0\n",
      "[(0, 0, 3), (1, 0, 1), (1, 2, 1), (1, 1, 1), (1, 4, 3), (1, 3, 3), (1, 2, 3), (1, 3, 1), (1, 1, 3)]\n",
      "(0, 4, 1) (0, 3, 1) 0\n",
      "(0, 2, 1) (0, 3, 1) 0\n",
      "(1, 3, 2) (0, 3, 1) 1\n",
      "[(0, 0, 4), (1, 0, 1), (1, 2, 1), (1, 1, 1), (1, 4, 3), (1, 3, 3), (1, 2, 3), (1, 3, 1), (1, 1, 3)]\n",
      "(0, 3, 1) (0, 4, 1) 0\n",
      "(1, 4, 1) (0, 4, 1) 0\n",
      "[(0, 1, 4), (1, 0, 1), (1, 2, 1), (1, 1, 1), (1, 4, 3), (1, 3, 3), (1, 2, 3), (1, 3, 1), (1, 1, 3)]\n",
      "(1, 3, 2) (1, 4, 1) 1\n",
      "(2, 4, 1) (1, 4, 1) 0\n",
      "(0, 4, 1) (1, 4, 1) 0\n",
      "[(0, 2, 4), (1, 0, 1), (1, 2, 1), (1, 1, 1), (1, 4, 3), (1, 3, 3), (1, 2, 3), (1, 3, 1), (1, 1, 3)]\n",
      "(2, 3, 2) (2, 4, 1) 1\n",
      "(3, 4, 1) (2, 4, 1) 0\n",
      "(1, 4, 1) (2, 4, 1) 0\n",
      "[(0, 3, 4), (1, 0, 1), (1, 2, 1), (1, 1, 1), (1, 4, 3), (1, 3, 3), (1, 2, 3), (1, 3, 1), (1, 1, 3)]\n",
      "(3, 3, 2) (3, 4, 1) 1\n",
      "(4, 4, 1) (3, 4, 1) 0\n",
      "(2, 4, 1) (3, 4, 1) 0\n",
      "[(0, 4, 4), (1, 0, 1), (1, 2, 1), (1, 1, 1), (1, 4, 3), (1, 3, 3), (1, 2, 3), (1, 3, 1), (1, 1, 3)]\n"
     ]
    },
    {
     "data": {
      "text/plain": [
       "0"
      ]
     },
     "execution_count": 37,
     "metadata": {},
     "output_type": "execute_result"
    }
   ],
   "source": [
    "heights = [[1,2,1,1,1],[1,2,1,2,1],[1,2,1,2,1],[1,2,1,2,1],[1,1,1,2,1]]\n",
    "minimumEffortPath(heights)"
   ]
  },
  {
   "cell_type": "code",
   "execution_count": null,
   "metadata": {},
   "outputs": [],
   "source": []
  }
 ],
 "metadata": {
  "kernelspec": {
   "display_name": "Python 3",
   "language": "python",
   "name": "python3"
  },
  "language_info": {
   "codemirror_mode": {
    "name": "ipython",
    "version": 3
   },
   "file_extension": ".py",
   "mimetype": "text/x-python",
   "name": "python",
   "nbconvert_exporter": "python",
   "pygments_lexer": "ipython3",
   "version": "3.8.5"
  }
 },
 "nbformat": 4,
 "nbformat_minor": 4
}
