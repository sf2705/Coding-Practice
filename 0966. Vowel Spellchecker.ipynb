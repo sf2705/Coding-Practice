{
 "cells": [
  {
   "cell_type": "markdown",
   "metadata": {},
   "source": [
    "### 2021-03-22\n",
    "\n",
    "https://leetcode.com/problems/vowel-spellchecker/"
   ]
  },
  {
   "cell_type": "code",
   "execution_count": 4,
   "metadata": {},
   "outputs": [],
   "source": [
    "def spellchecker(wordlist, queries):\n",
    "    \"\"\"\n",
    "    :type wordlist: List[str]\n",
    "    :type queries: List[str]\n",
    "    :rtype: List[str]\n",
    "    \"\"\"\n",
    "    def check_vow(word):\n",
    "        new_w = ''\n",
    "        for c in word:\n",
    "            if c.lower() in 'aeiou':\n",
    "                new_w += '.'\n",
    "            else:\n",
    "                new_w += c.lower()\n",
    "        return new_w\n",
    "    \n",
    "    words = set(wordlist)\n",
    "    lower_words = {word.lower(): word for word in wordlist[::-1]}\n",
    "    vow_words = {check_vow(word): word for word in wordlist[::-1]}\n",
    "    \n",
    "    def checker(q):\n",
    "        if q in words:\n",
    "            return q\n",
    "        if q.lower() in lower_words:\n",
    "            return lower_words[q.lower()]\n",
    "        if check_vow(q) in vow_words:\n",
    "            return vow_words[check_vow(q)]\n",
    "        return ''\n",
    "    \n",
    "    return [checker(q) for q in queries]\n"
   ]
  },
  {
   "cell_type": "code",
   "execution_count": 5,
   "metadata": {},
   "outputs": [
    {
     "data": {
      "text/plain": [
       "['kite', 'KiTe', 'KiTe', 'Hare', 'hare', '', '', 'KiTe', '', 'KiTe']"
      ]
     },
     "execution_count": 5,
     "metadata": {},
     "output_type": "execute_result"
    }
   ],
   "source": [
    "wordlist = [\"KiTe\",\"kite\",\"hare\",\"Hare\"]\n",
    "queries = [\"kite\",\"Kite\",\"KiTe\",\"Hare\",\"HARE\",\"Hear\",\"hear\",\"keti\",\"keet\",\"keto\"]\n",
    "spellchecker(wordlist, queries)"
   ]
  },
  {
   "cell_type": "code",
   "execution_count": null,
   "metadata": {},
   "outputs": [],
   "source": []
  }
 ],
 "metadata": {
  "kernelspec": {
   "display_name": "Python 3",
   "language": "python",
   "name": "python3"
  },
  "language_info": {
   "codemirror_mode": {
    "name": "ipython",
    "version": 3
   },
   "file_extension": ".py",
   "mimetype": "text/x-python",
   "name": "python",
   "nbconvert_exporter": "python",
   "pygments_lexer": "ipython3",
   "version": "3.8.5"
  }
 },
 "nbformat": 4,
 "nbformat_minor": 4
}
