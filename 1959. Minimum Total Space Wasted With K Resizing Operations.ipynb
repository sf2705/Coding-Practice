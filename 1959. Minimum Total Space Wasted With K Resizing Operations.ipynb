{
 "cells": [
  {
   "cell_type": "markdown",
   "metadata": {},
   "source": [
    "### 2021-11-07\n",
    "\n",
    "https://leetcode.com/problems/minimum-total-space-wasted-with-k-resizing-operations/"
   ]
  },
  {
   "cell_type": "code",
   "execution_count": 27,
   "metadata": {},
   "outputs": [],
   "source": [
    "def minSpaceWastedKResizing(nums, k):\n",
    "    \"\"\"\n",
    "    :type nums: List[int]\n",
    "    :type k: int\n",
    "    :rtype: int\n",
    "    \"\"\"\n",
    "    from functools import lru_cache\n",
    "    \n",
    "    n = len(nums)\n",
    "    \n",
    "    @lru_cache(None)\n",
    "    def dp(i, k):\n",
    "        if i == n:\n",
    "            return 0\n",
    "        if k < 0:\n",
    "            return float('inf')\n",
    "        \n",
    "        cur_max = nums[i]\n",
    "        cur_total = 0\n",
    "        res = float('inf')\n",
    "        \n",
    "        for j in range(i, n):\n",
    "            cur_max = max(cur_max, nums[j])\n",
    "            cur_total += nums[j]\n",
    "            wasted = cur_max * (j-i+1) - cur_total\n",
    "            res = min(res, wasted + dp(j+1, k-1))\n",
    "        \n",
    "        return res\n",
    "    \n",
    "    return dp(0, k)\n",
    "            \n",
    "            \n"
   ]
  },
  {
   "cell_type": "code",
   "execution_count": 28,
   "metadata": {},
   "outputs": [
    {
     "data": {
      "text/plain": [
       "10"
      ]
     },
     "execution_count": 28,
     "metadata": {},
     "output_type": "execute_result"
    }
   ],
   "source": [
    "nums = [10,20]\n",
    "k = 0\n",
    "minSpaceWastedKResizing(nums, k)"
   ]
  },
  {
   "cell_type": "code",
   "execution_count": 29,
   "metadata": {},
   "outputs": [
    {
     "data": {
      "text/plain": [
       "10"
      ]
     },
     "execution_count": 29,
     "metadata": {},
     "output_type": "execute_result"
    }
   ],
   "source": [
    "nums = [10,20,30]\n",
    "k = 1\n",
    "minSpaceWastedKResizing(nums, k)"
   ]
  },
  {
   "cell_type": "code",
   "execution_count": 30,
   "metadata": {},
   "outputs": [
    {
     "data": {
      "text/plain": [
       "15"
      ]
     },
     "execution_count": 30,
     "metadata": {},
     "output_type": "execute_result"
    }
   ],
   "source": [
    "nums = [10,20,15,30,20]\n",
    "k = 2\n",
    "minSpaceWastedKResizing(nums, k)"
   ]
  },
  {
   "cell_type": "code",
   "execution_count": 31,
   "metadata": {},
   "outputs": [
    {
     "data": {
      "text/plain": [
       "12629"
      ]
     },
     "execution_count": 31,
     "metadata": {},
     "output_type": "execute_result"
    }
   ],
   "source": [
    "nums = [52,668,554,857,16,993,96,949,772,870,243,171,417,498,493,219,886,411,925,61,169,389,3,400,272,949,803,804,466,293,434,714,981,749,803,570,678,736,499,159,195,304,223,992,60,594]\n",
    "k = 6\n",
    "minSpaceWastedKResizing(nums, k)"
   ]
  },
  {
   "cell_type": "code",
   "execution_count": null,
   "metadata": {},
   "outputs": [],
   "source": []
  }
 ],
 "metadata": {
  "kernelspec": {
   "display_name": "Python 3",
   "language": "python",
   "name": "python3"
  },
  "language_info": {
   "codemirror_mode": {
    "name": "ipython",
    "version": 3
   },
   "file_extension": ".py",
   "mimetype": "text/x-python",
   "name": "python",
   "nbconvert_exporter": "python",
   "pygments_lexer": "ipython3",
   "version": "3.8.5"
  }
 },
 "nbformat": 4,
 "nbformat_minor": 4
}
