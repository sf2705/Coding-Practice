{
 "cells": [
  {
   "cell_type": "code",
   "execution_count": 1,
   "metadata": {},
   "outputs": [],
   "source": [
    "### 2021-01-09"
   ]
  },
  {
   "cell_type": "markdown",
   "metadata": {},
   "source": [
    "https://leetcode.com/problems/maximum-score-from-removing-substrings/"
   ]
  },
  {
   "cell_type": "code",
   "execution_count": 14,
   "metadata": {},
   "outputs": [],
   "source": [
    "def maximumGain(s, x, y):\n",
    "    \"\"\"\n",
    "    :type s: str\n",
    "    :type x: int\n",
    "    :type y: int\n",
    "    :rtype: int\n",
    "    \"\"\"\n",
    "    from collections import Counter\n",
    "    a = 'a'\n",
    "    b = 'b'\n",
    "    \n",
    "    # always use ab to reprensent the pattern with greater weight\n",
    "    # x to represent weight of ab (may not be 'ab')\n",
    "    if x < y:\n",
    "        x, y = y, x\n",
    "        a, b = b, a\n",
    "    \n",
    "    seen = Counter()\n",
    "    res = 0\n",
    "    \n",
    "    # if 'ab' weights more, we always use 'ab'\n",
    "    # and when we see 'ba', we add to seen and see if there is any 'bab' pattern\n",
    "    \n",
    "    for c in s+' ': \n",
    "        # add an extra character add the end to make sure the else part execute to calculate the res\n",
    "        if c =='a' or c == 'b':\n",
    "            if c == b and seen[a] > 0:\n",
    "                res += x\n",
    "                seen[a] -= 1\n",
    "            else:\n",
    "                seen[c] += 1\n",
    "        \n",
    "        else:\n",
    "            res += y * min(seen[a], seen[b])\n",
    "            seen = Counter()\n",
    "        #print(c, seen, res)\n",
    "    return res\n",
    "    "
   ]
  },
  {
   "cell_type": "code",
   "execution_count": 15,
   "metadata": {},
   "outputs": [
    {
     "name": "stdout",
     "output_type": "stream",
     "text": [
      "c Counter() 0\n",
      "d Counter() 0\n",
      "b Counter({'b': 1}) 0\n",
      "c Counter() 0\n",
      "b Counter({'b': 1}) 0\n",
      "b Counter({'b': 2}) 0\n",
      "a Counter({'b': 1}) 5\n",
      "a Counter({'b': 0}) 10\n",
      "a Counter({'a': 1, 'b': 0}) 10\n",
      "b Counter({'b': 1, 'a': 1}) 10\n",
      "a Counter({'a': 1, 'b': 0}) 15\n",
      "b Counter({'b': 1, 'a': 1}) 15\n",
      "  Counter() 19\n"
     ]
    },
    {
     "data": {
      "text/plain": [
       "19"
      ]
     },
     "execution_count": 15,
     "metadata": {},
     "output_type": "execute_result"
    }
   ],
   "source": [
    "s = \"cdbcbbaaabab\"\n",
    "x = 4\n",
    "y = 5\n",
    "maximumGain(s, x, y)"
   ]
  },
  {
   "cell_type": "code",
   "execution_count": 16,
   "metadata": {},
   "outputs": [
    {
     "name": "stdout",
     "output_type": "stream",
     "text": [
      "a Counter({'a': 1}) 0\n",
      "a Counter({'a': 2}) 0\n",
      "b Counter({'a': 1}) 5\n",
      "b Counter({'a': 0}) 10\n",
      "a Counter({'a': 1}) 10\n",
      "a Counter({'a': 2}) 10\n",
      "x Counter() 10\n",
      "y Counter() 10\n",
      "b Counter({'b': 1}) 10\n",
      "b Counter({'b': 2}) 10\n",
      "a Counter({'b': 2, 'a': 1}) 10\n",
      "a Counter({'b': 2, 'a': 2}) 10\n",
      "b Counter({'b': 2, 'a': 1}) 15\n",
      "b Counter({'b': 2, 'a': 0}) 20\n",
      "  Counter() 20\n"
     ]
    },
    {
     "data": {
      "text/plain": [
       "20"
      ]
     },
     "execution_count": 16,
     "metadata": {},
     "output_type": "execute_result"
    }
   ],
   "source": [
    "s = \"aabbaaxybbaabb\"\n",
    "x = 5\n",
    "y = 4\n",
    "maximumGain(s, x, y)"
   ]
  },
  {
   "cell_type": "code",
   "execution_count": null,
   "metadata": {},
   "outputs": [],
   "source": []
  }
 ],
 "metadata": {
  "kernelspec": {
   "display_name": "Python 3",
   "language": "python",
   "name": "python3"
  },
  "language_info": {
   "codemirror_mode": {
    "name": "ipython",
    "version": 3
   },
   "file_extension": ".py",
   "mimetype": "text/x-python",
   "name": "python",
   "nbconvert_exporter": "python",
   "pygments_lexer": "ipython3",
   "version": "3.8.5"
  }
 },
 "nbformat": 4,
 "nbformat_minor": 4
}
