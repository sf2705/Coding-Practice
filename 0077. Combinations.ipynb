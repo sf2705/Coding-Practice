{
 "cells": [
  {
   "cell_type": "markdown",
   "metadata": {},
   "source": [
    "### 2021-02-27\n",
    "\n",
    "https://leetcode.com/problems/combinations/"
   ]
  },
  {
   "cell_type": "code",
   "execution_count": 9,
   "metadata": {},
   "outputs": [],
   "source": [
    "def combine(n, k):\n",
    "    \"\"\"\n",
    "    :type n: int\n",
    "    :type k: int\n",
    "    :rtype: List[List[int]]\n",
    "    \"\"\"\n",
    "    res = []\n",
    "    stack = []\n",
    "    num = 1\n",
    "    while True:\n",
    "        if k == len(stack):\n",
    "            res.append(stack[:])\n",
    "        \n",
    "        # case1: length of stack is k\n",
    "        # case2: the number is too large. \n",
    "        #Since we put in ascending order, if the current value is too large, then there is no valid value for later spots\n",
    "        if k == len(stack) or num > n-k+len(stack)+1:\n",
    "            if not stack:\n",
    "                return res\n",
    "            num = stack.pop() + 1\n",
    "        else:\n",
    "            stack.append(num)\n",
    "            num += 1\n",
    "    return res\n",
    "            \n",
    "            "
   ]
  },
  {
   "cell_type": "code",
   "execution_count": 10,
   "metadata": {},
   "outputs": [
    {
     "data": {
      "text/plain": [
       "[[1, 2], [1, 3], [1, 4], [2, 3], [2, 4], [3, 4]]"
      ]
     },
     "execution_count": 10,
     "metadata": {},
     "output_type": "execute_result"
    }
   ],
   "source": [
    "combine(4, 2)"
   ]
  },
  {
   "cell_type": "code",
   "execution_count": 11,
   "metadata": {},
   "outputs": [
    {
     "data": {
      "text/plain": [
       "[[1]]"
      ]
     },
     "execution_count": 11,
     "metadata": {},
     "output_type": "execute_result"
    }
   ],
   "source": [
    "combine(1, 1)"
   ]
  },
  {
   "cell_type": "code",
   "execution_count": null,
   "metadata": {},
   "outputs": [],
   "source": []
  }
 ],
 "metadata": {
  "kernelspec": {
   "display_name": "Python 3",
   "language": "python",
   "name": "python3"
  },
  "language_info": {
   "codemirror_mode": {
    "name": "ipython",
    "version": 3
   },
   "file_extension": ".py",
   "mimetype": "text/x-python",
   "name": "python",
   "nbconvert_exporter": "python",
   "pygments_lexer": "ipython3",
   "version": "3.8.5"
  }
 },
 "nbformat": 4,
 "nbformat_minor": 4
}
