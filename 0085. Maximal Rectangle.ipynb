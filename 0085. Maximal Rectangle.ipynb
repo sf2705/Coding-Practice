{
 "cells": [
  {
   "cell_type": "markdown",
   "metadata": {},
   "source": [
    "### 2021-11-29\n",
    "\n",
    "https://leetcode.com/problems/maximal-rectangle/"
   ]
  },
  {
   "cell_type": "code",
   "execution_count": 6,
   "metadata": {},
   "outputs": [],
   "source": [
    "def maximalRectangle(matrix):\n",
    "    \"\"\"\n",
    "    :type matrix: List[List[str]]\n",
    "    :rtype: int\n",
    "    \"\"\"\n",
    "\n",
    "    if not matrix or not matrix[0]:\n",
    "        return 0\n",
    "    \n",
    "    n = len(matrix[0])\n",
    "    height = [0] * ( n + 1)\n",
    "    res = 0\n",
    "    \n",
    "    for r in matrix:\n",
    "        for i in range(n):\n",
    "            height[i] = height[i] + 1 if r[i] == '1' else 0\n",
    "        \n",
    "        stack = [-1]\n",
    "        for i in range(n+1):\n",
    "            while height[i] < height[stack[-1]]:\n",
    "                h = height[stack.pop()]\n",
    "                w = i - stack[-1] - 1\n",
    "                res = max(res, w*h)\n",
    "            stack.append(i)\n",
    "    return res\n",
    "        \n",
    "    "
   ]
  },
  {
   "cell_type": "code",
   "execution_count": 7,
   "metadata": {},
   "outputs": [
    {
     "data": {
      "text/plain": [
       "6"
      ]
     },
     "execution_count": 7,
     "metadata": {},
     "output_type": "execute_result"
    }
   ],
   "source": [
    "matrix = [[\"1\",\"0\",\"1\",\"0\",\"0\"],[\"1\",\"0\",\"1\",\"1\",\"1\"],[\"1\",\"1\",\"1\",\"1\",\"1\"],[\"1\",\"0\",\"0\",\"1\",\"0\"]]\n",
    "maximalRectangle(matrix)"
   ]
  },
  {
   "cell_type": "code",
   "execution_count": 8,
   "metadata": {},
   "outputs": [
    {
     "data": {
      "text/plain": [
       "0"
      ]
     },
     "execution_count": 8,
     "metadata": {},
     "output_type": "execute_result"
    }
   ],
   "source": [
    "matrix = []\n",
    "maximalRectangle(matrix)"
   ]
  },
  {
   "cell_type": "code",
   "execution_count": 9,
   "metadata": {},
   "outputs": [
    {
     "data": {
      "text/plain": [
       "0"
      ]
     },
     "execution_count": 9,
     "metadata": {},
     "output_type": "execute_result"
    }
   ],
   "source": [
    "matrix = [[\"0\"]]\n",
    "maximalRectangle(matrix)"
   ]
  },
  {
   "cell_type": "code",
   "execution_count": 10,
   "metadata": {},
   "outputs": [
    {
     "data": {
      "text/plain": [
       "1"
      ]
     },
     "execution_count": 10,
     "metadata": {},
     "output_type": "execute_result"
    }
   ],
   "source": [
    "matrix = [[\"1\"]]\n",
    "maximalRectangle(matrix)"
   ]
  },
  {
   "cell_type": "code",
   "execution_count": 11,
   "metadata": {},
   "outputs": [
    {
     "data": {
      "text/plain": [
       "0"
      ]
     },
     "execution_count": 11,
     "metadata": {},
     "output_type": "execute_result"
    }
   ],
   "source": [
    "matrix = [[\"0\",\"0\"]]\n",
    "maximalRectangle(matrix)"
   ]
  },
  {
   "cell_type": "code",
   "execution_count": null,
   "metadata": {},
   "outputs": [],
   "source": []
  }
 ],
 "metadata": {
  "kernelspec": {
   "display_name": "Python 3",
   "language": "python",
   "name": "python3"
  },
  "language_info": {
   "codemirror_mode": {
    "name": "ipython",
    "version": 3
   },
   "file_extension": ".py",
   "mimetype": "text/x-python",
   "name": "python",
   "nbconvert_exporter": "python",
   "pygments_lexer": "ipython3",
   "version": "3.8.5"
  }
 },
 "nbformat": 4,
 "nbformat_minor": 4
}
