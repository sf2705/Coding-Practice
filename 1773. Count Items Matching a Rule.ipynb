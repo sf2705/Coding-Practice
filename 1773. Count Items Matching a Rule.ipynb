{
 "cells": [
  {
   "cell_type": "markdown",
   "metadata": {},
   "source": [
    "### 2021-02-27\n",
    "\n",
    "https://leetcode.com/problems/count-items-matching-a-rule"
   ]
  },
  {
   "cell_type": "code",
   "execution_count": 1,
   "metadata": {},
   "outputs": [],
   "source": [
    "def countMatches(items, ruleKey, ruleValue):\n",
    "    \"\"\"\n",
    "    :type items: List[List[str]]\n",
    "    :type ruleKey: str\n",
    "    :type ruleValue: str\n",
    "    :rtype: int\n",
    "    \"\"\"\n",
    "    key_dic = {\"type\":0, \"color\":1, \"name\":2}\n",
    "    rule = key_dic[ruleKey]\n",
    "    res = 0\n",
    "    for item in items:\n",
    "        if item[rule] == ruleValue:\n",
    "            res += 1\n",
    "    return res\n",
    "        \n"
   ]
  },
  {
   "cell_type": "code",
   "execution_count": 2,
   "metadata": {},
   "outputs": [
    {
     "data": {
      "text/plain": [
       "1"
      ]
     },
     "execution_count": 2,
     "metadata": {},
     "output_type": "execute_result"
    }
   ],
   "source": [
    "items = [[\"phone\",\"blue\",\"pixel\"],[\"computer\",\"silver\",\"lenovo\"],[\"phone\",\"gold\",\"iphone\"]]\n",
    "ruleKey = \"color\"\n",
    "ruleValue = \"silver\"\n",
    "countMatches(items, ruleKey, ruleValue)"
   ]
  },
  {
   "cell_type": "code",
   "execution_count": 3,
   "metadata": {},
   "outputs": [
    {
     "data": {
      "text/plain": [
       "2"
      ]
     },
     "execution_count": 3,
     "metadata": {},
     "output_type": "execute_result"
    }
   ],
   "source": [
    "items = [[\"phone\",\"blue\",\"pixel\"],[\"computer\",\"silver\",\"phone\"],[\"phone\",\"gold\",\"iphone\"]]\n",
    "ruleKey = \"type\"\n",
    "ruleValue = \"phone\"\n",
    "countMatches(items, ruleKey, ruleValue)"
   ]
  },
  {
   "cell_type": "code",
   "execution_count": null,
   "metadata": {},
   "outputs": [],
   "source": []
  }
 ],
 "metadata": {
  "kernelspec": {
   "display_name": "Python 3",
   "language": "python",
   "name": "python3"
  },
  "language_info": {
   "codemirror_mode": {
    "name": "ipython",
    "version": 3
   },
   "file_extension": ".py",
   "mimetype": "text/x-python",
   "name": "python",
   "nbconvert_exporter": "python",
   "pygments_lexer": "ipython3",
   "version": "3.8.5"
  }
 },
 "nbformat": 4,
 "nbformat_minor": 4
}
