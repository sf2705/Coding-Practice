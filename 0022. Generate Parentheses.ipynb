{
 "cells": [
  {
   "cell_type": "markdown",
   "metadata": {},
   "source": [
    "### 2021-02-24\n",
    "\n",
    "https://leetcode.com/problems/generate-parentheses/"
   ]
  },
  {
   "cell_type": "code",
   "execution_count": 2,
   "metadata": {},
   "outputs": [],
   "source": [
    "def generateParenthesis(n, open_paren=0):\n",
    "    \"\"\"\n",
    "    :type n: int\n",
    "    :rtype: List[str]\n",
    "    \"\"\"\n",
    "    if n > 0 and open_paren >= 0:\n",
    "        return ['(' + p for p in generateParenthesis(n-1, open_paren+1)] \\\n",
    "                + [')'+ p for p in generateParenthesis(n, open_paren-1)]\n",
    "    return [')'*open_paren] *(not n)"
   ]
  },
  {
   "cell_type": "code",
   "execution_count": 3,
   "metadata": {},
   "outputs": [
    {
     "data": {
      "text/plain": [
       "['((()))', '(()())', '(())()', '()(())', '()()()']"
      ]
     },
     "execution_count": 3,
     "metadata": {},
     "output_type": "execute_result"
    }
   ],
   "source": [
    "n = 3\n",
    "generateParenthesis(n, open_paren=0)"
   ]
  },
  {
   "cell_type": "code",
   "execution_count": null,
   "metadata": {},
   "outputs": [],
   "source": []
  }
 ],
 "metadata": {
  "kernelspec": {
   "display_name": "Python 3",
   "language": "python",
   "name": "python3"
  },
  "language_info": {
   "codemirror_mode": {
    "name": "ipython",
    "version": 3
   },
   "file_extension": ".py",
   "mimetype": "text/x-python",
   "name": "python",
   "nbconvert_exporter": "python",
   "pygments_lexer": "ipython3",
   "version": "3.8.5"
  }
 },
 "nbformat": 4,
 "nbformat_minor": 4
}
