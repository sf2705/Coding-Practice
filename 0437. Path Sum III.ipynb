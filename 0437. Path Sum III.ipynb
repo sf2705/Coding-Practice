{
 "cells": [
  {
   "cell_type": "markdown",
   "metadata": {},
   "source": [
    "### 2021-10-17\n",
    "\n",
    "https://leetcode.com/problems/path-sum-iii/"
   ]
  },
  {
   "cell_type": "code",
   "execution_count": null,
   "metadata": {},
   "outputs": [],
   "source": [
    "# Definition for a binary tree node.\n",
    "# class TreeNode(object):\n",
    "#     def __init__(self, val=0, left=None, right=None):\n",
    "#         self.val = val\n",
    "#         self.left = left\n",
    "#         self.right = right\n",
    "class Solution(object):\n",
    "    def pathSum(self, root, targetSum):\n",
    "        \"\"\"\n",
    "        :type root: TreeNode\n",
    "        :type targetSum: int\n",
    "        :rtype: int\n",
    "        \"\"\"\n",
    "        self.res = 0\n",
    "        self.dfs(root, targetSum)\n",
    "        \n",
    "        return self.res\n",
    "    \n",
    "    def dfs(self, node, targetSum):\n",
    "        if not node:\n",
    "            return\n",
    "        \n",
    "        self.check(node, targetSum)\n",
    "        self.dfs(node.left, targetSum)\n",
    "        self.dfs(node.right, targetSum)\n",
    "        \n",
    "    \n",
    "    def check(self, node, targetSum):\n",
    "        if not node:\n",
    "            return\n",
    "        \n",
    "        if node.val == targetSum:\n",
    "            self.res += 1\n",
    "        \n",
    "        self.check(node.left, targetSum - node.val)\n",
    "        self.check(node.right, targetSum - node.val)"
   ]
  }
 ],
 "metadata": {
  "kernelspec": {
   "display_name": "Python 3",
   "language": "python",
   "name": "python3"
  },
  "language_info": {
   "codemirror_mode": {
    "name": "ipython",
    "version": 3
   },
   "file_extension": ".py",
   "mimetype": "text/x-python",
   "name": "python",
   "nbconvert_exporter": "python",
   "pygments_lexer": "ipython3",
   "version": "3.8.5"
  }
 },
 "nbformat": 4,
 "nbformat_minor": 4
}
