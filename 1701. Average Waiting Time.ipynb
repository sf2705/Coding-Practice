{
 "cells": [
  {
   "cell_type": "markdown",
   "metadata": {},
   "source": [
    "### 2021-01-11\n"
   ]
  },
  {
   "cell_type": "markdown",
   "metadata": {},
   "source": [
    "https://leetcode.com/problems/average-waiting-time/"
   ]
  },
  {
   "cell_type": "code",
   "execution_count": 14,
   "metadata": {},
   "outputs": [],
   "source": [
    "def averageWaitingTime(customers):\n",
    "    \"\"\"\n",
    "    :type customers: List[List[int]]\n",
    "    :rtype: float\n",
    "    \"\"\"\n",
    "    \n",
    "    cur = 0\n",
    "    wait_time = 0\n",
    "    for arrive, time in customers:\n",
    "        # if the cook is available, then just wait for the time for cooking\n",
    "        if cur < arrive:\n",
    "            cur = arrive\n",
    "            wait_time += time\n",
    "        # otherwise, need to wait for the cook is available, then wait for cooking\n",
    "        else:\n",
    "            #cur - arrive ==> time before cook is available\n",
    "            wait_time += (cur - arrive) + time\n",
    "        cur += time \n",
    "        \n",
    "        print(cur, wait_time)\n",
    "    avg = wait_time / len(customers)\n",
    "    return avg\n"
   ]
  },
  {
   "cell_type": "code",
   "execution_count": 15,
   "metadata": {},
   "outputs": [
    {
     "name": "stdout",
     "output_type": "stream",
     "text": [
      "3 2\n",
      "8 8\n",
      "11 15\n"
     ]
    },
    {
     "data": {
      "text/plain": [
       "5.0"
      ]
     },
     "execution_count": 15,
     "metadata": {},
     "output_type": "execute_result"
    }
   ],
   "source": [
    "customers = [[1,2],[2,5],[4,3]]\n",
    "averageWaitingTime(customers)"
   ]
  },
  {
   "cell_type": "code",
   "execution_count": 16,
   "metadata": {},
   "outputs": [
    {
     "name": "stdout",
     "output_type": "stream",
     "text": [
      "7 2\n",
      "11 8\n",
      "14 12\n",
      "21 13\n"
     ]
    },
    {
     "data": {
      "text/plain": [
       "3.25"
      ]
     },
     "execution_count": 16,
     "metadata": {},
     "output_type": "execute_result"
    }
   ],
   "source": [
    "customers = [[5,2],[5,4],[10,3],[20,1]]\n",
    "averageWaitingTime(customers)"
   ]
  },
  {
   "cell_type": "code",
   "execution_count": null,
   "metadata": {},
   "outputs": [],
   "source": []
  }
 ],
 "metadata": {
  "kernelspec": {
   "display_name": "Python 3",
   "language": "python",
   "name": "python3"
  },
  "language_info": {
   "codemirror_mode": {
    "name": "ipython",
    "version": 3
   },
   "file_extension": ".py",
   "mimetype": "text/x-python",
   "name": "python",
   "nbconvert_exporter": "python",
   "pygments_lexer": "ipython3",
   "version": "3.8.5"
  }
 },
 "nbformat": 4,
 "nbformat_minor": 4
}
