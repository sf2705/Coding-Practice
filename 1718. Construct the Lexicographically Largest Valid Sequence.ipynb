{
 "cells": [
  {
   "cell_type": "markdown",
   "metadata": {},
   "source": [
    "### 2021-01-09"
   ]
  },
  {
   "cell_type": "markdown",
   "metadata": {},
   "source": [
    "https://leetcode.com/problems/construct-the-lexicographically-largest-valid-sequence/"
   ]
  },
  {
   "cell_type": "code",
   "execution_count": 5,
   "metadata": {},
   "outputs": [],
   "source": [
    "def constructDistancedSequence(n):\n",
    "    \"\"\"\n",
    "    :type n: int\n",
    "    :rtype: List[int]\n",
    "    \"\"\"\n",
    "    l = [0] * (2*n - 1)\n",
    "    i = 0\n",
    "    \n",
    "    used = [False] * (n+1) # so we can use 1 to n, rather than 0 to n-1; easier for indexing\n",
    "    \n",
    "    def dfs(l, i, used):\n",
    "        if i >= len(l):\n",
    "            return True\n",
    "        \n",
    "        #backtracking for number from n to 1\n",
    "        for x in range(n, 0, -1):\n",
    "            \n",
    "            if used[x] or l[i] != 0:\n",
    "                continue\n",
    "            \n",
    "            # when x > 1: we need to fill two places\n",
    "            if (x > 1 and (i+x >= len(l) or l[i+x] != 0)):\n",
    "                continue\n",
    "            \n",
    "            if x > 1:\n",
    "                l[i] = x\n",
    "                l[i+x] = x\n",
    "            else:\n",
    "                l[i] = x\n",
    "            used[x] = True\n",
    "            \n",
    "            # find next available\n",
    "            j = i + 1\n",
    "            while j < len(l) and l[j]:\n",
    "                j += 1\n",
    "            \n",
    "            # place next \n",
    "            if dfs(l, j, used):\n",
    "                # if we successfully placed, then that's the largetest one\n",
    "                return True\n",
    "            \n",
    "            # if we fail, then change back the values\n",
    "            if x > 1:\n",
    "                l[i] = 0\n",
    "                l[i+x] = 0\n",
    "            else:\n",
    "                l[i] = 0\n",
    "            used[x] = False\n",
    "        \n",
    "        return False\n",
    "    dfs(l, i, used)\n",
    "    return l"
   ]
  },
  {
   "cell_type": "code",
   "execution_count": 6,
   "metadata": {},
   "outputs": [
    {
     "data": {
      "text/plain": [
       "[3, 1, 2, 3, 2]"
      ]
     },
     "execution_count": 6,
     "metadata": {},
     "output_type": "execute_result"
    }
   ],
   "source": [
    "constructDistancedSequence(3)"
   ]
  },
  {
   "cell_type": "code",
   "execution_count": 7,
   "metadata": {},
   "outputs": [
    {
     "data": {
      "text/plain": [
       "[5, 3, 1, 4, 3, 5, 2, 4, 2]"
      ]
     },
     "execution_count": 7,
     "metadata": {},
     "output_type": "execute_result"
    }
   ],
   "source": [
    "constructDistancedSequence(5)"
   ]
  },
  {
   "cell_type": "code",
   "execution_count": 8,
   "metadata": {},
   "outputs": [
    {
     "data": {
      "text/plain": [
       "[15,\n",
       " 13,\n",
       " 14,\n",
       " 10,\n",
       " 8,\n",
       " 12,\n",
       " 5,\n",
       " 3,\n",
       " 11,\n",
       " 9,\n",
       " 3,\n",
       " 5,\n",
       " 8,\n",
       " 10,\n",
       " 13,\n",
       " 15,\n",
       " 14,\n",
       " 12,\n",
       " 9,\n",
       " 11,\n",
       " 7,\n",
       " 4,\n",
       " 6,\n",
       " 1,\n",
       " 2,\n",
       " 4,\n",
       " 2,\n",
       " 7,\n",
       " 6]"
      ]
     },
     "execution_count": 8,
     "metadata": {},
     "output_type": "execute_result"
    }
   ],
   "source": [
    "constructDistancedSequence(15)"
   ]
  },
  {
   "cell_type": "code",
   "execution_count": null,
   "metadata": {},
   "outputs": [],
   "source": []
  }
 ],
 "metadata": {
  "kernelspec": {
   "display_name": "Python 3",
   "language": "python",
   "name": "python3"
  },
  "language_info": {
   "codemirror_mode": {
    "name": "ipython",
    "version": 3
   },
   "file_extension": ".py",
   "mimetype": "text/x-python",
   "name": "python",
   "nbconvert_exporter": "python",
   "pygments_lexer": "ipython3",
   "version": "3.8.5"
  }
 },
 "nbformat": 4,
 "nbformat_minor": 4
}
