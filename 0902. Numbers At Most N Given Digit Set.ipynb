{
 "cells": [
  {
   "cell_type": "markdown",
   "metadata": {},
   "source": [
    "### 2021-12-17\n",
    "\n",
    "https://leetcode.com/problems/numbers-at-most-n-given-digit-set/"
   ]
  },
  {
   "cell_type": "code",
   "execution_count": 3,
   "metadata": {},
   "outputs": [],
   "source": [
    "def atMostNGivenDigitSet(digits, n):\n",
    "    \"\"\"\n",
    "    :type digits: List[str]\n",
    "    :type n: int\n",
    "    :rtype: int\n",
    "    \"\"\"\n",
    "    \n",
    "    str_n = str(n)\n",
    "    len_n = len(str_n)\n",
    "    \n",
    "    # form numbers that have less digits than n\n",
    "    res = sum(len(digits) ** i for i in range(1, len_n))\n",
    "    \n",
    "    i = 0\n",
    "    while i < len_n:\n",
    "        res += sum(d < str_n[i] for d in digits) * (len(digits) ** (len_n-i-1))\n",
    "        if str_n[i] not in digits:\n",
    "            break\n",
    "        i += 1\n",
    "    \n",
    "    return res + (i == len_n)"
   ]
  },
  {
   "cell_type": "code",
   "execution_count": 4,
   "metadata": {},
   "outputs": [
    {
     "data": {
      "text/plain": [
       "20"
      ]
     },
     "execution_count": 4,
     "metadata": {},
     "output_type": "execute_result"
    }
   ],
   "source": [
    "digits = [\"1\",\"3\",\"5\",\"7\"]\n",
    "n = 100\n",
    "atMostNGivenDigitSet(digits, n)"
   ]
  },
  {
   "cell_type": "code",
   "execution_count": 5,
   "metadata": {},
   "outputs": [
    {
     "data": {
      "text/plain": [
       "29523"
      ]
     },
     "execution_count": 5,
     "metadata": {},
     "output_type": "execute_result"
    }
   ],
   "source": [
    "digits = [\"1\",\"4\",\"9\"]\n",
    "n = 1000000000\n",
    "atMostNGivenDigitSet(digits, n)"
   ]
  },
  {
   "cell_type": "code",
   "execution_count": 6,
   "metadata": {},
   "outputs": [
    {
     "data": {
      "text/plain": [
       "1"
      ]
     },
     "execution_count": 6,
     "metadata": {},
     "output_type": "execute_result"
    }
   ],
   "source": [
    "digits = [\"7\"]\n",
    "n = 8\n",
    "atMostNGivenDigitSet(digits, n)"
   ]
  },
  {
   "cell_type": "code",
   "execution_count": null,
   "metadata": {},
   "outputs": [],
   "source": []
  }
 ],
 "metadata": {
  "kernelspec": {
   "display_name": "Python 3",
   "language": "python",
   "name": "python3"
  },
  "language_info": {
   "codemirror_mode": {
    "name": "ipython",
    "version": 3
   },
   "file_extension": ".py",
   "mimetype": "text/x-python",
   "name": "python",
   "nbconvert_exporter": "python",
   "pygments_lexer": "ipython3",
   "version": "3.8.5"
  }
 },
 "nbformat": 4,
 "nbformat_minor": 4
}
