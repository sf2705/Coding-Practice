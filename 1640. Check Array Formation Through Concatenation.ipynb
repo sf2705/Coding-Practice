{
 "cells": [
  {
   "cell_type": "markdown",
   "metadata": {},
   "source": [
    "### 2021-01-01"
   ]
  },
  {
   "cell_type": "markdown",
   "metadata": {},
   "source": [
    "You are given an array of distinct integers arr and an array of integer arrays pieces, where the integers in pieces are distinct. Your goal is to form arr by concatenating the arrays in pieces in any order. However, you are not allowed to reorder the integers in each array pieces[i].\n",
    "\n",
    "Return true if it is possible to form the array arr from pieces. Otherwise, return false."
   ]
  },
  {
   "cell_type": "markdown",
   "metadata": {},
   "source": [
    "### Example 1:\n",
    "`\n",
    "Input: arr = [85], pieces = [[85]]\n",
    "Output: true\n",
    "`\n",
    "### Example 2:\n",
    "`\n",
    "Input: arr = [15,88], pieces = [[88],[15]]\n",
    "Output: true\n",
    "Explanation: Concatenate [15] then [88]\n",
    "`\n",
    "### Example 3:\n",
    "`\n",
    "Input: arr = [49,18,16], pieces = [[16,18,49]]\n",
    "Output: false\n",
    "Explanation: Even though the numbers match, we cannot reorder pieces[0].\n",
    "`\n",
    "### Example 4:\n",
    "`\n",
    "Input: arr = [91,4,64,78], pieces = [[78],[4,64],[91]]\n",
    "Output: true\n",
    "Explanation: Concatenate [91] then [4,64] then [78]\n",
    "`\n",
    "### Example 5:\n",
    "`\n",
    "Input: arr = [1,3,5,7], pieces = [[2,4,6,8]]\n",
    "Output: false\n",
    "` \n",
    "\n",
    "**Constraints:**\n",
    "\n",
    "1 <= pieces.length <= arr.length <= 100\n",
    "\n",
    "sum(pieces[i].length) == arr.length\n",
    "\n",
    "1 <= pieces[i].length <= arr.length\n",
    "\n",
    "1 <= arr[i], pieces[i][j] <= 100\n",
    "\n",
    "The integers in arr are distinct.\n",
    "\n",
    "The integers in pieces are distinct (i.e., If we flatten pieces in a 1D array, all the integers in this array are distinct)."
   ]
  },
  {
   "cell_type": "markdown",
   "metadata": {},
   "source": [
    "### Solution"
   ]
  },
  {
   "cell_type": "markdown",
   "metadata": {},
   "source": [
    "Since each integers in pieces are distinct, so we are sure that if we use get function, only one element fulfills the requirement"
   ]
  },
  {
   "cell_type": "code",
   "execution_count": 1,
   "metadata": {},
   "outputs": [],
   "source": [
    "def canFormArray(arr, pieces):\n",
    "    \"\"\"\n",
    "    :type arr: List[int]\n",
    "    :type pieces: List[List[int]]\n",
    "    :rtype: bool\n",
    "    \"\"\"\n",
    "    # get the first number in each pieces\n",
    "    first_elm = {x[0]:x for x in pieces}\n",
    "    \n",
    "    # try to construct a new array to compare with arr\n",
    "    new_arr = []\n",
    "    for a in arr:\n",
    "        # if a is in the first element of pieces, then append, otherwise append empty list\n",
    "        new_arr += first_elm.get(a, []) \n",
    "    \n",
    "    # if new_arr is the same as arr, then we can form the arr\n",
    "    return new_arr == arr"
   ]
  },
  {
   "cell_type": "code",
   "execution_count": 3,
   "metadata": {},
   "outputs": [
    {
     "name": "stdout",
     "output_type": "stream",
     "text": [
      "{85: [85]}\n"
     ]
    },
    {
     "data": {
      "text/plain": [
       "True"
      ]
     },
     "execution_count": 3,
     "metadata": {},
     "output_type": "execute_result"
    }
   ],
   "source": [
    "arr = [85]\n",
    "pieces = [[85]]\n",
    "canFormArray(arr, pieces)"
   ]
  },
  {
   "cell_type": "code",
   "execution_count": 4,
   "metadata": {},
   "outputs": [
    {
     "name": "stdout",
     "output_type": "stream",
     "text": [
      "{88: [88], 15: [15]}\n"
     ]
    },
    {
     "data": {
      "text/plain": [
       "True"
      ]
     },
     "execution_count": 4,
     "metadata": {},
     "output_type": "execute_result"
    }
   ],
   "source": [
    "arr = [15,88]\n",
    "pieces = [[88],[15]]\n",
    "canFormArray(arr, pieces)"
   ]
  },
  {
   "cell_type": "code",
   "execution_count": null,
   "metadata": {},
   "outputs": [],
   "source": []
  }
 ],
 "metadata": {
  "kernelspec": {
   "display_name": "Python 3",
   "language": "python",
   "name": "python3"
  },
  "language_info": {
   "codemirror_mode": {
    "name": "ipython",
    "version": 3
   },
   "file_extension": ".py",
   "mimetype": "text/x-python",
   "name": "python",
   "nbconvert_exporter": "python",
   "pygments_lexer": "ipython3",
   "version": "3.8.5"
  }
 },
 "nbformat": 4,
 "nbformat_minor": 4
}
