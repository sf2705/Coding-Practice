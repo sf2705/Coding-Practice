{
 "cells": [
  {
   "cell_type": "markdown",
   "metadata": {},
   "source": [
    "### 2021-10-31\n",
    "\n",
    "https://leetcode.com/problems/surrounded-regions/"
   ]
  },
  {
   "cell_type": "code",
   "execution_count": 16,
   "metadata": {},
   "outputs": [],
   "source": [
    "def solve(board):\n",
    "    \"\"\"\n",
    "    :type board: List[List[str]]\n",
    "    :rtype: None Do not return anything, modify board in-place instead.\n",
    "    \"\"\"\n",
    "    \n",
    "    if not board or not board[0]:\n",
    "        return \n",
    "    \n",
    "    m = len(board)\n",
    "    n = len(board[0])\n",
    "    \n",
    "    stack = set()\n",
    "    for i in range(m):\n",
    "        stack.add((i, 0))\n",
    "        stack.add((i, n-1))\n",
    "    for j in range(n):\n",
    "        stack.add((0, j))\n",
    "        stack.add((m-1, j))\n",
    "    \n",
    "    stack = list(stack)\n",
    "    \n",
    "    while stack:\n",
    "        i, j = stack.pop()\n",
    "        if 0<=i<m and 0<=j<n and board[i][j] == 'O':\n",
    "            board[i][j] = 'A'\n",
    "            stack += [(i+1, j), (i-1, j), (i, j+1), (i, j-1)]\n",
    "    \n",
    "    for i in range(m):\n",
    "        for j in range(n):\n",
    "            if board[i][j] == 'A':\n",
    "                board[i][j] = 'O'\n",
    "            else:\n",
    "                board[i][j] = 'X'\n",
    "        \n",
    "    return board\n"
   ]
  },
  {
   "cell_type": "code",
   "execution_count": 17,
   "metadata": {},
   "outputs": [
    {
     "data": {
      "text/plain": [
       "[['X', 'X', 'X', 'X'],\n",
       " ['X', 'X', 'X', 'X'],\n",
       " ['X', 'X', 'X', 'X'],\n",
       " ['X', 'O', 'X', 'X']]"
      ]
     },
     "execution_count": 17,
     "metadata": {},
     "output_type": "execute_result"
    }
   ],
   "source": [
    "board = [[\"X\",\"X\",\"X\",\"X\"],[\"X\",\"O\",\"O\",\"X\"],[\"X\",\"X\",\"O\",\"X\"],[\"X\",\"O\",\"X\",\"X\"]]\n",
    "solve(board)"
   ]
  },
  {
   "cell_type": "code",
   "execution_count": 18,
   "metadata": {},
   "outputs": [
    {
     "data": {
      "text/plain": [
       "[['X']]"
      ]
     },
     "execution_count": 18,
     "metadata": {},
     "output_type": "execute_result"
    }
   ],
   "source": [
    "board = [[\"X\"]]\n",
    "solve(board)"
   ]
  },
  {
   "cell_type": "code",
   "execution_count": null,
   "metadata": {},
   "outputs": [],
   "source": []
  },
  {
   "cell_type": "code",
   "execution_count": null,
   "metadata": {},
   "outputs": [],
   "source": []
  }
 ],
 "metadata": {
  "kernelspec": {
   "display_name": "Python 3",
   "language": "python",
   "name": "python3"
  },
  "language_info": {
   "codemirror_mode": {
    "name": "ipython",
    "version": 3
   },
   "file_extension": ".py",
   "mimetype": "text/x-python",
   "name": "python",
   "nbconvert_exporter": "python",
   "pygments_lexer": "ipython3",
   "version": "3.8.5"
  }
 },
 "nbformat": 4,
 "nbformat_minor": 4
}
