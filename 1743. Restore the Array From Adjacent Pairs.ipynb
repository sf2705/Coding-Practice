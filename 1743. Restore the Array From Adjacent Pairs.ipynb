{
 "cells": [
  {
   "cell_type": "markdown",
   "metadata": {},
   "source": [
    "### 2021-01-30\n",
    "\n",
    "https://leetcode.com/problems/restore-the-array-from-adjacent-pairs/"
   ]
  },
  {
   "cell_type": "code",
   "execution_count": 9,
   "metadata": {},
   "outputs": [],
   "source": [
    "def restoreArray(adjacentPairs):\n",
    "    \"\"\"\n",
    "    :type adjacentPairs: List[List[int]]\n",
    "    :rtype: List[int]\n",
    "    \"\"\"\n",
    "    dic = dict()\n",
    "    \n",
    "    for i in range(len(adjacentPairs)):\n",
    "        n1, n2 = adjacentPairs[i]\n",
    "        if n1 not in dic:\n",
    "            dic[n1] = [i]\n",
    "            \n",
    "        else:\n",
    "            dic[n1].append(i)\n",
    "        \n",
    "        if n2 not in dic:\n",
    "            dic[n2] = [i]\n",
    "           \n",
    "        else:\n",
    "            dic[n2].append(i)\n",
    "    \n",
    "    for k, v in dic.items():\n",
    "        if len(v) == 1:\n",
    "            start = k\n",
    "            idx = v[0]\n",
    "           \n",
    "            break\n",
    "    print(dic)\n",
    "    res = [start]\n",
    "    \n",
    "    # lenth of the original code\n",
    "    length = len(adjacentPairs) + 1\n",
    "    while len(res) < length:\n",
    "        cur_pair = adjacentPairs[idx]\n",
    "        if cur_pair[0] != res[-1]:\n",
    "            nxt = cur_pair[0]\n",
    "        else:\n",
    "            nxt = cur_pair[1]\n",
    "        \n",
    "        res.append(nxt)\n",
    "        \n",
    "        if len(dic[nxt]) == 2:\n",
    "            i, j = dic[nxt]\n",
    "            if i == idx:\n",
    "                idx = j\n",
    "            else:\n",
    "                idx = i\n",
    "            \n",
    "        \n",
    "    return res\n",
    "        \n",
    "        \n"
   ]
  },
  {
   "cell_type": "code",
   "execution_count": 10,
   "metadata": {},
   "outputs": [
    {
     "name": "stdout",
     "output_type": "stream",
     "text": [
      "{2: [0, 2], 1: [0], 3: [1, 2], 4: [1]}\n"
     ]
    },
    {
     "data": {
      "text/plain": [
       "[1, 2, 3, 4]"
      ]
     },
     "execution_count": 10,
     "metadata": {},
     "output_type": "execute_result"
    }
   ],
   "source": [
    "adjacentPairs = [[2,1],[3,4],[3,2]]\n",
    "restoreArray(adjacentPairs)"
   ]
  },
  {
   "cell_type": "code",
   "execution_count": 11,
   "metadata": {},
   "outputs": [
    {
     "name": "stdout",
     "output_type": "stream",
     "text": [
      "{4: [0, 1], -2: [0], 1: [1, 2], -3: [2]}\n"
     ]
    },
    {
     "data": {
      "text/plain": [
       "[-2, 4, 1, -3]"
      ]
     },
     "execution_count": 11,
     "metadata": {},
     "output_type": "execute_result"
    }
   ],
   "source": [
    "adjacentPairs = [[4,-2],[1,4],[-3,1]]\n",
    "restoreArray(adjacentPairs)"
   ]
  },
  {
   "cell_type": "code",
   "execution_count": 12,
   "metadata": {},
   "outputs": [
    {
     "name": "stdout",
     "output_type": "stream",
     "text": [
      "{100000: [0], -100000: [0]}\n"
     ]
    },
    {
     "data": {
      "text/plain": [
       "[100000, -100000]"
      ]
     },
     "execution_count": 12,
     "metadata": {},
     "output_type": "execute_result"
    }
   ],
   "source": [
    "adjacentPairs = [[100000,-100000]]\n",
    "restoreArray(adjacentPairs)"
   ]
  },
  {
   "cell_type": "code",
   "execution_count": null,
   "metadata": {},
   "outputs": [],
   "source": []
  }
 ],
 "metadata": {
  "kernelspec": {
   "display_name": "Python 3",
   "language": "python",
   "name": "python3"
  },
  "language_info": {
   "codemirror_mode": {
    "name": "ipython",
    "version": 3
   },
   "file_extension": ".py",
   "mimetype": "text/x-python",
   "name": "python",
   "nbconvert_exporter": "python",
   "pygments_lexer": "ipython3",
   "version": "3.8.5"
  }
 },
 "nbformat": 4,
 "nbformat_minor": 4
}
