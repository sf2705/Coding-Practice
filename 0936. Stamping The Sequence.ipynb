{
 "cells": [
  {
   "cell_type": "markdown",
   "metadata": {},
   "source": [
    "### 2021-03-31\n",
    "\n",
    "https://leetcode.com/problems/stamping-the-sequence/"
   ]
  },
  {
   "cell_type": "code",
   "execution_count": 13,
   "metadata": {},
   "outputs": [],
   "source": [
    "def movesToStamp(stamp, target):\n",
    "    \"\"\"\n",
    "    :type stamp: str\n",
    "    :type target: str\n",
    "    :rtype: List[int]\n",
    "    \"\"\"\n",
    "    stamp = list(stamp)\n",
    "    target = list(target)\n",
    "    res = []\n",
    "    \n",
    "    def helper(i):\n",
    "        visit = False\n",
    "        for j in range(len(stamp)):\n",
    "            if target[i + j] == '?':\n",
    "                continue\n",
    "            if target[i + j] != stamp[j]:\n",
    "                return False\n",
    "            visit = True\n",
    "        \n",
    "        if visit:\n",
    "            target[i: i+len(stamp)] = ['?'] * len(stamp)\n",
    "            res.append(i)\n",
    "        return visit\n",
    "    \n",
    "    visit = True\n",
    "    while visit:\n",
    "        visit = False\n",
    "        for i in range(len(target) - len(stamp) + 1):\n",
    "            visit |= helper(i)\n",
    "    \n",
    "    if target == ['?'] * len(target):\n",
    "        return res[::-1]\n",
    "    return []"
   ]
  },
  {
   "cell_type": "code",
   "execution_count": 14,
   "metadata": {},
   "outputs": [
    {
     "data": {
      "text/plain": [
       "[0, 2]"
      ]
     },
     "execution_count": 14,
     "metadata": {},
     "output_type": "execute_result"
    }
   ],
   "source": [
    "stamp = \"abc\"\n",
    "target = \"ababc\"\n",
    "movesToStamp(stamp, target)"
   ]
  },
  {
   "cell_type": "code",
   "execution_count": 15,
   "metadata": {},
   "outputs": [
    {
     "data": {
      "text/plain": [
       "[0, 3, 1]"
      ]
     },
     "execution_count": 15,
     "metadata": {},
     "output_type": "execute_result"
    }
   ],
   "source": [
    "stamp = \"abca\"\n",
    "target = \"aabcaca\"\n",
    "movesToStamp(stamp, target)"
   ]
  },
  {
   "cell_type": "code",
   "execution_count": null,
   "metadata": {},
   "outputs": [],
   "source": []
  }
 ],
 "metadata": {
  "kernelspec": {
   "display_name": "Python 3",
   "language": "python",
   "name": "python3"
  },
  "language_info": {
   "codemirror_mode": {
    "name": "ipython",
    "version": 3
   },
   "file_extension": ".py",
   "mimetype": "text/x-python",
   "name": "python",
   "nbconvert_exporter": "python",
   "pygments_lexer": "ipython3",
   "version": "3.8.5"
  }
 },
 "nbformat": 4,
 "nbformat_minor": 4
}
