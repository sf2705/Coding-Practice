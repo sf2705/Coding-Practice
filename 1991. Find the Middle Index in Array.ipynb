{
 "cells": [
  {
   "cell_type": "markdown",
   "metadata": {},
   "source": [
    "### Q1"
   ]
  },
  {
   "cell_type": "code",
   "execution_count": 3,
   "metadata": {},
   "outputs": [],
   "source": [
    "def findMiddleIndex(nums):\n",
    "    \"\"\"\n",
    "    :type nums: List[int]\n",
    "    :rtype: int\n",
    "    \"\"\"\n",
    "    total = sum(nums)\n",
    "    left_sum = 0\n",
    "    for i in range(len(nums)):\n",
    "        right_sum = total - nums[i] - left_sum\n",
    "        if left_sum == right_sum:\n",
    "            return i\n",
    "        else:\n",
    "            left_sum += nums[i]\n",
    "    \n",
    "    return -1\n",
    "        "
   ]
  },
  {
   "cell_type": "code",
   "execution_count": 4,
   "metadata": {},
   "outputs": [
    {
     "data": {
      "text/plain": [
       "3"
      ]
     },
     "execution_count": 4,
     "metadata": {},
     "output_type": "execute_result"
    }
   ],
   "source": [
    "nums = [2,3,-1,8,4]\n",
    "findMiddleIndex(nums)"
   ]
  },
  {
   "cell_type": "code",
   "execution_count": 5,
   "metadata": {},
   "outputs": [
    {
     "data": {
      "text/plain": [
       "2"
      ]
     },
     "execution_count": 5,
     "metadata": {},
     "output_type": "execute_result"
    }
   ],
   "source": [
    "nums = [1,-1,4]\n",
    "findMiddleIndex(nums)"
   ]
  },
  {
   "cell_type": "code",
   "execution_count": 6,
   "metadata": {},
   "outputs": [
    {
     "data": {
      "text/plain": [
       "-1"
      ]
     },
     "execution_count": 6,
     "metadata": {},
     "output_type": "execute_result"
    }
   ],
   "source": [
    "nums = [2,5]\n",
    "findMiddleIndex(nums)"
   ]
  },
  {
   "cell_type": "code",
   "execution_count": 7,
   "metadata": {},
   "outputs": [
    {
     "data": {
      "text/plain": [
       "0"
      ]
     },
     "execution_count": 7,
     "metadata": {},
     "output_type": "execute_result"
    }
   ],
   "source": [
    "nums = [1]\n",
    "findMiddleIndex(nums)"
   ]
  },
  {
   "cell_type": "markdown",
   "metadata": {},
   "source": [
    "### Q2"
   ]
  },
  {
   "cell_type": "code",
   "execution_count": null,
   "metadata": {},
   "outputs": [],
   "source": [
    "def findFarmland(land):\n",
    "    \"\"\"\n",
    "    :type land: List[List[int]]\n",
    "    :rtype: List[List[int]]\n",
    "    \"\"\"\n",
    "    if not land:\n",
    "        return []\n",
    "    \n",
    "    m, n = len(land), len(land[0])\n",
    "    visited = [[0]*n]*m\n",
    "    res = []\n",
    "    r = c = 0\n",
    "    \n",
    "    def helper(visited, r, c):\n",
    "        while r <= m and c <= n:\n",
    "            if land[r][c] == 1 and visited[r][c] = 0:\n",
    "                visited[r][c] = 1\n",
    "                start_r = r\n",
    "                start_c = c\n",
    "                while r+1 < m and land[r+1][c] == 1:\n",
    "                    visited[r][c] = 1\n",
    "                    r += 1\n",
    "                while c+1 < n and land[r][c+1] == 1:\n",
    "                    visited[r][c] = 1\n",
    "                    c += 1\n",
    "                res.append(start_r, start_c, r, c)\n",
    "            elif land[r][c] == 0:\n",
    "                visited[r][c] = 1\n",
    "\n",
    "\n",
    "            \n",
    "                "
   ]
  },
  {
   "cell_type": "code",
   "execution_count": 8,
   "metadata": {},
   "outputs": [
    {
     "data": {
      "text/plain": [
       "[[0, 0], [0, 0], [0, 0]]"
      ]
     },
     "execution_count": 8,
     "metadata": {},
     "output_type": "execute_result"
    }
   ],
   "source": [
    "[[0]*2]*3"
   ]
  },
  {
   "cell_type": "code",
   "execution_count": null,
   "metadata": {},
   "outputs": [],
   "source": []
  }
 ],
 "metadata": {
  "kernelspec": {
   "display_name": "Python 3",
   "language": "python",
   "name": "python3"
  },
  "language_info": {
   "codemirror_mode": {
    "name": "ipython",
    "version": 3
   },
   "file_extension": ".py",
   "mimetype": "text/x-python",
   "name": "python",
   "nbconvert_exporter": "python",
   "pygments_lexer": "ipython3",
   "version": "3.8.5"
  }
 },
 "nbformat": 4,
 "nbformat_minor": 4
}
