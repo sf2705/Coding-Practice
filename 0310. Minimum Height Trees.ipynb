{
 "cells": [
  {
   "cell_type": "markdown",
   "metadata": {},
   "source": [
    "### 2021-12-15\n",
    "\n",
    "https://leetcode.com/problems/minimum-height-trees/"
   ]
  },
  {
   "cell_type": "code",
   "execution_count": 1,
   "metadata": {},
   "outputs": [],
   "source": [
    "def findMinHeightTrees(n, edges):\n",
    "    \"\"\"\n",
    "    :type n: int\n",
    "    :type edges: List[List[int]]\n",
    "    :rtype: List[int]\n",
    "    \"\"\"\n",
    "\n",
    "    # General Idea: there are at most 2 nodes can form minimum height trees\n",
    "    \n",
    "    from collections import defaultdict\n",
    "    \n",
    "    dic = defaultdict(set)\n",
    "    \n",
    "    for i, j in edges:\n",
    "        dic[i].add(j)\n",
    "        dic[j].add(i)\n",
    "    \n",
    "    res = set(range(n))\n",
    "    \n",
    "    while len(res) > 2:\n",
    "        leaves = set(node for node in res if len(dic[node])==1)\n",
    "        for i in leaves:\n",
    "            for j in dic[i]:\n",
    "                dic[j].remove(i)\n",
    "            \n",
    "        res -= leaves\n",
    "    \n",
    "    return list(res)\n"
   ]
  },
  {
   "cell_type": "code",
   "execution_count": null,
   "metadata": {},
   "outputs": [],
   "source": [
    "n = 4, edges = [[1,0],[1,2],[1,3]]"
   ]
  },
  {
   "cell_type": "code",
   "execution_count": null,
   "metadata": {},
   "outputs": [],
   "source": [
    "n = 6, edges = [[3,0],[3,1],[3,2],[3,4],[5,4]]"
   ]
  },
  {
   "cell_type": "code",
   "execution_count": null,
   "metadata": {},
   "outputs": [],
   "source": []
  }
 ],
 "metadata": {
  "kernelspec": {
   "display_name": "Python 3",
   "language": "python",
   "name": "python3"
  },
  "language_info": {
   "codemirror_mode": {
    "name": "ipython",
    "version": 3
   },
   "file_extension": ".py",
   "mimetype": "text/x-python",
   "name": "python",
   "nbconvert_exporter": "python",
   "pygments_lexer": "ipython3",
   "version": "3.8.5"
  }
 },
 "nbformat": 4,
 "nbformat_minor": 4
}
