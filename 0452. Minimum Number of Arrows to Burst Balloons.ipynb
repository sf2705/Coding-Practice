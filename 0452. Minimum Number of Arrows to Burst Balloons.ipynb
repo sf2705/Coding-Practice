{
 "cells": [
  {
   "cell_type": "markdown",
   "metadata": {},
   "source": [
    "### 2022-01-12\n",
    "\n",
    "https://leetcode.com/problems/minimum-number-of-arrows-to-burst-balloons/"
   ]
  },
  {
   "cell_type": "code",
   "execution_count": 9,
   "metadata": {},
   "outputs": [],
   "source": [
    "def findMinArrowShots(points):\n",
    "    \"\"\"\n",
    "    :type points: List[List[int]]\n",
    "    :rtype: int\n",
    "    \"\"\"\n",
    "\n",
    "    if not points:\n",
    "        return 0\n",
    "    \n",
    "    points = sorted(points, reverse = True)\n",
    "    #print(points)\n",
    "    res = 1\n",
    "\n",
    "    ballon = points.pop()\n",
    "    while points:\n",
    "        nxt = points[-1]\n",
    "        if nxt[0] > ballon[1]:\n",
    "            res += 1\n",
    "            ballon = nxt\n",
    "        else:\n",
    "            ballon[0] = max(ballon[0], nxt[0])\n",
    "            ballon[1] = min(ballon[1], nxt[1])\n",
    "            points.pop()\n",
    "        #print(points, ballon, res)        \n",
    "    return res\n",
    "            \n",
    "    "
   ]
  },
  {
   "cell_type": "code",
   "execution_count": 10,
   "metadata": {},
   "outputs": [
    {
     "name": "stdout",
     "output_type": "stream",
     "text": [
      "[[10, 16], [7, 12], [2, 8], [1, 6]]\n",
      "[[10, 16], [7, 12]] [2, 6] 1\n",
      "[[10, 16], [7, 12]] [7, 12] 2\n",
      "[[10, 16]] [7, 12] 2\n",
      "[] [10, 12] 2\n"
     ]
    },
    {
     "data": {
      "text/plain": [
       "2"
      ]
     },
     "execution_count": 10,
     "metadata": {},
     "output_type": "execute_result"
    }
   ],
   "source": [
    "points = [[10,16],[2,8],[1,6],[7,12]]\n",
    "findMinArrowShots(points)"
   ]
  },
  {
   "cell_type": "code",
   "execution_count": 11,
   "metadata": {},
   "outputs": [
    {
     "name": "stdout",
     "output_type": "stream",
     "text": [
      "[[7, 8], [5, 6], [3, 4], [1, 2]]\n",
      "[[7, 8], [5, 6], [3, 4]] [3, 4] 2\n",
      "[[7, 8], [5, 6]] [3, 4] 2\n",
      "[[7, 8], [5, 6]] [5, 6] 3\n",
      "[[7, 8]] [5, 6] 3\n",
      "[[7, 8]] [7, 8] 4\n",
      "[] [7, 8] 4\n"
     ]
    },
    {
     "data": {
      "text/plain": [
       "4"
      ]
     },
     "execution_count": 11,
     "metadata": {},
     "output_type": "execute_result"
    }
   ],
   "source": [
    "points = [[1,2],[3,4],[5,6],[7,8]]\n",
    "findMinArrowShots(points)"
   ]
  },
  {
   "cell_type": "code",
   "execution_count": 12,
   "metadata": {},
   "outputs": [
    {
     "name": "stdout",
     "output_type": "stream",
     "text": [
      "[[4, 5], [3, 4], [2, 3], [1, 2]]\n",
      "[[4, 5], [3, 4]] [2, 2] 1\n",
      "[[4, 5], [3, 4]] [3, 4] 2\n",
      "[[4, 5]] [3, 4] 2\n",
      "[] [4, 4] 2\n"
     ]
    },
    {
     "data": {
      "text/plain": [
       "2"
      ]
     },
     "execution_count": 12,
     "metadata": {},
     "output_type": "execute_result"
    }
   ],
   "source": [
    "points = [[1,2],[2,3],[3,4],[4,5]]\n",
    "findMinArrowShots(points)"
   ]
  },
  {
   "cell_type": "code",
   "execution_count": null,
   "metadata": {},
   "outputs": [],
   "source": []
  }
 ],
 "metadata": {
  "kernelspec": {
   "display_name": "Python 3",
   "language": "python",
   "name": "python3"
  },
  "language_info": {
   "codemirror_mode": {
    "name": "ipython",
    "version": 3
   },
   "file_extension": ".py",
   "mimetype": "text/x-python",
   "name": "python",
   "nbconvert_exporter": "python",
   "pygments_lexer": "ipython3",
   "version": "3.8.5"
  }
 },
 "nbformat": 4,
 "nbformat_minor": 4
}
