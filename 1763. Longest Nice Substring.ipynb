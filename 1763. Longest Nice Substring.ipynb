{
 "cells": [
  {
   "cell_type": "markdown",
   "metadata": {},
   "source": [
    "### 2021-02-20\n",
    "\n",
    "https://leetcode.com/problems/longest-nice-substring/"
   ]
  },
  {
   "cell_type": "code",
   "execution_count": 26,
   "metadata": {},
   "outputs": [],
   "source": [
    "def longestNiceSubstring(s):\n",
    "    \"\"\"\n",
    "    :type s: str\n",
    "    :rtype: str\n",
    "    \"\"\"\n",
    "    sub = ''\n",
    "    for i in range(len(s)):\n",
    "        cur_len = len(sub) + 1\n",
    "        for j in range(i+cur_len, len(s)+1):\n",
    "            all_ch = set(s[i:j])\n",
    "            lower = set(s[i:j].lower())\n",
    "            upper = set(s[i:j].upper())\n",
    "            if all_ch == lower.union(upper):\n",
    "                sub = s[i:j]\n",
    "    return sub\n",
    "\n",
    "            "
   ]
  },
  {
   "cell_type": "code",
   "execution_count": 27,
   "metadata": {},
   "outputs": [
    {
     "name": "stdout",
     "output_type": "stream",
     "text": [
      "0 1 7 Y\n",
      "0 2 7 Ya\n",
      "0 3 7 Yaz\n",
      "0 4 7 Yaza\n",
      "0 5 7 YazaA\n",
      "0 6 7 YazaAa\n",
      "0 7 7 YazaAay\n",
      "1 2 7 a\n",
      "1 3 7 az\n",
      "1 4 7 aza\n",
      "1 5 7 azaA\n",
      "1 6 7 azaAa\n",
      "1 7 7 azaAay\n",
      "2 3 7 z\n",
      "2 4 7 za\n",
      "2 5 7 zaA\n",
      "2 6 7 zaAa\n",
      "2 7 7 zaAay\n",
      "3 4 7 a\n",
      "3 5 7 aA\n",
      "3 6 7 aAa\n",
      "3 7 7 aAay\n"
     ]
    },
    {
     "data": {
      "text/plain": [
       "'aAa'"
      ]
     },
     "execution_count": 27,
     "metadata": {},
     "output_type": "execute_result"
    }
   ],
   "source": [
    "s = \"YazaAay\"\n",
    "longestNiceSubstring(s)"
   ]
  },
  {
   "cell_type": "code",
   "execution_count": 28,
   "metadata": {},
   "outputs": [
    {
     "name": "stdout",
     "output_type": "stream",
     "text": [
      "0 1 2 B\n",
      "0 2 2 Bb\n"
     ]
    },
    {
     "data": {
      "text/plain": [
       "'Bb'"
      ]
     },
     "execution_count": 28,
     "metadata": {},
     "output_type": "execute_result"
    }
   ],
   "source": [
    "s = \"Bb\"\n",
    "longestNiceSubstring(s)"
   ]
  },
  {
   "cell_type": "code",
   "execution_count": 29,
   "metadata": {},
   "outputs": [
    {
     "name": "stdout",
     "output_type": "stream",
     "text": [
      "0 1 1 c\n"
     ]
    },
    {
     "data": {
      "text/plain": [
       "''"
      ]
     },
     "execution_count": 29,
     "metadata": {},
     "output_type": "execute_result"
    }
   ],
   "source": [
    "s = \"c\"\n",
    "longestNiceSubstring(s)"
   ]
  },
  {
   "cell_type": "code",
   "execution_count": 30,
   "metadata": {},
   "outputs": [
    {
     "name": "stdout",
     "output_type": "stream",
     "text": [
      "0 1 5 d\n",
      "0 2 5 dD\n",
      "0 3 5 dDz\n",
      "0 4 5 dDze\n",
      "0 5 5 dDzeE\n",
      "1 4 5 Dze\n",
      "1 5 5 DzeE\n",
      "2 5 5 zeE\n"
     ]
    },
    {
     "data": {
      "text/plain": [
       "'dD'"
      ]
     },
     "execution_count": 30,
     "metadata": {},
     "output_type": "execute_result"
    }
   ],
   "source": [
    "s = \"dDzeE\"\n",
    "longestNiceSubstring(s)"
   ]
  },
  {
   "cell_type": "code",
   "execution_count": null,
   "metadata": {},
   "outputs": [],
   "source": []
  }
 ],
 "metadata": {
  "kernelspec": {
   "display_name": "Python 3",
   "language": "python",
   "name": "python3"
  },
  "language_info": {
   "codemirror_mode": {
    "name": "ipython",
    "version": 3
   },
   "file_extension": ".py",
   "mimetype": "text/x-python",
   "name": "python",
   "nbconvert_exporter": "python",
   "pygments_lexer": "ipython3",
   "version": "3.8.5"
  }
 },
 "nbformat": 4,
 "nbformat_minor": 4
}
