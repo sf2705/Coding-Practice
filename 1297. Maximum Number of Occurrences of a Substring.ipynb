{
 "cells": [
  {
   "cell_type": "markdown",
   "metadata": {},
   "source": [
    "### 2021-09-25\n",
    "\n",
    "https://leetcode.com/problems/maximum-number-of-occurrences-of-a-substring/"
   ]
  },
  {
   "cell_type": "code",
   "execution_count": 4,
   "metadata": {},
   "outputs": [],
   "source": [
    "def maxFreq(s, maxLetters, minSize, maxSize):\n",
    "    \"\"\"\n",
    "    :type s: str\n",
    "    :type maxLetters: int\n",
    "    :type minSize: int\n",
    "    :type maxSize: int\n",
    "    :rtype: int\n",
    "    \"\"\"\n",
    "    from collections import defaultdict\n",
    "\n",
    "    if minSize > len(s):\n",
    "        return 0\n",
    "    res = 0\n",
    "    cnt = defaultdict(int)\n",
    "    for i in range(len(s)-minSize+1):\n",
    "        sub_s = s[i:i+minSize]\n",
    "        uniq_chr = set(sub_s)\n",
    "        if len(uniq_chr) <= maxLetters:\n",
    "            cnt[sub_s] += 1\n",
    "            res = max(res, cnt[sub_s])\n",
    "    return res"
   ]
  },
  {
   "cell_type": "code",
   "execution_count": 5,
   "metadata": {},
   "outputs": [
    {
     "data": {
      "text/plain": [
       "2"
      ]
     },
     "execution_count": 5,
     "metadata": {},
     "output_type": "execute_result"
    }
   ],
   "source": [
    "s = \"aababcaab\"\n",
    "maxLetters = 2\n",
    "minSize = 3\n",
    "maxSize = 4\n",
    "maxFreq(s, maxLetters, minSize, maxSize)"
   ]
  },
  {
   "cell_type": "code",
   "execution_count": 6,
   "metadata": {},
   "outputs": [
    {
     "data": {
      "text/plain": [
       "2"
      ]
     },
     "execution_count": 6,
     "metadata": {},
     "output_type": "execute_result"
    }
   ],
   "source": [
    "s = \"aaaa\"\n",
    "maxLetters = 1\n",
    "minSize = 3\n",
    "maxSize = 3\n",
    "maxFreq(s, maxLetters, minSize, maxSize)"
   ]
  },
  {
   "cell_type": "code",
   "execution_count": 7,
   "metadata": {},
   "outputs": [
    {
     "data": {
      "text/plain": [
       "3"
      ]
     },
     "execution_count": 7,
     "metadata": {},
     "output_type": "execute_result"
    }
   ],
   "source": [
    "s = \"aabcabcab\"\n",
    "maxLetters = 2\n",
    "minSize = 2\n",
    "maxSize = 3\n",
    "maxFreq(s, maxLetters, minSize, maxSize)"
   ]
  },
  {
   "cell_type": "code",
   "execution_count": 8,
   "metadata": {},
   "outputs": [
    {
     "data": {
      "text/plain": [
       "0"
      ]
     },
     "execution_count": 8,
     "metadata": {},
     "output_type": "execute_result"
    }
   ],
   "source": [
    "s = \"abcde\"\n",
    "maxLetters = 2\n",
    "minSize = 3\n",
    "maxSize = 3\n",
    "maxFreq(s, maxLetters, minSize, maxSize)"
   ]
  },
  {
   "cell_type": "code",
   "execution_count": null,
   "metadata": {},
   "outputs": [],
   "source": []
  },
  {
   "cell_type": "code",
   "execution_count": null,
   "metadata": {},
   "outputs": [],
   "source": []
  }
 ],
 "metadata": {
  "kernelspec": {
   "display_name": "Python 3",
   "language": "python",
   "name": "python3"
  },
  "language_info": {
   "codemirror_mode": {
    "name": "ipython",
    "version": 3
   },
   "file_extension": ".py",
   "mimetype": "text/x-python",
   "name": "python",
   "nbconvert_exporter": "python",
   "pygments_lexer": "ipython3",
   "version": "3.8.5"
  }
 },
 "nbformat": 4,
 "nbformat_minor": 4
}
