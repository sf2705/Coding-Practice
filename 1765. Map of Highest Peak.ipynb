{
 "cells": [
  {
   "cell_type": "markdown",
   "metadata": {},
   "source": [
    "### 2021-02-20\n",
    "\n",
    "https://leetcode.com/problems/map-of-highest-peak"
   ]
  },
  {
   "cell_type": "code",
   "execution_count": 50,
   "metadata": {},
   "outputs": [],
   "source": [
    "def highestPeak(isWater):\n",
    "    \"\"\"\n",
    "    :type isWater: List[List[int]]\n",
    "    :rtype: List[List[int]]\n",
    "    \"\"\"\n",
    "    from collections import deque  \n",
    "\n",
    "    height = [[-1]*len(isWater[0]) for i in range(len(isWater))]\n",
    "    bfs = deque([])\n",
    "    for r in range(len(isWater)):\n",
    "        for c in range(len(isWater[0])):\n",
    "            if isWater[r][c] == 1:\n",
    "                bfs.append((r,c))\n",
    "                height[r][c] = 0\n",
    "    DIR = [0, 1, 0, -1, 0]\n",
    "    while bfs:\n",
    "        r, c = bfs.popleft()\n",
    "        for i in range(4):\n",
    "            new_r, new_c = r + DIR[i], c + DIR[i+1]\n",
    "            if new_r < 0 or new_r == len(isWater) \\\n",
    "                or new_c < 0 or new_c == len(isWater[0])\\\n",
    "                or height[new_r][new_c]!= -1:\n",
    "                continue\n",
    "            height[new_r][new_c] = height[r][c] + 1\n",
    "            bfs.append((new_r, new_c))\n",
    "    return height\n",
    "                "
   ]
  },
  {
   "cell_type": "code",
   "execution_count": 51,
   "metadata": {},
   "outputs": [
    {
     "data": {
      "text/plain": [
       "[[1, 0], [2, 1]]"
      ]
     },
     "execution_count": 51,
     "metadata": {},
     "output_type": "execute_result"
    }
   ],
   "source": [
    "isWater = [[0,1],[0,0]]\n",
    "highestPeak(isWater)"
   ]
  },
  {
   "cell_type": "code",
   "execution_count": 52,
   "metadata": {},
   "outputs": [
    {
     "data": {
      "text/plain": [
       "[[1, 1, 0], [0, 1, 1], [1, 2, 2]]"
      ]
     },
     "execution_count": 52,
     "metadata": {},
     "output_type": "execute_result"
    }
   ],
   "source": [
    "isWater = [[0,0,1],[1,0,0],[0,0,0]]\n",
    "highestPeak(isWater)"
   ]
  },
  {
   "cell_type": "code",
   "execution_count": null,
   "metadata": {},
   "outputs": [],
   "source": []
  },
  {
   "cell_type": "code",
   "execution_count": null,
   "metadata": {},
   "outputs": [],
   "source": []
  }
 ],
 "metadata": {
  "kernelspec": {
   "display_name": "Python 3",
   "language": "python",
   "name": "python3"
  },
  "language_info": {
   "codemirror_mode": {
    "name": "ipython",
    "version": 3
   },
   "file_extension": ".py",
   "mimetype": "text/x-python",
   "name": "python",
   "nbconvert_exporter": "python",
   "pygments_lexer": "ipython3",
   "version": "3.8.5"
  }
 },
 "nbformat": 4,
 "nbformat_minor": 4
}
