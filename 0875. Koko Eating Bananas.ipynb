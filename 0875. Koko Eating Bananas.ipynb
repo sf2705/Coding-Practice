{
 "cells": [
  {
   "cell_type": "markdown",
   "metadata": {},
   "source": [
    "### 2022-01-19\n",
    "\n",
    "https://leetcode.com/problems/koko-eating-bananas/"
   ]
  },
  {
   "cell_type": "code",
   "execution_count": 18,
   "metadata": {},
   "outputs": [],
   "source": [
    "def minEatingSpeed(piles, h):\n",
    "    \"\"\"\n",
    "    :type piles: List[int]\n",
    "    :type h: int\n",
    "    :rtype: int\n",
    "    \"\"\"\n",
    "    import math\n",
    "    left = 1\n",
    "    right = max(piles)\n",
    "\n",
    "    while left < right:\n",
    "        mid = (left + right) // 2\n",
    "        \n",
    "        if sum(math.ceil(p/mid) for p in piles) > h:\n",
    "            left = mid + 1\n",
    "        else:\n",
    "            right = mid\n",
    "    return left"
   ]
  },
  {
   "cell_type": "code",
   "execution_count": 19,
   "metadata": {},
   "outputs": [
    {
     "data": {
      "text/plain": [
       "4"
      ]
     },
     "execution_count": 19,
     "metadata": {},
     "output_type": "execute_result"
    }
   ],
   "source": [
    "piles = [3,6,7,11]\n",
    "h = 8\n",
    "minEatingSpeed(piles, h)"
   ]
  },
  {
   "cell_type": "code",
   "execution_count": 20,
   "metadata": {},
   "outputs": [
    {
     "data": {
      "text/plain": [
       "30"
      ]
     },
     "execution_count": 20,
     "metadata": {},
     "output_type": "execute_result"
    }
   ],
   "source": [
    "piles = [30,11,23,4,20]\n",
    "h = 5\n",
    "minEatingSpeed(piles, h)"
   ]
  },
  {
   "cell_type": "code",
   "execution_count": null,
   "metadata": {},
   "outputs": [],
   "source": []
  },
  {
   "cell_type": "code",
   "execution_count": null,
   "metadata": {},
   "outputs": [],
   "source": []
  }
 ],
 "metadata": {
  "kernelspec": {
   "display_name": "Python 3",
   "language": "python",
   "name": "python3"
  },
  "language_info": {
   "codemirror_mode": {
    "name": "ipython",
    "version": 3
   },
   "file_extension": ".py",
   "mimetype": "text/x-python",
   "name": "python",
   "nbconvert_exporter": "python",
   "pygments_lexer": "ipython3",
   "version": "3.8.5"
  }
 },
 "nbformat": 4,
 "nbformat_minor": 4
}
