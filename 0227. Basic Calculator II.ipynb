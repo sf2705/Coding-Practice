{
 "cells": [
  {
   "cell_type": "markdown",
   "metadata": {},
   "source": [
    "#### 2021-12-25\n",
    "\n",
    "https://leetcode.com/problems/basic-calculator-ii/"
   ]
  },
  {
   "cell_type": "code",
   "execution_count": 50,
   "metadata": {},
   "outputs": [],
   "source": [
    "def calculate(s):\n",
    "    \"\"\"\n",
    "    :type s: str\n",
    "    :rtype: int\n",
    "    \"\"\"\n",
    "    num, stack, sign = 0, [], '+'\n",
    "    \n",
    "    for i in range(len(s)):\n",
    "        if s[i].isdigit():\n",
    "            num = num * 10 + int(s[i])\n",
    "        if s[i] in '+-*/' or i == len(s) - 1:\n",
    "            if sign == '+':\n",
    "                stack.append(num)\n",
    "            elif sign == '-':\n",
    "                stack.append(-num)\n",
    "            elif sign == '*':\n",
    "                stack.append(stack.pop() * num)\n",
    "            else:\n",
    "                tmp = stack.pop()\n",
    "                if tmp // num < 0 and tmp % num != 0:\n",
    "                    stack.append(tmp//num + 1)\n",
    "                else:\n",
    "                    stack.append(tmp//num)\n",
    "            num = 0\n",
    "            sign = s[i]\n",
    "    return sum(stack)\n",
    "            \n"
   ]
  },
  {
   "cell_type": "code",
   "execution_count": 51,
   "metadata": {},
   "outputs": [
    {
     "data": {
      "text/plain": [
       "7"
      ]
     },
     "execution_count": 51,
     "metadata": {},
     "output_type": "execute_result"
    }
   ],
   "source": [
    "s = \"3+2*2\"\n",
    "calculate(s)"
   ]
  },
  {
   "cell_type": "code",
   "execution_count": 52,
   "metadata": {},
   "outputs": [
    {
     "data": {
      "text/plain": [
       "1"
      ]
     },
     "execution_count": 52,
     "metadata": {},
     "output_type": "execute_result"
    }
   ],
   "source": [
    "s = \" 3/2 \"\n",
    "calculate(s)"
   ]
  },
  {
   "cell_type": "code",
   "execution_count": 53,
   "metadata": {},
   "outputs": [
    {
     "data": {
      "text/plain": [
       "5"
      ]
     },
     "execution_count": 53,
     "metadata": {},
     "output_type": "execute_result"
    }
   ],
   "source": [
    "s = \" 3+5 / 2 \"\n",
    "calculate(s)"
   ]
  },
  {
   "cell_type": "code",
   "execution_count": null,
   "metadata": {},
   "outputs": [],
   "source": []
  },
  {
   "cell_type": "code",
   "execution_count": null,
   "metadata": {},
   "outputs": [],
   "source": []
  }
 ],
 "metadata": {
  "kernelspec": {
   "display_name": "Python 3",
   "language": "python",
   "name": "python3"
  },
  "language_info": {
   "codemirror_mode": {
    "name": "ipython",
    "version": 3
   },
   "file_extension": ".py",
   "mimetype": "text/x-python",
   "name": "python",
   "nbconvert_exporter": "python",
   "pygments_lexer": "ipython3",
   "version": "3.8.5"
  }
 },
 "nbformat": 4,
 "nbformat_minor": 4
}
