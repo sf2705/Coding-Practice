{
 "cells": [
  {
   "cell_type": "markdown",
   "metadata": {},
   "source": [
    "### 2021-09-04\n",
    "\n",
    "https://leetcode.com/problems/find-all-groups-of-farmland/"
   ]
  },
  {
   "cell_type": "code",
   "execution_count": 18,
   "metadata": {},
   "outputs": [],
   "source": [
    "def findFarmland(land):\n",
    "    \"\"\"\n",
    "    :type land: List[List[int]]\n",
    "    :rtype: List[List[int]]\n",
    "    \"\"\"\n",
    "    if not land:\n",
    "        return []\n",
    "    \n",
    "    m, n = len(land), len(land[0])\n",
    "    res = []\n",
    "    \n",
    "    for r in range(m):\n",
    "        for c in range(n):\n",
    "            if land[r][c] == 0:\n",
    "                continue\n",
    "            \n",
    "            r2 = r\n",
    "            c2 = c\n",
    "            \n",
    "            while r2 < m and land[r2][c] == 1:\n",
    "                r2 += 1\n",
    "            while c2 < n and land[r][c2] == 1:\n",
    "                c2 += 1\n",
    "            \n",
    "            r2 = max(0, r2-1)\n",
    "            c2 = max(0, c2-1)\n",
    "            \n",
    "            res.append([r, c, r2, c2])\n",
    "            \n",
    "            for i in range(r, r2+1):\n",
    "                for j in range(c, c2+1):\n",
    "                    land[i][j] = 0\n",
    "    \n",
    "    return res"
   ]
  },
  {
   "cell_type": "code",
   "execution_count": 19,
   "metadata": {},
   "outputs": [
    {
     "data": {
      "text/plain": [
       "[[0, 0, 0, 0], [1, 1, 2, 2]]"
      ]
     },
     "execution_count": 19,
     "metadata": {},
     "output_type": "execute_result"
    }
   ],
   "source": [
    "land = [[1,0,0],[0,1,1],[0,1,1]]\n",
    "findFarmland(land)"
   ]
  },
  {
   "cell_type": "code",
   "execution_count": 20,
   "metadata": {},
   "outputs": [
    {
     "data": {
      "text/plain": [
       "[[0, 0, 1, 1]]"
      ]
     },
     "execution_count": 20,
     "metadata": {},
     "output_type": "execute_result"
    }
   ],
   "source": [
    "land = [[1,1],[1,1]]\n",
    "findFarmland(land)"
   ]
  },
  {
   "cell_type": "code",
   "execution_count": 21,
   "metadata": {},
   "outputs": [
    {
     "data": {
      "text/plain": [
       "[]"
      ]
     },
     "execution_count": 21,
     "metadata": {},
     "output_type": "execute_result"
    }
   ],
   "source": [
    "land = [[0]]\n",
    "findFarmland(land)"
   ]
  },
  {
   "cell_type": "code",
   "execution_count": null,
   "metadata": {},
   "outputs": [],
   "source": []
  }
 ],
 "metadata": {
  "kernelspec": {
   "display_name": "Python 3",
   "language": "python",
   "name": "python3"
  },
  "language_info": {
   "codemirror_mode": {
    "name": "ipython",
    "version": 3
   },
   "file_extension": ".py",
   "mimetype": "text/x-python",
   "name": "python",
   "nbconvert_exporter": "python",
   "pygments_lexer": "ipython3",
   "version": "3.8.5"
  }
 },
 "nbformat": 4,
 "nbformat_minor": 4
}
