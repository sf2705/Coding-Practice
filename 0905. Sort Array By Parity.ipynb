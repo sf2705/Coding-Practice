{
 "cells": [
  {
   "cell_type": "markdown",
   "metadata": {},
   "source": [
    "### 2021-01-02"
   ]
  },
  {
   "cell_type": "markdown",
   "metadata": {},
   "source": [
    "https://leetcode.com/problems/sort-array-by-parity/"
   ]
  },
  {
   "cell_type": "code",
   "execution_count": 1,
   "metadata": {},
   "outputs": [],
   "source": [
    "def sortArrayByParity(A):\n",
    "    \"\"\"\n",
    "    :type A: List[int]\n",
    "    :rtype: List[int]\n",
    "    \"\"\"\n",
    "    if not A:\n",
    "        return A\n",
    "    \n",
    "    # two pointers pointing to left and right\n",
    "    l = 0\n",
    "    r = len(A) -1\n",
    "    \n",
    "    while l <= r:\n",
    "        # if left is even, check next, otherwise, check right\n",
    "        if A[l] % 2 == 0:\n",
    "            l += 1\n",
    "        else:\n",
    "            # if right is odd, check next, otherwise, switch\n",
    "            if A[r] % 2 == 1:\n",
    "                r -= 1\n",
    "            else:\n",
    "                A[r], A[l] = A[l], A[r]\n",
    "                l += 1\n",
    "                r -= 1\n",
    "    return A\n",
    "                \n",
    "        \n",
    "    "
   ]
  },
  {
   "cell_type": "code",
   "execution_count": 2,
   "metadata": {},
   "outputs": [
    {
     "data": {
      "text/plain": [
       "[4, 2, 1, 3]"
      ]
     },
     "execution_count": 2,
     "metadata": {},
     "output_type": "execute_result"
    }
   ],
   "source": [
    "A = [3,1,2,4]\n",
    "sortArrayByParity(A)"
   ]
  },
  {
   "cell_type": "code",
   "execution_count": null,
   "metadata": {},
   "outputs": [],
   "source": []
  }
 ],
 "metadata": {
  "kernelspec": {
   "display_name": "Python 3",
   "language": "python",
   "name": "python3"
  },
  "language_info": {
   "codemirror_mode": {
    "name": "ipython",
    "version": 3
   },
   "file_extension": ".py",
   "mimetype": "text/x-python",
   "name": "python",
   "nbconvert_exporter": "python",
   "pygments_lexer": "ipython3",
   "version": "3.8.5"
  }
 },
 "nbformat": 4,
 "nbformat_minor": 4
}
