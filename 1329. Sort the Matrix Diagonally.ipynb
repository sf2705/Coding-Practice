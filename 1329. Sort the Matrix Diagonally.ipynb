{
 "cells": [
  {
   "cell_type": "markdown",
   "metadata": {},
   "source": [
    "### 2021-01-23\n",
    "\n",
    "https://leetcode.com/problems/sort-the-matrix-diagonally/"
   ]
  },
  {
   "cell_type": "markdown",
   "metadata": {},
   "source": [
    "#### mat[i][j] on the same diagonal have same value of i-j"
   ]
  },
  {
   "cell_type": "code",
   "execution_count": 7,
   "metadata": {},
   "outputs": [],
   "source": [
    "def diagonalSort(mat):\n",
    "    \"\"\"\n",
    "    :type mat: List[List[int]]\n",
    "    :rtype: List[List[int]]\n",
    "    \"\"\"\n",
    "    import collections\n",
    "    \n",
    "    dic = collections.defaultdict(list)\n",
    "    m = len(mat)\n",
    "    n = len(mat[0])\n",
    "    \n",
    "    # store in dictionary\n",
    "    for i in range(m):\n",
    "        for j in range(n):\n",
    "            dic[i-j].append(mat[i][j])\n",
    "    \n",
    "    # sort values\n",
    "    for k in dic:\n",
    "        dic[k] = sorted(dic[k], reverse = True)\n",
    "    \n",
    "    # assign back to mat\n",
    "    for i in range(m):\n",
    "        for j in range(n):\n",
    "            mat[i][j] = dic[i-j].pop()\n",
    "    \n",
    "    return mat"
   ]
  },
  {
   "cell_type": "code",
   "execution_count": 8,
   "metadata": {},
   "outputs": [
    {
     "data": {
      "text/plain": [
       "[[1, 1, 1, 1], [1, 2, 2, 2], [1, 2, 3, 3]]"
      ]
     },
     "execution_count": 8,
     "metadata": {},
     "output_type": "execute_result"
    }
   ],
   "source": [
    "mat = [[3,3,1,1],[2,2,1,2],[1,1,1,2]]\n",
    "diagonalSort(mat)"
   ]
  },
  {
   "cell_type": "code",
   "execution_count": null,
   "metadata": {},
   "outputs": [],
   "source": []
  }
 ],
 "metadata": {
  "kernelspec": {
   "display_name": "Python 3",
   "language": "python",
   "name": "python3"
  },
  "language_info": {
   "codemirror_mode": {
    "name": "ipython",
    "version": 3
   },
   "file_extension": ".py",
   "mimetype": "text/x-python",
   "name": "python",
   "nbconvert_exporter": "python",
   "pygments_lexer": "ipython3",
   "version": "3.8.5"
  }
 },
 "nbformat": 4,
 "nbformat_minor": 4
}
