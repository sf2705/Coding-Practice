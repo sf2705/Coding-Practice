{
 "cells": [
  {
   "cell_type": "markdown",
   "metadata": {},
   "source": [
    "### 2021-10-18\n",
    "\n",
    "https://leetcode.com/problems/cousins-in-binary-tree/"
   ]
  },
  {
   "cell_type": "code",
   "execution_count": null,
   "metadata": {},
   "outputs": [],
   "source": [
    "# Definition for a binary tree node.\n",
    "# class TreeNode(object):\n",
    "#     def __init__(self, val=0, left=None, right=None):\n",
    "#         self.val = val\n",
    "#         self.left = left\n",
    "#         self.right = right\n",
    "class Solution(object):\n",
    "    def isCousins(self, root, x, y):\n",
    "        \"\"\"\n",
    "        :type root: TreeNode\n",
    "        :type x: int\n",
    "        :type y: int\n",
    "        :rtype: bool\n",
    "        \"\"\"\n",
    "        \n",
    "        def dfs(node, parent, depth):\n",
    "            if not node or len(res) == 2:\n",
    "                return\n",
    "            \n",
    "            if node.val == x or node.val == y:\n",
    "                res.append([parent, depth])\n",
    "            \n",
    "            dfs(node.left, node, depth+1)\n",
    "            dfs(node.right, node, depth+1)\n",
    "        \n",
    "        \n",
    "        res = []\n",
    "        dfs(root, None, 0)\n",
    "        \n",
    "        return res[0][0] != res[1][0] and res[0][1] == res[1][1]"
   ]
  }
 ],
 "metadata": {
  "kernelspec": {
   "display_name": "Python 3",
   "language": "python",
   "name": "python3"
  },
  "language_info": {
   "codemirror_mode": {
    "name": "ipython",
    "version": 3
   },
   "file_extension": ".py",
   "mimetype": "text/x-python",
   "name": "python",
   "nbconvert_exporter": "python",
   "pygments_lexer": "ipython3",
   "version": "3.8.5"
  }
 },
 "nbformat": 4,
 "nbformat_minor": 4
}
