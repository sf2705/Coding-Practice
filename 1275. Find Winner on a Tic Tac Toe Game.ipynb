{
 "cells": [
  {
   "cell_type": "markdown",
   "metadata": {},
   "source": [
    "### 2021-09-20\n",
    "\n",
    "https://leetcode.com/problems/find-winner-on-a-tic-tac-toe-game/"
   ]
  },
  {
   "cell_type": "code",
   "execution_count": 26,
   "metadata": {},
   "outputs": [],
   "source": [
    "def tictactoe(moves):\n",
    "    \"\"\"\n",
    "    :type moves: List[List[int]]\n",
    "    :rtype: str\n",
    "    \"\"\"\n",
    "    # there are 8 ways to win for each given player\n",
    "    #000\n",
    "    #000\n",
    "    #000\n",
    "    \n",
    "    A = [0]*8\n",
    "    B = [0]*8\n",
    "    \n",
    "    for i in range(len(moves)):\n",
    "        r, c = moves[i]\n",
    "        \n",
    "        if i%2:\n",
    "            player = B\n",
    "        else:\n",
    "            player = A\n",
    "        player[r] += 1\n",
    "        player[c+3] += 1\n",
    "        \n",
    "        if r == c:\n",
    "            player[6] += 1\n",
    "        if r == 2-c:\n",
    "            player[7] += 1\n",
    "        \n",
    "    for j in range(8):\n",
    "        if A[j] == 3:\n",
    "            return 'A'\n",
    "        if B[j] == 3:\n",
    "            return 'B'\n",
    "    \n",
    "    if len(moves) == 9:\n",
    "        return 'Draw'\n",
    "    \n",
    "    return 'Pending'\n",
    "                \n",
    "            \n",
    "        "
   ]
  },
  {
   "cell_type": "code",
   "execution_count": 27,
   "metadata": {},
   "outputs": [
    {
     "data": {
      "text/plain": [
       "'A'"
      ]
     },
     "execution_count": 27,
     "metadata": {},
     "output_type": "execute_result"
    }
   ],
   "source": [
    "moves = [[0,0],[2,0],[1,1],[2,1],[2,2]]\n",
    "tictactoe(moves)"
   ]
  },
  {
   "cell_type": "code",
   "execution_count": 28,
   "metadata": {},
   "outputs": [
    {
     "data": {
      "text/plain": [
       "'B'"
      ]
     },
     "execution_count": 28,
     "metadata": {},
     "output_type": "execute_result"
    }
   ],
   "source": [
    "moves = [[0,0],[1,1],[0,1],[0,2],[1,0],[2,0]]\n",
    "tictactoe(moves)"
   ]
  },
  {
   "cell_type": "code",
   "execution_count": 29,
   "metadata": {},
   "outputs": [
    {
     "data": {
      "text/plain": [
       "'Draw'"
      ]
     },
     "execution_count": 29,
     "metadata": {},
     "output_type": "execute_result"
    }
   ],
   "source": [
    "moves = [[0,0],[1,1],[2,0],[1,0],[1,2],[2,1],[0,1],[0,2],[2,2]]\n",
    "tictactoe(moves)"
   ]
  },
  {
   "cell_type": "code",
   "execution_count": 30,
   "metadata": {},
   "outputs": [
    {
     "data": {
      "text/plain": [
       "'Pending'"
      ]
     },
     "execution_count": 30,
     "metadata": {},
     "output_type": "execute_result"
    }
   ],
   "source": [
    "moves = [[0,0],[1,1]]\n",
    "tictactoe(moves)"
   ]
  },
  {
   "cell_type": "code",
   "execution_count": null,
   "metadata": {},
   "outputs": [],
   "source": []
  }
 ],
 "metadata": {
  "kernelspec": {
   "display_name": "Python 3",
   "language": "python",
   "name": "python3"
  },
  "language_info": {
   "codemirror_mode": {
    "name": "ipython",
    "version": 3
   },
   "file_extension": ".py",
   "mimetype": "text/x-python",
   "name": "python",
   "nbconvert_exporter": "python",
   "pygments_lexer": "ipython3",
   "version": "3.8.5"
  }
 },
 "nbformat": 4,
 "nbformat_minor": 4
}
