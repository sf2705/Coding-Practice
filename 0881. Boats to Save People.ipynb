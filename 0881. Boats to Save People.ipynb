{
 "cells": [
  {
   "cell_type": "markdown",
   "metadata": {},
   "source": [
    "### 2021-01-13"
   ]
  },
  {
   "cell_type": "markdown",
   "metadata": {},
   "source": [
    "https://leetcode.com/problems/boats-to-save-people/"
   ]
  },
  {
   "cell_type": "markdown",
   "metadata": {},
   "source": [
    "It is not hard to have a O(nlogn) solution, just need to sort the list and have two pointers starting from left and right.\n",
    "\n",
    "Here is a solution for O(n) time complexity. Create a list, use weight as index and count how many people at this weight as value. Then loop through again with two pointers from left and right\n"
   ]
  },
  {
   "cell_type": "code",
   "execution_count": 15,
   "metadata": {},
   "outputs": [],
   "source": [
    "def numRescueBoats(people, limit):\n",
    "    \"\"\"\n",
    "    :type people: List[int]\n",
    "    :type limit: int\n",
    "    :rtype: int\n",
    "    \"\"\"\n",
    "    weight = [0]*(limit+1)\n",
    "    boat = 0\n",
    "    for n in people:\n",
    "        weight[n] += 1\n",
    "    l = 0\n",
    "    r = limit\n",
    "    print(weight)\n",
    "    while l <= r:\n",
    "        print(l, r)\n",
    "        if weight[l] <= 0:\n",
    "            l += 1\n",
    "            continue\n",
    "        if weight[r] <= 0:\n",
    "            r -= 1\n",
    "            continue\n",
    "        \n",
    "        if l + r > limit:\n",
    "            boat += weight[r]\n",
    "            r -= 1\n",
    "        else:\n",
    "            weight[l] -= 1\n",
    "            weight[r] -= 1\n",
    "            boat += 1\n",
    "    return boat\n",
    "        \n",
    "        "
   ]
  },
  {
   "cell_type": "code",
   "execution_count": 16,
   "metadata": {},
   "outputs": [
    {
     "name": "stdout",
     "output_type": "stream",
     "text": [
      "[0, 1, 2, 1]\n",
      "0 3\n",
      "1 3\n",
      "1 2\n",
      "1 2\n",
      "2 2\n"
     ]
    },
    {
     "data": {
      "text/plain": [
       "3"
      ]
     },
     "execution_count": 16,
     "metadata": {},
     "output_type": "execute_result"
    }
   ],
   "source": [
    "people = [3,2,2,1]\n",
    "limit = 3\n",
    "numRescueBoats(people, limit)"
   ]
  },
  {
   "cell_type": "code",
   "execution_count": 17,
   "metadata": {},
   "outputs": [
    {
     "name": "stdout",
     "output_type": "stream",
     "text": [
      "[0, 0, 0, 2, 1, 1]\n",
      "0 5\n",
      "1 5\n",
      "2 5\n",
      "3 5\n",
      "3 4\n",
      "3 3\n"
     ]
    },
    {
     "data": {
      "text/plain": [
       "4"
      ]
     },
     "execution_count": 17,
     "metadata": {},
     "output_type": "execute_result"
    }
   ],
   "source": [
    "people = [3,5,3,4]\n",
    "limit = 5\n",
    "numRescueBoats(people, limit)"
   ]
  },
  {
   "cell_type": "code",
   "execution_count": 18,
   "metadata": {},
   "outputs": [
    {
     "name": "stdout",
     "output_type": "stream",
     "text": [
      "[0, 0, 1, 0, 1, 0]\n",
      "0 5\n",
      "1 5\n",
      "2 5\n",
      "2 4\n",
      "2 3\n",
      "2 2\n",
      "2 2\n"
     ]
    },
    {
     "data": {
      "text/plain": [
       "2"
      ]
     },
     "execution_count": 18,
     "metadata": {},
     "output_type": "execute_result"
    }
   ],
   "source": [
    "people = [2,4]\n",
    "limit = 5\n",
    "numRescueBoats(people, limit)"
   ]
  },
  {
   "cell_type": "code",
   "execution_count": null,
   "metadata": {},
   "outputs": [],
   "source": []
  }
 ],
 "metadata": {
  "kernelspec": {
   "display_name": "Python 3",
   "language": "python",
   "name": "python3"
  },
  "language_info": {
   "codemirror_mode": {
    "name": "ipython",
    "version": 3
   },
   "file_extension": ".py",
   "mimetype": "text/x-python",
   "name": "python",
   "nbconvert_exporter": "python",
   "pygments_lexer": "ipython3",
   "version": "3.8.5"
  }
 },
 "nbformat": 4,
 "nbformat_minor": 4
}
