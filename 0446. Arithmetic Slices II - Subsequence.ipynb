{
 "cells": [
  {
   "cell_type": "markdown",
   "metadata": {},
   "source": [
    "### 2021-09-10\n",
    "\n",
    "https://leetcode.com/problems/arithmetic-slices-ii-subsequence/"
   ]
  },
  {
   "cell_type": "code",
   "execution_count": null,
   "metadata": {},
   "outputs": [],
   "source": [
    "def numberOfArithmeticSlices(nums):\n",
    "    \"\"\"\n",
    "    :type nums: List[int]\n",
    "    :rtype: int\n",
    "    \"\"\"\n",
    "    from collections import defaultdict\n",
    "    \n",
    "    # dp[(j, dist)] stores the number of arithmetic slices \n",
    "    # ending with nums[j] with distance as dist\n",
    "    dp = defaultdict(int)\n",
    "    res = 0\n",
    "    \n",
    "    for i in range(1, len(nums)):\n",
    "        for j in range(i):\n",
    "            dist = nums[i] - nums[j]\n",
    "            res += dp[(j, dist)]\n",
    "            dp[(i, dist)] += dp[(j, dist)] + 1\n",
    "    \n",
    "    return res\n"
   ]
  }
 ],
 "metadata": {
  "kernelspec": {
   "display_name": "Python 3",
   "language": "python",
   "name": "python3"
  },
  "language_info": {
   "codemirror_mode": {
    "name": "ipython",
    "version": 3
   },
   "file_extension": ".py",
   "mimetype": "text/x-python",
   "name": "python",
   "nbconvert_exporter": "python",
   "pygments_lexer": "ipython3",
   "version": "3.8.5"
  }
 },
 "nbformat": 4,
 "nbformat_minor": 4
}
