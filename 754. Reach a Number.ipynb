{
 "cells": [
  {
   "cell_type": "markdown",
   "metadata": {},
   "source": [
    "## 2020-12-28"
   ]
  },
  {
   "cell_type": "markdown",
   "metadata": {},
   "source": [
    "You are standing at position 0 on an infinite number line. There is a goal at position target.\n",
    "\n",
    "On each move, you can either go left or right. During the n-th move (starting from 1), you take n steps.\n",
    "\n",
    "Return the minimum number of steps required to reach the destination."
   ]
  },
  {
   "cell_type": "markdown",
   "metadata": {},
   "source": [
    "### Example 1:\n",
    "`\n",
    "Input: target = 3\n",
    "Output: 2\n",
    "Explanation:\n",
    "On the first move we step from 0 to 1.\n",
    "On the second step we step from 1 to 3.\n",
    "`\n",
    "### Example 2:\n",
    "`\n",
    "Input: target = 2\n",
    "Output: 3\n",
    "Explanation:\n",
    "On the first move we step from 0 to 1.\n",
    "On the second move we step  from 1 to -1.\n",
    "On the third move we step from -1 to 2.\n",
    "`\n",
    "\n",
    "Note:\n",
    "target will be a non-zero integer in the range [-10^9, 10^9]."
   ]
  },
  {
   "cell_type": "code",
   "execution_count": null,
   "metadata": {},
   "outputs": [],
   "source": [
    "def reachNumber(target):\n",
    "    \"\"\"\n",
    "    :type target: int\n",
    "    :rtype: int\n",
    "    \"\"\"\n",
    "    total = 0\n",
    "    step = 1\n",
    "    while total < target:\n",
    "        total += step\n",
    "        step += 1\n",
    "    \n",
    "    # if total = target then we reach our target with step\n",
    "    if total == target:\n",
    "        return step\n",
    "    \n",
    "    # otherwise we need to check how much we go over the target\n",
    "    delta = total - target\n",
    "    \n",
    "    # if delta is an even number, then we can just turn delta/2 to negative to get our target.\n",
    "    # so it will still be the same number of steps\n",
    "    if delta % 2 == 0:\n",
    "        return step\n",
    "    \n",
    "    # if delta is an odd number, we need to check \n",
    "    else:\n",
    "        \n",
    "        \n",
    "        \n",
    "\n",
    "        "
   ]
  }
 ],
 "metadata": {
  "kernelspec": {
   "display_name": "Python 3",
   "language": "python",
   "name": "python3"
  },
  "language_info": {
   "codemirror_mode": {
    "name": "ipython",
    "version": 3
   },
   "file_extension": ".py",
   "mimetype": "text/x-python",
   "name": "python",
   "nbconvert_exporter": "python",
   "pygments_lexer": "ipython3",
   "version": "3.8.5"
  }
 },
 "nbformat": 4,
 "nbformat_minor": 4
}
