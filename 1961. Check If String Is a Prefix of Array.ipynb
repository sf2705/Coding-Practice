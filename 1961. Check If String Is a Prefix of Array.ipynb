{
 "cells": [
  {
   "cell_type": "markdown",
   "metadata": {},
   "source": [
    "### 2021-11-20\n",
    "\n",
    "https://leetcode.com/problems/check-if-string-is-a-prefix-of-array/"
   ]
  },
  {
   "cell_type": "code",
   "execution_count": 12,
   "metadata": {},
   "outputs": [],
   "source": [
    "def isPrefixString(s, words):\n",
    "    \"\"\"\n",
    "    :type s: str\n",
    "    :type words: List[str]\n",
    "    :rtype: bool\n",
    "    \"\"\"\n",
    "    wd = ' '.join(words)\n",
    "    \n",
    "    i = 0\n",
    "    j = 0\n",
    "    while i < len(s):\n",
    "        if j >= len(wd):\n",
    "            return False\n",
    "        \n",
    "        if wd[j] == ' ':\n",
    "            j += 1\n",
    "        \n",
    "        if s[i]!= wd[j]:\n",
    "            return False\n",
    "    \n",
    "        i += 1\n",
    "        j += 1\n",
    "        \n",
    "    if j == len(wd) or wd[j] == ' ':\n",
    "        return True\n",
    "    return False\n"
   ]
  },
  {
   "cell_type": "code",
   "execution_count": 13,
   "metadata": {},
   "outputs": [
    {
     "data": {
      "text/plain": [
       "True"
      ]
     },
     "execution_count": 13,
     "metadata": {},
     "output_type": "execute_result"
    }
   ],
   "source": [
    "s = \"iloveleetcode\"\n",
    "words = [\"i\",\"love\",\"leetcode\",\"apples\"]\n",
    "isPrefixString(s, words)"
   ]
  },
  {
   "cell_type": "code",
   "execution_count": 14,
   "metadata": {},
   "outputs": [
    {
     "data": {
      "text/plain": [
       "False"
      ]
     },
     "execution_count": 14,
     "metadata": {},
     "output_type": "execute_result"
    }
   ],
   "source": [
    "s = \"iloveleetcode\"\n",
    "words = [\"apples\",\"i\",\"love\",\"leetcode\"]\n",
    "isPrefixString(s, words)"
   ]
  },
  {
   "cell_type": "code",
   "execution_count": 15,
   "metadata": {},
   "outputs": [
    {
     "data": {
      "text/plain": [
       "False"
      ]
     },
     "execution_count": 15,
     "metadata": {},
     "output_type": "execute_result"
    }
   ],
   "source": [
    "s = \"iloveleetcode\"\n",
    "words = [\"i\",\"love\",\"leetcodes\",\"apples\"]\n",
    "isPrefixString(s, words)"
   ]
  },
  {
   "cell_type": "code",
   "execution_count": 16,
   "metadata": {},
   "outputs": [
    {
     "data": {
      "text/plain": [
       "False"
      ]
     },
     "execution_count": 16,
     "metadata": {},
     "output_type": "execute_result"
    }
   ],
   "source": [
    "s = \"ccccccccc\"\n",
    "words = [\"c\",\"cc\"]\n",
    "isPrefixString(s, words)"
   ]
  },
  {
   "cell_type": "code",
   "execution_count": null,
   "metadata": {},
   "outputs": [],
   "source": []
  }
 ],
 "metadata": {
  "kernelspec": {
   "display_name": "Python 3",
   "language": "python",
   "name": "python3"
  },
  "language_info": {
   "codemirror_mode": {
    "name": "ipython",
    "version": 3
   },
   "file_extension": ".py",
   "mimetype": "text/x-python",
   "name": "python",
   "nbconvert_exporter": "python",
   "pygments_lexer": "ipython3",
   "version": "3.8.5"
  }
 },
 "nbformat": 4,
 "nbformat_minor": 4
}
