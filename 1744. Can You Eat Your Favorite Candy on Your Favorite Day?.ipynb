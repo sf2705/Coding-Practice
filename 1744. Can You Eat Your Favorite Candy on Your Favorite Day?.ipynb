{
 "cells": [
  {
   "cell_type": "markdown",
   "metadata": {},
   "source": [
    "### 2021-01-30\n",
    "\n",
    "https://leetcode.com/problems/can-you-eat-your-favorite-candy-on-your-favorite-day/"
   ]
  },
  {
   "cell_type": "code",
   "execution_count": 37,
   "metadata": {},
   "outputs": [],
   "source": [
    "def canEat(candiesCount, queries):\n",
    "    \"\"\"\n",
    "    :type candiesCount: List[int]\n",
    "    :type queries: List[List[int]]\n",
    "    :rtype: List[bool]\n",
    "    \"\"\"\n",
    "    answer = [False] * len(queries)\n",
    "    \n",
    "    # cumsum: number of candies need to eat before eat current type\n",
    "    cumsum = [0]\n",
    "    for n in candiesCount:\n",
    "        cumsum.append(cumsum[-1] + n)\n",
    "   \n",
    "    print(cumsum)\n",
    "    \n",
    "    for i in range(len(queries)):\n",
    "        ftype, fday, cap = queries[i]\n",
    "        print(ftype, fday, cap)\n",
    "        \n",
    "        if cumsum[ftype]//cap <= fday < cumsum[ftype + 1]:\n",
    "            answer[i] = True\n",
    "        \n",
    "    return answer\n",
    "    "
   ]
  },
  {
   "cell_type": "code",
   "execution_count": 38,
   "metadata": {},
   "outputs": [
    {
     "name": "stdout",
     "output_type": "stream",
     "text": [
      "[0, 7, 11, 16, 19, 27]\n",
      "0 2 2\n",
      "4 2 4\n",
      "2 13 1000000000\n"
     ]
    },
    {
     "data": {
      "text/plain": [
       "[True, False, True]"
      ]
     },
     "execution_count": 38,
     "metadata": {},
     "output_type": "execute_result"
    }
   ],
   "source": [
    "candiesCount = [7,4,5,3,8]\n",
    "queries = [[0,2,2],[4,2,4],[2,13,1000000000]]\n",
    "canEat(candiesCount, queries)"
   ]
  },
  {
   "cell_type": "code",
   "execution_count": 32,
   "metadata": {},
   "outputs": [
    {
     "name": "stdout",
     "output_type": "stream",
     "text": [
      "[0, 5, 7, 13, 17, 18]\n",
      "3 1 2\n",
      "4 10 3\n",
      "3 10 100\n",
      "4 100 30\n",
      "1 3 1\n"
     ]
    },
    {
     "data": {
      "text/plain": [
       "[False, True, True, False, False]"
      ]
     },
     "execution_count": 32,
     "metadata": {},
     "output_type": "execute_result"
    }
   ],
   "source": [
    "candiesCount = [5,2,6,4,1]\n",
    "queries = [[3,1,2],[4,10,3],[3,10,100],[4,100,30],[1,3,1]]\n",
    "canEat(candiesCount, queries)"
   ]
  },
  {
   "cell_type": "code",
   "execution_count": 41,
   "metadata": {},
   "outputs": [
    {
     "name": "stdout",
     "output_type": "stream",
     "text": [
      "[0, 46, 51, 98, 146, 189, 223, 238, 264, 275, 300, 341, 388, 403, 428, 444, 494, 526, 568, 600, 621, 657, 691, 741, 786, 832, 847, 893, 931, 981, 993, 996, 1022, 1048, 1064, 1087, 1088, 1092, 1140, 1187, 1219, 1266, 1282, 1315, 1338, 1376, 1378, 1397, 1447, 1453, 1472, 1501, 1504, 1531, 1543, 1549, 1571, 1604, 1632, 1639, 1649, 1661, 1669, 1682, 1706, 1727, 1765, 1808, 1834, 1869, 1887, 1921, 1924, 1938, 1986, 2036, 2070, 2108, 2112, 2162, 2188, 2193, 2228, 2239, 2241, 2276, 2285, 2296, 2327, 2363, 2383, 2404, 2441, 2459, 2493, 2527, 2537, 2558, 2566, 2571]\n",
      "80 2329 69\n",
      "14 1485 76\n",
      "33 2057 83\n",
      "13 1972 27\n",
      "11 387 25\n",
      "24 1460 47\n",
      "22 1783 35\n",
      "1 513 33\n",
      "66 2124 85\n",
      "19 642 26\n",
      "15 1963 79\n",
      "93 722 96\n",
      "15 376 88\n",
      "60 1864 89\n",
      "86 608 4\n",
      "98 257 35\n",
      "35 651 47\n",
      "96 795 73\n",
      "62 2077 18\n",
      "27 1724 57\n",
      "34 1984 75\n",
      "49 2413 95\n",
      "76 1664 5\n",
      "28 38 13\n",
      "85 54 42\n",
      "12 301 3\n",
      "62 2016 29\n",
      "45 2316 37\n",
      "43 2360 28\n",
      "87 192 98\n",
      "27 2082 21\n",
      "74 762 37\n",
      "51 35 17\n",
      "73 2193 4\n",
      "60 425 65\n",
      "11 1522 58\n",
      "21 1699 66\n",
      "42 1473 5\n",
      "30 2010 48\n",
      "91 796 74\n",
      "82 2162 31\n",
      "23 2569 65\n",
      "24 684 23\n",
      "70 1219 51\n",
      "5 1817 15\n",
      "81 2446 34\n",
      "96 771 60\n",
      "49 1171 60\n",
      "41 567 67\n",
      "39 799 59\n",
      "90 957 81\n",
      "84 2122 27\n",
      "82 1707 44\n",
      "11 1889 20\n",
      "80 1697 83\n",
      "24 1786 60\n",
      "90 1847 99\n",
      "51 114 21\n",
      "44 466 85\n",
      "56 469 20\n",
      "44 350 96\n",
      "66 1946 10\n",
      "14 2470 12\n",
      "69 1175 18\n",
      "98 1804 25\n",
      "77 2187 40\n",
      "89 2265 45\n",
      "19 2246 45\n",
      "40 2373 79\n",
      "60 2222 17\n",
      "37 385 5\n",
      "97 1759 97\n",
      "10 903 5\n",
      "87 842 45\n",
      "74 2398 66\n",
      "62 49 94\n",
      "48 156 77\n",
      "76 2310 80\n",
      "64 2360 95\n",
      "70 1699 83\n",
      "39 1241 66\n",
      "92 2312 21\n",
      "63 2148 29\n",
      "95 594 74\n",
      "89 90 51\n",
      "82 137 70\n",
      "54 301 97\n",
      "15 819 43\n",
      "47 1402 60\n",
      "17 2377 43\n",
      "50 1937 95\n",
      "62 1174 74\n",
      "67 1411 87\n",
      "39 1151 48\n"
     ]
    },
    {
     "data": {
      "text/plain": [
       "[False,\n",
       " False,\n",
       " False,\n",
       " False,\n",
       " True,\n",
       " False,\n",
       " False,\n",
       " False,\n",
       " False,\n",
       " False,\n",
       " False,\n",
       " True,\n",
       " True,\n",
       " False,\n",
       " True,\n",
       " True,\n",
       " True,\n",
       " True,\n",
       " False,\n",
       " False,\n",
       " False,\n",
       " False,\n",
       " True,\n",
       " False,\n",
       " False,\n",
       " True,\n",
       " False,\n",
       " False,\n",
       " False,\n",
       " True,\n",
       " False,\n",
       " True,\n",
       " False,\n",
       " False,\n",
       " True,\n",
       " False,\n",
       " False,\n",
       " False,\n",
       " False,\n",
       " True,\n",
       " True,\n",
       " False,\n",
       " True,\n",
       " True,\n",
       " False,\n",
       " False,\n",
       " True,\n",
       " True,\n",
       " True,\n",
       " True,\n",
       " True,\n",
       " True,\n",
       " True,\n",
       " False,\n",
       " True,\n",
       " False,\n",
       " True,\n",
       " True,\n",
       " True,\n",
       " True,\n",
       " True,\n",
       " False,\n",
       " False,\n",
       " True,\n",
       " True,\n",
       " False,\n",
       " True,\n",
       " False,\n",
       " False,\n",
       " False,\n",
       " True,\n",
       " True,\n",
       " False,\n",
       " True,\n",
       " False,\n",
       " True,\n",
       " True,\n",
       " False,\n",
       " False,\n",
       " True,\n",
       " False,\n",
       " True,\n",
       " False,\n",
       " True,\n",
       " True,\n",
       " True,\n",
       " True,\n",
       " False,\n",
       " True,\n",
       " False,\n",
       " False,\n",
       " True,\n",
       " True,\n",
       " True]"
      ]
     },
     "execution_count": 41,
     "metadata": {},
     "output_type": "execute_result"
    }
   ],
   "source": [
    "candiesCount = [46,5,47,48,43,34,15,26,11,25,41,47,15,25,16,50,32,42,32,21,36,34,50,45,46,15,46,38,50,12,3,26,26,16,23,1,4,48,47,32,47,16,33,23,38,2,19,50,6,19,29,3,27,12,6,22,33,28,7,10,12,8,13,24,21,38,43,26,35,18,34,3,14,48,50,34,38,4,50,26,5,35,11,2,35,9,11,31,36,20,21,37,18,34,34,10,21,8,5]\n",
    "queries = [[80,2329,69],[14,1485,76],[33,2057,83],[13,1972,27],[11,387,25],[24,1460,47],[22,1783,35],[1,513,33],[66,2124,85],[19,642,26],[15,1963,79],[93,722,96],[15,376,88],[60,1864,89],[86,608,4],[98,257,35],[35,651,47],[96,795,73],[62,2077,18],[27,1724,57],[34,1984,75],[49,2413,95],[76,1664,5],[28,38,13],[85,54,42],[12,301,3],[62,2016,29],[45,2316,37],[43,2360,28],[87,192,98],[27,2082,21],[74,762,37],[51,35,17],[73,2193,4],[60,425,65],[11,1522,58],[21,1699,66],[42,1473,5],[30,2010,48],[91,796,74],[82,2162,31],[23,2569,65],[24,684,23],[70,1219,51],[5,1817,15],[81,2446,34],[96,771,60],[49,1171,60],[41,567,67],[39,799,59],[90,957,81],[84,2122,27],[82,1707,44],[11,1889,20],[80,1697,83],[24,1786,60],[90,1847,99],[51,114,21],[44,466,85],[56,469,20],[44,350,96],[66,1946,10],[14,2470,12],[69,1175,18],[98,1804,25],[77,2187,40],[89,2265,45],[19,2246,45],[40,2373,79],[60,2222,17],[37,385,5],[97,1759,97],[10,903,5],[87,842,45],[74,2398,66],[62,49,94],[48,156,77],[76,2310,80],[64,2360,95],[70,1699,83],[39,1241,66],[92,2312,21],[63,2148,29],[95,594,74],[89,90,51],[82,137,70],[54,301,97],[15,819,43],[47,1402,60],[17,2377,43],[50,1937,95],[62,1174,74],[67,1411,87],[39,1151,48]]\n",
    "canEat(candiesCount, queries)"
   ]
  },
  {
   "cell_type": "code",
   "execution_count": null,
   "metadata": {},
   "outputs": [],
   "source": []
  }
 ],
 "metadata": {
  "kernelspec": {
   "display_name": "Python 3",
   "language": "python",
   "name": "python3"
  },
  "language_info": {
   "codemirror_mode": {
    "name": "ipython",
    "version": 3
   },
   "file_extension": ".py",
   "mimetype": "text/x-python",
   "name": "python",
   "nbconvert_exporter": "python",
   "pygments_lexer": "ipython3",
   "version": "3.8.5"
  }
 },
 "nbformat": 4,
 "nbformat_minor": 4
}
