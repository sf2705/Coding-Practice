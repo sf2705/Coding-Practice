{
 "cells": [
  {
   "cell_type": "markdown",
   "metadata": {},
   "source": [
    "### 2021-01-09"
   ]
  },
  {
   "cell_type": "markdown",
   "metadata": {},
   "source": [
    "https://leetcode.com/problems/minimize-hamming-distance-after-swap-operations/"
   ]
  },
  {
   "cell_type": "code",
   "execution_count": 7,
   "metadata": {},
   "outputs": [],
   "source": [
    "def minimumHammingDistance(source, target, allowedSwaps):\n",
    "    \"\"\"\n",
    "    :type source: List[int]\n",
    "    :type target: List[int]\n",
    "    :type allowedSwaps: List[List[int]]\n",
    "    :rtype: int\n",
    "    \"\"\"\n",
    "    from collections import Counter\n",
    "    # initialize with assuming two arrays do not have a single match\n",
    "    n = res = len(source)\n",
    "    \n",
    "    # create graph, for connected items, we can change it to any order\n",
    "    G = [set() for i in range(n)]\n",
    "    for i, j in allowedSwaps:\n",
    "        G[i].add(j)\n",
    "        G[j].add(i)\n",
    "    visited = [0] * n\n",
    "    \n",
    "    # dfs\n",
    "    def dfs(i):\n",
    "        visited[i] = 1\n",
    "        found.append(i)\n",
    "        for j in G[i]:\n",
    "            if not visited[j]:\n",
    "                dfs(j)\n",
    "        return\n",
    "    \n",
    "    for i in range(n):\n",
    "        if visited[i]:\n",
    "            continue\n",
    "        \n",
    "        found = []\n",
    "        dfs(i)\n",
    "        \n",
    "        count1 = Counter(source[j] for j in found)\n",
    "        count2 = Counter(target[j] for j in found)\n",
    "        \n",
    "        res -= sum((count1 & count2).values())\n",
    "        #print(count1, count2, (count1&count2).values())\n",
    "    return res\n",
    "    "
   ]
  },
  {
   "cell_type": "code",
   "execution_count": 8,
   "metadata": {},
   "outputs": [
    {
     "name": "stdout",
     "output_type": "stream",
     "text": [
      "Counter({1: 1, 2: 1}) Counter({2: 1, 1: 1}) dict_values([1, 1])\n",
      "Counter({3: 1, 4: 1}) Counter({4: 1, 5: 1}) dict_values([1])\n"
     ]
    },
    {
     "data": {
      "text/plain": [
       "1"
      ]
     },
     "execution_count": 8,
     "metadata": {},
     "output_type": "execute_result"
    }
   ],
   "source": [
    "source = [1,2,3,4]\n",
    "target = [2,1,4,5]\n",
    "allowedSwaps = [[0,1],[2,3]]\n",
    "minimumHammingDistance(source, target, allowedSwaps)"
   ]
  },
  {
   "cell_type": "code",
   "execution_count": 9,
   "metadata": {},
   "outputs": [
    {
     "name": "stdout",
     "output_type": "stream",
     "text": [
      "Counter({1: 1}) Counter({1: 1}) dict_values([1])\n",
      "Counter({2: 1}) Counter({3: 1}) dict_values([])\n",
      "Counter({3: 1}) Counter({2: 1}) dict_values([])\n",
      "Counter({4: 1}) Counter({4: 1}) dict_values([1])\n"
     ]
    },
    {
     "data": {
      "text/plain": [
       "2"
      ]
     },
     "execution_count": 9,
     "metadata": {},
     "output_type": "execute_result"
    }
   ],
   "source": [
    "source = [1,2,3,4]\n",
    "target = [1,3,2,4]\n",
    "allowedSwaps = []\n",
    "minimumHammingDistance(source, target, allowedSwaps)"
   ]
  },
  {
   "cell_type": "code",
   "execution_count": 10,
   "metadata": {},
   "outputs": [
    {
     "name": "stdout",
     "output_type": "stream",
     "text": [
      "Counter({5: 1, 3: 1, 1: 1, 4: 1, 2: 1}) Counter({1: 1, 3: 1, 5: 1, 2: 1, 4: 1}) dict_values([1, 1, 1, 1, 1])\n"
     ]
    },
    {
     "data": {
      "text/plain": [
       "0"
      ]
     },
     "execution_count": 10,
     "metadata": {},
     "output_type": "execute_result"
    }
   ],
   "source": [
    "source = [5,1,2,4,3]\n",
    "target = [1,5,4,2,3]\n",
    "allowedSwaps = [[0,4],[4,2],[1,3],[1,4]]\n",
    "minimumHammingDistance(source, target, allowedSwaps)"
   ]
  },
  {
   "cell_type": "code",
   "execution_count": null,
   "metadata": {},
   "outputs": [],
   "source": []
  }
 ],
 "metadata": {
  "kernelspec": {
   "display_name": "Python 3",
   "language": "python",
   "name": "python3"
  },
  "language_info": {
   "codemirror_mode": {
    "name": "ipython",
    "version": 3
   },
   "file_extension": ".py",
   "mimetype": "text/x-python",
   "name": "python",
   "nbconvert_exporter": "python",
   "pygments_lexer": "ipython3",
   "version": "3.8.5"
  }
 },
 "nbformat": 4,
 "nbformat_minor": 4
}
