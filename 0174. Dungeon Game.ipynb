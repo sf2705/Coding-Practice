{
 "cells": [
  {
   "cell_type": "markdown",
   "metadata": {},
   "source": [
    "### 2021-10-02\n",
    "\n",
    "https://leetcode.com/problems/dungeon-game/"
   ]
  },
  {
   "cell_type": "code",
   "execution_count": 27,
   "metadata": {},
   "outputs": [],
   "source": [
    "def calculateMinimumHP(dungeon):\n",
    "    \"\"\"\n",
    "    :type dungeon: List[List[int]]\n",
    "    :rtype: int\n",
    "    \"\"\"\n",
    "    m, n = len(dungeon), len(dungeon[0])\n",
    "    dp = [[float('inf') for _ in range(n+1)] for _ in range(m+1)]\n",
    "    \n",
    "    dp[m-1][n], dp[m][n-1] = 1, 1\n",
    "    for r in range(m-1, -1, -1):\n",
    "        for c in range(n-1, -1, -1):\n",
    "            dp[r][c] = max(min(dp[r+1][c], dp[r][c+1])-dungeon[r][c], 1)\n",
    "    return dp[0][0]\n"
   ]
  },
  {
   "cell_type": "code",
   "execution_count": 28,
   "metadata": {},
   "outputs": [
    {
     "data": {
      "text/plain": [
       "7"
      ]
     },
     "execution_count": 28,
     "metadata": {},
     "output_type": "execute_result"
    }
   ],
   "source": [
    "dungeon = [[-2,-3,3],[-5,-10,1],[10,30,-5]]\n",
    "calculateMinimumHP(dungeon)"
   ]
  },
  {
   "cell_type": "code",
   "execution_count": 29,
   "metadata": {},
   "outputs": [
    {
     "data": {
      "text/plain": [
       "1"
      ]
     },
     "execution_count": 29,
     "metadata": {},
     "output_type": "execute_result"
    }
   ],
   "source": [
    "dungeon = [[0]]\n",
    "calculateMinimumHP(dungeon)"
   ]
  },
  {
   "cell_type": "code",
   "execution_count": null,
   "metadata": {},
   "outputs": [],
   "source": []
  }
 ],
 "metadata": {
  "kernelspec": {
   "display_name": "Python 3",
   "language": "python",
   "name": "python3"
  },
  "language_info": {
   "codemirror_mode": {
    "name": "ipython",
    "version": 3
   },
   "file_extension": ".py",
   "mimetype": "text/x-python",
   "name": "python",
   "nbconvert_exporter": "python",
   "pygments_lexer": "ipython3",
   "version": "3.8.5"
  }
 },
 "nbformat": 4,
 "nbformat_minor": 4
}
