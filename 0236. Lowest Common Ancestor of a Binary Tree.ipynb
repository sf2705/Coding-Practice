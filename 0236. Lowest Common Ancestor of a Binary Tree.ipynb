{
 "cells": [
  {
   "cell_type": "markdown",
   "metadata": {},
   "source": [
    "### 2021-01-17\n",
    "\n",
    "https://leetcode.com/problems/lowest-common-ancestor-of-a-binary-tree/"
   ]
  },
  {
   "cell_type": "code",
   "execution_count": null,
   "metadata": {},
   "outputs": [],
   "source": [
    "# Definition for a binary tree node.\n",
    "# class TreeNode(object):\n",
    "#     def __init__(self, x):\n",
    "#         self.val = x\n",
    "#         self.left = None\n",
    "#         self.right = None\n",
    "\n",
    "class Solution(object):\n",
    "    def lowestCommonAncestor(self, root, p, q):\n",
    "        \"\"\"\n",
    "        :type root: TreeNode\n",
    "        :type p: TreeNode\n",
    "        :type q: TreeNode\n",
    "        :rtype: TreeNode\n",
    "        \"\"\"\n",
    "        \n",
    "        if root == p or root == q:\n",
    "            return root\n",
    "        \n",
    "        l = r = None\n",
    "        if root.left:\n",
    "            l = self.lowestCommon Ancestor(root.left, p, q)\n",
    "        if root.right:\n",
    "            r = self.lowestCommon Ancestor(root.right, p, q)\n",
    "        \n",
    "        # if both l and r has value, that means we found both p and q\n",
    "        if l and r:\n",
    "            return root\n",
    "        # otherwise, since we only find one of them, that means p or q is in the same subtree\n",
    "        else:\n",
    "            return l or r\n",
    "            \n",
    "            "
   ]
  }
 ],
 "metadata": {
  "kernelspec": {
   "display_name": "Python 3",
   "language": "python",
   "name": "python3"
  },
  "language_info": {
   "codemirror_mode": {
    "name": "ipython",
    "version": 3
   },
   "file_extension": ".py",
   "mimetype": "text/x-python",
   "name": "python",
   "nbconvert_exporter": "python",
   "pygments_lexer": "ipython3",
   "version": "3.8.5"
  }
 },
 "nbformat": 4,
 "nbformat_minor": 4
}
