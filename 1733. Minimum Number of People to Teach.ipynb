{
 "cells": [
  {
   "cell_type": "markdown",
   "metadata": {},
   "source": [
    "### 2021-01-23\n",
    "\n",
    "https://leetcode.com/problems/minimum-number-of-people-to-teach/"
   ]
  },
  {
   "cell_type": "markdown",
   "metadata": {},
   "source": [
    "1. find the pairs that can't communicate with each other\n",
    "\n",
    "2. find the language to teach\n",
    "\n",
    "3. calculate numbers of people need to teach"
   ]
  },
  {
   "cell_type": "code",
   "execution_count": 4,
   "metadata": {},
   "outputs": [],
   "source": [
    "def minimumTeachings(n, languages, friendships):\n",
    "    \"\"\"\n",
    "    :type n: int\n",
    "    :type languages: List[List[int]]\n",
    "    :type friendships: List[List[int]]\n",
    "    :rtype: int\n",
    "    \"\"\"\n",
    "    \n",
    "    teach = set()\n",
    "    \n",
    "    for f in friendships:\n",
    "        # friends start from 1, but index should start from 0\n",
    "        lang1 = set(languages[f[0]-1])\n",
    "        lang2 = set(languages[f[1]-1])\n",
    "        if len(lang1.intersection(lang2)) < 1:\n",
    "            teach.add(f[0]-1)\n",
    "            teach.add(f[1]-1)\n",
    "        \n",
    "    count = [0] * n\n",
    "    for f in teach:\n",
    "        for l in languages[f]:\n",
    "            count[l-1] += 1\n",
    "    \n",
    "    print(teach)\n",
    "    print(count)\n",
    "    return len(teach) - max(count)\n",
    "     "
   ]
  },
  {
   "cell_type": "code",
   "execution_count": 5,
   "metadata": {},
   "outputs": [
    {
     "name": "stdout",
     "output_type": "stream",
     "text": [
      "{0, 1}\n",
      "[1, 1]\n"
     ]
    },
    {
     "data": {
      "text/plain": [
       "1"
      ]
     },
     "execution_count": 5,
     "metadata": {},
     "output_type": "execute_result"
    }
   ],
   "source": [
    "n = 2\n",
    "languages = [[1],[2],[1,2]]\n",
    "friendships = [[1,2],[1,3],[2,3]]\n",
    "minimumTeachings(n, languages, friendships)"
   ]
  },
  {
   "cell_type": "code",
   "execution_count": 6,
   "metadata": {},
   "outputs": [
    {
     "name": "stdout",
     "output_type": "stream",
     "text": [
      "{0, 1, 2, 3}\n",
      "[2, 2, 2]\n"
     ]
    },
    {
     "data": {
      "text/plain": [
       "2"
      ]
     },
     "execution_count": 6,
     "metadata": {},
     "output_type": "execute_result"
    }
   ],
   "source": [
    "n = 3\n",
    "languages = [[2],[1,3],[1,2],[3]]\n",
    "friendships = [[1,4],[1,2],[3,4],[2,3]]\n",
    "minimumTeachings(n, languages, friendships)"
   ]
  },
  {
   "cell_type": "code",
   "execution_count": null,
   "metadata": {},
   "outputs": [],
   "source": []
  }
 ],
 "metadata": {
  "kernelspec": {
   "display_name": "Python 3",
   "language": "python",
   "name": "python3"
  },
  "language_info": {
   "codemirror_mode": {
    "name": "ipython",
    "version": 3
   },
   "file_extension": ".py",
   "mimetype": "text/x-python",
   "name": "python",
   "nbconvert_exporter": "python",
   "pygments_lexer": "ipython3",
   "version": "3.8.5"
  }
 },
 "nbformat": 4,
 "nbformat_minor": 4
}
