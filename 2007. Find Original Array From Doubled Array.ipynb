{
 "cells": [
  {
   "cell_type": "markdown",
   "metadata": {},
   "source": [
    "### 2021-09-18\n",
    "\n",
    "https://leetcode.com/problems/find-original-array-from-doubled-array/"
   ]
  },
  {
   "cell_type": "code",
   "execution_count": 109,
   "metadata": {},
   "outputs": [],
   "source": [
    "def findOriginalArray(changed):\n",
    "    \"\"\"\n",
    "    :type changed: List[int]\n",
    "    :rtype: List[int]\n",
    "    \"\"\"\n",
    "    \n",
    "    from collections import Counter\n",
    "    \n",
    "    cnt = Counter(changed)\n",
    "    if len(changed) % 2 or cnt[0] % 2:\n",
    "        return []\n",
    "        \n",
    "    zeros = [0]*(cnt[0]//2)\n",
    "    cnt[0] = 0\n",
    "    \n",
    "    for n in sorted(cnt):\n",
    "        print(n, cnt)\n",
    "        if n == 0:\n",
    "            continue\n",
    "        \n",
    "        if cnt[n] > cnt[2*n]:\n",
    "            return []\n",
    "        cnt[2*n] -= cnt[n]\n",
    "        \n",
    "    \n",
    "    return zeros + list(cnt.elements())\n",
    "        \n",
    "    \n",
    "    \n",
    "    \n",
    "    \n"
   ]
  },
  {
   "cell_type": "code",
   "execution_count": 110,
   "metadata": {},
   "outputs": [
    {
     "name": "stdout",
     "output_type": "stream",
     "text": [
      "0 Counter({1: 1, 3: 1, 4: 1, 2: 1, 6: 1, 8: 1, 0: 0})\n",
      "1 Counter({1: 1, 3: 1, 4: 1, 2: 1, 6: 1, 8: 1, 0: 0})\n",
      "2 Counter({1: 1, 3: 1, 4: 1, 6: 1, 8: 1, 2: 0, 0: 0})\n",
      "3 Counter({1: 1, 3: 1, 4: 1, 6: 1, 8: 1, 2: 0, 0: 0})\n",
      "4 Counter({1: 1, 3: 1, 4: 1, 8: 1, 2: 0, 6: 0, 0: 0})\n",
      "6 Counter({1: 1, 3: 1, 4: 1, 2: 0, 6: 0, 8: 0, 0: 0})\n",
      "8 Counter({1: 1, 3: 1, 4: 1, 2: 0, 6: 0, 8: 0, 0: 0, 12: 0})\n"
     ]
    },
    {
     "data": {
      "text/plain": [
       "[1, 3, 4]"
      ]
     },
     "execution_count": 110,
     "metadata": {},
     "output_type": "execute_result"
    }
   ],
   "source": [
    "changed = [1,3,4,2,6,8]\n",
    "findOriginalArray(changed)"
   ]
  },
  {
   "cell_type": "code",
   "execution_count": 111,
   "metadata": {},
   "outputs": [
    {
     "data": {
      "text/plain": [
       "[]"
      ]
     },
     "execution_count": 111,
     "metadata": {},
     "output_type": "execute_result"
    }
   ],
   "source": [
    "changed = [6,3,0,1]\n",
    "findOriginalArray(changed)"
   ]
  },
  {
   "cell_type": "code",
   "execution_count": 112,
   "metadata": {},
   "outputs": [
    {
     "data": {
      "text/plain": [
       "[]"
      ]
     },
     "execution_count": 112,
     "metadata": {},
     "output_type": "execute_result"
    }
   ],
   "source": [
    "changed = [1]\n",
    "findOriginalArray(changed)"
   ]
  },
  {
   "cell_type": "code",
   "execution_count": 113,
   "metadata": {},
   "outputs": [
    {
     "name": "stdout",
     "output_type": "stream",
     "text": [
      "0 Counter({0: 0})\n"
     ]
    },
    {
     "data": {
      "text/plain": [
       "[0, 0]"
      ]
     },
     "execution_count": 113,
     "metadata": {},
     "output_type": "execute_result"
    }
   ],
   "source": [
    "changed = [0,0,0,0]\n",
    "findOriginalArray(changed)"
   ]
  },
  {
   "cell_type": "code",
   "execution_count": 114,
   "metadata": {},
   "outputs": [
    {
     "name": "stdout",
     "output_type": "stream",
     "text": [
      "0 Counter({2: 3, 4: 2, 1: 1, 0: 0})\n",
      "1 Counter({2: 3, 4: 2, 1: 1, 0: 0})\n",
      "2 Counter({2: 2, 4: 2, 1: 1, 0: 0})\n",
      "4 Counter({2: 2, 1: 1, 4: 0, 0: 0})\n"
     ]
    },
    {
     "data": {
      "text/plain": [
       "[2, 2, 1]"
      ]
     },
     "execution_count": 114,
     "metadata": {},
     "output_type": "execute_result"
    }
   ],
   "source": [
    "changed = [2,1,2,4,2,4]\n",
    "findOriginalArray(changed)"
   ]
  },
  {
   "cell_type": "code",
   "execution_count": null,
   "metadata": {},
   "outputs": [],
   "source": []
  },
  {
   "cell_type": "code",
   "execution_count": null,
   "metadata": {},
   "outputs": [],
   "source": []
  }
 ],
 "metadata": {
  "kernelspec": {
   "display_name": "Python 3",
   "language": "python",
   "name": "python3"
  },
  "language_info": {
   "codemirror_mode": {
    "name": "ipython",
    "version": 3
   },
   "file_extension": ".py",
   "mimetype": "text/x-python",
   "name": "python",
   "nbconvert_exporter": "python",
   "pygments_lexer": "ipython3",
   "version": "3.8.5"
  }
 },
 "nbformat": 4,
 "nbformat_minor": 4
}
