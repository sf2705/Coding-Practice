{
 "cells": [
  {
   "cell_type": "markdown",
   "metadata": {},
   "source": [
    "### 2021-01-23\n",
    "\n",
    "https://leetcode.com/problems/decode-xored-permutation/"
   ]
  },
  {
   "cell_type": "markdown",
   "metadata": {},
   "source": [
    "original = [a1, a2, a3, a4, a5]\n",
    "\n",
    "encoded = [a1^a2, a2^a3, a3^a4, a4^a5]\n",
    "\n",
    "Since a1, ..., a5 is the permutation of 1, 2, 3, 4, 5\n",
    "\n",
    "Thus, a1^a2^a3^a4^a5 = 1^2^3^4^5\n",
    "\n",
    "Because we are given the encoded, and we know n is odd.\n",
    "\n",
    "Then we can have \n",
    "\n",
    "a1 = 1^2^3^4^5^a2^a3^a4^a5\n",
    "\n",
    "   = 1^2^3^4^5^orginal[1]^orininal[3]\n",
    "\n"
   ]
  },
  {
   "cell_type": "code",
   "execution_count": 29,
   "metadata": {},
   "outputs": [],
   "source": [
    "def decode(encoded):\n",
    "    \"\"\"\n",
    "    :type encoded: List[int]\n",
    "    :rtype: List[int]\n",
    "    \"\"\"\n",
    "    a1 = 1\n",
    "    # XOR on 1, 2, ... to len(original)\n",
    "    for i in range(2, len(encoded)+2):\n",
    "        a1 = a1^i\n",
    "        print('i', i)\n",
    "    \n",
    "    # XOR on encoded[1], encoded[3], ...\n",
    "    for j in range(1, len(encoded), 2):\n",
    "        a1 = a1^encoded[j]\n",
    "        print(encoded[j])\n",
    "    \n",
    "    # decode the encoded list to get original\n",
    "    res = [a1]\n",
    "    for n in encoded:\n",
    "        res.append(res[-1] ^ n)\n",
    "\n",
    "    \n",
    "    return res\n"
   ]
  },
  {
   "cell_type": "code",
   "execution_count": 30,
   "metadata": {},
   "outputs": [
    {
     "name": "stdout",
     "output_type": "stream",
     "text": [
      "i 2\n",
      "i 3\n",
      "1\n"
     ]
    },
    {
     "data": {
      "text/plain": [
       "[1, 2, 3]"
      ]
     },
     "execution_count": 30,
     "metadata": {},
     "output_type": "execute_result"
    }
   ],
   "source": [
    "encoded = [3,1]\n",
    "decode(encoded)"
   ]
  },
  {
   "cell_type": "code",
   "execution_count": 31,
   "metadata": {},
   "outputs": [
    {
     "name": "stdout",
     "output_type": "stream",
     "text": [
      "i 2\n",
      "i 3\n",
      "i 4\n",
      "i 5\n",
      "5\n",
      "6\n"
     ]
    },
    {
     "data": {
      "text/plain": [
       "[2, 4, 1, 5, 3]"
      ]
     },
     "execution_count": 31,
     "metadata": {},
     "output_type": "execute_result"
    }
   ],
   "source": [
    "encoded = [6,5,4,6]\n",
    "decode(encoded)"
   ]
  },
  {
   "cell_type": "code",
   "execution_count": 28,
   "metadata": {},
   "outputs": [
    {
     "data": {
      "text/plain": [
       "[6, 5]"
      ]
     },
     "execution_count": 28,
     "metadata": {},
     "output_type": "execute_result"
    }
   ],
   "source": [
    "encoded[::-2]"
   ]
  },
  {
   "cell_type": "code",
   "execution_count": null,
   "metadata": {},
   "outputs": [],
   "source": []
  }
 ],
 "metadata": {
  "kernelspec": {
   "display_name": "Python 3",
   "language": "python",
   "name": "python3"
  },
  "language_info": {
   "codemirror_mode": {
    "name": "ipython",
    "version": 3
   },
   "file_extension": ".py",
   "mimetype": "text/x-python",
   "name": "python",
   "nbconvert_exporter": "python",
   "pygments_lexer": "ipython3",
   "version": "3.8.5"
  }
 },
 "nbformat": 4,
 "nbformat_minor": 4
}
