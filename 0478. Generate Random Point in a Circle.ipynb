{
 "cells": [
  {
   "cell_type": "markdown",
   "metadata": {},
   "source": [
    "### 2021-03-17\n",
    "\n",
    "https://leetcode.com/problems/generate-random-point-in-a-circle/"
   ]
  },
  {
   "cell_type": "code",
   "execution_count": null,
   "metadata": {},
   "outputs": [],
   "source": [
    "class Solution(object):\n",
    "\n",
    "    def __init__(self, radius, x_center, y_center):\n",
    "        \"\"\"\n",
    "        :type radius: float\n",
    "        :type x_center: float\n",
    "        :type y_center: float\n",
    "        \"\"\"\n",
    "        self.r = radius\n",
    "        self.x = x_center\n",
    "        self.y = y_center\n",
    "        \n",
    "        self.min_x = x_center - radius\n",
    "        self.min_y = y_center - radius\n",
    "        self.max_x = x_center + radius\n",
    "        self.max_y = y_center + radius\n",
    "\n",
    "    def randPoint(self):\n",
    "        \"\"\"\n",
    "        :rtype: List[float]\n",
    "        \"\"\"\n",
    "        while True:\n",
    "            x = random.uniform(self.min_x, self.max_x)\n",
    "            y = random.uniform(self.min_y, self.max_y)\n",
    "            if (x-self.x)**2 + (y-self.y)**2 <= self.r **2:\n",
    "                return [x, y]\n",
    "            \n",
    "        \n",
    "        \n",
    "\n",
    "\n",
    "# Your Solution object will be instantiated and called as such:\n",
    "# obj = Solution(radius, x_center, y_center)\n",
    "# param_1 = obj.randPoint()"
   ]
  }
 ],
 "metadata": {
  "kernelspec": {
   "display_name": "Python 3",
   "language": "python",
   "name": "python3"
  },
  "language_info": {
   "codemirror_mode": {
    "name": "ipython",
    "version": 3
   },
   "file_extension": ".py",
   "mimetype": "text/x-python",
   "name": "python",
   "nbconvert_exporter": "python",
   "pygments_lexer": "ipython3",
   "version": "3.8.5"
  }
 },
 "nbformat": 4,
 "nbformat_minor": 4
}
