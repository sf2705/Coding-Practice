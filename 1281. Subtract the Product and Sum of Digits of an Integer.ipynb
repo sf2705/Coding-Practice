{
 "cells": [
  {
   "cell_type": "markdown",
   "metadata": {},
   "source": [
    "### 2021-03-14\n",
    "\n",
    "https://leetcode.com/problems/subtract-the-product-and-sum-of-digits-of-an-integer/"
   ]
  },
  {
   "cell_type": "code",
   "execution_count": 1,
   "metadata": {},
   "outputs": [],
   "source": [
    "def subtractProductAndSum(n):\n",
    "    \"\"\"\n",
    "    :type n: int\n",
    "    :rtype: int\n",
    "    \"\"\"\n",
    "    s = 0\n",
    "    prod = 1\n",
    "    for num in range(str(n)):\n",
    "        s += num\n",
    "        prod *= num\n",
    "    \n",
    "    return prod - s\n",
    "    \n"
   ]
  },
  {
   "cell_type": "code",
   "execution_count": null,
   "metadata": {},
   "outputs": [],
   "source": [
    "n = 234"
   ]
  }
 ],
 "metadata": {
  "kernelspec": {
   "display_name": "Python 3",
   "language": "python",
   "name": "python3"
  },
  "language_info": {
   "codemirror_mode": {
    "name": "ipython",
    "version": 3
   },
   "file_extension": ".py",
   "mimetype": "text/x-python",
   "name": "python",
   "nbconvert_exporter": "python",
   "pygments_lexer": "ipython3",
   "version": "3.8.5"
  }
 },
 "nbformat": 4,
 "nbformat_minor": 4
}
