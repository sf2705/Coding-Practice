{
 "cells": [
  {
   "cell_type": "markdown",
   "metadata": {},
   "source": [
    "### 2021-09-16\n",
    "\n",
    "https://leetcode.com/problems/spiral-matrix/"
   ]
  },
  {
   "cell_type": "code",
   "execution_count": 6,
   "metadata": {},
   "outputs": [],
   "source": [
    "def spiralOrder(matrix):\n",
    "    \"\"\"\n",
    "    :type matrix: List[List[int]]\n",
    "    :rtype: List[int]\n",
    "    \"\"\"\n",
    "    \n",
    "    if not matrix:\n",
    "        return []\n",
    "    \n",
    "    r_start = c_start = 0\n",
    "    r_end = len(matrix)-1\n",
    "    c_end = len(matrix[0])-1\n",
    "    \n",
    "    res = []\n",
    "    \n",
    "    while r_start < r_end and c_start < c_end:\n",
    "        for col in range(c_start, c_end):\n",
    "            res.append(matrix[r_start][col])\n",
    "        for row in range(r_start, r_end):\n",
    "            res.append(matrix[row][c_end])\n",
    "        for col in range(c_end, c_start, -1):\n",
    "            res.append(matrix[r_end][col])\n",
    "        for row in range(r_end, r_start, -1):\n",
    "            res.append(matrix[row][c_start])\n",
    "        \n",
    "        r_start += 1\n",
    "        c_start += 1\n",
    "        r_end -= 1\n",
    "        c_end -= 1\n",
    "    \n",
    "    if len(res) < len(matrix) * len(matrix[0]):\n",
    "        for row in range(r_start, r_end + 1):\n",
    "            for col in range(c_start, c_end + 1):\n",
    "                res.append(matrix[row][col])\n",
    "    \n",
    "    return res"
   ]
  },
  {
   "cell_type": "code",
   "execution_count": 7,
   "metadata": {},
   "outputs": [
    {
     "data": {
      "text/plain": [
       "[1, 2, 3, 6, 9, 8, 7, 4, 5]"
      ]
     },
     "execution_count": 7,
     "metadata": {},
     "output_type": "execute_result"
    }
   ],
   "source": [
    "matrix = [[1,2,3],[4,5,6],[7,8,9]]\n",
    "spiralOrder(matrix)"
   ]
  },
  {
   "cell_type": "code",
   "execution_count": 8,
   "metadata": {},
   "outputs": [
    {
     "data": {
      "text/plain": [
       "[1, 2, 3, 4, 8, 12, 11, 10, 9, 5, 6, 7]"
      ]
     },
     "execution_count": 8,
     "metadata": {},
     "output_type": "execute_result"
    }
   ],
   "source": [
    "matrix = [[1,2,3,4],[5,6,7,8],[9,10,11,12]]\n",
    "spiralOrder(matrix)"
   ]
  },
  {
   "cell_type": "code",
   "execution_count": null,
   "metadata": {},
   "outputs": [],
   "source": []
  },
  {
   "cell_type": "code",
   "execution_count": null,
   "metadata": {},
   "outputs": [],
   "source": []
  }
 ],
 "metadata": {
  "kernelspec": {
   "display_name": "Python 3",
   "language": "python",
   "name": "python3"
  },
  "language_info": {
   "codemirror_mode": {
    "name": "ipython",
    "version": 3
   },
   "file_extension": ".py",
   "mimetype": "text/x-python",
   "name": "python",
   "nbconvert_exporter": "python",
   "pygments_lexer": "ipython3",
   "version": "3.8.5"
  }
 },
 "nbformat": 4,
 "nbformat_minor": 4
}
