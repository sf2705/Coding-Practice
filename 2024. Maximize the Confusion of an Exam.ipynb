{
 "cells": [
  {
   "cell_type": "markdown",
   "metadata": {},
   "source": [
    "### 2021-10-02\n",
    "\n",
    "https://leetcode.com/problems/maximize-the-confusion-of-an-exam/"
   ]
  },
  {
   "cell_type": "code",
   "execution_count": 4,
   "metadata": {},
   "outputs": [],
   "source": [
    "def maxConsecutiveAnswers(answerKey, k):\n",
    "    \"\"\"\n",
    "    :type answerKey: str\n",
    "    :type k: int\n",
    "    :rtype: int\n",
    "    \"\"\"\n",
    "    from collections import Counter\n",
    "    max_cnt, i = 0, 0\n",
    "    \n",
    "    count = Counter()\n",
    "    for j in range(len(answerKey)):\n",
    "        count[answerKey[j]] += 1\n",
    "        max_cnt = max(max_cnt, count[answerKey[j]])\n",
    "        if j - i + 1 > max_cnt + k:\n",
    "            count[answerKey[i]] -= 1\n",
    "            i += 1\n",
    "    \n",
    "    return len(answerKey) - i\n",
    "    "
   ]
  },
  {
   "cell_type": "code",
   "execution_count": 5,
   "metadata": {},
   "outputs": [
    {
     "data": {
      "text/plain": [
       "4"
      ]
     },
     "execution_count": 5,
     "metadata": {},
     "output_type": "execute_result"
    }
   ],
   "source": [
    "answerKey = \"TTFF\"\n",
    "k = 2\n",
    "maxConsecutiveAnswers(answerKey, k)"
   ]
  },
  {
   "cell_type": "code",
   "execution_count": 6,
   "metadata": {},
   "outputs": [
    {
     "data": {
      "text/plain": [
       "3"
      ]
     },
     "execution_count": 6,
     "metadata": {},
     "output_type": "execute_result"
    }
   ],
   "source": [
    "answerKey = \"TFFT\"\n",
    "k = 1\n",
    "maxConsecutiveAnswers(answerKey, k)"
   ]
  },
  {
   "cell_type": "code",
   "execution_count": 7,
   "metadata": {},
   "outputs": [
    {
     "data": {
      "text/plain": [
       "5"
      ]
     },
     "execution_count": 7,
     "metadata": {},
     "output_type": "execute_result"
    }
   ],
   "source": [
    "answerKey = \"TTFTTFTT\"\n",
    "k = 1\n",
    "maxConsecutiveAnswers(answerKey, k)"
   ]
  },
  {
   "cell_type": "code",
   "execution_count": null,
   "metadata": {},
   "outputs": [],
   "source": []
  }
 ],
 "metadata": {
  "kernelspec": {
   "display_name": "Python 3",
   "language": "python",
   "name": "python3"
  },
  "language_info": {
   "codemirror_mode": {
    "name": "ipython",
    "version": 3
   },
   "file_extension": ".py",
   "mimetype": "text/x-python",
   "name": "python",
   "nbconvert_exporter": "python",
   "pygments_lexer": "ipython3",
   "version": "3.8.5"
  }
 },
 "nbformat": 4,
 "nbformat_minor": 4
}
