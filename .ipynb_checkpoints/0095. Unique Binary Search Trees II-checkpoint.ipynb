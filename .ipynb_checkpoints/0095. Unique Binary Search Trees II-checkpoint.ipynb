{
 "cells": [
  {
   "cell_type": "markdown",
   "metadata": {},
   "source": [
    "### 2021-02-26\n",
    "\n",
    "https://leetcode.com/problems/unique-binary-search-trees-ii/"
   ]
  },
  {
   "cell_type": "code",
   "execution_count": 1,
   "metadata": {},
   "outputs": [],
   "source": [
    "# Definition for a binary tree node.\n",
    "# class TreeNode(object):\n",
    "#     def __init__(self, val=0, left=None, right=None):\n",
    "#         self.val = val\n",
    "#         self.left = left\n",
    "#         self.right = right\n",
    "class Solution(object):\n",
    "    def generateTrees(self, n):\n",
    "        \"\"\"\n",
    "        :type n: int\n",
    "        :rtype: List[TreeNode]\n",
    "        \"\"\"\n",
    "        def gen(minimum, maximum):\n",
    "            res = []\n",
    "            for root in range(minimum, maximum+1):\n",
    "                for left in gen(minimum, root-1):\n",
    "                    for right in gen(root+1, maximum):\n",
    "                        node = TreeNode(root)\n",
    "                        node.left = left\n",
    "                        node.right = right\n",
    "                        res.append(node)\n",
    "            return res or [None]\n",
    "        return gen(1, n)"
   ]
  },
  {
   "cell_type": "markdown",
   "metadata": {},
   "source": [
    " "
   ]
  },
  {
   "cell_type": "markdown",
   "metadata": {},
   "source": [
    "### 2021-09-02"
   ]
  },
  {
   "cell_type": "code",
   "execution_count": null,
   "metadata": {},
   "outputs": [],
   "source": [
    "# Definition for a binary tree node.\n",
    "# class TreeNode(object):\n",
    "#     def __init__(self, val=0, left=None, right=None):\n",
    "#         self.val = val\n",
    "#         self.left = left\n",
    "#         self.right = right\n",
    "class Solution(object):\n",
    "    def generateTrees(self, n):\n",
    "        \"\"\"\n",
    "        :type n: int\n",
    "        :rtype: List[TreeNode]\n",
    "        \"\"\"\n",
    "        if n == 0:\n",
    "            return []\n",
    "        return self.helper(1,n)\n",
    "    \n",
    "    def helper(self, start, end):\n",
    "        if start > end:\n",
    "            return [None]\n",
    "        \n",
    "        res = []\n",
    "        \n",
    "        for curVal in range(start, end+1):\n",
    "            left_subs = self.helper(start, curVal-1)\n",
    "            right_subs = self.helper(curVal+1, end)\n",
    "            \n",
    "            for l in left_subs:\n",
    "                for r in right_subs:\n",
    "                    root = TreeNode(curVal)\n",
    "                    root.left = l\n",
    "                    root.right = r\n",
    "                    res.append(root)\n",
    "        return res"
   ]
  }
 ],
 "metadata": {
  "kernelspec": {
   "display_name": "Python 3",
   "language": "python",
   "name": "python3"
  },
  "language_info": {
   "codemirror_mode": {
    "name": "ipython",
    "version": 3
   },
   "file_extension": ".py",
   "mimetype": "text/x-python",
   "name": "python",
   "nbconvert_exporter": "python",
   "pygments_lexer": "ipython3",
   "version": "3.8.5"
  }
 },
 "nbformat": 4,
 "nbformat_minor": 4
}
