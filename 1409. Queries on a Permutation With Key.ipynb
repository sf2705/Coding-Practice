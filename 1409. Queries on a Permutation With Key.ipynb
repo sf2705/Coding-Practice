{
 "cells": [
  {
   "cell_type": "markdown",
   "metadata": {},
   "source": [
    "### 2021-09-05\n",
    "\n",
    "https://leetcode.com/problems/queries-on-a-permutation-with-key/"
   ]
  },
  {
   "cell_type": "code",
   "execution_count": 7,
   "metadata": {},
   "outputs": [],
   "source": [
    "def processQueries(queries, m):\n",
    "    \"\"\"\n",
    "    :type queries: List[int]\n",
    "    :type m: int\n",
    "    :rtype: List[int]\n",
    "    \"\"\"\n",
    "    P = list(range(1, m+1))\n",
    "    res = []\n",
    "    \n",
    "    for i in range(len(queries)):\n",
    "        idx = queries[i]\n",
    "        num = P.index(idx)\n",
    "        res.append(num)\n",
    "        P = [idx] + P[:num] + P[num+1:]\n",
    "    return res"
   ]
  },
  {
   "cell_type": "code",
   "execution_count": 8,
   "metadata": {},
   "outputs": [
    {
     "name": "stdout",
     "output_type": "stream",
     "text": [
      "[3, 1, 2, 4, 5]\n",
      "[1, 3, 2, 4, 5]\n",
      "[2, 1, 3, 4, 5]\n",
      "[1, 2, 3, 4, 5]\n"
     ]
    },
    {
     "data": {
      "text/plain": [
       "[2, 1, 2, 1]"
      ]
     },
     "execution_count": 8,
     "metadata": {},
     "output_type": "execute_result"
    }
   ],
   "source": [
    "queries = [3,1,2,1]\n",
    "m = 5\n",
    "processQueries(queries, m)"
   ]
  },
  {
   "cell_type": "code",
   "execution_count": 9,
   "metadata": {},
   "outputs": [
    {
     "name": "stdout",
     "output_type": "stream",
     "text": [
      "[4, 1, 2, 3]\n",
      "[1, 4, 2, 3]\n",
      "[2, 1, 4, 3]\n",
      "[2, 1, 4, 3]\n"
     ]
    },
    {
     "data": {
      "text/plain": [
       "[3, 1, 2, 0]"
      ]
     },
     "execution_count": 9,
     "metadata": {},
     "output_type": "execute_result"
    }
   ],
   "source": [
    "queries = [4,1,2,2]\n",
    "m = 4\n",
    "processQueries(queries, m)"
   ]
  },
  {
   "cell_type": "code",
   "execution_count": 10,
   "metadata": {},
   "outputs": [
    {
     "name": "stdout",
     "output_type": "stream",
     "text": [
      "[7, 1, 2, 3, 4, 5, 6, 8]\n",
      "[5, 7, 1, 2, 3, 4, 6, 8]\n",
      "[5, 7, 1, 2, 3, 4, 6, 8]\n",
      "[8, 5, 7, 1, 2, 3, 4, 6]\n",
      "[3, 8, 5, 7, 1, 2, 4, 6]\n"
     ]
    },
    {
     "data": {
      "text/plain": [
       "[6, 5, 0, 7, 5]"
      ]
     },
     "execution_count": 10,
     "metadata": {},
     "output_type": "execute_result"
    }
   ],
   "source": [
    "queries = [7,5,5,8,3]\n",
    "m = 8\n",
    "processQueries(queries, m)"
   ]
  },
  {
   "cell_type": "code",
   "execution_count": null,
   "metadata": {},
   "outputs": [],
   "source": []
  }
 ],
 "metadata": {
  "kernelspec": {
   "display_name": "Python 3",
   "language": "python",
   "name": "python3"
  },
  "language_info": {
   "codemirror_mode": {
    "name": "ipython",
    "version": 3
   },
   "file_extension": ".py",
   "mimetype": "text/x-python",
   "name": "python",
   "nbconvert_exporter": "python",
   "pygments_lexer": "ipython3",
   "version": "3.8.5"
  }
 },
 "nbformat": 4,
 "nbformat_minor": 4
}
