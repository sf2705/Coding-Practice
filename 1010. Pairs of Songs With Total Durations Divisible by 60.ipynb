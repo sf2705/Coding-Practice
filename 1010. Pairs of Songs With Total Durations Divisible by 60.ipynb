{
 "cells": [
  {
   "cell_type": "markdown",
   "metadata": {},
   "source": [
    "### 2022-01-01\n",
    "\n",
    "https://leetcode.com/problems/pairs-of-songs-with-total-durations-divisible-by-60/"
   ]
  },
  {
   "cell_type": "code",
   "execution_count": 1,
   "metadata": {},
   "outputs": [],
   "source": [
    "def numPairsDivisibleBy60(time):\n",
    "    \"\"\"\n",
    "    :type time: List[int]\n",
    "    :rtype: int\n",
    "    \"\"\"\n",
    "\n",
    "    dic = dict()\n",
    "    \n",
    "    for t in time:\n",
    "        if t % 60 not in dic:\n",
    "            dic[t%60] = 1\n",
    "        else:\n",
    "            dic[t%60] += 1\n",
    "    \n",
    "    res = 0\n",
    "    for i in range(1,30):\n",
    "        res += dic.get(i, 0) * dic.get(60-i, 0)\n",
    "    \n",
    "    res += dic.get(0, 0) * (dic.get(0, 0)-1)//2\n",
    "    res += dic.get(30, 0) * (dic.get(30, 0)-1)//2\n",
    "    \n",
    "    return res"
   ]
  },
  {
   "cell_type": "code",
   "execution_count": 2,
   "metadata": {},
   "outputs": [
    {
     "data": {
      "text/plain": [
       "3"
      ]
     },
     "execution_count": 2,
     "metadata": {},
     "output_type": "execute_result"
    }
   ],
   "source": [
    "time = [30,20,150,100,40]\n",
    "numPairsDivisibleBy60(time)"
   ]
  },
  {
   "cell_type": "code",
   "execution_count": 3,
   "metadata": {},
   "outputs": [
    {
     "data": {
      "text/plain": [
       "3"
      ]
     },
     "execution_count": 3,
     "metadata": {},
     "output_type": "execute_result"
    }
   ],
   "source": [
    "time = [60,60,60]\n",
    "numPairsDivisibleBy60(time)"
   ]
  },
  {
   "cell_type": "code",
   "execution_count": null,
   "metadata": {},
   "outputs": [],
   "source": []
  }
 ],
 "metadata": {
  "kernelspec": {
   "display_name": "Python 3",
   "language": "python",
   "name": "python3"
  },
  "language_info": {
   "codemirror_mode": {
    "name": "ipython",
    "version": 3
   },
   "file_extension": ".py",
   "mimetype": "text/x-python",
   "name": "python",
   "nbconvert_exporter": "python",
   "pygments_lexer": "ipython3",
   "version": "3.8.5"
  }
 },
 "nbformat": 4,
 "nbformat_minor": 4
}
