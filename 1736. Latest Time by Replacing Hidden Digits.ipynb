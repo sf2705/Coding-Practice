{
 "cells": [
  {
   "cell_type": "markdown",
   "metadata": {},
   "source": [
    "### 2021-01-23\n",
    "\n",
    "https://leetcode.com/problems/latest-time-by-replacing-hidden-digits/"
   ]
  },
  {
   "cell_type": "code",
   "execution_count": 51,
   "metadata": {},
   "outputs": [],
   "source": [
    "def maximumTime(time):\n",
    "    \"\"\"\n",
    "    :type time: str\n",
    "    :rtype: str\n",
    "    \"\"\"\n",
    "    hour, minute = time.split(':')\n",
    "    \n",
    "    if hour == '??':\n",
    "        hour = '23'\n",
    "    elif '?' not in hour:\n",
    "        pass\n",
    "    else:\n",
    "        if hour[0] == '?':\n",
    "            if int(hour[1]) >= 4:\n",
    "                hour = '1' + hour[1]\n",
    "            else:\n",
    "                hour = '2' + hour[1]\n",
    "        else:\n",
    "            if hour[0] == '2':\n",
    "                hour = '23'\n",
    "            else:\n",
    "                hour = hour[0] + '9'\n",
    "        \n",
    "    if minute == '??':\n",
    "        minute = '59'\n",
    "    elif '?' not in minute:\n",
    "        pass\n",
    "    else:\n",
    "        if minute[0] == '?':\n",
    "            minute = '5' + minute[1]\n",
    "        else:\n",
    "            minute = minute[0] + '9'\n",
    "            \n",
    "    return hour + ':' + minute\n",
    "        "
   ]
  },
  {
   "cell_type": "code",
   "execution_count": 52,
   "metadata": {},
   "outputs": [
    {
     "data": {
      "text/plain": [
       "'23:50'"
      ]
     },
     "execution_count": 52,
     "metadata": {},
     "output_type": "execute_result"
    }
   ],
   "source": [
    "time = \"2?:?0\"\n",
    "maximumTime(time)"
   ]
  },
  {
   "cell_type": "code",
   "execution_count": 53,
   "metadata": {},
   "outputs": [
    {
     "data": {
      "text/plain": [
       "'09:39'"
      ]
     },
     "execution_count": 53,
     "metadata": {},
     "output_type": "execute_result"
    }
   ],
   "source": [
    "time = \"0?:3?\"\n",
    "maximumTime(time)"
   ]
  },
  {
   "cell_type": "code",
   "execution_count": 54,
   "metadata": {},
   "outputs": [
    {
     "data": {
      "text/plain": [
       "'19:22'"
      ]
     },
     "execution_count": 54,
     "metadata": {},
     "output_type": "execute_result"
    }
   ],
   "source": [
    "time = \"1?:22\"\n",
    "maximumTime(time)"
   ]
  },
  {
   "cell_type": "code",
   "execution_count": 55,
   "metadata": {},
   "outputs": [
    {
     "data": {
      "text/plain": [
       "'20:15'"
      ]
     },
     "execution_count": 55,
     "metadata": {},
     "output_type": "execute_result"
    }
   ],
   "source": [
    "time =\"?0:15\"\n",
    "maximumTime(time)"
   ]
  },
  {
   "cell_type": "code",
   "execution_count": null,
   "metadata": {},
   "outputs": [],
   "source": []
  }
 ],
 "metadata": {
  "kernelspec": {
   "display_name": "Python 3",
   "language": "python",
   "name": "python3"
  },
  "language_info": {
   "codemirror_mode": {
    "name": "ipython",
    "version": 3
   },
   "file_extension": ".py",
   "mimetype": "text/x-python",
   "name": "python",
   "nbconvert_exporter": "python",
   "pygments_lexer": "ipython3",
   "version": "3.8.5"
  }
 },
 "nbformat": 4,
 "nbformat_minor": 4
}
