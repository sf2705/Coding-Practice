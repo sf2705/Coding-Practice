{
 "cells": [
  {
   "cell_type": "markdown",
   "metadata": {},
   "source": [
    "### 2021-03-30\n",
    "\n",
    "https://leetcode.com/problems/russian-doll-envelopes/"
   ]
  },
  {
   "cell_type": "code",
   "execution_count": 5,
   "metadata": {},
   "outputs": [],
   "source": [
    "def maxEnvelopes(envelopes):\n",
    "    \"\"\"\n",
    "    :type envelopes: List[List[int]]\n",
    "    :rtype: int\n",
    "    \"\"\"\n",
    "    if len(envelopes) < 2:\n",
    "        return len(envelopes)\n",
    "    \n",
    "    # sort width in ascending order and height in descending order\n",
    "    envelopes.sort(key = lambda x: (x[0], -x[1]))\n",
    "    \n",
    "    # find the longest increasing subsequence\n",
    "    res = 0\n",
    "    temp = [0] * len(envelopes)\n",
    "    \n",
    "    for w, h in envelopes:\n",
    "        l, r = 0, res - 1\n",
    "        while l <= r:\n",
    "            mid = (l + r) //2\n",
    "            if temp[mid] >= h:\n",
    "                r = mid - 1\n",
    "            else:\n",
    "                l = mid + 1\n",
    "        temp[l] = h\n",
    "        res = max(res, l + 1)\n",
    "    return res\n",
    "    "
   ]
  },
  {
   "cell_type": "code",
   "execution_count": 8,
   "metadata": {},
   "outputs": [
    {
     "data": {
      "text/plain": [
       "3"
      ]
     },
     "execution_count": 8,
     "metadata": {},
     "output_type": "execute_result"
    }
   ],
   "source": [
    "envelopes = [[5,4],[6,4],[6,7],[2,3]]\n",
    "maxEnvelopes(envelopes)"
   ]
  },
  {
   "cell_type": "code",
   "execution_count": 9,
   "metadata": {},
   "outputs": [
    {
     "data": {
      "text/plain": [
       "1"
      ]
     },
     "execution_count": 9,
     "metadata": {},
     "output_type": "execute_result"
    }
   ],
   "source": [
    "envelopes = [[1,1],[1,1],[1,1]]\n",
    "maxEnvelopes(envelopes)"
   ]
  },
  {
   "cell_type": "code",
   "execution_count": null,
   "metadata": {},
   "outputs": [],
   "source": []
  }
 ],
 "metadata": {
  "kernelspec": {
   "display_name": "Python 3",
   "language": "python",
   "name": "python3"
  },
  "language_info": {
   "codemirror_mode": {
    "name": "ipython",
    "version": 3
   },
   "file_extension": ".py",
   "mimetype": "text/x-python",
   "name": "python",
   "nbconvert_exporter": "python",
   "pygments_lexer": "ipython3",
   "version": "3.8.5"
  }
 },
 "nbformat": 4,
 "nbformat_minor": 4
}
