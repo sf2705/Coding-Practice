{
 "cells": [
  {
   "cell_type": "markdown",
   "metadata": {},
   "source": [
    "### 2022-01-02\n",
    "\n",
    "https://leetcode.com/problems/find-the-town-judge/"
   ]
  },
  {
   "cell_type": "code",
   "execution_count": 11,
   "metadata": {},
   "outputs": [],
   "source": [
    "def findJudge(n, trust):\n",
    "    \"\"\"\n",
    "    :type n: int\n",
    "    :type trust: List[List[int]]\n",
    "    :rtype: int\n",
    "    \"\"\"\n",
    "    \n",
    "    if not trust and n == 1:\n",
    "        return 1\n",
    "    \n",
    "    a_trust_b = [0] * (n+1)\n",
    "    b_trusted_by_a = [0] * (n+1)\n",
    "    judge = -1\n",
    "    \n",
    "    for a,b in trust:\n",
    "        a_trust_b[a] += 1\n",
    "        b_trusted_by_a[b] += 1\n",
    "    \n",
    "        if b_trusted_by_a[b] == n-1:\n",
    "            judge = b\n",
    "    print(judge)\n",
    "    if judge != -1 and a_trust_b[judge] == 0:\n",
    "        return judge\n",
    "    return -1"
   ]
  },
  {
   "cell_type": "code",
   "execution_count": 12,
   "metadata": {},
   "outputs": [
    {
     "data": {
      "text/plain": [
       "1"
      ]
     },
     "execution_count": 12,
     "metadata": {},
     "output_type": "execute_result"
    }
   ],
   "source": [
    "n = 1\n",
    "trust = []\n",
    "findJudge(n, trust)"
   ]
  },
  {
   "cell_type": "code",
   "execution_count": 4,
   "metadata": {},
   "outputs": [
    {
     "data": {
      "text/plain": [
       "2"
      ]
     },
     "execution_count": 4,
     "metadata": {},
     "output_type": "execute_result"
    }
   ],
   "source": [
    "n = 2\n",
    "trust = [[1,2]]\n",
    "findJudge(n, trust)"
   ]
  },
  {
   "cell_type": "code",
   "execution_count": 5,
   "metadata": {},
   "outputs": [
    {
     "data": {
      "text/plain": [
       "3"
      ]
     },
     "execution_count": 5,
     "metadata": {},
     "output_type": "execute_result"
    }
   ],
   "source": [
    "n = 3\n",
    "trust = [[1,3],[2,3]]\n",
    "findJudge(n, trust)"
   ]
  },
  {
   "cell_type": "code",
   "execution_count": 7,
   "metadata": {},
   "outputs": [
    {
     "data": {
      "text/plain": [
       "-1"
      ]
     },
     "execution_count": 7,
     "metadata": {},
     "output_type": "execute_result"
    }
   ],
   "source": [
    "n = 3 \n",
    "trust = [[1,3],[2,3],[3,1]]\n",
    "findJudge(n, trust)"
   ]
  },
  {
   "cell_type": "code",
   "execution_count": null,
   "metadata": {},
   "outputs": [],
   "source": []
  }
 ],
 "metadata": {
  "kernelspec": {
   "display_name": "Python 3",
   "language": "python",
   "name": "python3"
  },
  "language_info": {
   "codemirror_mode": {
    "name": "ipython",
    "version": 3
   },
   "file_extension": ".py",
   "mimetype": "text/x-python",
   "name": "python",
   "nbconvert_exporter": "python",
   "pygments_lexer": "ipython3",
   "version": "3.8.5"
  }
 },
 "nbformat": 4,
 "nbformat_minor": 4
}
