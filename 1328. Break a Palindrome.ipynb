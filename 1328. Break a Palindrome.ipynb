{
 "cells": [
  {
   "cell_type": "markdown",
   "metadata": {},
   "source": [
    "### 2021-09-23\n",
    "\n",
    "https://leetcode.com/problems/break-a-palindrome/"
   ]
  },
  {
   "cell_type": "code",
   "execution_count": 10,
   "metadata": {},
   "outputs": [],
   "source": [
    "def breakPalindrome(palindrome):\n",
    "    \"\"\"\n",
    "    :type palindrome: str\n",
    "    :rtype: str\n",
    "    \"\"\"\n",
    "    if len(palindrome) <=1:\n",
    "        return ''\n",
    "    \n",
    "    mid = -1\n",
    "    if len(palindrome) % 2:\n",
    "        mid = len(palindrome) // 2\n",
    "    \n",
    "    for i in range(len(palindrome)//2+1):\n",
    "        if i == mid:\n",
    "            continue\n",
    "        ch = palindrome[i]\n",
    "        if ch == 'a':\n",
    "            continue\n",
    "        else:\n",
    "            return palindrome[:i] + 'a' + palindrome[i+1:]\n",
    "        \n",
    "    \n",
    "    return palindrome[:-1] + 'b'\n"
   ]
  },
  {
   "cell_type": "code",
   "execution_count": 11,
   "metadata": {},
   "outputs": [
    {
     "data": {
      "text/plain": [
       "'aaccba'"
      ]
     },
     "execution_count": 11,
     "metadata": {},
     "output_type": "execute_result"
    }
   ],
   "source": [
    "palindrome = \"abccba\"\n",
    "breakPalindrome(palindrome)"
   ]
  },
  {
   "cell_type": "code",
   "execution_count": 12,
   "metadata": {},
   "outputs": [
    {
     "data": {
      "text/plain": [
       "''"
      ]
     },
     "execution_count": 12,
     "metadata": {},
     "output_type": "execute_result"
    }
   ],
   "source": [
    "palindrome = \"a\"\n",
    "breakPalindrome(palindrome)"
   ]
  },
  {
   "cell_type": "code",
   "execution_count": 13,
   "metadata": {},
   "outputs": [
    {
     "data": {
      "text/plain": [
       "'ab'"
      ]
     },
     "execution_count": 13,
     "metadata": {},
     "output_type": "execute_result"
    }
   ],
   "source": [
    "palindrome = \"aa\"\n",
    "breakPalindrome(palindrome)"
   ]
  },
  {
   "cell_type": "code",
   "execution_count": 14,
   "metadata": {},
   "outputs": [
    {
     "data": {
      "text/plain": [
       "'abb'"
      ]
     },
     "execution_count": 14,
     "metadata": {},
     "output_type": "execute_result"
    }
   ],
   "source": [
    "palindrome = \"aba\"\n",
    "breakPalindrome(palindrome)"
   ]
  },
  {
   "cell_type": "code",
   "execution_count": null,
   "metadata": {},
   "outputs": [],
   "source": []
  }
 ],
 "metadata": {
  "kernelspec": {
   "display_name": "Python 3",
   "language": "python",
   "name": "python3"
  },
  "language_info": {
   "codemirror_mode": {
    "name": "ipython",
    "version": 3
   },
   "file_extension": ".py",
   "mimetype": "text/x-python",
   "name": "python",
   "nbconvert_exporter": "python",
   "pygments_lexer": "ipython3",
   "version": "3.8.5"
  }
 },
 "nbformat": 4,
 "nbformat_minor": 4
}
