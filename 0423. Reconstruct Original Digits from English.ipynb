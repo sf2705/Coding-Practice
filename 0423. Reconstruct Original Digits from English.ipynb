{
 "cells": [
  {
   "cell_type": "code",
   "execution_count": 5,
   "metadata": {},
   "outputs": [],
   "source": [
    "def originalDigits(s):\n",
    "    \"\"\"\n",
    "    :type s: str\n",
    "    :rtype: str\n",
    "    \"\"\"\n",
    "    from collections import Counter\n",
    "    count = Counter(s)\n",
    "    \n",
    "    words = ['zero', 'six', 'two', 'eight', \\\n",
    "             'four', 'five','seven', 'one',  'three', \\\n",
    "             'nine']\n",
    "    num = [0,6,2,8,4,5,7,1,3,9]\n",
    "    letter_cnt = [Counter(w) for w in words]\n",
    "    res = [0] * 10\n",
    "    \n",
    "    for i, c in enumerate(letter_cnt):\n",
    "        n = min(count[x] // c[x] for x in c)\n",
    "        for j in c.keys():\n",
    "            c[j] *= n\n",
    "        count -= c\n",
    "        res[num[i]] = n\n",
    "        \n",
    "    return ''.join([str(i) * res[i] for i in range(10)])\n"
   ]
  },
  {
   "cell_type": "code",
   "execution_count": 6,
   "metadata": {},
   "outputs": [
    {
     "data": {
      "text/plain": [
       "'012'"
      ]
     },
     "execution_count": 6,
     "metadata": {},
     "output_type": "execute_result"
    }
   ],
   "source": [
    "s = \"owoztneoer\"\n",
    "originalDigits(s)"
   ]
  },
  {
   "cell_type": "code",
   "execution_count": 7,
   "metadata": {},
   "outputs": [
    {
     "data": {
      "text/plain": [
       "'45'"
      ]
     },
     "execution_count": 7,
     "metadata": {},
     "output_type": "execute_result"
    }
   ],
   "source": [
    "s = \"fviefuro\"\n",
    "originalDigits(s)"
   ]
  }
 ],
 "metadata": {
  "kernelspec": {
   "display_name": "Python 3",
   "language": "python",
   "name": "python3"
  },
  "language_info": {
   "codemirror_mode": {
    "name": "ipython",
    "version": 3
   },
   "file_extension": ".py",
   "mimetype": "text/x-python",
   "name": "python",
   "nbconvert_exporter": "python",
   "pygments_lexer": "ipython3",
   "version": "3.8.5"
  }
 },
 "nbformat": 4,
 "nbformat_minor": 4
}
