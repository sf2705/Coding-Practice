{
 "cells": [
  {
   "cell_type": "markdown",
   "metadata": {},
   "source": [
    "### 2021-02-26\n",
    "\n",
    "https://leetcode.com/problems/k-th-symbol-in-grammar/"
   ]
  },
  {
   "cell_type": "markdown",
   "metadata": {},
   "source": [
    "for any level N, the first half is the same as level N-1. The second half is the complement of first half"
   ]
  },
  {
   "cell_type": "code",
   "execution_count": 14,
   "metadata": {},
   "outputs": [],
   "source": [
    "def kthGrammar(N, K):\n",
    "    \"\"\"\n",
    "    :type N: int\n",
    "    :type K: int\n",
    "    :rtype: int\n",
    "    \"\"\"\n",
    "    \n",
    "    if N == 1:\n",
    "        if K == 1:\n",
    "            return 0\n",
    "        else:\n",
    "            return 1\n",
    "    \n",
    "    half = 2 **(N-1)\n",
    "    if K <= half:\n",
    "        return kthGrammar(N-1, K)\n",
    "    else:\n",
    "        res = kthGrammar(N-1, K-half)\n",
    "        if res == 0:\n",
    "            return 1\n",
    "        else:\n",
    "            return 0\n",
    "    \n",
    "        "
   ]
  },
  {
   "cell_type": "code",
   "execution_count": 15,
   "metadata": {},
   "outputs": [
    {
     "data": {
      "text/plain": [
       "0"
      ]
     },
     "execution_count": 15,
     "metadata": {},
     "output_type": "execute_result"
    }
   ],
   "source": [
    "N = 1\n",
    "K = 1\n",
    "kthGrammar(N, K)"
   ]
  },
  {
   "cell_type": "code",
   "execution_count": 16,
   "metadata": {},
   "outputs": [
    {
     "data": {
      "text/plain": [
       "0"
      ]
     },
     "execution_count": 16,
     "metadata": {},
     "output_type": "execute_result"
    }
   ],
   "source": [
    "N = 2\n",
    "K = 1\n",
    "kthGrammar(N, K)"
   ]
  },
  {
   "cell_type": "code",
   "execution_count": 17,
   "metadata": {},
   "outputs": [
    {
     "data": {
      "text/plain": [
       "1"
      ]
     },
     "execution_count": 17,
     "metadata": {},
     "output_type": "execute_result"
    }
   ],
   "source": [
    "N = 2\n",
    "K = 2\n",
    "kthGrammar(N, K)"
   ]
  },
  {
   "cell_type": "code",
   "execution_count": 18,
   "metadata": {},
   "outputs": [
    {
     "data": {
      "text/plain": [
       "1"
      ]
     },
     "execution_count": 18,
     "metadata": {},
     "output_type": "execute_result"
    }
   ],
   "source": [
    "N = 4\n",
    "K = 5\n",
    "kthGrammar(N, K)"
   ]
  },
  {
   "cell_type": "code",
   "execution_count": null,
   "metadata": {},
   "outputs": [],
   "source": [
    "0\n",
    "01\n",
    "0110\n",
    "01101001\n",
    "0110100110010110"
   ]
  }
 ],
 "metadata": {
  "kernelspec": {
   "display_name": "Python 3",
   "language": "python",
   "name": "python3"
  },
  "language_info": {
   "codemirror_mode": {
    "name": "ipython",
    "version": 3
   },
   "file_extension": ".py",
   "mimetype": "text/x-python",
   "name": "python",
   "nbconvert_exporter": "python",
   "pygments_lexer": "ipython3",
   "version": "3.8.5"
  }
 },
 "nbformat": 4,
 "nbformat_minor": 4
}
