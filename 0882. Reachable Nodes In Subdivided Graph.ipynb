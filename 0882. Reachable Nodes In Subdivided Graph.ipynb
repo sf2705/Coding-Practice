{
 "cells": [
  {
   "cell_type": "markdown",
   "metadata": {},
   "source": [
    "### 2021-09-12\n",
    "\n",
    "https://leetcode.com/problems/reachable-nodes-in-subdivided-graph/"
   ]
  },
  {
   "cell_type": "code",
   "execution_count": 3,
   "metadata": {},
   "outputs": [],
   "source": [
    "def reachableNodes(edges, maxMoves, n):\n",
    "    \"\"\"\n",
    "    :type edges: List[List[int]]\n",
    "    :type maxMoves: int\n",
    "    :type n: int\n",
    "    :rtype: int\n",
    "    \"\"\"\n",
    "    \n",
    "    from collections import defaultdict\n",
    "    import heapq\n",
    "    \n",
    "    e = defaultdict(dict)\n",
    "    \n",
    "    for u, v, cnt in edges:\n",
    "        e[u][v] = e[v][u] = cnt\n",
    "    \n",
    "    # priority queue\n",
    "    que = [(-maxMoves, 0)]\n",
    "    visit = {}\n",
    "    \n",
    "    while que:\n",
    "        moves, node = heapq.heappop(que)\n",
    "        if node not in visit:\n",
    "            visit[node] = -moves\n",
    "            for v in e[node]:\n",
    "                v_moves = -moves - e[node][v] - 1\n",
    "                if v not in visit and v_moves >= 0:\n",
    "                    heapq.heappush(que, (-v_moves, v))\n",
    "    \n",
    "    res = len(visit)\n",
    "    for u, v, cnt in edges:\n",
    "        res += min(visit.get(u, 0) + visit.get(v, 0), e[u][v])\n",
    "\n",
    "    return res"
   ]
  },
  {
   "cell_type": "code",
   "execution_count": 4,
   "metadata": {},
   "outputs": [
    {
     "data": {
      "text/plain": [
       "13"
      ]
     },
     "execution_count": 4,
     "metadata": {},
     "output_type": "execute_result"
    }
   ],
   "source": [
    "edges = [[0,1,10],[0,2,1],[1,2,2]]\n",
    "maxMoves = 6\n",
    "n = 3\n",
    "reachableNodes(edges, maxMoves, n)"
   ]
  },
  {
   "cell_type": "code",
   "execution_count": 5,
   "metadata": {},
   "outputs": [
    {
     "data": {
      "text/plain": [
       "23"
      ]
     },
     "execution_count": 5,
     "metadata": {},
     "output_type": "execute_result"
    }
   ],
   "source": [
    "edges = [[0,1,4],[1,2,6],[0,2,8],[1,3,1]]\n",
    "maxMoves = 10\n",
    "n = 4\n",
    "reachableNodes(edges, maxMoves, n)"
   ]
  },
  {
   "cell_type": "code",
   "execution_count": 6,
   "metadata": {},
   "outputs": [
    {
     "data": {
      "text/plain": [
       "1"
      ]
     },
     "execution_count": 6,
     "metadata": {},
     "output_type": "execute_result"
    }
   ],
   "source": [
    "edges = [[1,2,4],[1,4,5],[1,3,1],[2,3,4],[3,4,5]]\n",
    "maxMoves = 17\n",
    "n = 5\n",
    "reachableNodes(edges, maxMoves, n)"
   ]
  },
  {
   "cell_type": "code",
   "execution_count": null,
   "metadata": {},
   "outputs": [],
   "source": []
  }
 ],
 "metadata": {
  "kernelspec": {
   "display_name": "Python 3",
   "language": "python",
   "name": "python3"
  },
  "language_info": {
   "codemirror_mode": {
    "name": "ipython",
    "version": 3
   },
   "file_extension": ".py",
   "mimetype": "text/x-python",
   "name": "python",
   "nbconvert_exporter": "python",
   "pygments_lexer": "ipython3",
   "version": "3.8.5"
  }
 },
 "nbformat": 4,
 "nbformat_minor": 4
}
