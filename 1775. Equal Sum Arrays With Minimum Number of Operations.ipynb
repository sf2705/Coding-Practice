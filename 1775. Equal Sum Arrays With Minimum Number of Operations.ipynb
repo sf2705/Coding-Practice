{
 "cells": [
  {
   "cell_type": "markdown",
   "metadata": {},
   "source": [
    "### 2021-02-27\n",
    "\n",
    "https://leetcode.com/problems/equal-sum-arrays-with-minimum-number-of-operations/"
   ]
  },
  {
   "cell_type": "code",
   "execution_count": 19,
   "metadata": {},
   "outputs": [],
   "source": [
    "def minOperations(nums1, nums2):\n",
    "    \"\"\"\n",
    "    :type nums1: List[int]\n",
    "    :type nums2: List[int]\n",
    "    :rtype: int\n",
    "    \"\"\"\n",
    "\n",
    "    if sum(nums1) > sum(nums2):\n",
    "        nums1, nums2 = nums2, nums1\n",
    "    \n",
    "    if len(nums2) > 6 * len(nums1):\n",
    "        return -1\n",
    "    \n",
    "    s1, s2 = sum(nums1), sum(nums2)\n",
    "    \n",
    "    nums1.sort()\n",
    "    nums2.sort()\n",
    "    res = 0\n",
    "    \n",
    "    #since nums1 has smaller sum, we want to increase value in nums1, starting from 1\n",
    "    # we want to decrease values from nums2, starting from 6\n",
    "    p1, p2 = 0, len(nums2) - 1\n",
    "    diff = s2 - s1\n",
    "    while diff > 0:\n",
    "        if p2 <0 or 6-nums1[p1] > nums2[p2] -1:\n",
    "            diff -= 6 - nums1[p1]\n",
    "            p1 += 1\n",
    "        else:\n",
    "            diff -= nums2[p2]-1\n",
    "            p2 -= 1\n",
    "        res += 1\n",
    "    return res\n",
    "    \n",
    "    "
   ]
  },
  {
   "cell_type": "code",
   "execution_count": 20,
   "metadata": {},
   "outputs": [
    {
     "name": "stdout",
     "output_type": "stream",
     "text": [
      "y\n",
      "[1, 1, 2, 2, 2, 2] [1, 2, 3, 4, 5, 6]\n",
      "10 21\n"
     ]
    },
    {
     "data": {
      "text/plain": [
       "3"
      ]
     },
     "execution_count": 20,
     "metadata": {},
     "output_type": "execute_result"
    }
   ],
   "source": [
    "nums1 = [1,2,3,4,5,6]\n",
    "nums2 = [1,1,2,2,2,2]\n",
    "minOperations(nums1, nums2)"
   ]
  },
  {
   "cell_type": "code",
   "execution_count": 21,
   "metadata": {},
   "outputs": [
    {
     "name": "stdout",
     "output_type": "stream",
     "text": [
      "y\n"
     ]
    },
    {
     "data": {
      "text/plain": [
       "-1"
      ]
     },
     "execution_count": 21,
     "metadata": {},
     "output_type": "execute_result"
    }
   ],
   "source": [
    "nums1 = [1,1,1,1,1,1,1]\n",
    "nums2 = [6]\n",
    "minOperations(nums1, nums2)"
   ]
  },
  {
   "cell_type": "code",
   "execution_count": 22,
   "metadata": {},
   "outputs": [
    {
     "name": "stdout",
     "output_type": "stream",
     "text": [
      "y\n",
      "[1] [6, 6]\n",
      "1 12\n"
     ]
    },
    {
     "data": {
      "text/plain": [
       "3"
      ]
     },
     "execution_count": 22,
     "metadata": {},
     "output_type": "execute_result"
    }
   ],
   "source": [
    "nums1 = [6,6]\n",
    "nums2 = [1]\n",
    "minOperations(nums1, nums2)"
   ]
  },
  {
   "cell_type": "code",
   "execution_count": null,
   "metadata": {},
   "outputs": [],
   "source": []
  }
 ],
 "metadata": {
  "kernelspec": {
   "display_name": "Python 3",
   "language": "python",
   "name": "python3"
  },
  "language_info": {
   "codemirror_mode": {
    "name": "ipython",
    "version": 3
   },
   "file_extension": ".py",
   "mimetype": "text/x-python",
   "name": "python",
   "nbconvert_exporter": "python",
   "pygments_lexer": "ipython3",
   "version": "3.8.5"
  }
 },
 "nbformat": 4,
 "nbformat_minor": 4
}
