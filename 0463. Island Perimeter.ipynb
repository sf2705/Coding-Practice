{
 "cells": [
  {
   "cell_type": "markdown",
   "metadata": {},
   "source": [
    "### 2021-10-04\n",
    "\n",
    "https://leetcode.com/problems/island-perimeter/"
   ]
  },
  {
   "cell_type": "code",
   "execution_count": 2,
   "metadata": {},
   "outputs": [],
   "source": [
    "def islandPerimeter(grid):\n",
    "    \"\"\"\n",
    "    :type grid: List[List[int]]\n",
    "    :rtype: int\n",
    "    \"\"\"\n",
    "\n",
    "    if not grid:\n",
    "        return 0\n",
    "    \n",
    "    def check_neighbor(i, j):\n",
    "        neighbor = [(i-1, j), (i+1, j), (i, j-1), (i, j+1)]\n",
    "        \n",
    "        res = 0\n",
    "        for r, c in neighbor:\n",
    "            if r < 0 or c < 0 or r == len(grid) or c == len(grid[0]) or grid[r][c] == 0:\n",
    "                res += 1\n",
    "        return res\n",
    "    \n",
    "    total = 0\n",
    "    for i in range(len(grid)):\n",
    "        for j in range(len(grid[0])):\n",
    "            if grid[i][j] == 1:\n",
    "                total += check_neighbor(i, j)\n",
    "    \n",
    "    return total"
   ]
  },
  {
   "cell_type": "code",
   "execution_count": 3,
   "metadata": {},
   "outputs": [
    {
     "data": {
      "text/plain": [
       "16"
      ]
     },
     "execution_count": 3,
     "metadata": {},
     "output_type": "execute_result"
    }
   ],
   "source": [
    "grid = [[0,1,0,0],[1,1,1,0],[0,1,0,0],[1,1,0,0]]\n",
    "islandPerimeter(grid)"
   ]
  },
  {
   "cell_type": "code",
   "execution_count": 4,
   "metadata": {},
   "outputs": [
    {
     "data": {
      "text/plain": [
       "4"
      ]
     },
     "execution_count": 4,
     "metadata": {},
     "output_type": "execute_result"
    }
   ],
   "source": [
    "grid = [[1]]\n",
    "islandPerimeter(grid)"
   ]
  },
  {
   "cell_type": "code",
   "execution_count": 5,
   "metadata": {},
   "outputs": [
    {
     "data": {
      "text/plain": [
       "4"
      ]
     },
     "execution_count": 5,
     "metadata": {},
     "output_type": "execute_result"
    }
   ],
   "source": [
    "grid = [[1,0]]\n",
    "islandPerimeter(grid)"
   ]
  },
  {
   "cell_type": "code",
   "execution_count": null,
   "metadata": {},
   "outputs": [],
   "source": []
  }
 ],
 "metadata": {
  "kernelspec": {
   "display_name": "Python 3",
   "language": "python",
   "name": "python3"
  },
  "language_info": {
   "codemirror_mode": {
    "name": "ipython",
    "version": 3
   },
   "file_extension": ".py",
   "mimetype": "text/x-python",
   "name": "python",
   "nbconvert_exporter": "python",
   "pygments_lexer": "ipython3",
   "version": "3.8.5"
  }
 },
 "nbformat": 4,
 "nbformat_minor": 4
}
