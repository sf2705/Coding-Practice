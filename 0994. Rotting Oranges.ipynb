{
 "cells": [
  {
   "cell_type": "markdown",
   "metadata": {},
   "source": [
    "### 2021-10-29\n",
    "\n",
    "https://leetcode.com/problems/rotting-oranges/"
   ]
  },
  {
   "cell_type": "code",
   "execution_count": 2,
   "metadata": {},
   "outputs": [],
   "source": [
    "def orangesRotting(grid):\n",
    "    \"\"\"\n",
    "    :type grid: List[List[int]]\n",
    "    :rtype: int\n",
    "    \"\"\"\n",
    "    if not grid:\n",
    "        return 0\n",
    "    \n",
    "    fresh = set()\n",
    "    rotten = set()\n",
    "    for r in range(len(grid)):\n",
    "        for c in range(len(grid[0])):\n",
    "            if grid[r][c] == 1:\n",
    "                fresh.add((r, c))\n",
    "            if grid[r][c] == 2:\n",
    "                rotten.add((r,c))\n",
    "    \n",
    "    minute = 0\n",
    "    \n",
    "    while fresh:\n",
    "        if not rotten:\n",
    "            return -1\n",
    "        \n",
    "        new_rotten = set()\n",
    "        for i, j in rotten:\n",
    "            for x, y in [(0, 1), (0, -1), (1, 0), (-1, 0)]:\n",
    "                if (i+x, y+j) in fresh:\n",
    "                    new_rotten.add((i+x, j+y))\n",
    "        rotten = new_rotten\n",
    "        fresh -= rotten\n",
    "        minute += 1\n",
    "    \n",
    "    return minute\n"
   ]
  },
  {
   "cell_type": "code",
   "execution_count": 3,
   "metadata": {},
   "outputs": [
    {
     "data": {
      "text/plain": [
       "4"
      ]
     },
     "execution_count": 3,
     "metadata": {},
     "output_type": "execute_result"
    }
   ],
   "source": [
    "grid = [[2,1,1],[1,1,0],[0,1,1]]\n",
    "orangesRotting(grid)"
   ]
  },
  {
   "cell_type": "code",
   "execution_count": 4,
   "metadata": {},
   "outputs": [
    {
     "data": {
      "text/plain": [
       "-1"
      ]
     },
     "execution_count": 4,
     "metadata": {},
     "output_type": "execute_result"
    }
   ],
   "source": [
    "grid = [[2,1,1],[0,1,1],[1,0,1]]\n",
    "orangesRotting(grid)"
   ]
  },
  {
   "cell_type": "code",
   "execution_count": 5,
   "metadata": {},
   "outputs": [
    {
     "data": {
      "text/plain": [
       "0"
      ]
     },
     "execution_count": 5,
     "metadata": {},
     "output_type": "execute_result"
    }
   ],
   "source": [
    "grid = [[0,2]]\n",
    "orangesRotting(grid)"
   ]
  },
  {
   "cell_type": "code",
   "execution_count": null,
   "metadata": {},
   "outputs": [],
   "source": []
  }
 ],
 "metadata": {
  "kernelspec": {
   "display_name": "Python 3",
   "language": "python",
   "name": "python3"
  },
  "language_info": {
   "codemirror_mode": {
    "name": "ipython",
    "version": 3
   },
   "file_extension": ".py",
   "mimetype": "text/x-python",
   "name": "python",
   "nbconvert_exporter": "python",
   "pygments_lexer": "ipython3",
   "version": "3.8.5"
  }
 },
 "nbformat": 4,
 "nbformat_minor": 4
}
