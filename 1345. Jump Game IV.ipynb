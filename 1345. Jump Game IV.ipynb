{
 "cells": [
  {
   "cell_type": "markdown",
   "metadata": {},
   "source": [
    "### 2022-01-14\n",
    "\n",
    "https://leetcode.com/problems/jump-game-iv/"
   ]
  },
  {
   "cell_type": "code",
   "execution_count": 3,
   "metadata": {},
   "outputs": [],
   "source": [
    "def minJumps(arr):\n",
    "    \"\"\"\n",
    "    :type arr: List[int]\n",
    "    :rtype: int\n",
    "    \"\"\"\n",
    "    \n",
    "    from collections import defaultdict, deque\n",
    "    \n",
    "    dic = defaultdict(list)\n",
    "    \n",
    "    for i in range(len(arr)):\n",
    "        dic[arr[i]].append(i)\n",
    "    \n",
    "    queue = deque([(0, 0)])\n",
    "    seen = set()\n",
    "    seen_value = set()\n",
    "    \n",
    "    while queue:\n",
    "        step, i = queue.popleft()\n",
    "        \n",
    "        if i == len(arr)-1:\n",
    "            return step\n",
    "        \n",
    "        for j in (i-1, i+1):\n",
    "            if 0 <= j < len(arr) and j not in seen:\n",
    "                seen.add(j)\n",
    "                queue.append((step+1, j))\n",
    "        \n",
    "        if arr[i] not in seen_value:\n",
    "            seen_value.add(arr[i])\n",
    "            for v in dic[arr[i]]:\n",
    "                if v not in seen:\n",
    "                    seen.add(v)\n",
    "                    queue.append((step+1, v))\n",
    "    return -1\n",
    "            "
   ]
  },
  {
   "cell_type": "code",
   "execution_count": 4,
   "metadata": {},
   "outputs": [
    {
     "data": {
      "text/plain": [
       "3"
      ]
     },
     "execution_count": 4,
     "metadata": {},
     "output_type": "execute_result"
    }
   ],
   "source": [
    "arr = [100,-23,-23,404,100,23,23,23,3,404]\n",
    "minJumps(arr)"
   ]
  },
  {
   "cell_type": "code",
   "execution_count": 5,
   "metadata": {},
   "outputs": [
    {
     "data": {
      "text/plain": [
       "0"
      ]
     },
     "execution_count": 5,
     "metadata": {},
     "output_type": "execute_result"
    }
   ],
   "source": [
    "arr = [7]\n",
    "minJumps(arr)"
   ]
  },
  {
   "cell_type": "code",
   "execution_count": 6,
   "metadata": {},
   "outputs": [
    {
     "data": {
      "text/plain": [
       "1"
      ]
     },
     "execution_count": 6,
     "metadata": {},
     "output_type": "execute_result"
    }
   ],
   "source": [
    "arr = [7,6,9,6,9,6,9,7]\n",
    "minJumps(arr)"
   ]
  },
  {
   "cell_type": "code",
   "execution_count": null,
   "metadata": {},
   "outputs": [],
   "source": []
  }
 ],
 "metadata": {
  "kernelspec": {
   "display_name": "Python 3",
   "language": "python",
   "name": "python3"
  },
  "language_info": {
   "codemirror_mode": {
    "name": "ipython",
    "version": 3
   },
   "file_extension": ".py",
   "mimetype": "text/x-python",
   "name": "python",
   "nbconvert_exporter": "python",
   "pygments_lexer": "ipython3",
   "version": "3.8.5"
  }
 },
 "nbformat": 4,
 "nbformat_minor": 4
}
