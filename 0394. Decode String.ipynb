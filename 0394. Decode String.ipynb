{
 "cells": [
  {
   "cell_type": "markdown",
   "metadata": {},
   "source": [
    "### 2021-12-18\n",
    "\n",
    "https://leetcode.com/problems/decode-string/"
   ]
  },
  {
   "cell_type": "code",
   "execution_count": null,
   "metadata": {},
   "outputs": [],
   "source": [
    "def decodeString(s):\n",
    "    \"\"\"\n",
    "    :type s: str\n",
    "    :rtype: str\n",
    "    \"\"\"\n",
    "    \n",
    "    stack = []\n",
    "    cur_arr = ''\n",
    "    cur_n = 0\n",
    "    \n",
    "    for c in s:\n",
    "        if c == '[':\n",
    "            stack.append(arr)\n",
    "            stack.append(cur_n)\n",
    "            cur_arr = ''\n",
    "            cur_n = 0\n",
    "        elif c == ']':\n",
    "            n = stack.pop()\n",
    "            arr = stack.pop()\n",
    "            cur_arr = arr + cur_arr * n\n",
    "        elif c.isdigit():\n",
    "            cur_n = cur_n*10 + int(c)\n",
    "        else:\n",
    "            cur_arr += c\n",
    "    return cur_ar\n"
   ]
  }
 ],
 "metadata": {
  "kernelspec": {
   "display_name": "Python 3",
   "language": "python",
   "name": "python3"
  },
  "language_info": {
   "codemirror_mode": {
    "name": "ipython",
    "version": 3
   },
   "file_extension": ".py",
   "mimetype": "text/x-python",
   "name": "python",
   "nbconvert_exporter": "python",
   "pygments_lexer": "ipython3",
   "version": "3.8.5"
  }
 },
 "nbformat": 4,
 "nbformat_minor": 4
}
