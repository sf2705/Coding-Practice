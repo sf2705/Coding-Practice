{
 "cells": [
  {
   "cell_type": "markdown",
   "metadata": {},
   "source": [
    "### 2021-12-22\n",
    "\n",
    "https://leetcode.com/problems/course-schedule-ii/"
   ]
  },
  {
   "cell_type": "code",
   "execution_count": null,
   "metadata": {},
   "outputs": [],
   "source": [
    "def findOrder(numCourses, prerequisites):\n",
    "    \"\"\"\n",
    "    :type numCourses: int\n",
    "    :type prerequisites: List[List[int]]\n",
    "    :rtype: List[int]\n",
    "    \"\"\"\n",
    "\n",
    "    from collections import defaultdict\n",
    "    \n",
    "    def dfs(i):\n",
    "        if self.seen[i] == -1:\n",
    "            return False\n",
    "        if self.seen[i] == 1:\n",
    "            return True\n",
    "        \n",
    "        self.seen[i] = -1\n",
    "        for j in graph[i]:\n",
    "            if not dfs(j):\n",
    "                return False\n",
    "        self.seen[i] = 1\n",
    "        self.res.append(i)\n",
    "        return True\n",
    "        \n",
    "    graph = defaultdict(list)\n",
    "    for i, j in prerequisites:\n",
    "        graph[i].append(j)\n",
    "    \n",
    "    self.res = []\n",
    "    self.seen = [0] * numCourses\n",
    "    \n",
    "    for i in range(numCourses):\n",
    "        if not dfs(i):\n",
    "            return []\n",
    "    return self.res\n",
    "    \n",
    "    "
   ]
  }
 ],
 "metadata": {
  "kernelspec": {
   "display_name": "Python 3",
   "language": "python",
   "name": "python3"
  },
  "language_info": {
   "codemirror_mode": {
    "name": "ipython",
    "version": 3
   },
   "file_extension": ".py",
   "mimetype": "text/x-python",
   "name": "python",
   "nbconvert_exporter": "python",
   "pygments_lexer": "ipython3",
   "version": "3.8.5"
  }
 },
 "nbformat": 4,
 "nbformat_minor": 4
}
