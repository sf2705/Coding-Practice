{
 "cells": [
  {
   "cell_type": "markdown",
   "metadata": {},
   "source": [
    "### 2021-09-25\n",
    "\n",
    "https://leetcode.com/problems/divide-array-in-sets-of-k-consecutive-numbers/"
   ]
  },
  {
   "cell_type": "code",
   "execution_count": 16,
   "metadata": {},
   "outputs": [],
   "source": [
    "def isPossibleDivide(nums, k):\n",
    "    \"\"\"\n",
    "    :type nums: List[int]\n",
    "    :type k: int\n",
    "    :rtype: bool\n",
    "    \"\"\"\n",
    "    from collections import Counter\n",
    "    if len(nums) % k:\n",
    "        return False\n",
    "    \n",
    "    cnt = Counter(nums)\n",
    "    \n",
    "    for n in sorted(cnt):\n",
    "        print(n, cnt)\n",
    "        if cnt[n] > 0:\n",
    "            for i in range(n+k-1, n-1, -1):\n",
    "                cnt[i] -= cnt[n]\n",
    "                if cnt[i] < 0:\n",
    "                    return False\n",
    "        \n",
    "    return True\n",
    "    \n"
   ]
  },
  {
   "cell_type": "code",
   "execution_count": 17,
   "metadata": {},
   "outputs": [
    {
     "name": "stdout",
     "output_type": "stream",
     "text": [
      "1 Counter({3: 2, 4: 2, 1: 1, 2: 1, 5: 1, 6: 1})\n",
      "2 Counter({3: 1, 4: 1, 5: 1, 6: 1, 1: 0, 2: 0})\n",
      "3 Counter({3: 1, 4: 1, 5: 1, 6: 1, 1: 0, 2: 0})\n",
      "4 Counter({1: 0, 2: 0, 3: 0, 4: 0, 5: 0, 6: 0})\n",
      "5 Counter({1: 0, 2: 0, 3: 0, 4: 0, 5: 0, 6: 0})\n",
      "6 Counter({1: 0, 2: 0, 3: 0, 4: 0, 5: 0, 6: 0})\n"
     ]
    },
    {
     "data": {
      "text/plain": [
       "True"
      ]
     },
     "execution_count": 17,
     "metadata": {},
     "output_type": "execute_result"
    }
   ],
   "source": [
    "nums = [1,2,3,3,4,4,5,6]\n",
    "k = 4\n",
    "isPossibleDivide(nums, k)"
   ]
  },
  {
   "cell_type": "code",
   "execution_count": 18,
   "metadata": {},
   "outputs": [
    {
     "name": "stdout",
     "output_type": "stream",
     "text": [
      "1 Counter({3: 3, 2: 2, 4: 2, 1: 1, 5: 1, 9: 1, 10: 1, 11: 1})\n",
      "2 Counter({3: 2, 4: 2, 2: 1, 5: 1, 9: 1, 10: 1, 11: 1, 1: 0})\n",
      "3 Counter({3: 1, 4: 1, 5: 1, 9: 1, 10: 1, 11: 1, 2: 0, 1: 0})\n",
      "4 Counter({9: 1, 10: 1, 11: 1, 3: 0, 2: 0, 1: 0, 4: 0, 5: 0})\n",
      "5 Counter({9: 1, 10: 1, 11: 1, 3: 0, 2: 0, 1: 0, 4: 0, 5: 0})\n",
      "9 Counter({9: 1, 10: 1, 11: 1, 3: 0, 2: 0, 1: 0, 4: 0, 5: 0})\n",
      "10 Counter({3: 0, 2: 0, 1: 0, 4: 0, 5: 0, 9: 0, 10: 0, 11: 0})\n",
      "11 Counter({3: 0, 2: 0, 1: 0, 4: 0, 5: 0, 9: 0, 10: 0, 11: 0})\n"
     ]
    },
    {
     "data": {
      "text/plain": [
       "True"
      ]
     },
     "execution_count": 18,
     "metadata": {},
     "output_type": "execute_result"
    }
   ],
   "source": [
    "nums = [3,2,1,2,3,4,3,4,5,9,10,11]\n",
    "k = 3\n",
    "isPossibleDivide(nums, k)"
   ]
  },
  {
   "cell_type": "code",
   "execution_count": 19,
   "metadata": {},
   "outputs": [
    {
     "name": "stdout",
     "output_type": "stream",
     "text": [
      "1 Counter({3: 2, 2: 2, 1: 2})\n",
      "2 Counter({3: 0, 2: 0, 1: 0})\n",
      "3 Counter({3: 0, 2: 0, 1: 0})\n"
     ]
    },
    {
     "data": {
      "text/plain": [
       "True"
      ]
     },
     "execution_count": 19,
     "metadata": {},
     "output_type": "execute_result"
    }
   ],
   "source": [
    "nums = [3,3,2,2,1,1]\n",
    "k = 3\n",
    "isPossibleDivide(nums, k)"
   ]
  },
  {
   "cell_type": "code",
   "execution_count": 20,
   "metadata": {},
   "outputs": [
    {
     "data": {
      "text/plain": [
       "False"
      ]
     },
     "execution_count": 20,
     "metadata": {},
     "output_type": "execute_result"
    }
   ],
   "source": [
    "nums = [1,2,3,4]\n",
    "k = 3\n",
    "isPossibleDivide(nums, k)"
   ]
  },
  {
   "cell_type": "code",
   "execution_count": 21,
   "metadata": {},
   "outputs": [
    {
     "name": "stdout",
     "output_type": "stream",
     "text": [
      "16 Counter({16: 1, 21: 1, 26: 1, 35: 1})\n"
     ]
    },
    {
     "data": {
      "text/plain": [
       "False"
      ]
     },
     "execution_count": 21,
     "metadata": {},
     "output_type": "execute_result"
    }
   ],
   "source": [
    "nums = [16,21,26,35]\n",
    "k = 4\n",
    "isPossibleDivide(nums, k)"
   ]
  },
  {
   "cell_type": "code",
   "execution_count": null,
   "metadata": {},
   "outputs": [],
   "source": []
  }
 ],
 "metadata": {
  "kernelspec": {
   "display_name": "Python 3",
   "language": "python",
   "name": "python3"
  },
  "language_info": {
   "codemirror_mode": {
    "name": "ipython",
    "version": 3
   },
   "file_extension": ".py",
   "mimetype": "text/x-python",
   "name": "python",
   "nbconvert_exporter": "python",
   "pygments_lexer": "ipython3",
   "version": "3.8.5"
  }
 },
 "nbformat": 4,
 "nbformat_minor": 4
}
