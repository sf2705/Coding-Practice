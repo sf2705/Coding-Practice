{
 "cells": [
  {
   "cell_type": "markdown",
   "metadata": {},
   "source": [
    "### Q1"
   ]
  },
  {
   "cell_type": "code",
   "execution_count": 29,
   "metadata": {},
   "outputs": [],
   "source": [
    "def maximumUnits(boxTypes, truckSize):\n",
    "    \"\"\"\n",
    "    :type boxTypes: List[List[int]]\n",
    "    :type truckSize: int\n",
    "    :rtype: int\n",
    "    \"\"\"\n",
    "    if not boxTypes:\n",
    "        return 0\n",
    "    ord_types = sorted(boxTypes, key = lambda x:x[1], reverse = True)\n",
    "    units = 0\n",
    "    total = 0\n",
    "    for box in ord_types:\n",
    "        while units < truckSize and box[0] > 0:\n",
    "            total += box[1]\n",
    "            units += 1\n",
    "            box[0] -= 1\n",
    "        print(box, units)\n",
    "    return total"
   ]
  },
  {
   "cell_type": "code",
   "execution_count": 30,
   "metadata": {},
   "outputs": [
    {
     "name": "stdout",
     "output_type": "stream",
     "text": [
      "[0, 3] 1\n",
      "[0, 2] 3\n",
      "[2, 1] 4\n"
     ]
    },
    {
     "data": {
      "text/plain": [
       "8"
      ]
     },
     "execution_count": 30,
     "metadata": {},
     "output_type": "execute_result"
    }
   ],
   "source": [
    "boxTypes = [[1,3],[2,2],[3,1]]\n",
    "truckSize = 4\n",
    "maximumUnits(boxTypes, truckSize)"
   ]
  },
  {
   "cell_type": "code",
   "execution_count": 31,
   "metadata": {},
   "outputs": [
    {
     "name": "stdout",
     "output_type": "stream",
     "text": [
      "[0, 10] 5\n",
      "[0, 9] 8\n",
      "[2, 7] 10\n",
      "[2, 5] 10\n"
     ]
    },
    {
     "data": {
      "text/plain": [
       "91"
      ]
     },
     "execution_count": 31,
     "metadata": {},
     "output_type": "execute_result"
    }
   ],
   "source": [
    "boxTypes = [[5,10],[2,5],[4,7],[3,9]]\n",
    "truckSize = 10\n",
    "maximumUnits(boxTypes, truckSize)"
   ]
  },
  {
   "cell_type": "markdown",
   "metadata": {},
   "source": [
    "### Question 2"
   ]
  },
  {
   "cell_type": "code",
   "execution_count": 67,
   "metadata": {},
   "outputs": [],
   "source": [
    "def countPairs(deliciousness):\n",
    "    \"\"\"\n",
    "    :type deliciousness: List[int]\n",
    "    :rtype: int\n",
    "    \"\"\"\n",
    "    dic = dict()\n",
    "    for d in deliciousness:\n",
    "        if d not in dic:\n",
    "            dic[d] = 1\n",
    "        else:\n",
    "            dic[d] += 1\n",
    "    deliciousness = list(set(deliciousness))\n",
    "    print(deliciousness)\n",
    "    \n",
    "    pow_2 = []\n",
    "    two = 1\n",
    "    while two <= max(deliciousness)*2:\n",
    "        pow_2.append(two)\n",
    "        two *= 2\n",
    "    \n",
    "    res = 0\n",
    "    for i in range(len(deliciousness)):\n",
    "        for j in range(i, len(deliciousness)):\n",
    "            s = (deliciousness[i] + deliciousness[j]) % (10**9 + 7)\n",
    "            if s in pow_2:\n",
    "                if i == j:\n",
    "                    res += dic[deliciousness[i]] * (dic[deliciousness[i]]-1) // 2\n",
    "                else:\n",
    "                    res += dic[deliciousness[i]] * dic[deliciousness[j]]\n",
    "    return res"
   ]
  },
  {
   "cell_type": "code",
   "execution_count": 68,
   "metadata": {},
   "outputs": [
    {
     "name": "stdout",
     "output_type": "stream",
     "text": [
      "[1, 3, 5, 7, 9]\n"
     ]
    },
    {
     "data": {
      "text/plain": [
       "4"
      ]
     },
     "execution_count": 68,
     "metadata": {},
     "output_type": "execute_result"
    }
   ],
   "source": [
    "deliciousness = [1,3,5,7,9]\n",
    "countPairs(deliciousness)"
   ]
  },
  {
   "cell_type": "code",
   "execution_count": 69,
   "metadata": {},
   "outputs": [
    {
     "name": "stdout",
     "output_type": "stream",
     "text": [
      "[1, 3, 7]\n"
     ]
    },
    {
     "data": {
      "text/plain": [
       "15"
      ]
     },
     "execution_count": 69,
     "metadata": {},
     "output_type": "execute_result"
    }
   ],
   "source": [
    "deliciousness = [1,1,1,3,3,3,7]\n",
    "countPairs(deliciousness)"
   ]
  },
  {
   "cell_type": "code",
   "execution_count": 70,
   "metadata": {},
   "outputs": [
    {
     "name": "stdout",
     "output_type": "stream",
     "text": [
      "[0, 1, 39, 234, 107, 5611, 1325, 46, 12, 18, 6867, 20, 149, 2581, 22, 89, 63]\n"
     ]
    },
    {
     "data": {
      "text/plain": [
       "12"
      ]
     },
     "execution_count": 70,
     "metadata": {},
     "output_type": "execute_result"
    }
   ],
   "source": [
    "deliciousness = [149,107,1,63,0,1,6867,1325,5611,2581,39,89,46,18,12,20,22,234]\n",
    "countPairs(deliciousness)"
   ]
  },
  {
   "cell_type": "code",
   "execution_count": 71,
   "metadata": {},
   "outputs": [
    {
     "name": "stdout",
     "output_type": "stream",
     "text": [
      "[64]\n"
     ]
    },
    {
     "data": {
      "text/plain": [
       "528"
      ]
     },
     "execution_count": 71,
     "metadata": {},
     "output_type": "execute_result"
    }
   ],
   "source": [
    "deliciousness = [64,64,64,64,64,64,64,64,64,64,64,64,64,64,64,64,64,64,64,64,64,64,64,64,64,64,64,64,64,64,64,64,64]\n",
    "countPairs(deliciousness)"
   ]
  },
  {
   "cell_type": "markdown",
   "metadata": {},
   "source": [
    "### Q3"
   ]
  },
  {
   "cell_type": "code",
   "execution_count": 121,
   "metadata": {},
   "outputs": [],
   "source": [
    "def waysToSplit(nums):\n",
    "    \"\"\"\n",
    "    :type nums: List[int]\n",
    "    :rtype: int\n",
    "    \"\"\"\n",
    "    \n",
    "    one_third = sum(nums) / 3\n",
    "    res = 0\n",
    "    first = 0\n",
    "\n",
    "    for i in range(len(nums)-2):\n",
    "        first += nums[i]\n",
    "        total = sum(nums[i+1:])\n",
    "        if first  <= one_third:\n",
    "            j = i+1\n",
    "            half = 0\n",
    "            while half+nums[j] <= total / 2 and j < len(nums)-1:\n",
    "                half += nums[j]\n",
    "                j += 1\n",
    "                if half >= first:\n",
    "                    res += 1\n",
    "                \n",
    "                    print(i,j, total, half)\n",
    "        \n",
    "    return res % (10**9+7)"
   ]
  },
  {
   "cell_type": "code",
   "execution_count": 122,
   "metadata": {},
   "outputs": [
    {
     "name": "stdout",
     "output_type": "stream",
     "text": [
      "0 2 2 1\n"
     ]
    },
    {
     "data": {
      "text/plain": [
       "1"
      ]
     },
     "execution_count": 122,
     "metadata": {},
     "output_type": "execute_result"
    }
   ],
   "source": [
    "nums = [1,1,1]\n",
    "waysToSplit(nums)"
   ]
  },
  {
   "cell_type": "code",
   "execution_count": 123,
   "metadata": {},
   "outputs": [
    {
     "name": "stdout",
     "output_type": "stream",
     "text": [
      "0 2 11 2\n",
      "0 3 11 4\n",
      "1 4 9 4\n"
     ]
    },
    {
     "data": {
      "text/plain": [
       "3"
      ]
     },
     "execution_count": 123,
     "metadata": {},
     "output_type": "execute_result"
    }
   ],
   "source": [
    "nums = [1,2,2,2,5,0]\n",
    "waysToSplit(nums)"
   ]
  },
  {
   "cell_type": "code",
   "execution_count": 81,
   "metadata": {},
   "outputs": [
    {
     "data": {
      "text/plain": [
       "0"
      ]
     },
     "execution_count": 81,
     "metadata": {},
     "output_type": "execute_result"
    }
   ],
   "source": [
    "nums = [3,2,1]\n",
    "waysToSplit(nums)"
   ]
  },
  {
   "cell_type": "code",
   "execution_count": null,
   "metadata": {},
   "outputs": [],
   "source": []
  }
 ],
 "metadata": {
  "kernelspec": {
   "display_name": "Python 3",
   "language": "python",
   "name": "python3"
  },
  "language_info": {
   "codemirror_mode": {
    "name": "ipython",
    "version": 3
   },
   "file_extension": ".py",
   "mimetype": "text/x-python",
   "name": "python",
   "nbconvert_exporter": "python",
   "pygments_lexer": "ipython3",
   "version": "3.8.5"
  }
 },
 "nbformat": 4,
 "nbformat_minor": 4
}
