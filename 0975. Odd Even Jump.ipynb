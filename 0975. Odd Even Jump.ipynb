{
 "cells": [
  {
   "cell_type": "markdown",
   "metadata": {},
   "source": [
    "### 2021-10-23\n",
    "\n",
    "https://leetcode.com/problems/odd-even-jump/"
   ]
  },
  {
   "cell_type": "code",
   "execution_count": 21,
   "metadata": {},
   "outputs": [],
   "source": [
    "def oddEvenJumps(arr):\n",
    "    \"\"\"\n",
    "    :type arr: List[int]\n",
    "    :rtype: int\n",
    "    \"\"\"\n",
    "    \n",
    "    n = len(arr)\n",
    "    next_higher, next_lower = [0]*n, [0]*n\n",
    "    \n",
    "    stack = []\n",
    "    \n",
    "    # sort arr based on value, index\n",
    "    for a, i in sorted([arr[i],i] for i in range(len(arr))):\n",
    "        while stack and stack[-1] < i:\n",
    "            next_higher[stack.pop()] = i\n",
    "        stack.append(i)\n",
    "    \n",
    "    stack = []\n",
    "    # sort arr based on negative value, index\n",
    "    for a, i in sorted([-arr[i],i] for i in range(len(arr))):\n",
    "        while stack and stack[-1] < i:\n",
    "            next_lower[stack.pop()] = i\n",
    "        stack.append(i)\n",
    "        \n",
    "    \n",
    "    higher, lower = [0]*n, [0]*n\n",
    "    print(higher)\n",
    "    higher[-1] = 1\n",
    "    lower[-1] = 1\n",
    "    \n",
    "    for i in range(n-2, -1, -1):\n",
    "        higher[i] = lower[next_higher[i]]\n",
    "        lower[i] = higher[next_lower[i]]\n",
    "\n",
    "    return sum(higher)\n",
    "        \n"
   ]
  },
  {
   "cell_type": "code",
   "execution_count": 22,
   "metadata": {},
   "outputs": [
    {
     "name": "stdout",
     "output_type": "stream",
     "text": [
      "[0, 0, 0, 0, 0]\n"
     ]
    },
    {
     "data": {
      "text/plain": [
       "2"
      ]
     },
     "execution_count": 22,
     "metadata": {},
     "output_type": "execute_result"
    }
   ],
   "source": [
    "arr = [10,13,12,14,15]\n",
    "oddEvenJumps(arr)"
   ]
  },
  {
   "cell_type": "code",
   "execution_count": 23,
   "metadata": {},
   "outputs": [
    {
     "name": "stdout",
     "output_type": "stream",
     "text": [
      "[0, 0, 0, 0, 0]\n"
     ]
    },
    {
     "data": {
      "text/plain": [
       "3"
      ]
     },
     "execution_count": 23,
     "metadata": {},
     "output_type": "execute_result"
    }
   ],
   "source": [
    "arr = [2,3,1,1,4]\n",
    "oddEvenJumps(arr)"
   ]
  },
  {
   "cell_type": "code",
   "execution_count": 24,
   "metadata": {},
   "outputs": [
    {
     "name": "stdout",
     "output_type": "stream",
     "text": [
      "[0, 0, 0, 0, 0]\n"
     ]
    },
    {
     "data": {
      "text/plain": [
       "3"
      ]
     },
     "execution_count": 24,
     "metadata": {},
     "output_type": "execute_result"
    }
   ],
   "source": [
    "arr = [5,1,3,4,2]\n",
    "oddEvenJumps(arr)"
   ]
  },
  {
   "cell_type": "code",
   "execution_count": null,
   "metadata": {},
   "outputs": [],
   "source": []
  }
 ],
 "metadata": {
  "kernelspec": {
   "display_name": "Python 3",
   "language": "python",
   "name": "python3"
  },
  "language_info": {
   "codemirror_mode": {
    "name": "ipython",
    "version": 3
   },
   "file_extension": ".py",
   "mimetype": "text/x-python",
   "name": "python",
   "nbconvert_exporter": "python",
   "pygments_lexer": "ipython3",
   "version": "3.8.5"
  }
 },
 "nbformat": 4,
 "nbformat_minor": 4
}
