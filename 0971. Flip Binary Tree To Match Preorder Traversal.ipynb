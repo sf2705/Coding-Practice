{
 "cells": [
  {
   "cell_type": "markdown",
   "metadata": {},
   "source": [
    "### 2021-03-29\n",
    "\n",
    "https://leetcode.com/problems/flip-binary-tree-to-match-preorder-traversal/"
   ]
  },
  {
   "cell_type": "code",
   "execution_count": null,
   "metadata": {},
   "outputs": [],
   "source": [
    "# Definition for a binary tree node.\n",
    "# class TreeNode(object):\n",
    "#     def __init__(self, val=0, left=None, right=None):\n",
    "#         self.val = val\n",
    "#         self.left = left\n",
    "#         self.right = right\n",
    "class Solution(object):\n",
    "    def flipMatchVoyage(self, root, voyage):\n",
    "        \"\"\"\n",
    "        :type root: TreeNode\n",
    "        :type voyage: List[int]\n",
    "        :rtype: List[int]\n",
    "        \"\"\"\n",
    "        res = []\n",
    "        stack = [root]\n",
    "        i = 0\n",
    "        \n",
    "        while stack:\n",
    "            node = stack.pop()\n",
    "            if not node:\n",
    "                continue\n",
    "            if node and node.val != voyage[i]:\n",
    "                return [-1]\n",
    "            i += 1\n",
    "            if node.right and node.right.val == voyage[i]:\n",
    "                if node.left:\n",
    "                    res.append(node.val)\n",
    "                stack.extend([node.left, node.right])\n",
    "            else:\n",
    "                stack.extend([node.right, node.left])\n",
    "        return res\n",
    "        "
   ]
  }
 ],
 "metadata": {
  "kernelspec": {
   "display_name": "Python 3",
   "language": "python",
   "name": "python3"
  },
  "language_info": {
   "codemirror_mode": {
    "name": "ipython",
    "version": 3
   },
   "file_extension": ".py",
   "mimetype": "text/x-python",
   "name": "python",
   "nbconvert_exporter": "python",
   "pygments_lexer": "ipython3",
   "version": "3.8.5"
  }
 },
 "nbformat": 4,
 "nbformat_minor": 4
}
