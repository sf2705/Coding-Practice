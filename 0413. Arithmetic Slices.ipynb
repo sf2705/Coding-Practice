{
 "cells": [
  {
   "cell_type": "markdown",
   "metadata": {},
   "source": [
    "### 2021-02-18\n",
    "\n",
    "https://leetcode.com/problems/arithmetic-slices/"
   ]
  },
  {
   "cell_type": "code",
   "execution_count": 18,
   "metadata": {},
   "outputs": [],
   "source": [
    "def numberOfArithmeticSlices(A):\n",
    "    \"\"\"\n",
    "    :type A: List[int]\n",
    "    :rtype: int\n",
    "    \"\"\"\n",
    "    if len(A) < 3:\n",
    "        return 0\n",
    "    diff = []\n",
    "    for i in range(1, len(A)):\n",
    "        diff.append(A[i] - A[i-1])\n",
    "    cur = 1\n",
    "    res = 0\n",
    "    print(diff)\n",
    "    \n",
    "    for i in range(1, len(diff)):\n",
    "        if diff[i] == diff[i-1]:\n",
    "            cur += 1\n",
    "        else:\n",
    "            if cur >= 2:\n",
    "                res += sum(range(cur))\n",
    "                cur = 1\n",
    "        print(i, cur, res)\n",
    "    if cur >= 2:\n",
    "        res += sum(range(cur))\n",
    "    return res"
   ]
  },
  {
   "cell_type": "code",
   "execution_count": 19,
   "metadata": {},
   "outputs": [
    {
     "name": "stdout",
     "output_type": "stream",
     "text": [
      "[1, 1, 1]\n",
      "1 2 0\n",
      "2 3 0\n"
     ]
    },
    {
     "data": {
      "text/plain": [
       "3"
      ]
     },
     "execution_count": 19,
     "metadata": {},
     "output_type": "execute_result"
    }
   ],
   "source": [
    "A = [1, 2, 3, 4]\n",
    "numberOfArithmeticSlices(A)"
   ]
  },
  {
   "cell_type": "code",
   "execution_count": null,
   "metadata": {},
   "outputs": [],
   "source": []
  }
 ],
 "metadata": {
  "kernelspec": {
   "display_name": "Python 3",
   "language": "python",
   "name": "python3"
  },
  "language_info": {
   "codemirror_mode": {
    "name": "ipython",
    "version": 3
   },
   "file_extension": ".py",
   "mimetype": "text/x-python",
   "name": "python",
   "nbconvert_exporter": "python",
   "pygments_lexer": "ipython3",
   "version": "3.8.5"
  }
 },
 "nbformat": 4,
 "nbformat_minor": 4
}
