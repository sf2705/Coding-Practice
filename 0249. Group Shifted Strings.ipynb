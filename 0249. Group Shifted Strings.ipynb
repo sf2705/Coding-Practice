{
 "cells": [
  {
   "cell_type": "markdown",
   "metadata": {},
   "source": [
    "### 2022-01-29\n",
    "\n",
    "https://leetcode.com/problems/group-shifted-strings/"
   ]
  },
  {
   "cell_type": "code",
   "execution_count": 9,
   "metadata": {},
   "outputs": [],
   "source": [
    "def groupStrings(strings):\n",
    "    \"\"\"\n",
    "    :type strings: List[str]\n",
    "    :rtype: List[List[str]]\n",
    "    \"\"\"\n",
    "\n",
    "    from collections import defaultdict\n",
    "    \n",
    "    dic = defaultdict(list)\n",
    "    \n",
    "    for s in strings:\n",
    "        pattern = '0'\n",
    "        for i in range(1, len(s)):\n",
    "            pattern += str((ord(s[i]) - ord(s[i-1]))%26)\n",
    "            pattern += ','\n",
    "        dic[pattern].append(s)\n",
    "    \n",
    "    return [v for k, v in dic.items()]"
   ]
  },
  {
   "cell_type": "code",
   "execution_count": 10,
   "metadata": {},
   "outputs": [
    {
     "data": {
      "text/plain": [
       "[['abc', 'bcd', 'xyz'], ['acef'], ['az', 'ba'], ['a', 'z']]"
      ]
     },
     "execution_count": 10,
     "metadata": {},
     "output_type": "execute_result"
    }
   ],
   "source": [
    "strings = [\"abc\",\"bcd\",\"acef\",\"xyz\",\"az\",\"ba\",\"a\",\"z\"]\n",
    "groupStrings(strings)"
   ]
  },
  {
   "cell_type": "code",
   "execution_count": 11,
   "metadata": {},
   "outputs": [
    {
     "data": {
      "text/plain": [
       "[['a']]"
      ]
     },
     "execution_count": 11,
     "metadata": {},
     "output_type": "execute_result"
    }
   ],
   "source": [
    "strings = [\"a\"]\n",
    "groupStrings(strings)"
   ]
  },
  {
   "cell_type": "code",
   "execution_count": null,
   "metadata": {},
   "outputs": [],
   "source": []
  }
 ],
 "metadata": {
  "kernelspec": {
   "display_name": "Python 3",
   "language": "python",
   "name": "python3"
  },
  "language_info": {
   "codemirror_mode": {
    "name": "ipython",
    "version": 3
   },
   "file_extension": ".py",
   "mimetype": "text/x-python",
   "name": "python",
   "nbconvert_exporter": "python",
   "pygments_lexer": "ipython3",
   "version": "3.8.5"
  }
 },
 "nbformat": 4,
 "nbformat_minor": 4
}
