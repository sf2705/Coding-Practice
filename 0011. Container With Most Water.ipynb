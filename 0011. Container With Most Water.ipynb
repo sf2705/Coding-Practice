{
 "cells": [
  {
   "cell_type": "markdown",
   "metadata": {},
   "source": [
    "### 2021-01-30\n",
    "\n",
    "https://leetcode.com/problems/container-with-most-water/"
   ]
  },
  {
   "cell_type": "code",
   "execution_count": 27,
   "metadata": {},
   "outputs": [],
   "source": [
    "def maxArea(height):\n",
    "    \"\"\"\n",
    "    :type height: List[int]\n",
    "    :rtype: int\n",
    "    \"\"\"\n",
    "    res = 0\n",
    "    l, r = 0, len(height) - 1\n",
    "    while l < r:\n",
    "        \n",
    "        width = r - l\n",
    "        h = min(height[l], height[r])\n",
    "        area = h * width\n",
    "        \n",
    "        print(l, r, area)\n",
    "        res = max(area, res)\n",
    "        if height[l] < height[r]:\n",
    "            l += 1\n",
    "        else:\n",
    "            r -= 1\n",
    "        \n",
    "    return res\n"
   ]
  },
  {
   "cell_type": "code",
   "execution_count": 28,
   "metadata": {},
   "outputs": [
    {
     "name": "stdout",
     "output_type": "stream",
     "text": [
      "0 3 3\n",
      "1 3 4\n",
      "2 3 3\n"
     ]
    },
    {
     "data": {
      "text/plain": [
       "4"
      ]
     },
     "execution_count": 28,
     "metadata": {},
     "output_type": "execute_result"
    }
   ],
   "source": [
    "height = [1,2,4,3]\n",
    "maxArea(height)"
   ]
  },
  {
   "cell_type": "code",
   "execution_count": 29,
   "metadata": {},
   "outputs": [
    {
     "name": "stdout",
     "output_type": "stream",
     "text": [
      "0 8 8\n",
      "1 8 49\n",
      "1 7 18\n",
      "1 6 40\n",
      "1 5 16\n",
      "1 4 15\n",
      "1 3 4\n",
      "1 2 6\n"
     ]
    },
    {
     "data": {
      "text/plain": [
       "49"
      ]
     },
     "execution_count": 29,
     "metadata": {},
     "output_type": "execute_result"
    }
   ],
   "source": [
    "height = [1,8,6,2,5,4,8,3,7]\n",
    "maxArea(height)"
   ]
  },
  {
   "cell_type": "code",
   "execution_count": 30,
   "metadata": {},
   "outputs": [
    {
     "name": "stdout",
     "output_type": "stream",
     "text": [
      "0 1 1\n"
     ]
    },
    {
     "data": {
      "text/plain": [
       "1"
      ]
     },
     "execution_count": 30,
     "metadata": {},
     "output_type": "execute_result"
    }
   ],
   "source": [
    "height = [1,1]\n",
    "maxArea(height)"
   ]
  },
  {
   "cell_type": "code",
   "execution_count": 31,
   "metadata": {},
   "outputs": [
    {
     "name": "stdout",
     "output_type": "stream",
     "text": [
      "0 4 16\n",
      "0 3 3\n",
      "0 2 4\n",
      "0 1 3\n"
     ]
    },
    {
     "data": {
      "text/plain": [
       "16"
      ]
     },
     "execution_count": 31,
     "metadata": {},
     "output_type": "execute_result"
    }
   ],
   "source": [
    "height = [4,3,2,1,4]\n",
    "maxArea(height)"
   ]
  },
  {
   "cell_type": "code",
   "execution_count": 32,
   "metadata": {},
   "outputs": [
    {
     "name": "stdout",
     "output_type": "stream",
     "text": [
      "0 2 2\n",
      "0 1 1\n"
     ]
    },
    {
     "data": {
      "text/plain": [
       "2"
      ]
     },
     "execution_count": 32,
     "metadata": {},
     "output_type": "execute_result"
    }
   ],
   "source": [
    "height = [1,2,1]\n",
    "maxArea(height)"
   ]
  },
  {
   "cell_type": "code",
   "execution_count": null,
   "metadata": {},
   "outputs": [],
   "source": []
  }
 ],
 "metadata": {
  "kernelspec": {
   "display_name": "Python 3",
   "language": "python",
   "name": "python3"
  },
  "language_info": {
   "codemirror_mode": {
    "name": "ipython",
    "version": 3
   },
   "file_extension": ".py",
   "mimetype": "text/x-python",
   "name": "python",
   "nbconvert_exporter": "python",
   "pygments_lexer": "ipython3",
   "version": "3.8.5"
  }
 },
 "nbformat": 4,
 "nbformat_minor": 4
}
