{
 "cells": [
  {
   "cell_type": "markdown",
   "metadata": {},
   "source": [
    "### 2021-11-01\n",
    "\n",
    "https://leetcode.com/problems/unique-paths-iii/"
   ]
  },
  {
   "cell_type": "code",
   "execution_count": 1,
   "metadata": {},
   "outputs": [],
   "source": [
    "def uniquePathsIII(self, grid):\n",
    "    \"\"\"\n",
    "    :type grid: List[List[int]]\n",
    "    :rtype: int\n",
    "    \"\"\"\n",
    "    \n",
    "    self.res = 0\n",
    "    m, n = len(grid), len(grid[0])\n",
    "    empty = 1\n",
    "    \n",
    "    for i in range(m):\n",
    "        for j in range(n):\n",
    "            if grid[i][j] == 1:\n",
    "                x, y = i, j\n",
    "            elif grid[i][j] == 0:\n",
    "                empty += 1\n",
    "    \n",
    "    def dfs(x, y, empty):\n",
    "        if not (0<=x<m and 0<=y<n) or grid[x][y]<0:\n",
    "            return\n",
    "        \n",
    "        if grid[x][y] == 2:\n",
    "            if empty == 0:\n",
    "                self.res += 1\n",
    "            return\n",
    "        \n",
    "        grid[x][y] = -2\n",
    "        \n",
    "        dfs(x-1, y, empty-1)\n",
    "        dfs(x+1, y, empty-1)\n",
    "        dfs(x, y-1, empty-1)\n",
    "        dfs(x, y+1, empty-1)\n",
    "        \n",
    "        grid[x][y] = 0\n",
    "    \n",
    "    dfs(x, y, empty)\n",
    "    return self.res\n",
    "            "
   ]
  },
  {
   "cell_type": "code",
   "execution_count": null,
   "metadata": {},
   "outputs": [],
   "source": []
  }
 ],
 "metadata": {
  "kernelspec": {
   "display_name": "Python 3",
   "language": "python",
   "name": "python3"
  },
  "language_info": {
   "codemirror_mode": {
    "name": "ipython",
    "version": 3
   },
   "file_extension": ".py",
   "mimetype": "text/x-python",
   "name": "python",
   "nbconvert_exporter": "python",
   "pygments_lexer": "ipython3",
   "version": "3.8.5"
  }
 },
 "nbformat": 4,
 "nbformat_minor": 4
}
