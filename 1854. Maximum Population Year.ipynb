{
 "cells": [
  {
   "cell_type": "markdown",
   "metadata": {},
   "source": [
    "### 2021-11-06\n",
    "\n",
    "https://leetcode.com/problems/maximum-population-year/"
   ]
  },
  {
   "cell_type": "code",
   "execution_count": 1,
   "metadata": {},
   "outputs": [],
   "source": [
    "def maximumPopulation(logs):\n",
    "    \"\"\"\n",
    "    :type logs: List[List[int]]\n",
    "    :rtype: int\n",
    "    \"\"\"\n",
    "\n",
    "    delta = [0] * 101\n",
    "    yr = 1950\n",
    "    \n",
    "    for l in logs:\n",
    "        delta[l[0] - yr] += 1\n",
    "        delta[l[1] - yr] -= 1\n",
    "    \n",
    "    population = 0\n",
    "    cur_sum = 0\n",
    "    res = yr\n",
    "    for i in range(len(delta)):\n",
    "        cur_sum += delta[i]\n",
    "        if cur_sum > population:\n",
    "            population = cur_sum\n",
    "            res = yr + i\n",
    "    \n",
    "    return res"
   ]
  },
  {
   "cell_type": "code",
   "execution_count": 2,
   "metadata": {},
   "outputs": [
    {
     "data": {
      "text/plain": [
       "1993"
      ]
     },
     "execution_count": 2,
     "metadata": {},
     "output_type": "execute_result"
    }
   ],
   "source": [
    "logs = [[1993,1999],[2000,2010]]\n",
    "maximumPopulation(logs)"
   ]
  },
  {
   "cell_type": "code",
   "execution_count": 3,
   "metadata": {},
   "outputs": [
    {
     "data": {
      "text/plain": [
       "1960"
      ]
     },
     "execution_count": 3,
     "metadata": {},
     "output_type": "execute_result"
    }
   ],
   "source": [
    "logs = [[1950,1961],[1960,1971],[1970,1981]]\n",
    "maximumPopulation(logs)"
   ]
  },
  {
   "cell_type": "code",
   "execution_count": null,
   "metadata": {},
   "outputs": [],
   "source": []
  }
 ],
 "metadata": {
  "kernelspec": {
   "display_name": "Python 3",
   "language": "python",
   "name": "python3"
  },
  "language_info": {
   "codemirror_mode": {
    "name": "ipython",
    "version": 3
   },
   "file_extension": ".py",
   "mimetype": "text/x-python",
   "name": "python",
   "nbconvert_exporter": "python",
   "pygments_lexer": "ipython3",
   "version": "3.8.5"
  }
 },
 "nbformat": 4,
 "nbformat_minor": 4
}
