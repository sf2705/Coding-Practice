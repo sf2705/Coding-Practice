{
 "cells": [
  {
   "cell_type": "markdown",
   "metadata": {},
   "source": [
    "### 2021-09-18\n",
    "\n",
    "https://leetcode.com/problems/maximum-earnings-from-taxi/"
   ]
  },
  {
   "cell_type": "code",
   "execution_count": 1,
   "metadata": {},
   "outputs": [],
   "source": [
    "def maxTaxiEarnings(n, rides):\n",
    "    \"\"\"\n",
    "    :type n: int\n",
    "    :type rides: List[List[int]]\n",
    "    :rtype: int\n",
    "    \"\"\"\n",
    "    rides = sorted(rides)\n",
    "    \n",
    "    dp = [0] * (n+1)\n",
    "    for i in range(n-1, -1, -1):\n",
    "        dp[i] = dp[i+1]\n",
    "        while rides and i == rides[-1][0]:\n",
    "            s, e, t = rides.pop()\n",
    "            earn = e-s+t\n",
    "            dp[i] = max(dp[i], dp[e] + earn)\n",
    "    return dp[0]\n"
   ]
  },
  {
   "cell_type": "code",
   "execution_count": 2,
   "metadata": {},
   "outputs": [
    {
     "data": {
      "text/plain": [
       "7"
      ]
     },
     "execution_count": 2,
     "metadata": {},
     "output_type": "execute_result"
    }
   ],
   "source": [
    "n = 5\n",
    "rides = [[2,5,4],[1,5,1]]\n",
    "maxTaxiEarnings(n, rides)"
   ]
  },
  {
   "cell_type": "code",
   "execution_count": 3,
   "metadata": {},
   "outputs": [
    {
     "data": {
      "text/plain": [
       "20"
      ]
     },
     "execution_count": 3,
     "metadata": {},
     "output_type": "execute_result"
    }
   ],
   "source": [
    "n = 20\n",
    "rides = [[1,6,1],[3,10,2],[10,12,3],[11,12,2],[12,15,2],[13,18,1]]\n",
    "maxTaxiEarnings(n, rides)"
   ]
  },
  {
   "cell_type": "code",
   "execution_count": null,
   "metadata": {},
   "outputs": [],
   "source": []
  }
 ],
 "metadata": {
  "kernelspec": {
   "display_name": "Python 3",
   "language": "python",
   "name": "python3"
  },
  "language_info": {
   "codemirror_mode": {
    "name": "ipython",
    "version": 3
   },
   "file_extension": ".py",
   "mimetype": "text/x-python",
   "name": "python",
   "nbconvert_exporter": "python",
   "pygments_lexer": "ipython3",
   "version": "3.8.5"
  }
 },
 "nbformat": 4,
 "nbformat_minor": 4
}
