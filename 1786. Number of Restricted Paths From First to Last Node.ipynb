{
 "cells": [
  {
   "cell_type": "markdown",
   "metadata": {},
   "source": [
    "### 2021-03-06\n",
    "\n",
    "https://leetcode.com/problems/number-of-restricted-paths-from-first-to-last-node/"
   ]
  },
  {
   "cell_type": "code",
   "execution_count": 8,
   "metadata": {},
   "outputs": [],
   "source": [
    "def countRestrictedPaths(n, edges):\n",
    "    \"\"\"\n",
    "    :type n: int\n",
    "    :type edges: List[List[int]]\n",
    "    :rtype: int\n",
    "    \"\"\"\n",
    "    from queue import PriorityQueue\n",
    "\n",
    "    adj = [dict() for _ in range(n+1)]\n",
    "    for u, v, weight in edges:\n",
    "        adj[u][v] = adj[v][u] = weight\n",
    "    \n",
    "    #Dijkstra\n",
    "    distance = [float('inf') for i in range(n)] + [0]\n",
    "    restricted_path = [0 for i in range(n)] + [1]\n",
    "    \n",
    "    queue = PriorityQueue()\n",
    "    queue.put((0, n))\n",
    "    visited = [0 for i in range(n+1)]\n",
    "    \n",
    "    while queue:\n",
    "        dist, u = queue.get()\n",
    "        if visited[u] == 1:\n",
    "            continue\n",
    "        visited[u] = 1\n",
    "        if u == 1:\n",
    "            break\n",
    "        for v in adj[u]:\n",
    "            if visited[v] == 0:\n",
    "                new_dist = distance[u] + adj[u][v]\n",
    "                if new_dist < distance[v]:\n",
    "                    distance[v] = new_dist\n",
    "                    queue.put((new_dist, v))\n",
    "                if distance[v] > distance[u]:\n",
    "                    restricted_path[v] = (restricted_path[v] + restricted_path[u]) % (10**9+7)\n",
    "    return restricted_path[1]"
   ]
  },
  {
   "cell_type": "code",
   "execution_count": 9,
   "metadata": {},
   "outputs": [
    {
     "data": {
      "text/plain": [
       "3"
      ]
     },
     "execution_count": 9,
     "metadata": {},
     "output_type": "execute_result"
    }
   ],
   "source": [
    "n = 5\n",
    "edges = [[1,2,3],[1,3,3],[2,3,1],[1,4,2],[5,2,2],[3,5,1],[5,4,10]]\n",
    "countRestrictedPaths(n, edges)"
   ]
  },
  {
   "cell_type": "code",
   "execution_count": 10,
   "metadata": {},
   "outputs": [
    {
     "data": {
      "text/plain": [
       "1"
      ]
     },
     "execution_count": 10,
     "metadata": {},
     "output_type": "execute_result"
    }
   ],
   "source": [
    "n = 7\n",
    "edges = [[1,3,1],[4,1,2],[7,3,4],[2,5,3],[5,6,1],[6,7,2],[7,5,3],[2,6,4]]\n",
    "countRestrictedPaths(n, edges)"
   ]
  },
  {
   "cell_type": "code",
   "execution_count": null,
   "metadata": {},
   "outputs": [],
   "source": []
  },
  {
   "cell_type": "code",
   "execution_count": null,
   "metadata": {},
   "outputs": [],
   "source": []
  }
 ],
 "metadata": {
  "kernelspec": {
   "display_name": "Python 3",
   "language": "python",
   "name": "python3"
  },
  "language_info": {
   "codemirror_mode": {
    "name": "ipython",
    "version": 3
   },
   "file_extension": ".py",
   "mimetype": "text/x-python",
   "name": "python",
   "nbconvert_exporter": "python",
   "pygments_lexer": "ipython3",
   "version": "3.8.5"
  }
 },
 "nbformat": 4,
 "nbformat_minor": 4
}
