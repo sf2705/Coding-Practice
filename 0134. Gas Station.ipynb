{
 "cells": [
  {
   "cell_type": "markdown",
   "metadata": {},
   "source": [
    "### 2022-01-20\n",
    "\n",
    "https://leetcode.com/problems/gas-station/"
   ]
  },
  {
   "cell_type": "code",
   "execution_count": 5,
   "metadata": {},
   "outputs": [],
   "source": [
    "def canCompleteCircuit(gas, cost):\n",
    "    \"\"\"\n",
    "    :type gas: List[int]\n",
    "    :type cost: List[int]\n",
    "    :rtype: int\n",
    "    \"\"\"\n",
    "    \n",
    "    if sum(cost) > sum(gas):\n",
    "        return -1\n",
    "    \n",
    "    start = 0\n",
    "    tank = 0\n",
    "    \n",
    "    for i in range(len(gas)):\n",
    "        tank += gas[i] - cost[i]\n",
    "        \n",
    "        if tank < 0:\n",
    "            start = i+1\n",
    "            tank = 0\n",
    "    \n",
    "    return start\n"
   ]
  },
  {
   "cell_type": "code",
   "execution_count": 6,
   "metadata": {},
   "outputs": [
    {
     "data": {
      "text/plain": [
       "3"
      ]
     },
     "execution_count": 6,
     "metadata": {},
     "output_type": "execute_result"
    }
   ],
   "source": [
    "gas = [1,2,3,4,5]\n",
    "cost = [3,4,5,1,2]\n",
    "canCompleteCircuit(gas, cost)"
   ]
  },
  {
   "cell_type": "code",
   "execution_count": 7,
   "metadata": {},
   "outputs": [
    {
     "data": {
      "text/plain": [
       "-1"
      ]
     },
     "execution_count": 7,
     "metadata": {},
     "output_type": "execute_result"
    }
   ],
   "source": [
    "gas = [2,3,4]\n",
    "cost = [3,4,3]\n",
    "canCompleteCircuit(gas, cost)"
   ]
  },
  {
   "cell_type": "code",
   "execution_count": null,
   "metadata": {},
   "outputs": [],
   "source": []
  }
 ],
 "metadata": {
  "kernelspec": {
   "display_name": "Python 3",
   "language": "python",
   "name": "python3"
  },
  "language_info": {
   "codemirror_mode": {
    "name": "ipython",
    "version": 3
   },
   "file_extension": ".py",
   "mimetype": "text/x-python",
   "name": "python",
   "nbconvert_exporter": "python",
   "pygments_lexer": "ipython3",
   "version": "3.8.5"
  }
 },
 "nbformat": 4,
 "nbformat_minor": 4
}
