{
 "cells": [
  {
   "cell_type": "markdown",
   "metadata": {},
   "source": [
    "### 2021-09-25\n",
    "\n",
    "https://leetcode.com/problems/shortest-path-in-a-grid-with-obstacles-elimination/"
   ]
  },
  {
   "cell_type": "code",
   "execution_count": 4,
   "metadata": {},
   "outputs": [],
   "source": [
    "def shortestPath(grid, k):\n",
    "    \"\"\"\n",
    "    :type grid: List[List[int]]\n",
    "    :type k: int\n",
    "    :rtype: int\n",
    "    \"\"\"\n",
    "    from collections import deque\n",
    "\n",
    "    if len(grid) <= 1 and len(grid[0]) <= 1:\n",
    "        return 0\n",
    "\n",
    "    m, n = len(grid), len(grid[0])\n",
    "\n",
    "    queue = deque([(0, 0, k, 0)])  # row, col, obstacle, step\n",
    "    seen = set([0, 0, k])\n",
    "\n",
    "    if k > m-1 + n-1:\n",
    "        return m-1 + n-1\n",
    "\n",
    "    while queue:\n",
    "        row, col, obs, step = queue.popleft()\n",
    "        for r, c in [(row-1, col), (row+1, col), (row, col-1), (row, col+1)]:\n",
    "            if 0 <= r < m and 0 <= c < n:\n",
    "                if grid[r][c] == 1 and obs > 0 and (r, c, obs-1) not in seen:\n",
    "                    seen.add((r, c, obs-1))\n",
    "                    queue.append((r, c, obs-1, step+1))\n",
    "                \n",
    "                if grid[r][c] == 0 and (r, c, obs) not in seen:\n",
    "                    if r == m-1 and c == n-1:\n",
    "                        return step+1\n",
    "                    seen.add((r, c, obs))\n",
    "                    queue.append((r, c, obs, step+1))\n",
    "    return -1"
   ]
  },
  {
   "cell_type": "code",
   "execution_count": 5,
   "metadata": {},
   "outputs": [
    {
     "data": {
      "text/plain": [
       "6"
      ]
     },
     "execution_count": 5,
     "metadata": {},
     "output_type": "execute_result"
    }
   ],
   "source": [
    "grid = [[0,0,0],\n",
    " [1,1,0],\n",
    " [0,0,0],\n",
    " [0,1,1],\n",
    " [0,0,0]]\n",
    "k = 1\n",
    "shortestPath(grid, k)"
   ]
  },
  {
   "cell_type": "code",
   "execution_count": 6,
   "metadata": {},
   "outputs": [
    {
     "data": {
      "text/plain": [
       "-1"
      ]
     },
     "execution_count": 6,
     "metadata": {},
     "output_type": "execute_result"
    }
   ],
   "source": [
    "grid = [[0,1,1],\n",
    " [1,1,1],\n",
    " [1,0,0]]\n",
    "k = 1\n",
    "shortestPath(grid, k)"
   ]
  },
  {
   "cell_type": "code",
   "execution_count": null,
   "metadata": {},
   "outputs": [],
   "source": []
  }
 ],
 "metadata": {
  "kernelspec": {
   "display_name": "Python 3",
   "language": "python",
   "name": "python3"
  },
  "language_info": {
   "codemirror_mode": {
    "name": "ipython",
    "version": 3
   },
   "file_extension": ".py",
   "mimetype": "text/x-python",
   "name": "python",
   "nbconvert_exporter": "python",
   "pygments_lexer": "ipython3",
   "version": "3.8.5"
  }
 },
 "nbformat": 4,
 "nbformat_minor": 4
}
