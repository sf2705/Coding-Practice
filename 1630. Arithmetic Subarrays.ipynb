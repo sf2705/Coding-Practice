{
 "cells": [
  {
   "cell_type": "markdown",
   "metadata": {},
   "source": [
    "### 2021-02-18\n",
    "\n",
    "https://leetcode.com/problems/arithmetic-subarrays/"
   ]
  },
  {
   "cell_type": "code",
   "execution_count": 5,
   "metadata": {},
   "outputs": [],
   "source": [
    "def checkArithmeticSubarrays(nums, l, r):\n",
    "    \"\"\"\n",
    "    :type nums: List[int]\n",
    "    :type l: List[int]\n",
    "    :type r: List[int]\n",
    "    :rtype: List[bool]\n",
    "    \"\"\"\n",
    "    def isArith(n):\n",
    "        max_ = max(n)\n",
    "        min_ = min(n)\n",
    "        st = set(n)\n",
    "        if len(n) != len(st):\n",
    "            return len(st) == 1\n",
    "        if (max_ - min_)%(len(n)-1) != 0:\n",
    "            return False\n",
    "        step = (max_ - min_)//(len(n)-1)\n",
    "        for i in range(min_, max_, step):\n",
    "            if i not in n:\n",
    "                return False\n",
    "        return True\n",
    "    \n",
    "    res = []\n",
    "    for j in range(len(l)):\n",
    "        res.append(isArith(nums[l[j]:r[j]+1]))\n",
    "    return res\n"
   ]
  },
  {
   "cell_type": "code",
   "execution_count": 6,
   "metadata": {},
   "outputs": [
    {
     "data": {
      "text/plain": [
       "[True, False, True]"
      ]
     },
     "execution_count": 6,
     "metadata": {},
     "output_type": "execute_result"
    }
   ],
   "source": [
    "nums = [4,6,5,9,3,7]\n",
    "l = [0,0,2]\n",
    "r = [2,3,5]\n",
    "checkArithmeticSubarrays(nums, l, r)"
   ]
  },
  {
   "cell_type": "code",
   "execution_count": 7,
   "metadata": {},
   "outputs": [
    {
     "data": {
      "text/plain": [
       "[False, True, False, False, True, True]"
      ]
     },
     "execution_count": 7,
     "metadata": {},
     "output_type": "execute_result"
    }
   ],
   "source": [
    "nums = [-12,-9,-3,-12,-6,15,20,-25,-20,-15,-10]\n",
    "l = [0,1,6,4,8,7]\n",
    "r = [4,4,9,7,9,10]\n",
    "checkArithmeticSubarrays(nums, l, r)"
   ]
  },
  {
   "cell_type": "code",
   "execution_count": null,
   "metadata": {},
   "outputs": [],
   "source": []
  }
 ],
 "metadata": {
  "kernelspec": {
   "display_name": "Python 3",
   "language": "python",
   "name": "python3"
  },
  "language_info": {
   "codemirror_mode": {
    "name": "ipython",
    "version": 3
   },
   "file_extension": ".py",
   "mimetype": "text/x-python",
   "name": "python",
   "nbconvert_exporter": "python",
   "pygments_lexer": "ipython3",
   "version": "3.8.5"
  }
 },
 "nbformat": 4,
 "nbformat_minor": 4
}
