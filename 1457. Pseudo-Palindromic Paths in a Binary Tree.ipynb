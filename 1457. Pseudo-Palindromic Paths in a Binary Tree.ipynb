{
 "cells": [
  {
   "cell_type": "markdown",
   "metadata": {},
   "source": [
    "## 2020-12-29"
   ]
  },
  {
   "cell_type": "markdown",
   "metadata": {},
   "source": [
    "Given a binary tree where node values are digits from 1 to 9. A path in the binary tree is said to be pseudo-palindromic if at least one permutation of the node values in the path is a palindrome.\n",
    "\n",
    "Return the number of pseudo-palindromic paths going from the root node to leaf nodes.\n",
    "\n",
    " \n",
    "\n",
    "### Example 1:\n",
    "\n"
   ]
  },
  {
   "cell_type": "markdown",
   "metadata": {},
   "source": [
    "`\n",
    "Input: root = [2,3,1,3,1,null,1]\n",
    "Output: 2 \n",
    "Explanation: The figure above represents the given binary tree. There are three paths going from the root node to leaf nodes: the red path [2,3,3], the green path [2,1,1], and the path [2,3,1]. Among these paths only red path and green path are pseudo-palindromic paths since the red path [2,3,3] can be rearranged in [3,2,3] (palindrome) and the green path [2,1,1] can be rearranged in [1,2,1] (palindrome).\n",
    "`"
   ]
  },
  {
   "cell_type": "markdown",
   "metadata": {},
   "source": [
    "### Example 2:\n",
    "\n",
    "\n",
    "`\n",
    "Input: root = [2,1,1,1,3,null,null,null,null,null,1]\n",
    "Output: 1 \n",
    "Explanation: The figure above represents the given binary tree. There are three paths going from the root node to leaf nodes: the green path [2,1,1], the path [2,1,3,1], and the path [2,1]. Among these paths only the green path is pseudo-palindromic since [2,1,1] can be rearranged in [1,2,1] (palindrome).\n",
    "`"
   ]
  },
  {
   "cell_type": "markdown",
   "metadata": {},
   "source": [
    "### Example 3:\n",
    "`\n",
    "Input: root = [9]\n",
    "Output: 1\n",
    "    `"
   ]
  },
  {
   "cell_type": "markdown",
   "metadata": {},
   "source": [
    "**Constraints:**\n",
    "\n",
    "The given binary tree will have between 1 and 10^5 nodes.\n",
    "Node values are digits from 1 to 9."
   ]
  },
  {
   "cell_type": "code",
   "execution_count": null,
   "metadata": {},
   "outputs": [],
   "source": [
    "# Definition for a binary tree node.\n",
    "#class TreeNode(object):\n",
    "#    def __init__(self, val=0, left=None, right=None):\n",
    "#        self.val = val\n",
    "#        self.left = left\n",
    "#        self.right = right\n",
    "\n",
    "class Solution(object):\n",
    "   \n",
    "    def pseudoPalindromicPaths (self, root):\n",
    "        \"\"\"\n",
    "        :type root: TreeNode\n",
    "        :rtype: int\n",
    "        \"\"\"\n",
    "        \n",
    "        def dfs(node, pending_set):\n",
    "            \"\"\"\n",
    "            :type node: TreeNode\n",
    "                  pending_set: set\n",
    "            :rtype: int\n",
    "            \"\"\"\n",
    "            \n",
    "            result = 0\n",
    "\n",
    "            # if node does not exist, return\n",
    "            if not node:\n",
    "                return result\n",
    "\n",
    "            # if node value already exist, then we find a matching pair, remove it.\n",
    "            if node.val in pending_set:\n",
    "                pending_set.remove(node.val)\n",
    "            # if a node does not exist, then we add to the pending set to wait for it's pair\n",
    "            else:\n",
    "                pending_set.add(node.val)\n",
    "\n",
    "            # if we reach the leaf, then check whether this path is a pseudo-palindromic\n",
    "            # if yes, then return 1 for this path\n",
    "            if not node.left and not node.right:\n",
    "                if len(pending_set) <= 1:\n",
    "                    result = 1\n",
    "            # if this node is not a leaf, then recursively call dfs function\n",
    "            else:\n",
    "                result += dfs(node.left, pending_set) + dfs(node.right, pending_set)\n",
    " \n",
    "            # if node value already exist, then we find a matching pair, remove it.\n",
    "            if node.val in pending_set:\n",
    "                pending_set.remove(node.val)\n",
    "            # if a node does not exist, then we add to the pending set to wait for it's pair\n",
    "            else:\n",
    "                pending_set.add(node.val)\n",
    "            return result\n",
    "        \n",
    "        return dfs(root, set())        \n",
    "            \n",
    "            "
   ]
  }
 ],
 "metadata": {
  "kernelspec": {
   "display_name": "Python 3",
   "language": "python",
   "name": "python3"
  },
  "language_info": {
   "codemirror_mode": {
    "name": "ipython",
    "version": 3
   },
   "file_extension": ".py",
   "mimetype": "text/x-python",
   "name": "python",
   "nbconvert_exporter": "python",
   "pygments_lexer": "ipython3",
   "version": "3.8.5"
  }
 },
 "nbformat": 4,
 "nbformat_minor": 4
}
