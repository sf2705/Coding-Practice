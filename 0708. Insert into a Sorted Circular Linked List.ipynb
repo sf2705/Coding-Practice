{
 "cells": [
  {
   "cell_type": "markdown",
   "metadata": {},
   "source": [
    "### 2021-12-04\n",
    "\n",
    "https://leetcode.com/problems/insert-into-a-sorted-circular-linked-list/"
   ]
  },
  {
   "cell_type": "code",
   "execution_count": 2,
   "metadata": {},
   "outputs": [],
   "source": [
    "\"\"\"\n",
    "# Definition for a Node.\n",
    "class Node(object):\n",
    "    def __init__(self, val=None, next=None):\n",
    "        self.val = val\n",
    "        self.next = next\n",
    "\"\"\"\n",
    "\n",
    "class Solution(object):\n",
    "    def insert(self, head, insertVal):\n",
    "        \"\"\"\n",
    "        :type head: Node\n",
    "        :type insertVal: int\n",
    "        :rtype: Node\n",
    "        \"\"\"\n",
    "        \n",
    "        node = Node(insertVal)\n",
    "        \n",
    "        if not head:\n",
    "            node.next = node\n",
    "            return node\n",
    "        \n",
    "        prev, cur = head, head.next\n",
    "        \n",
    "        while prev.next != head:\n",
    "            \n",
    "            # 1 - node(2) - 3\n",
    "            if prev.val <= insertVal <= cur.val:\n",
    "                break\n",
    "            \n",
    "            # 3 - node(0) - 1 / 3 - node(4) - 1\n",
    "            if prev.val > cur.val and (insertVal > prev.val or insertVal < cur.val):\n",
    "                break\n",
    "            prev, cur = prev.next, cur.next\n",
    "        \n",
    "        prev.next = node\n",
    "        node.next = cur\n",
    "    \n",
    "        return head\n"
   ]
  },
  {
   "cell_type": "code",
   "execution_count": null,
   "metadata": {},
   "outputs": [],
   "source": []
  }
 ],
 "metadata": {
  "kernelspec": {
   "display_name": "Python 3",
   "language": "python",
   "name": "python3"
  },
  "language_info": {
   "codemirror_mode": {
    "name": "ipython",
    "version": 3
   },
   "file_extension": ".py",
   "mimetype": "text/x-python",
   "name": "python",
   "nbconvert_exporter": "python",
   "pygments_lexer": "ipython3",
   "version": "3.8.5"
  }
 },
 "nbformat": 4,
 "nbformat_minor": 4
}
