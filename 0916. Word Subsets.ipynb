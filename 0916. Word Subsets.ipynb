{
 "cells": [
  {
   "cell_type": "markdown",
   "metadata": {},
   "source": [
    "### 2021-03-27\n",
    "\n",
    "https://leetcode.com/problems/word-subsets/"
   ]
  },
  {
   "cell_type": "code",
   "execution_count": 12,
   "metadata": {},
   "outputs": [],
   "source": [
    "def wordSubsets(A, B):\n",
    "    \"\"\"\n",
    "    :type A: List[str]\n",
    "    :type B: List[str]\n",
    "    :rtype: List[str]\n",
    "    \"\"\"\n",
    "    from collections import Counter\n",
    "    count = Counter()\n",
    "    for b in B:\n",
    "        count |= Counter(b)\n",
    "    return [a for a in A if not count - Counter(a)]"
   ]
  },
  {
   "cell_type": "code",
   "execution_count": 13,
   "metadata": {},
   "outputs": [
    {
     "data": {
      "text/plain": [
       "['facebook', 'google', 'leetcode']"
      ]
     },
     "execution_count": 13,
     "metadata": {},
     "output_type": "execute_result"
    }
   ],
   "source": [
    "A = [\"amazon\",\"apple\",\"facebook\",\"google\",\"leetcode\"]\n",
    "B = [\"e\",\"o\"]\n",
    "wordSubsets(A, B)"
   ]
  },
  {
   "cell_type": "code",
   "execution_count": 14,
   "metadata": {},
   "outputs": [
    {
     "data": {
      "text/plain": [
       "['apple', 'google', 'leetcode']"
      ]
     },
     "execution_count": 14,
     "metadata": {},
     "output_type": "execute_result"
    }
   ],
   "source": [
    "A = [\"amazon\",\"apple\",\"facebook\",\"google\",\"leetcode\"]\n",
    "B = [\"l\",\"e\"]\n",
    "wordSubsets(A, B)"
   ]
  },
  {
   "cell_type": "code",
   "execution_count": 15,
   "metadata": {},
   "outputs": [
    {
     "data": {
      "text/plain": [
       "['facebook', 'google']"
      ]
     },
     "execution_count": 15,
     "metadata": {},
     "output_type": "execute_result"
    }
   ],
   "source": [
    "A = [\"amazon\",\"apple\",\"facebook\",\"google\",\"leetcode\"]\n",
    "B = [\"e\",\"oo\"]\n",
    "wordSubsets(A, B)"
   ]
  },
  {
   "cell_type": "code",
   "execution_count": 16,
   "metadata": {},
   "outputs": [
    {
     "data": {
      "text/plain": [
       "['google', 'leetcode']"
      ]
     },
     "execution_count": 16,
     "metadata": {},
     "output_type": "execute_result"
    }
   ],
   "source": [
    "A = [\"amazon\",\"apple\",\"facebook\",\"google\",\"leetcode\"]\n",
    "B = [\"lo\",\"eo\"]\n",
    "wordSubsets(A, B)"
   ]
  },
  {
   "cell_type": "code",
   "execution_count": 17,
   "metadata": {},
   "outputs": [
    {
     "data": {
      "text/plain": [
       "['facebook', 'leetcode']"
      ]
     },
     "execution_count": 17,
     "metadata": {},
     "output_type": "execute_result"
    }
   ],
   "source": [
    "A = [\"amazon\",\"apple\",\"facebook\",\"google\",\"leetcode\"]\n",
    "B = [\"ec\",\"oc\",\"ceo\"]\n",
    "wordSubsets(A, B)"
   ]
  },
  {
   "cell_type": "code",
   "execution_count": null,
   "metadata": {},
   "outputs": [],
   "source": []
  },
  {
   "cell_type": "code",
   "execution_count": null,
   "metadata": {},
   "outputs": [],
   "source": []
  }
 ],
 "metadata": {
  "kernelspec": {
   "display_name": "Python 3",
   "language": "python",
   "name": "python3"
  },
  "language_info": {
   "codemirror_mode": {
    "name": "ipython",
    "version": 3
   },
   "file_extension": ".py",
   "mimetype": "text/x-python",
   "name": "python",
   "nbconvert_exporter": "python",
   "pygments_lexer": "ipython3",
   "version": "3.8.5"
  }
 },
 "nbformat": 4,
 "nbformat_minor": 4
}
