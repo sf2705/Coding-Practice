{
 "cells": [
  {
   "cell_type": "markdown",
   "metadata": {},
   "source": [
    "### 2021-01-18\n",
    "\n",
    "https://leetcode.com/problems/max-number-of-k-sum-pairs/"
   ]
  },
  {
   "cell_type": "code",
   "execution_count": 17,
   "metadata": {},
   "outputs": [],
   "source": [
    "def maxOperations(nums, k):\n",
    "    \"\"\"\n",
    "    :type nums: List[int]\n",
    "    :type k: int\n",
    "    :rtype: int\n",
    "    \"\"\"\n",
    "    dic = dict()\n",
    "    res = 0\n",
    "    for n in nums:\n",
    "        if n in dic and dic[n] > 0:\n",
    "            dic[n] -= 1\n",
    "            res += 1\n",
    "        elif (k-n) not in dic:\n",
    "            dic[k-n] = 1\n",
    "        else:\n",
    "            dic[k-n] += 1\n",
    "        print(n, dic, res)\n",
    "    return res\n",
    "            "
   ]
  },
  {
   "cell_type": "code",
   "execution_count": 18,
   "metadata": {},
   "outputs": [
    {
     "name": "stdout",
     "output_type": "stream",
     "text": [
      "1 {4: 1} 0\n",
      "2 {4: 1, 3: 1} 0\n",
      "3 {4: 1, 3: 0} 1\n",
      "4 {4: 0, 3: 0} 2\n"
     ]
    },
    {
     "data": {
      "text/plain": [
       "2"
      ]
     },
     "execution_count": 18,
     "metadata": {},
     "output_type": "execute_result"
    }
   ],
   "source": [
    "nums = [1,2,3,4]\n",
    "k = 5\n",
    "maxOperations(nums, k)"
   ]
  },
  {
   "cell_type": "code",
   "execution_count": 19,
   "metadata": {},
   "outputs": [
    {
     "name": "stdout",
     "output_type": "stream",
     "text": [
      "3 {3: 1} 0\n",
      "1 {3: 1, 5: 1} 0\n",
      "3 {3: 0, 5: 1} 1\n",
      "4 {3: 0, 5: 1, 2: 1} 1\n",
      "3 {3: 1, 5: 1, 2: 1} 1\n"
     ]
    },
    {
     "data": {
      "text/plain": [
       "1"
      ]
     },
     "execution_count": 19,
     "metadata": {},
     "output_type": "execute_result"
    }
   ],
   "source": [
    "nums = [3,1,3,4,3]\n",
    "k = 6\n",
    "maxOperations(nums, k)"
   ]
  },
  {
   "cell_type": "code",
   "execution_count": 20,
   "metadata": {},
   "outputs": [
    {
     "name": "stdout",
     "output_type": "stream",
     "text": [
      "2 {1: 1} 0\n",
      "5 {1: 1, -2: 1} 0\n",
      "4 {1: 1, -2: 1, -1: 1} 0\n",
      "4 {1: 1, -2: 1, -1: 2} 0\n",
      "1 {1: 0, -2: 1, -1: 2} 1\n",
      "3 {1: 0, -2: 1, -1: 2, 0: 1} 1\n",
      "4 {1: 0, -2: 1, -1: 3, 0: 1} 1\n",
      "4 {1: 0, -2: 1, -1: 4, 0: 1} 1\n",
      "1 {1: 0, -2: 1, -1: 4, 0: 1, 2: 1} 1\n",
      "4 {1: 0, -2: 1, -1: 5, 0: 1, 2: 1} 1\n",
      "4 {1: 0, -2: 1, -1: 6, 0: 1, 2: 1} 1\n",
      "1 {1: 0, -2: 1, -1: 6, 0: 1, 2: 2} 1\n",
      "2 {1: 0, -2: 1, -1: 6, 0: 1, 2: 1} 2\n",
      "1 {1: 0, -2: 1, -1: 6, 0: 1, 2: 2} 2\n",
      "2 {1: 0, -2: 1, -1: 6, 0: 1, 2: 1} 3\n",
      "2 {1: 0, -2: 1, -1: 6, 0: 1, 2: 0} 4\n",
      "3 {1: 0, -2: 1, -1: 6, 0: 2, 2: 0} 4\n",
      "2 {1: 1, -2: 1, -1: 6, 0: 2, 2: 0} 4\n",
      "4 {1: 1, -2: 1, -1: 7, 0: 2, 2: 0} 4\n",
      "2 {1: 2, -2: 1, -1: 7, 0: 2, 2: 0} 4\n"
     ]
    },
    {
     "data": {
      "text/plain": [
       "4"
      ]
     },
     "execution_count": 20,
     "metadata": {},
     "output_type": "execute_result"
    }
   ],
   "source": [
    "nums = [2,5,4,4,1,3,4,4,1,4,4,1,2,1,2,2,3,2,4,2]\n",
    "k = 3\n",
    "maxOperations(nums, k)"
   ]
  },
  {
   "cell_type": "code",
   "execution_count": null,
   "metadata": {},
   "outputs": [],
   "source": []
  }
 ],
 "metadata": {
  "kernelspec": {
   "display_name": "Python 3",
   "language": "python",
   "name": "python3"
  },
  "language_info": {
   "codemirror_mode": {
    "name": "ipython",
    "version": 3
   },
   "file_extension": ".py",
   "mimetype": "text/x-python",
   "name": "python",
   "nbconvert_exporter": "python",
   "pygments_lexer": "ipython3",
   "version": "3.8.5"
  }
 },
 "nbformat": 4,
 "nbformat_minor": 4
}
