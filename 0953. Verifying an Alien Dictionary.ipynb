{
 "cells": [
  {
   "cell_type": "markdown",
   "metadata": {},
   "source": [
    "### 2021-11-02\n",
    "\n",
    "https://leetcode.com/problems/verifying-an-alien-dictionary/"
   ]
  },
  {
   "cell_type": "code",
   "execution_count": 29,
   "metadata": {},
   "outputs": [],
   "source": [
    "def isAlienSorted(words, order):\n",
    "    \"\"\"\n",
    "    :type words: List[str]\n",
    "    :type order: str\n",
    "    :rtype: bool\n",
    "    \"\"\"\n",
    "    dic = {order[i]:i for i in range(len(order))}\n",
    "    \n",
    "    wds = [[dic[w] for w in word] for word in words]\n",
    "    \n",
    "    \n",
    "    return wds == sorted(wds)"
   ]
  },
  {
   "cell_type": "code",
   "execution_count": 30,
   "metadata": {},
   "outputs": [
    {
     "data": {
      "text/plain": [
       "True"
      ]
     },
     "execution_count": 30,
     "metadata": {},
     "output_type": "execute_result"
    }
   ],
   "source": [
    "words = [\"hello\",\"leetcode\"]\n",
    "order = \"hlabcdefgijkmnopqrstuvwxyz\"\n",
    "isAlienSorted(words, order)"
   ]
  },
  {
   "cell_type": "code",
   "execution_count": 31,
   "metadata": {},
   "outputs": [
    {
     "data": {
      "text/plain": [
       "False"
      ]
     },
     "execution_count": 31,
     "metadata": {},
     "output_type": "execute_result"
    }
   ],
   "source": [
    "words = [\"word\",\"world\",\"row\"]\n",
    "order = \"worldabcefghijkmnpqstuvxyz\"\n",
    "isAlienSorted(words, order)"
   ]
  },
  {
   "cell_type": "code",
   "execution_count": 32,
   "metadata": {},
   "outputs": [
    {
     "data": {
      "text/plain": [
       "False"
      ]
     },
     "execution_count": 32,
     "metadata": {},
     "output_type": "execute_result"
    }
   ],
   "source": [
    "words = [\"apple\",\"app\"]\n",
    "order = \"abcdefghijklmnopqrstuvwxyz\"\n",
    "isAlienSorted(words, order)"
   ]
  },
  {
   "cell_type": "code",
   "execution_count": null,
   "metadata": {},
   "outputs": [],
   "source": []
  }
 ],
 "metadata": {
  "kernelspec": {
   "display_name": "Python 3",
   "language": "python",
   "name": "python3"
  },
  "language_info": {
   "codemirror_mode": {
    "name": "ipython",
    "version": 3
   },
   "file_extension": ".py",
   "mimetype": "text/x-python",
   "name": "python",
   "nbconvert_exporter": "python",
   "pygments_lexer": "ipython3",
   "version": "3.8.5"
  }
 },
 "nbformat": 4,
 "nbformat_minor": 4
}
