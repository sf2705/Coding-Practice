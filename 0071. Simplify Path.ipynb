{
 "cells": [
  {
   "cell_type": "markdown",
   "metadata": {},
   "source": [
    "### 2021-02-05\n",
    "\n",
    "https://leetcode.com/problems/simplify-path/"
   ]
  },
  {
   "cell_type": "code",
   "execution_count": 32,
   "metadata": {},
   "outputs": [],
   "source": [
    "def simplifyPath(path):\n",
    "    \"\"\"\n",
    "    :type path: str\n",
    "    :rtype: str\n",
    "        \"\"\"\n",
    "    comp = path.split('/')\n",
    "    print(comp)\n",
    "    stack = []\n",
    "    for c in comp:\n",
    "        if c == \"..\" :\n",
    "            if len(stack) > 0:\n",
    "                stack.pop()\n",
    "        elif not c or c == '.':\n",
    "            pass\n",
    "        else:\n",
    "            stack.append(c)\n",
    "        #print(c, stack)\n",
    "            \n",
    "    return \"/\" + \"/\".join(stack)"
   ]
  },
  {
   "cell_type": "code",
   "execution_count": 33,
   "metadata": {},
   "outputs": [
    {
     "name": "stdout",
     "output_type": "stream",
     "text": [
      "['', 'home', '']\n",
      " []\n",
      "home ['home']\n",
      " ['home']\n"
     ]
    },
    {
     "data": {
      "text/plain": [
       "'/home'"
      ]
     },
     "execution_count": 33,
     "metadata": {},
     "output_type": "execute_result"
    }
   ],
   "source": [
    "path = \"/home/\"\n",
    "simplifyPath(path)"
   ]
  },
  {
   "cell_type": "code",
   "execution_count": 34,
   "metadata": {},
   "outputs": [
    {
     "name": "stdout",
     "output_type": "stream",
     "text": [
      "['', '..', '']\n",
      " []\n",
      ".. []\n",
      " []\n"
     ]
    },
    {
     "data": {
      "text/plain": [
       "'/'"
      ]
     },
     "execution_count": 34,
     "metadata": {},
     "output_type": "execute_result"
    }
   ],
   "source": [
    "path = \"/../\"\n",
    "simplifyPath(path)"
   ]
  },
  {
   "cell_type": "code",
   "execution_count": 35,
   "metadata": {},
   "outputs": [
    {
     "name": "stdout",
     "output_type": "stream",
     "text": [
      "['', 'home', '', 'foo', '']\n",
      " []\n",
      "home ['home']\n",
      " ['home']\n",
      "foo ['home', 'foo']\n",
      " ['home', 'foo']\n"
     ]
    },
    {
     "data": {
      "text/plain": [
       "'/home/foo'"
      ]
     },
     "execution_count": 35,
     "metadata": {},
     "output_type": "execute_result"
    }
   ],
   "source": [
    "path = \"/home//foo/\"\n",
    "simplifyPath(path)"
   ]
  },
  {
   "cell_type": "code",
   "execution_count": 36,
   "metadata": {},
   "outputs": [
    {
     "name": "stdout",
     "output_type": "stream",
     "text": [
      "['', 'a', '.', 'b', '..', '..', 'c', '']\n",
      " []\n",
      "a ['a']\n",
      ". ['a']\n",
      "b ['a', 'b']\n",
      ".. ['a']\n",
      ".. []\n",
      "c ['c']\n",
      " ['c']\n"
     ]
    },
    {
     "data": {
      "text/plain": [
       "'/c'"
      ]
     },
     "execution_count": 36,
     "metadata": {},
     "output_type": "execute_result"
    }
   ],
   "source": [
    "path = \"/a/./b/../../c/\"\n",
    "simplifyPath(path)"
   ]
  },
  {
   "cell_type": "code",
   "execution_count": null,
   "metadata": {},
   "outputs": [],
   "source": []
  }
 ],
 "metadata": {
  "kernelspec": {
   "display_name": "Python 3",
   "language": "python",
   "name": "python3"
  },
  "language_info": {
   "codemirror_mode": {
    "name": "ipython",
    "version": 3
   },
   "file_extension": ".py",
   "mimetype": "text/x-python",
   "name": "python",
   "nbconvert_exporter": "python",
   "pygments_lexer": "ipython3",
   "version": "3.8.5"
  }
 },
 "nbformat": 4,
 "nbformat_minor": 4
}
