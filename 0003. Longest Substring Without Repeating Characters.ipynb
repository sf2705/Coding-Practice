{
 "cells": [
  {
   "cell_type": "markdown",
   "metadata": {},
   "source": [
    "### 2021-01-07"
   ]
  },
  {
   "cell_type": "markdown",
   "metadata": {},
   "source": [
    "https://leetcode.com/problems/longest-substring-without-repeating-characters/"
   ]
  },
  {
   "cell_type": "code",
   "execution_count": 22,
   "metadata": {},
   "outputs": [],
   "source": [
    "def lengthOfLongestSubstring(s):\n",
    "    \"\"\"\n",
    "    :type s: str\n",
    "    :rtype: int\n",
    "    \"\"\"\n",
    "    # use dictionary to store the last occurence of a visited charactor\n",
    "    visit = dict()\n",
    "    start = 0\n",
    "    max_length = 0\n",
    "    \n",
    "    if not s:\n",
    "        return max_length\n",
    "    \n",
    "    for i in range(len(s)):\n",
    "        if s[i] in visit and start <= visit[s[i]]:\n",
    "            start = visit[s[i]] + 1\n",
    "        else:\n",
    "            max_length = max(max_length, i-start+1)\n",
    "        \n",
    "        visit[s[i]] = i\n",
    "        \n",
    "        \n",
    "        print(i, start, visit, max_length)\n",
    "    return max_length"
   ]
  },
  {
   "cell_type": "code",
   "execution_count": 23,
   "metadata": {},
   "outputs": [
    {
     "name": "stdout",
     "output_type": "stream",
     "text": [
      "0 0 {'a': 0} 1\n"
     ]
    },
    {
     "data": {
      "text/plain": [
       "1"
      ]
     },
     "execution_count": 23,
     "metadata": {},
     "output_type": "execute_result"
    }
   ],
   "source": [
    "s = 'a'\n",
    "lengthOfLongestSubstring(s)"
   ]
  },
  {
   "cell_type": "code",
   "execution_count": 24,
   "metadata": {},
   "outputs": [
    {
     "name": "stdout",
     "output_type": "stream",
     "text": [
      "0 0 {'a': 0} 1\n",
      "1 0 {'a': 0, 'b': 1} 2\n",
      "2 0 {'a': 0, 'b': 1, 'c': 2} 3\n",
      "3 1 {'a': 3, 'b': 1, 'c': 2} 3\n",
      "4 2 {'a': 3, 'b': 4, 'c': 2} 3\n",
      "5 3 {'a': 3, 'b': 4, 'c': 5} 3\n",
      "6 5 {'a': 3, 'b': 6, 'c': 5} 3\n",
      "7 7 {'a': 3, 'b': 7, 'c': 5} 3\n"
     ]
    },
    {
     "data": {
      "text/plain": [
       "3"
      ]
     },
     "execution_count": 24,
     "metadata": {},
     "output_type": "execute_result"
    }
   ],
   "source": [
    "s = 'abcabcbb'\n",
    "lengthOfLongestSubstring(s)"
   ]
  },
  {
   "cell_type": "code",
   "execution_count": 25,
   "metadata": {},
   "outputs": [
    {
     "name": "stdout",
     "output_type": "stream",
     "text": [
      "0 0 {'b': 0} 1\n",
      "1 1 {'b': 1} 1\n",
      "2 2 {'b': 2} 1\n",
      "3 3 {'b': 3} 1\n",
      "4 4 {'b': 4} 1\n"
     ]
    },
    {
     "data": {
      "text/plain": [
       "1"
      ]
     },
     "execution_count": 25,
     "metadata": {},
     "output_type": "execute_result"
    }
   ],
   "source": [
    "s = \"bbbbb\"\n",
    "lengthOfLongestSubstring(s)"
   ]
  },
  {
   "cell_type": "code",
   "execution_count": 26,
   "metadata": {},
   "outputs": [
    {
     "name": "stdout",
     "output_type": "stream",
     "text": [
      "0 0 {'p': 0} 1\n",
      "1 0 {'p': 0, 'w': 1} 2\n",
      "2 2 {'p': 0, 'w': 2} 2\n",
      "3 2 {'p': 0, 'w': 2, 'k': 3} 2\n",
      "4 2 {'p': 0, 'w': 2, 'k': 3, 'e': 4} 3\n",
      "5 3 {'p': 0, 'w': 5, 'k': 3, 'e': 4} 3\n"
     ]
    },
    {
     "data": {
      "text/plain": [
       "3"
      ]
     },
     "execution_count": 26,
     "metadata": {},
     "output_type": "execute_result"
    }
   ],
   "source": [
    "s = \"pwwkew\"\n",
    "lengthOfLongestSubstring(s)"
   ]
  },
  {
   "cell_type": "code",
   "execution_count": 27,
   "metadata": {},
   "outputs": [
    {
     "data": {
      "text/plain": [
       "0"
      ]
     },
     "execution_count": 27,
     "metadata": {},
     "output_type": "execute_result"
    }
   ],
   "source": [
    "s = ''\n",
    "lengthOfLongestSubstring(s)"
   ]
  },
  {
   "cell_type": "code",
   "execution_count": null,
   "metadata": {},
   "outputs": [],
   "source": []
  }
 ],
 "metadata": {
  "kernelspec": {
   "display_name": "Python 3",
   "language": "python",
   "name": "python3"
  },
  "language_info": {
   "codemirror_mode": {
    "name": "ipython",
    "version": 3
   },
   "file_extension": ".py",
   "mimetype": "text/x-python",
   "name": "python",
   "nbconvert_exporter": "python",
   "pygments_lexer": "ipython3",
   "version": "3.8.5"
  }
 },
 "nbformat": 4,
 "nbformat_minor": 4
}
