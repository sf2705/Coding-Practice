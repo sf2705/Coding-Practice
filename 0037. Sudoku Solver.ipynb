{
 "cells": [
  {
   "cell_type": "markdown",
   "metadata": {},
   "source": [
    "### 2021-02-27\n",
    "\n",
    "https://leetcode.com/problems/sudoku-solver/"
   ]
  },
  {
   "cell_type": "code",
   "execution_count": 41,
   "metadata": {},
   "outputs": [],
   "source": [
    "def solveSudoku(board):\n",
    "    \"\"\"\n",
    "    :type board: List[List[str]]\n",
    "    :rtype: None Do not return anything, modify board in-place instead.\n",
    "    \"\"\"\n",
    "\n",
    "    import collections\n",
    "    from collections import defaultdict\n",
    "    \n",
    "    rows, cols = defaultdict(set), defaultdict(set)\n",
    "    squares = defaultdict(set)\n",
    "    queue = collections.deque([])\n",
    "    \n",
    "    for r in range(9):\n",
    "        for c in range(9):\n",
    "            if board[r][c] != '.':\n",
    "                rows[r].add(board[r][c])\n",
    "                cols[c].add(board[r][c])\n",
    "                squares[(r//3, c//3)].add(board[r][c])\n",
    "            else:\n",
    "                queue.append((r, c))\n",
    "    def dfs():\n",
    "        if not queue:\n",
    "            return True\n",
    "        r, c = queue[0]\n",
    "        s = (r//3, c//3)\n",
    "        choices = [str(n) for n in range(1, 10)]\n",
    "        for num in choices:\n",
    "            if (num not in rows[r]) and (num not in cols[c]) and (num not in squares[s]):\n",
    "                board[r][c] = num\n",
    "                rows[r].add(num)\n",
    "                cols[c].add(num)\n",
    "                squares[s].add(num)\n",
    "                queue.popleft()\n",
    "                \n",
    "                if dfs():\n",
    "                    return True\n",
    "                else:\n",
    "                    board[r][c] = '.'\n",
    "                    rows[r].remove(num)\n",
    "                    cols[c].remove(num)\n",
    "                    squares[s].remove(num)\n",
    "                    queue.appendleft((r, c))\n",
    "        return False\n",
    "    \n",
    "    dfs()\n",
    "    \n",
    "    print(board)\n",
    "    return\n",
    "    "
   ]
  },
  {
   "cell_type": "code",
   "execution_count": 42,
   "metadata": {},
   "outputs": [
    {
     "name": "stdout",
     "output_type": "stream",
     "text": [
      "[['5', '3', '4', '6', '7', '8', '9', '1', '2'], ['6', '7', '2', '1', '9', '5', '3', '4', '8'], ['1', '9', '8', '3', '4', '2', '5', '6', '7'], ['8', '5', '9', '7', '6', '1', '4', '2', '3'], ['4', '2', '6', '8', '5', '3', '7', '9', '1'], ['7', '1', '3', '9', '2', '4', '8', '5', '6'], ['9', '6', '1', '5', '3', '7', '2', '8', '4'], ['2', '8', '7', '4', '1', '9', '6', '3', '5'], ['3', '4', '5', '2', '8', '6', '1', '7', '9']]\n"
     ]
    }
   ],
   "source": [
    "board = [[\"5\",\"3\",\".\",\".\",\"7\",\".\",\".\",\".\",\".\"],[\"6\",\".\",\".\",\"1\",\"9\",\"5\",\".\",\".\",\".\"],[\".\",\"9\",\"8\",\".\",\".\",\".\",\".\",\"6\",\".\"],[\"8\",\".\",\".\",\".\",\"6\",\".\",\".\",\".\",\"3\"],[\"4\",\".\",\".\",\"8\",\".\",\"3\",\".\",\".\",\"1\"],[\"7\",\".\",\".\",\".\",\"2\",\".\",\".\",\".\",\"6\"],[\".\",\"6\",\".\",\".\",\".\",\".\",\"2\",\"8\",\".\"],[\".\",\".\",\".\",\"4\",\"1\",\"9\",\".\",\".\",\"5\"],[\".\",\".\",\".\",\".\",\"8\",\".\",\".\",\"7\",\"9\"]]\n",
    "solveSudoku(board)"
   ]
  },
  {
   "cell_type": "code",
   "execution_count": null,
   "metadata": {},
   "outputs": [],
   "source": []
  },
  {
   "cell_type": "code",
   "execution_count": null,
   "metadata": {},
   "outputs": [],
   "source": []
  }
 ],
 "metadata": {
  "kernelspec": {
   "display_name": "Python 3",
   "language": "python",
   "name": "python3"
  },
  "language_info": {
   "codemirror_mode": {
    "name": "ipython",
    "version": 3
   },
   "file_extension": ".py",
   "mimetype": "text/x-python",
   "name": "python",
   "nbconvert_exporter": "python",
   "pygments_lexer": "ipython3",
   "version": "3.8.5"
  }
 },
 "nbformat": 4,
 "nbformat_minor": 4
}
