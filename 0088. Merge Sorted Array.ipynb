{
 "cells": [
  {
   "cell_type": "markdown",
   "metadata": {},
   "source": [
    "### 2021-01-01"
   ]
  },
  {
   "cell_type": "markdown",
   "metadata": {},
   "source": [
    "https://leetcode.com/problems/merge-sorted-array/"
   ]
  },
  {
   "cell_type": "code",
   "execution_count": 44,
   "metadata": {},
   "outputs": [],
   "source": [
    "def merge(nums1, m, nums2, n):\n",
    "    \"\"\"\n",
    "    :type nums1: List[int]\n",
    "    :type m: int\n",
    "    :type nums2: List[int]\n",
    "    :type n: int\n",
    "    :rtype: None Do not return anything, modify nums1 in-place instead.\n",
    "    \"\"\"\n",
    "    # create pointer for nums1 and nums2\n",
    "    p1 = m-1\n",
    "    p2 = n-1\n",
    "    \n",
    "    \n",
    "    # if the number in nums1 is greater, choose it, otherwise choose the number in nums2 to place\n",
    "    while p1 >= 0 and p2 >= 0:\n",
    "        if nums1[p1] >= nums2[p2]:\n",
    "            nums1[p1+p2+1] = nums1[p1]\n",
    "            p1 -= 1\n",
    "        else:\n",
    "            nums1[p1+p2+1] = nums2[p2]\n",
    "            p2 -= 1\n",
    "    # if we already used all the elements in nums1, but not nums2, \n",
    "    # we will replace the leftover position in nums1 with nums2\n",
    "    if p2 >= 0:\n",
    "        nums1[:p2+1] = nums2[:p2+1]\n",
    "\n",
    "    return\n",
    "    "
   ]
  },
  {
   "cell_type": "code",
   "execution_count": 45,
   "metadata": {},
   "outputs": [
    {
     "name": "stdout",
     "output_type": "stream",
     "text": [
      "2 3 [1, 2, 3, 0, 0, 0, 0]\n",
      "2 2 [1, 2, 3, 0, 0, 0, 6]\n",
      "2 1 [1, 2, 3, 0, 0, 5, 6]\n",
      "1 1 [1, 2, 3, 0, 3, 5, 6]\n",
      "0 1 [1, 2, 3, 2, 3, 5, 6]\n",
      "0 0 [1, 2, 2, 2, 3, 5, 6]\n",
      "[1, 1, 2, 2, 3, 5, 6]\n"
     ]
    }
   ],
   "source": [
    "nums1 = [1,2,3,0,0,0,0]\n",
    "m = 3\n",
    "nums2 = [1,2,5,6]\n",
    "n = 4\n",
    "merge(nums1, m, nums2, n)"
   ]
  },
  {
   "cell_type": "code",
   "execution_count": null,
   "metadata": {},
   "outputs": [],
   "source": []
  },
  {
   "cell_type": "code",
   "execution_count": null,
   "metadata": {},
   "outputs": [],
   "source": []
  }
 ],
 "metadata": {
  "kernelspec": {
   "display_name": "Python 3",
   "language": "python",
   "name": "python3"
  },
  "language_info": {
   "codemirror_mode": {
    "name": "ipython",
    "version": 3
   },
   "file_extension": ".py",
   "mimetype": "text/x-python",
   "name": "python",
   "nbconvert_exporter": "python",
   "pygments_lexer": "ipython3",
   "version": "3.8.5"
  }
 },
 "nbformat": 4,
 "nbformat_minor": 4
}
