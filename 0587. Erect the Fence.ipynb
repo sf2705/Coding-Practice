{
 "cells": [
  {
   "cell_type": "markdown",
   "metadata": {},
   "source": [
    "### 2021-09-04\n",
    "\n",
    "https://leetcode.com/problems/erect-the-fence/"
   ]
  },
  {
   "cell_type": "markdown",
   "metadata": {},
   "source": [
    "#### Monotone Chain Algorithm"
   ]
  },
  {
   "cell_type": "code",
   "execution_count": 37,
   "metadata": {},
   "outputs": [],
   "source": [
    "def outerTrees(trees):\n",
    "    \"\"\"\n",
    "    :type trees: List[List[int]]\n",
    "    :rtype: List[List[int]]\n",
    "    \"\"\"\n",
    "    if len(trees) <= 1:\n",
    "        return trees\n",
    "    \n",
    "    trees = sorted(trees, key = lambda p: (p[0], p[1]))\n",
    "    \n",
    "    # check the direction between OA and OB\n",
    "    # if OAB makes a clockwise turn, return negative\n",
    "    # if OAB makes a counter-clockwise turn, return positive\n",
    "    # if OAB on the same line, return 0\n",
    "    \n",
    "    def turn_direction(o, a, b):\n",
    "        return (a[0]-o[0]) * (b[1]-o[1]) - (a[1]-o[1]) * (b[0]-o[0])\n",
    "    \n",
    "    # get lower hull\n",
    "    lower = []\n",
    "    for t in trees:\n",
    "        while len(lower) >= 2 and turn_direction(lower[-2], lower[-1], t) < 0:\n",
    "            lower.pop()\n",
    "        lower.append((t[0], t[1]))\n",
    "        \n",
    "    # get upper hull\n",
    "    upper = []\n",
    "    for t in trees[::-1]:\n",
    "        while len(upper) >= 2 and turn_direction(upper[-2], upper[-1], t) < 0:\n",
    "            upper.pop()\n",
    "        upper.append((t[0], t[1]))\n",
    "    \n",
    "    res = []\n",
    "    for t in set(lower + upper):\n",
    "        res.append([t[0], t[1]])\n",
    "    \n",
    "    return res"
   ]
  },
  {
   "cell_type": "code",
   "execution_count": 38,
   "metadata": {},
   "outputs": [
    {
     "data": {
      "text/plain": [
       "[[1, 2], [4, 2], [2, 2]]"
      ]
     },
     "execution_count": 38,
     "metadata": {},
     "output_type": "execute_result"
    }
   ],
   "source": [
    "points = [[1,2],[2,2],[4,2]]\n",
    "outerTrees(points)"
   ]
  },
  {
   "cell_type": "code",
   "execution_count": 39,
   "metadata": {},
   "outputs": [
    {
     "data": {
      "text/plain": [
       "[[2, 4], [1, 1], [2, 0], [4, 2], [3, 3]]"
      ]
     },
     "execution_count": 39,
     "metadata": {},
     "output_type": "execute_result"
    }
   ],
   "source": [
    "points = [[1,1],[2,2],[2,0],[2,4],[3,3],[4,2]]\n",
    "outerTrees(points)"
   ]
  },
  {
   "cell_type": "code",
   "execution_count": null,
   "metadata": {},
   "outputs": [],
   "source": []
  }
 ],
 "metadata": {
  "kernelspec": {
   "display_name": "Python 3",
   "language": "python",
   "name": "python3"
  },
  "language_info": {
   "codemirror_mode": {
    "name": "ipython",
    "version": 3
   },
   "file_extension": ".py",
   "mimetype": "text/x-python",
   "name": "python",
   "nbconvert_exporter": "python",
   "pygments_lexer": "ipython3",
   "version": "3.8.5"
  }
 },
 "nbformat": 4,
 "nbformat_minor": 4
}
