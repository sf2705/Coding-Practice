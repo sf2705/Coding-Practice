{
 "cells": [
  {
   "cell_type": "markdown",
   "metadata": {},
   "source": [
    "### 2022-01-08\n",
    "\n",
    "https://leetcode.com/problems/robot-bounded-in-circle/"
   ]
  },
  {
   "cell_type": "code",
   "execution_count": 3,
   "metadata": {},
   "outputs": [],
   "source": [
    "def isRobotBounded(instructions):\n",
    "    \"\"\"\n",
    "    :type instructions: str\n",
    "    :rtype: bool\n",
    "    \"\"\"\n",
    "    \n",
    "    x, y, face = 0, 0, [0,1]\n",
    "    \n",
    "    for i in instructions:\n",
    "        if i == 'R':\n",
    "            face[0], face[1] = face[1], -face[0]\n",
    "        elif i == 'L':\n",
    "            face[0], face[1] = -face[1], face[0]\n",
    "        else:\n",
    "            x, y = x + face[0], y + face[1]\n",
    "    return [x,y] == [0,0] or face != [0,1]\n"
   ]
  },
  {
   "cell_type": "code",
   "execution_count": 4,
   "metadata": {},
   "outputs": [
    {
     "data": {
      "text/plain": [
       "True"
      ]
     },
     "execution_count": 4,
     "metadata": {},
     "output_type": "execute_result"
    }
   ],
   "source": [
    "instructions = \"GGLLGG\"\n",
    "isRobotBounded(instructions)"
   ]
  },
  {
   "cell_type": "code",
   "execution_count": 5,
   "metadata": {},
   "outputs": [
    {
     "data": {
      "text/plain": [
       "False"
      ]
     },
     "execution_count": 5,
     "metadata": {},
     "output_type": "execute_result"
    }
   ],
   "source": [
    "instructions = \"GG\"\n",
    "isRobotBounded(instructions)"
   ]
  },
  {
   "cell_type": "code",
   "execution_count": 6,
   "metadata": {},
   "outputs": [
    {
     "data": {
      "text/plain": [
       "True"
      ]
     },
     "execution_count": 6,
     "metadata": {},
     "output_type": "execute_result"
    }
   ],
   "source": [
    "instructions = \"GL\"\n",
    "isRobotBounded(instructions)"
   ]
  },
  {
   "cell_type": "code",
   "execution_count": null,
   "metadata": {},
   "outputs": [],
   "source": []
  }
 ],
 "metadata": {
  "kernelspec": {
   "display_name": "Python 3",
   "language": "python",
   "name": "python3"
  },
  "language_info": {
   "codemirror_mode": {
    "name": "ipython",
    "version": 3
   },
   "file_extension": ".py",
   "mimetype": "text/x-python",
   "name": "python",
   "nbconvert_exporter": "python",
   "pygments_lexer": "ipython3",
   "version": "3.8.5"
  }
 },
 "nbformat": 4,
 "nbformat_minor": 4
}
