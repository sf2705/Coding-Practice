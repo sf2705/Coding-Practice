{
 "cells": [
  {
   "cell_type": "markdown",
   "metadata": {},
   "source": [
    "### 2022-01-05\n",
    "\n",
    "https://leetcode.com/problems/car-pooling/"
   ]
  },
  {
   "cell_type": "code",
   "execution_count": 1,
   "metadata": {},
   "outputs": [],
   "source": [
    "def carPooling(trips, capacity):\n",
    "    \"\"\"\n",
    "    :type trips: List[List[int]]\n",
    "    :type capacity: int\n",
    "    :rtype: bool\n",
    "    \"\"\"\n",
    "    \n",
    "    l = []\n",
    "    for n, i, j in trips:\n",
    "        l.append([i, n])\n",
    "        l.append([j, -n])\n",
    "    \n",
    "    l = sorted(l)\n",
    "    cap = 0\n",
    "    for i, n in l:\n",
    "        cap += n\n",
    "        if cap > capacity:\n",
    "            return False\n",
    "    \n",
    "    return True\n",
    "    \n"
   ]
  },
  {
   "cell_type": "code",
   "execution_count": 2,
   "metadata": {},
   "outputs": [
    {
     "data": {
      "text/plain": [
       "False"
      ]
     },
     "execution_count": 2,
     "metadata": {},
     "output_type": "execute_result"
    }
   ],
   "source": [
    "trips = [[2,1,5],[3,3,7]]\n",
    "capacity = 4\n",
    "carPooling(trips, capacity)"
   ]
  },
  {
   "cell_type": "code",
   "execution_count": 3,
   "metadata": {},
   "outputs": [
    {
     "data": {
      "text/plain": [
       "True"
      ]
     },
     "execution_count": 3,
     "metadata": {},
     "output_type": "execute_result"
    }
   ],
   "source": [
    "trips = [[2,1,5],[3,3,7]]\n",
    "capacity = 5\n",
    "carPooling(trips, capacity)"
   ]
  },
  {
   "cell_type": "code",
   "execution_count": null,
   "metadata": {},
   "outputs": [],
   "source": []
  }
 ],
 "metadata": {
  "kernelspec": {
   "display_name": "Python 3",
   "language": "python",
   "name": "python3"
  },
  "language_info": {
   "codemirror_mode": {
    "name": "ipython",
    "version": 3
   },
   "file_extension": ".py",
   "mimetype": "text/x-python",
   "name": "python",
   "nbconvert_exporter": "python",
   "pygments_lexer": "ipython3",
   "version": "3.8.5"
  }
 },
 "nbformat": 4,
 "nbformat_minor": 4
}
