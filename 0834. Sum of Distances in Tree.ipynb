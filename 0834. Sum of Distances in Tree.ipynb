{
 "cells": [
  {
   "cell_type": "markdown",
   "metadata": {},
   "source": [
    "### 2021-09-04\n",
    "\n",
    "https://leetcode.com/problems/sum-of-distances-in-tree/"
   ]
  },
  {
   "cell_type": "code",
   "execution_count": null,
   "metadata": {},
   "outputs": [],
   "source": [
    "class Solution(object):\n",
    "    def sumOfDistancesInTree(self, n, edges):\n",
    "        \"\"\"\n",
    "        :type n: int\n",
    "        :type edges: List[List[int]]\n",
    "        :rtype: List[int]\n",
    "        \"\"\"\n",
    "        import collections\n",
    "        \n",
    "        distance = collections.defaultdict(set)\n",
    "        for i, j in edges:\n",
    "            distance[i].add(j)\n",
    "            distance[j].add(i)\n",
    "            \n",
    "        res = [0] * n\n",
    "        count = [1] * n\n",
    "        \n",
    "        def post_order_dfs(node, parent):\n",
    "            for child in distance[node]:\n",
    "                if child != parent:\n",
    "                    post_order_dfs(child, node)\n",
    "                    count[node] += count[child]\n",
    "                    res[node] += res[child] + count[child]\n",
    "        \n",
    "        def pre_order_dfs(node, parent):\n",
    "            for child in distance[node]:\n",
    "                if child != parent:\n",
    "                    res[child] = res[node] - count[child] + n - count[child]\n",
    "                    pre_order_dfs(child, node) \n",
    "        \n",
    "        post_order_dfs(0, -1)\n",
    "        pre_order_dfs(0, -1)\n",
    "        \n",
    "        return res\n",
    "        "
   ]
  }
 ],
 "metadata": {
  "kernelspec": {
   "display_name": "Python 3",
   "language": "python",
   "name": "python3"
  },
  "language_info": {
   "codemirror_mode": {
    "name": "ipython",
    "version": 3
   },
   "file_extension": ".py",
   "mimetype": "text/x-python",
   "name": "python",
   "nbconvert_exporter": "python",
   "pygments_lexer": "ipython3",
   "version": "3.8.5"
  }
 },
 "nbformat": 4,
 "nbformat_minor": 4
}
