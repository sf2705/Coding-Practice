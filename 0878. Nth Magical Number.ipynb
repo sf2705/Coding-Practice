{
 "cells": [
  {
   "cell_type": "markdown",
   "metadata": {},
   "source": [
    "### 2021-12-10\n",
    "\n",
    "https://leetcode.com/problems/nth-magical-number/"
   ]
  },
  {
   "cell_type": "code",
   "execution_count": 18,
   "metadata": {},
   "outputs": [],
   "source": [
    "def nthMagicalNumber(n, a, b):\n",
    "    \"\"\"\n",
    "    :type n: int\n",
    "    :type a: int\n",
    "    :type b: int\n",
    "    :rtype: int\n",
    "    \"\"\"\n",
    "\n",
    "    gcd, lcm = a, b\n",
    "    \n",
    "    while lcm:\n",
    "        gcd, lcm = lcm, gcd%lcm\n",
    "    \n",
    "    lcm = a * b // gcd\n",
    "    \n",
    "    l, r = min(a,b), n * min(a, b)\n",
    "    \n",
    "    while l < r:\n",
    "        mid = (l + r) //2\n",
    "        if mid // a + mid // b - mid // lcm < n:\n",
    "            l = mid + 1\n",
    "        else:\n",
    "            r = mid\n",
    "    return l % (10 ** 9 + 7)\n",
    "    "
   ]
  },
  {
   "cell_type": "code",
   "execution_count": 19,
   "metadata": {},
   "outputs": [
    {
     "data": {
      "text/plain": [
       "2"
      ]
     },
     "execution_count": 19,
     "metadata": {},
     "output_type": "execute_result"
    }
   ],
   "source": [
    "n = 1\n",
    "a = 2\n",
    "b = 3\n",
    "nthMagicalNumber(n, a, b)"
   ]
  },
  {
   "cell_type": "code",
   "execution_count": 20,
   "metadata": {},
   "outputs": [
    {
     "data": {
      "text/plain": [
       "6"
      ]
     },
     "execution_count": 20,
     "metadata": {},
     "output_type": "execute_result"
    }
   ],
   "source": [
    "n = 4\n",
    "a = 2\n",
    "b = 3\n",
    "nthMagicalNumber(n, a, b)"
   ]
  },
  {
   "cell_type": "code",
   "execution_count": 21,
   "metadata": {},
   "outputs": [
    {
     "data": {
      "text/plain": [
       "10"
      ]
     },
     "execution_count": 21,
     "metadata": {},
     "output_type": "execute_result"
    }
   ],
   "source": [
    "n = 5\n",
    "a = 2\n",
    "b = 4\n",
    "nthMagicalNumber(n, a, b)"
   ]
  },
  {
   "cell_type": "code",
   "execution_count": 22,
   "metadata": {},
   "outputs": [
    {
     "data": {
      "text/plain": [
       "8"
      ]
     },
     "execution_count": 22,
     "metadata": {},
     "output_type": "execute_result"
    }
   ],
   "source": [
    "n = 3\n",
    "a = 6\n",
    "b = 4\n",
    "nthMagicalNumber(n, a, b)"
   ]
  },
  {
   "cell_type": "code",
   "execution_count": null,
   "metadata": {},
   "outputs": [],
   "source": []
  },
  {
   "cell_type": "code",
   "execution_count": null,
   "metadata": {},
   "outputs": [],
   "source": []
  }
 ],
 "metadata": {
  "kernelspec": {
   "display_name": "Python 3",
   "language": "python",
   "name": "python3"
  },
  "language_info": {
   "codemirror_mode": {
    "name": "ipython",
    "version": 3
   },
   "file_extension": ".py",
   "mimetype": "text/x-python",
   "name": "python",
   "nbconvert_exporter": "python",
   "pygments_lexer": "ipython3",
   "version": "3.8.5"
  }
 },
 "nbformat": 4,
 "nbformat_minor": 4
}
