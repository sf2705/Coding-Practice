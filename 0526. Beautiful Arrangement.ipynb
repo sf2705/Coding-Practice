{
 "cells": [
  {
   "cell_type": "markdown",
   "metadata": {},
   "source": [
    "### 2021-01-03"
   ]
  },
  {
   "cell_type": "markdown",
   "metadata": {},
   "source": [
    "https://leetcode.com/problems/beautiful-arrangement/"
   ]
  },
  {
   "cell_type": "code",
   "execution_count": null,
   "metadata": {},
   "outputs": [],
   "source": []
  },
  {
   "cell_type": "code",
   "execution_count": 23,
   "metadata": {},
   "outputs": [],
   "source": [
    "dic = {}\n",
    "def countArrangement(n):\n",
    "    \"\"\"\n",
    "    :type n: int\n",
    "    :rtype: int\n",
    "    \"\"\"\n",
    "    def countArr(N, L):\n",
    "        \"\"\"\n",
    "        :type N: int\n",
    "        :type L: list\n",
    "        :rtype res: int\n",
    "        \"\"\"\n",
    "        # if current position is 1, then we can place any number\n",
    "        if N == 1:\n",
    "            return 1\n",
    "        \n",
    "        # if already seen this pattern, \n",
    "        #then return the number of results can be generaed by this pattern\n",
    "        comb = (N, L)\n",
    "        if comb in dic:\n",
    "            return dic[comb]\n",
    "        \n",
    "        res = 0\n",
    "        for i in range(len(L)):\n",
    "            if L[i] % N == 0 or N % L[i] == 0:\n",
    "                res += countArr(N-1, L[:i] + L[i+1:])\n",
    "        dic[comb] = res\n",
    "        return res\n",
    "                \n",
    "    # need to use tuple in order to be as a key for dic    \n",
    "    return countArr(n, tuple(range(1, n+1)))\n"
   ]
  },
  {
   "cell_type": "code",
   "execution_count": 24,
   "metadata": {},
   "outputs": [
    {
     "data": {
      "text/plain": [
       "1"
      ]
     },
     "execution_count": 24,
     "metadata": {},
     "output_type": "execute_result"
    }
   ],
   "source": [
    "n = 1\n",
    "countArrangement(n)"
   ]
  },
  {
   "cell_type": "code",
   "execution_count": 25,
   "metadata": {},
   "outputs": [
    {
     "data": {
      "text/plain": [
       "2"
      ]
     },
     "execution_count": 25,
     "metadata": {},
     "output_type": "execute_result"
    }
   ],
   "source": [
    "n = 2\n",
    "countArrangement(n)"
   ]
  },
  {
   "cell_type": "code",
   "execution_count": 26,
   "metadata": {},
   "outputs": [
    {
     "data": {
      "text/plain": [
       "3"
      ]
     },
     "execution_count": 26,
     "metadata": {},
     "output_type": "execute_result"
    }
   ],
   "source": [
    "n = 3\n",
    "countArrangement(n)"
   ]
  },
  {
   "cell_type": "code",
   "execution_count": null,
   "metadata": {},
   "outputs": [],
   "source": []
  }
 ],
 "metadata": {
  "kernelspec": {
   "display_name": "Python 3",
   "language": "python",
   "name": "python3"
  },
  "language_info": {
   "codemirror_mode": {
    "name": "ipython",
    "version": 3
   },
   "file_extension": ".py",
   "mimetype": "text/x-python",
   "name": "python",
   "nbconvert_exporter": "python",
   "pygments_lexer": "ipython3",
   "version": "3.8.5"
  }
 },
 "nbformat": 4,
 "nbformat_minor": 4
}
