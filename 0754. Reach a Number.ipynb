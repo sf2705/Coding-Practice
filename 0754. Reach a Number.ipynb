{
 "cells": [
  {
   "cell_type": "markdown",
   "metadata": {},
   "source": [
    "## 2020-12-28"
   ]
  },
  {
   "cell_type": "markdown",
   "metadata": {},
   "source": [
    "You are standing at position 0 on an infinite number line. There is a goal at position target.\n",
    "\n",
    "On each move, you can either go left or right. During the n-th move (starting from 1), you take n steps.\n",
    "\n",
    "Return the minimum number of steps required to reach the destination."
   ]
  },
  {
   "cell_type": "markdown",
   "metadata": {},
   "source": [
    "### Example 1:\n",
    "`\n",
    "Input: target = 3\n",
    "Output: 2\n",
    "Explanation:\n",
    "On the first move we step from 0 to 1.\n",
    "On the second step we step from 1 to 3.\n",
    "`\n",
    "### Example 2:\n",
    "`\n",
    "Input: target = 2\n",
    "Output: 3\n",
    "Explanation:\n",
    "On the first move we step from 0 to 1.\n",
    "On the second move we step  from 1 to -1.\n",
    "On the third move we step from -1 to 2.\n",
    "`\n",
    "\n",
    "Note:\n",
    "target will be a non-zero integer in the range [-10^9, 10^9]."
   ]
  },
  {
   "cell_type": "code",
   "execution_count": 9,
   "metadata": {},
   "outputs": [],
   "source": [
    "def reachNumber(target):\n",
    "    \"\"\"\n",
    "    :type target: int\n",
    "    :rtype: int\n",
    "    \"\"\"\n",
    "    \n",
    "    target = abs(target)\n",
    "    \n",
    "    total = 0\n",
    "    step = 0\n",
    "    while total < target:\n",
    "        step += 1\n",
    "        total += step\n",
    "        \n",
    "    \n",
    "    # if total = target then we reach our target with step\n",
    "    if total == target:\n",
    "        return step\n",
    "    \n",
    "    # otherwise we need to check how much we go over the target\n",
    "    delta = target - total\n",
    "    \n",
    "    # if delta is an even number, then we can just turn delta/2 to negative to get our target.\n",
    "    # so it will still be the same number of steps\n",
    "    if delta % 2 == 0:\n",
    "        return step\n",
    "    \n",
    "    # if delta is an odd number, we need to check if our step is odd or even\n",
    "    else:\n",
    "        # if current step is odd\n",
    "        # i.e. target = 9, step = 3, delta = 3; \n",
    "        # take next two steps are 4 and 5, then new delta is an even number -3 + 4 + 5 = 6\n",
    "        # transform this senario to the senario above, turn new delta/2 to negative\n",
    "        # 9 = 1 + 2 - 3 + 4 + 5\n",
    "        if step % 2 == 1:\n",
    "            return step + 2\n",
    "        \n",
    "        # if current step is even\n",
    "        # i.e. target = 11, step = 4, delta = 1; \n",
    "        # take next step 5, then new delta is an even number -1 + 5 = 4\n",
    "        # transform this senario to the senario above, turn new delta/2 to negative\n",
    "        # 11 = 1 - 2 + 3 + 4 + 5   \n",
    "        else:\n",
    "            return step + 1\n",
    "            \n"
   ]
  },
  {
   "cell_type": "code",
   "execution_count": 10,
   "metadata": {},
   "outputs": [
    {
     "data": {
      "text/plain": [
       "3"
      ]
     },
     "execution_count": 10,
     "metadata": {},
     "output_type": "execute_result"
    }
   ],
   "source": [
    "reachNumber(2)"
   ]
  },
  {
   "cell_type": "code",
   "execution_count": 11,
   "metadata": {},
   "outputs": [
    {
     "data": {
      "text/plain": [
       "2"
      ]
     },
     "execution_count": 11,
     "metadata": {},
     "output_type": "execute_result"
    }
   ],
   "source": [
    "reachNumber(3)"
   ]
  },
  {
   "cell_type": "code",
   "execution_count": 12,
   "metadata": {},
   "outputs": [
    {
     "data": {
      "text/plain": [
       "3"
      ]
     },
     "execution_count": 12,
     "metadata": {},
     "output_type": "execute_result"
    }
   ],
   "source": [
    "reachNumber(-2)"
   ]
  },
  {
   "cell_type": "code",
   "execution_count": null,
   "metadata": {},
   "outputs": [],
   "source": []
  }
 ],
 "metadata": {
  "kernelspec": {
   "display_name": "Python 3",
   "language": "python",
   "name": "python3"
  },
  "language_info": {
   "codemirror_mode": {
    "name": "ipython",
    "version": 3
   },
   "file_extension": ".py",
   "mimetype": "text/x-python",
   "name": "python",
   "nbconvert_exporter": "python",
   "pygments_lexer": "ipython3",
   "version": "3.8.5"
  }
 },
 "nbformat": 4,
 "nbformat_minor": 4
}
