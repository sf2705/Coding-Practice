{
 "cells": [
  {
   "cell_type": "markdown",
   "metadata": {},
   "source": [
    "### 2021-02-20\n",
    "\n",
    "https://leetcode.com/problems/form-array-by-concatenating-subarrays-of-another-array/"
   ]
  },
  {
   "cell_type": "code",
   "execution_count": 22,
   "metadata": {},
   "outputs": [],
   "source": [
    "def canChoose(groups, nums):\n",
    "    \"\"\"\n",
    "    :type groups: List[List[int]]\n",
    "    :type nums: List[int]\n",
    "    :rtype: bool\n",
    "    \"\"\"\n",
    "    i = 0\n",
    "    while i < len(nums):\n",
    "        print(i, groups)\n",
    "        if not groups:\n",
    "            return True\n",
    "        elif not groups[0]:\n",
    "            groups.pop(0)\n",
    "        elif nums[i] == groups[0][0]:\n",
    "            if nums[i:i+len(groups[0])] == groups[0]:\n",
    "                i += len(groups[0])\n",
    "                groups.pop(0)\n",
    "                \n",
    "            else:\n",
    "                i+= 1\n",
    "        else:\n",
    "            i += 1\n",
    "    if not groups:\n",
    "        return True\n",
    "    return False\n",
    "    "
   ]
  },
  {
   "cell_type": "code",
   "execution_count": 23,
   "metadata": {},
   "outputs": [
    {
     "name": "stdout",
     "output_type": "stream",
     "text": [
      "0 [[1, -1, -1], [3, -2, 0]]\n",
      "1 [[1, -1, -1], [3, -2, 0]]\n",
      "2 [[1, -1, -1], [3, -2, 0]]\n",
      "3 [[1, -1, -1], [3, -2, 0]]\n",
      "6 [[3, -2, 0]]\n"
     ]
    },
    {
     "data": {
      "text/plain": [
       "True"
      ]
     },
     "execution_count": 23,
     "metadata": {},
     "output_type": "execute_result"
    }
   ],
   "source": [
    "groups = [[1,-1,-1],[3,-2,0]]\n",
    "nums = [1,-1,0,1,-1,-1,3,-2,0]\n",
    "canChoose(groups, nums)"
   ]
  },
  {
   "cell_type": "code",
   "execution_count": 24,
   "metadata": {},
   "outputs": [
    {
     "name": "stdout",
     "output_type": "stream",
     "text": [
      "0 [[10, -2], [1, 2, 3, 4]]\n",
      "1 [[10, -2], [1, 2, 3, 4]]\n",
      "2 [[10, -2], [1, 2, 3, 4]]\n",
      "3 [[10, -2], [1, 2, 3, 4]]\n",
      "4 [[10, -2], [1, 2, 3, 4]]\n"
     ]
    },
    {
     "data": {
      "text/plain": [
       "False"
      ]
     },
     "execution_count": 24,
     "metadata": {},
     "output_type": "execute_result"
    }
   ],
   "source": [
    "groups = [[10,-2],[1,2,3,4]]\n",
    "nums = [1,2,3,4,10,-2]\n",
    "canChoose(groups, nums)"
   ]
  },
  {
   "cell_type": "code",
   "execution_count": 25,
   "metadata": {},
   "outputs": [
    {
     "name": "stdout",
     "output_type": "stream",
     "text": [
      "0 [[1, 2, 3], [3, 4]]\n",
      "1 [[1, 2, 3], [3, 4]]\n",
      "2 [[1, 2, 3], [3, 4]]\n",
      "5 [[3, 4]]\n",
      "6 [[3, 4]]\n",
      "7 [[3, 4]]\n"
     ]
    },
    {
     "data": {
      "text/plain": [
       "False"
      ]
     },
     "execution_count": 25,
     "metadata": {},
     "output_type": "execute_result"
    }
   ],
   "source": [
    "groups = [[1,2,3],[3,4]]\n",
    "nums = [7,7,1,2,3,4,7,7]\n",
    "canChoose(groups, nums)"
   ]
  },
  {
   "cell_type": "code",
   "execution_count": null,
   "metadata": {},
   "outputs": [],
   "source": []
  }
 ],
 "metadata": {
  "kernelspec": {
   "display_name": "Python 3",
   "language": "python",
   "name": "python3"
  },
  "language_info": {
   "codemirror_mode": {
    "name": "ipython",
    "version": 3
   },
   "file_extension": ".py",
   "mimetype": "text/x-python",
   "name": "python",
   "nbconvert_exporter": "python",
   "pygments_lexer": "ipython3",
   "version": "3.8.5"
  }
 },
 "nbformat": 4,
 "nbformat_minor": 4
}
