{
 "cells": [
  {
   "cell_type": "markdown",
   "metadata": {},
   "source": [
    "### 2021-09-06\n",
    "\n",
    "https://leetcode.com/problems/slowest-key/"
   ]
  },
  {
   "cell_type": "code",
   "execution_count": 7,
   "metadata": {},
   "outputs": [],
   "source": [
    "def slowestKey(releaseTimes, keysPressed):\n",
    "    \"\"\"\n",
    "    :type releaseTimes: List[int]\n",
    "    :type keysPressed: str\n",
    "    :rtype: str\n",
    "    \"\"\"\n",
    "    res = chr(0)\n",
    "    max_dur = 0 \n",
    "    for i in range(len(releaseTimes)):\n",
    "        if i == 0:\n",
    "            cur_dur = releaseTimes[i]\n",
    "        else:\n",
    "            cur_dur = releaseTimes[i] - releaseTimes[i-1]\n",
    "        \n",
    "        if cur_dur > max_dur or (cur_dur == max_dur and ord(keysPressed[i]) > ord(res)):\n",
    "                max_dur = cur_dur\n",
    "                res = keysPressed[i]\n",
    "    return res\n"
   ]
  },
  {
   "cell_type": "code",
   "execution_count": 8,
   "metadata": {},
   "outputs": [
    {
     "data": {
      "text/plain": [
       "'c'"
      ]
     },
     "execution_count": 8,
     "metadata": {},
     "output_type": "execute_result"
    }
   ],
   "source": [
    "releaseTimes = [9,29,49,50]\n",
    "keysPressed = \"cbcd\"\n",
    "slowestKey(releaseTimes, keysPressed)"
   ]
  },
  {
   "cell_type": "code",
   "execution_count": 9,
   "metadata": {},
   "outputs": [
    {
     "data": {
      "text/plain": [
       "'a'"
      ]
     },
     "execution_count": 9,
     "metadata": {},
     "output_type": "execute_result"
    }
   ],
   "source": [
    "releaseTimes = [12,23,36,46,62]\n",
    "keysPressed = \"spuda\"\n",
    "slowestKey(releaseTimes, keysPressed)"
   ]
  },
  {
   "cell_type": "code",
   "execution_count": null,
   "metadata": {},
   "outputs": [],
   "source": []
  },
  {
   "cell_type": "code",
   "execution_count": null,
   "metadata": {},
   "outputs": [],
   "source": []
  }
 ],
 "metadata": {
  "kernelspec": {
   "display_name": "Python 3",
   "language": "python",
   "name": "python3"
  },
  "language_info": {
   "codemirror_mode": {
    "name": "ipython",
    "version": 3
   },
   "file_extension": ".py",
   "mimetype": "text/x-python",
   "name": "python",
   "nbconvert_exporter": "python",
   "pygments_lexer": "ipython3",
   "version": "3.8.5"
  }
 },
 "nbformat": 4,
 "nbformat_minor": 4
}
