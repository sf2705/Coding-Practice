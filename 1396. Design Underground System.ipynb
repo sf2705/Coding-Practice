{
 "cells": [
  {
   "cell_type": "markdown",
   "metadata": {},
   "source": [
    "### 2021-03-20\n",
    "\n",
    "https://leetcode.com/problems/design-underground-system/"
   ]
  },
  {
   "cell_type": "code",
   "execution_count": null,
   "metadata": {},
   "outputs": [],
   "source": [
    "class UndergroundSystem(object):\n",
    "    import collections\n",
    "    def __init__(self):\n",
    "        \n",
    "        self.customers = dict()\n",
    "        self.time_spend = collections.defaultdict(list)\n",
    "        \n",
    "\n",
    "    def checkIn(self, id, stationName, t):\n",
    "        \"\"\"\n",
    "        :type id: int\n",
    "        :type stationName: str\n",
    "        :type t: int\n",
    "        :rtype: None\n",
    "        \"\"\"\n",
    "        self.customers[id] = (stationName, t)\n",
    "\n",
    "    def checkOut(self, id, stationName, t):\n",
    "        \"\"\"\n",
    "        :type id: int\n",
    "        :type stationName: str\n",
    "        :type t: int\n",
    "        :rtype: None\n",
    "        \"\"\"\n",
    "        start_station, start_time = self.customers.pop(id)\n",
    "        self.time_spend[(start_station, stationName)].append(t - start_time)\n",
    "        \n",
    "\n",
    "    def getAverageTime(self, startStation, endStation):\n",
    "        \"\"\"\n",
    "        :type startStation: str\n",
    "        :type endStation: str\n",
    "        :rtype: float\n",
    "        \"\"\"\n",
    "        times = self.time_spend[(startStation, endStation)]\n",
    "        if len(times)>0:\n",
    "            return sum(times) / len(times)\n",
    "        else:\n",
    "            return None\n",
    "\n",
    "\n",
    "# Your UndergroundSystem object will be instantiated and called as such:\n",
    "# obj = UndergroundSystem()\n",
    "# obj.checkIn(id,stationName,t)\n",
    "# obj.checkOut(id,stationName,t)\n",
    "# param_3 = obj.getAverageTime(startStation,endStation)"
   ]
  },
  {
   "cell_type": "code",
   "execution_count": 1,
   "metadata": {},
   "outputs": [
    {
     "ename": "NameError",
     "evalue": "name 'mean' is not defined",
     "output_type": "error",
     "traceback": [
      "\u001b[0;31m---------------------------------------------------------------------------\u001b[0m",
      "\u001b[0;31mNameError\u001b[0m                                 Traceback (most recent call last)",
      "\u001b[0;32m<ipython-input-1-faabd3e3ecbe>\u001b[0m in \u001b[0;36m<module>\u001b[0;34m\u001b[0m\n\u001b[1;32m      1\u001b[0m \u001b[0ml\u001b[0m \u001b[0;34m=\u001b[0m \u001b[0;34m[\u001b[0m\u001b[0;36m1\u001b[0m\u001b[0;34m,\u001b[0m\u001b[0;36m2\u001b[0m\u001b[0;34m,\u001b[0m\u001b[0;36m3\u001b[0m\u001b[0;34m]\u001b[0m\u001b[0;34m\u001b[0m\u001b[0;34m\u001b[0m\u001b[0m\n\u001b[0;32m----> 2\u001b[0;31m \u001b[0mmean\u001b[0m\u001b[0;34m(\u001b[0m\u001b[0ml\u001b[0m\u001b[0;34m)\u001b[0m\u001b[0;34m\u001b[0m\u001b[0;34m\u001b[0m\u001b[0m\n\u001b[0m",
      "\u001b[0;31mNameError\u001b[0m: name 'mean' is not defined"
     ]
    }
   ],
   "source": [
    "l = [1,2,3]\n",
    "mean(l)"
   ]
  },
  {
   "cell_type": "code",
   "execution_count": null,
   "metadata": {},
   "outputs": [],
   "source": []
  }
 ],
 "metadata": {
  "kernelspec": {
   "display_name": "Python 3",
   "language": "python",
   "name": "python3"
  },
  "language_info": {
   "codemirror_mode": {
    "name": "ipython",
    "version": 3
   },
   "file_extension": ".py",
   "mimetype": "text/x-python",
   "name": "python",
   "nbconvert_exporter": "python",
   "pygments_lexer": "ipython3",
   "version": "3.8.5"
  }
 },
 "nbformat": 4,
 "nbformat_minor": 4
}
