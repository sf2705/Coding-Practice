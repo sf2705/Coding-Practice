{
 "cells": [
  {
   "cell_type": "markdown",
   "metadata": {},
   "source": [
    "### 2021-12-04\n",
    "\n",
    "https://leetcode.com/problems/house-robber-iii/"
   ]
  },
  {
   "cell_type": "code",
   "execution_count": null,
   "metadata": {},
   "outputs": [],
   "source": [
    "# Definition for a binary tree node.\n",
    "# class TreeNode(object):\n",
    "#     def __init__(self, val=0, left=None, right=None):\n",
    "#         self.val = val\n",
    "#         self.left = left\n",
    "#         self.right = right\n",
    "class Solution(object):\n",
    "    def rob(self, root):\n",
    "        \"\"\"\n",
    "        :type root: TreeNode\n",
    "        :rtype: int\n",
    "        \"\"\"\n",
    "        \n",
    "        def helper(node):\n",
    "            if not node:\n",
    "                # rob in current level, or future level\n",
    "                return (0,0)\n",
    "            \n",
    "            l = helper(node.left)\n",
    "            r = helper(node.right)\n",
    "            \n",
    "            # if rob in current level\n",
    "            cur = node.val + l[1] + r[1]\n",
    "            \n",
    "            # if not rob in current level\n",
    "            future = max(l) + max(r)\n",
    "            \n",
    "            return (cur, future)\n",
    "        \n",
    "        return max(helper(root))"
   ]
  }
 ],
 "metadata": {
  "kernelspec": {
   "display_name": "Python 3",
   "language": "python",
   "name": "python3"
  },
  "language_info": {
   "codemirror_mode": {
    "name": "ipython",
    "version": 3
   },
   "file_extension": ".py",
   "mimetype": "text/x-python",
   "name": "python",
   "nbconvert_exporter": "python",
   "pygments_lexer": "ipython3",
   "version": "3.8.5"
  }
 },
 "nbformat": 4,
 "nbformat_minor": 4
}
