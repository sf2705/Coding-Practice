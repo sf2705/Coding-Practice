{
 "cells": [
  {
   "cell_type": "markdown",
   "metadata": {},
   "source": [
    "### 2021-02-14\n",
    "\n",
    "https://leetcode.com/problems/is-graph-bipartite/"
   ]
  },
  {
   "cell_type": "code",
   "execution_count": 3,
   "metadata": {},
   "outputs": [],
   "source": [
    "def isBipartite(graph):\n",
    "    \"\"\"\n",
    "    :type graph: List[List[int]]\n",
    "    :rtype: bool\n",
    "    \"\"\"\n",
    "    side = dict()\n",
    "    def dfs(i):\n",
    "        for j in graph[i]:\n",
    "            if j in side:\n",
    "                if side[i] == side[j]:\n",
    "                    return False\n",
    "            else:\n",
    "                side[j] = 1 - side[i]\n",
    "                if not dfs(j):\n",
    "                    return False\n",
    "        return True\n",
    "    \n",
    "    for i in range(len(graph)):\n",
    "        if i not in side:\n",
    "            side[i] = 0\n",
    "            if not dfs(i):\n",
    "                return False\n",
    "    \n",
    "    return True"
   ]
  },
  {
   "cell_type": "code",
   "execution_count": 4,
   "metadata": {},
   "outputs": [
    {
     "data": {
      "text/plain": [
       "False"
      ]
     },
     "execution_count": 4,
     "metadata": {},
     "output_type": "execute_result"
    }
   ],
   "source": [
    "graph = [[1,2,3],[0,2],[0,1,3],[0,2]]\n",
    "isBipartite(graph)"
   ]
  },
  {
   "cell_type": "code",
   "execution_count": 5,
   "metadata": {},
   "outputs": [
    {
     "data": {
      "text/plain": [
       "True"
      ]
     },
     "execution_count": 5,
     "metadata": {},
     "output_type": "execute_result"
    }
   ],
   "source": [
    "graph = [[1,3],[0,2],[1,3],[0,2]]\n",
    "isBipartite(graph)"
   ]
  },
  {
   "cell_type": "code",
   "execution_count": null,
   "metadata": {},
   "outputs": [],
   "source": []
  }
 ],
 "metadata": {
  "kernelspec": {
   "display_name": "Python 3",
   "language": "python",
   "name": "python3"
  },
  "language_info": {
   "codemirror_mode": {
    "name": "ipython",
    "version": 3
   },
   "file_extension": ".py",
   "mimetype": "text/x-python",
   "name": "python",
   "nbconvert_exporter": "python",
   "pygments_lexer": "ipython3",
   "version": "3.8.5"
  }
 },
 "nbformat": 4,
 "nbformat_minor": 4
}
