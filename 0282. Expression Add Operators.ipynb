{
 "cells": [
  {
   "cell_type": "markdown",
   "metadata": {},
   "source": [
    "### 2021-09-18\n",
    "\n",
    "https://leetcode.com/problems/expression-add-operators/"
   ]
  },
  {
   "cell_type": "code",
   "execution_count": 8,
   "metadata": {},
   "outputs": [],
   "source": [
    "def addOperators(num, target):\n",
    "    \"\"\"\n",
    "    :type num: str\n",
    "    :type target: int\n",
    "    :rtype: List[str]\n",
    "    \"\"\"\n",
    "    res = []\n",
    "    \n",
    "    def dfs(idx=0, exp='', total=0, prev=None):\n",
    "        if idx == len(num) and total == target:\n",
    "            res.append(exp)\n",
    "            return\n",
    "        \n",
    "        for i in range(idx+1, len(num)+1):\n",
    "            n = int(num[idx:i])\n",
    "            if i == idx+1 or (i>idx+1 and num[idx]!='0'):\n",
    "                if prev is None:\n",
    "                    dfs(i, num[idx:i], n, n)\n",
    "                else:\n",
    "                    dfs(i, exp + '+' + num[idx:i], total+n, n)\n",
    "                    dfs(i, exp + '-' + num[idx:i], total-n, -n)\n",
    "                    dfs(i, exp + '*' + num[idx:i], total-prev+prev*n, prev*n)\n",
    "        \n",
    "        \n",
    "    dfs()\n",
    "    return res\n",
    "    \n"
   ]
  },
  {
   "cell_type": "code",
   "execution_count": 9,
   "metadata": {},
   "outputs": [
    {
     "data": {
      "text/plain": [
       "['1+2+3', '1*2*3']"
      ]
     },
     "execution_count": 9,
     "metadata": {},
     "output_type": "execute_result"
    }
   ],
   "source": [
    "num = \"123\"\n",
    "target = 6\n",
    "addOperators(num, target)"
   ]
  },
  {
   "cell_type": "code",
   "execution_count": 10,
   "metadata": {},
   "outputs": [
    {
     "data": {
      "text/plain": [
       "['2+3*2', '2*3+2']"
      ]
     },
     "execution_count": 10,
     "metadata": {},
     "output_type": "execute_result"
    }
   ],
   "source": [
    "num = \"232\"\n",
    "target = 8\n",
    "addOperators(num, target)"
   ]
  },
  {
   "cell_type": "code",
   "execution_count": 11,
   "metadata": {},
   "outputs": [
    {
     "data": {
      "text/plain": [
       "['1*0+5', '10-5']"
      ]
     },
     "execution_count": 11,
     "metadata": {},
     "output_type": "execute_result"
    }
   ],
   "source": [
    "num = \"105\"\n",
    "target = 5\n",
    "addOperators(num, target)"
   ]
  },
  {
   "cell_type": "code",
   "execution_count": 12,
   "metadata": {},
   "outputs": [
    {
     "data": {
      "text/plain": [
       "['0+0', '0-0', '0*0']"
      ]
     },
     "execution_count": 12,
     "metadata": {},
     "output_type": "execute_result"
    }
   ],
   "source": [
    "num = \"00\"\n",
    "target = 0\n",
    "addOperators(num, target)"
   ]
  },
  {
   "cell_type": "code",
   "execution_count": 13,
   "metadata": {},
   "outputs": [
    {
     "data": {
      "text/plain": [
       "[]"
      ]
     },
     "execution_count": 13,
     "metadata": {},
     "output_type": "execute_result"
    }
   ],
   "source": [
    "num = \"3456237490\"\n",
    "target = 9191\n",
    "addOperators(num, target)"
   ]
  },
  {
   "cell_type": "code",
   "execution_count": null,
   "metadata": {},
   "outputs": [],
   "source": []
  }
 ],
 "metadata": {
  "kernelspec": {
   "display_name": "Python 3",
   "language": "python",
   "name": "python3"
  },
  "language_info": {
   "codemirror_mode": {
    "name": "ipython",
    "version": 3
   },
   "file_extension": ".py",
   "mimetype": "text/x-python",
   "name": "python",
   "nbconvert_exporter": "python",
   "pygments_lexer": "ipython3",
   "version": "3.8.5"
  }
 },
 "nbformat": 4,
 "nbformat_minor": 4
}
