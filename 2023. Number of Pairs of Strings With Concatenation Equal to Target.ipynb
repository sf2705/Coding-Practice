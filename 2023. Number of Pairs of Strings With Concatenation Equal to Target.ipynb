{
 "cells": [
  {
   "cell_type": "markdown",
   "metadata": {},
   "source": [
    "### 2021-10-02\n",
    "\n",
    "https://leetcode.com/problems/number-of-pairs-of-strings-with-concatenation-equal-to-target/\n"
   ]
  },
  {
   "cell_type": "code",
   "execution_count": 14,
   "metadata": {},
   "outputs": [],
   "source": [
    "def numOfPairs(nums, target):\n",
    "    \"\"\"\n",
    "    :type nums: List[str]\n",
    "    :type target: str\n",
    "    :rtype: int\n",
    "    \"\"\"\n",
    "    \n",
    "    from collections import Counter\n",
    "    \n",
    "    cnt = Counter(nums)\n",
    "    res = 0\n",
    "    \n",
    "    for i in range(1, len(target)):\n",
    "        sub1, sub2 = target[:i], target[i:]\n",
    "        print(sub1, sub2)\n",
    "        if sub1 == sub2:\n",
    "            res += cnt[sub1]*(cnt[sub1]-1)\n",
    "        else:\n",
    "            res += cnt[sub1] * cnt[sub2]\n",
    "        print(res)\n",
    "    return res"
   ]
  },
  {
   "cell_type": "code",
   "execution_count": 15,
   "metadata": {},
   "outputs": [
    {
     "name": "stdout",
     "output_type": "stream",
     "text": [
      "7 777\n",
      "1\n",
      "77 77\n",
      "3\n",
      "777 7\n",
      "4\n"
     ]
    },
    {
     "data": {
      "text/plain": [
       "4"
      ]
     },
     "execution_count": 15,
     "metadata": {},
     "output_type": "execute_result"
    }
   ],
   "source": [
    "nums = [\"777\",\"7\",\"77\",\"77\"]\n",
    "target = \"7777\"\n",
    "numOfPairs(nums, target)"
   ]
  },
  {
   "cell_type": "code",
   "execution_count": 16,
   "metadata": {},
   "outputs": [
    {
     "name": "stdout",
     "output_type": "stream",
     "text": [
      "1 234\n",
      "0\n",
      "12 34\n",
      "1\n",
      "123 4\n",
      "2\n"
     ]
    },
    {
     "data": {
      "text/plain": [
       "2"
      ]
     },
     "execution_count": 16,
     "metadata": {},
     "output_type": "execute_result"
    }
   ],
   "source": [
    "nums = [\"123\",\"4\",\"12\",\"34\"]\n",
    "target = \"1234\"\n",
    "numOfPairs(nums, target)"
   ]
  },
  {
   "cell_type": "code",
   "execution_count": 17,
   "metadata": {},
   "outputs": [
    {
     "name": "stdout",
     "output_type": "stream",
     "text": [
      "1 1\n",
      "6\n"
     ]
    },
    {
     "data": {
      "text/plain": [
       "6"
      ]
     },
     "execution_count": 17,
     "metadata": {},
     "output_type": "execute_result"
    }
   ],
   "source": [
    "nums = [\"1\",\"1\",\"1\"]\n",
    "target = \"11\"\n",
    "numOfPairs(nums, target)"
   ]
  },
  {
   "cell_type": "code",
   "execution_count": null,
   "metadata": {},
   "outputs": [],
   "source": []
  }
 ],
 "metadata": {
  "kernelspec": {
   "display_name": "Python 3",
   "language": "python",
   "name": "python3"
  },
  "language_info": {
   "codemirror_mode": {
    "name": "ipython",
    "version": 3
   },
   "file_extension": ".py",
   "mimetype": "text/x-python",
   "name": "python",
   "nbconvert_exporter": "python",
   "pygments_lexer": "ipython3",
   "version": "3.8.5"
  }
 },
 "nbformat": 4,
 "nbformat_minor": 4
}
