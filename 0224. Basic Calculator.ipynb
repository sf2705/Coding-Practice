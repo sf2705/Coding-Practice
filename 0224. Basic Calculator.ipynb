{
 "cells": [
  {
   "cell_type": "markdown",
   "metadata": {},
   "source": [
    "### 2021-09-11\n",
    "\n",
    "https://leetcode.com/problems/basic-calculator/"
   ]
  },
  {
   "cell_type": "code",
   "execution_count": 2,
   "metadata": {},
   "outputs": [],
   "source": [
    "def calculate(s):\n",
    "    \"\"\"\n",
    "    :type s: str\n",
    "    :rtype: int\n",
    "    \"\"\"\n",
    "    \n",
    "    res, num = 0, 0\n",
    "    sign = 1\n",
    "    stack = []\n",
    "    \n",
    "    for ch in s:\n",
    "        if ch.isdigit():\n",
    "            num = num*10 + int(ch)\n",
    "        elif ch in ['+', '-']:\n",
    "            res += sign * num\n",
    "            num = 0\n",
    "            sign = 1 if ch == '+' else -1\n",
    "        elif ch == '(':\n",
    "            stack.append(res)\n",
    "            stack.append(sign)\n",
    "            sign, res = 1, 0\n",
    "        elif ch == ')':\n",
    "            res += sign * num\n",
    "            res *= stack.pop()\n",
    "            res += stack.pop()\n",
    "            num = 0\n",
    "    return res + sign * num\n",
    "            \n"
   ]
  },
  {
   "cell_type": "code",
   "execution_count": 3,
   "metadata": {},
   "outputs": [
    {
     "data": {
      "text/plain": [
       "2"
      ]
     },
     "execution_count": 3,
     "metadata": {},
     "output_type": "execute_result"
    }
   ],
   "source": [
    "s = \"1 + 1\"\n",
    "calculate(s)"
   ]
  },
  {
   "cell_type": "code",
   "execution_count": 4,
   "metadata": {},
   "outputs": [
    {
     "data": {
      "text/plain": [
       "3"
      ]
     },
     "execution_count": 4,
     "metadata": {},
     "output_type": "execute_result"
    }
   ],
   "source": [
    "s = \" 2-1 + 2 \"\n",
    "calculate(s)"
   ]
  },
  {
   "cell_type": "code",
   "execution_count": 5,
   "metadata": {},
   "outputs": [
    {
     "data": {
      "text/plain": [
       "23"
      ]
     },
     "execution_count": 5,
     "metadata": {},
     "output_type": "execute_result"
    }
   ],
   "source": [
    "s = \"(1+(4+5+2)-3)+(6+8)\"\n",
    "calculate(s)"
   ]
  },
  {
   "cell_type": "code",
   "execution_count": null,
   "metadata": {},
   "outputs": [],
   "source": []
  },
  {
   "cell_type": "code",
   "execution_count": null,
   "metadata": {},
   "outputs": [],
   "source": []
  }
 ],
 "metadata": {
  "kernelspec": {
   "display_name": "Python 3",
   "language": "python",
   "name": "python3"
  },
  "language_info": {
   "codemirror_mode": {
    "name": "ipython",
    "version": 3
   },
   "file_extension": ".py",
   "mimetype": "text/x-python",
   "name": "python",
   "nbconvert_exporter": "python",
   "pygments_lexer": "ipython3",
   "version": "3.8.5"
  }
 },
 "nbformat": 4,
 "nbformat_minor": 4
}
