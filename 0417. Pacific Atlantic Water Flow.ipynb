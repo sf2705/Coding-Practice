{
 "cells": [
  {
   "cell_type": "markdown",
   "metadata": {},
   "source": [
    "### 2021-03-25\n",
    "\n",
    "https://leetcode.com/problems/pacific-atlantic-water-flow/"
   ]
  },
  {
   "cell_type": "code",
   "execution_count": 3,
   "metadata": {},
   "outputs": [],
   "source": [
    "class Solution(object):\n",
    "    def pacificAtlantic(self, matrix):\n",
    "        \"\"\"\n",
    "        :type matrix: List[List[int]]\n",
    "        :rtype: List[List[int]]\n",
    "        \"\"\"\n",
    "        if not matrix:\n",
    "            return []\n",
    "\n",
    "        pacific = set()\n",
    "        atlantic = set()\n",
    "        m, n = len(matrix), len(matrix[0])\n",
    "\n",
    "        def dfs(i, j, land):\n",
    "            land.add((i, j))\n",
    "            for x, y in ((i+1,j), (i-1,j), (i,j+1), (i,j-1)):\n",
    "                if 0<=x<m and 0<=y<n and matrix[x][y] >= matrix[i][j] and ((x,y) not in land):\n",
    "                    dfs(x, y, land)\n",
    "\n",
    "        for i in range(m):\n",
    "            dfs(i, 0, pacific)\n",
    "            dfs(i, n-1, atlantic)\n",
    "        for j in range(n):\n",
    "            dfs(0, j, pacific)\n",
    "            dfs(m-1, j, atlantic)\n",
    "        return list(pacific & atlantic)        "
   ]
  },
  {
   "cell_type": "code",
   "execution_count": null,
   "metadata": {},
   "outputs": [],
   "source": []
  }
 ],
 "metadata": {
  "kernelspec": {
   "display_name": "Python 3",
   "language": "python",
   "name": "python3"
  },
  "language_info": {
   "codemirror_mode": {
    "name": "ipython",
    "version": 3
   },
   "file_extension": ".py",
   "mimetype": "text/x-python",
   "name": "python",
   "nbconvert_exporter": "python",
   "pygments_lexer": "ipython3",
   "version": "3.8.5"
  }
 },
 "nbformat": 4,
 "nbformat_minor": 4
}
