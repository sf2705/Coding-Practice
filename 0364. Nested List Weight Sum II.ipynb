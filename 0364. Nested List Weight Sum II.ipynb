{
 "cells": [
  {
   "cell_type": "markdown",
   "metadata": {},
   "source": [
    "### 2021-12-12\n",
    "\n",
    "https://leetcode.com/problems/nested-list-weight-sum-ii/"
   ]
  },
  {
   "cell_type": "code",
   "execution_count": 60,
   "metadata": {},
   "outputs": [],
   "source": [
    "## List Format\n",
    "\n",
    "def depthSumInverse(nestedList):\n",
    "    \"\"\"\n",
    "    :type nestedList: List[NestedInteger]\n",
    "    :rtype: int\n",
    "    \"\"\"\n",
    "    from collections import defaultdict\n",
    "    \n",
    "    stack = nestedList\n",
    "    depth_dic = defaultdict(list)\n",
    "    depth = 0\n",
    "    \n",
    "    while stack:\n",
    "        new = []\n",
    "        depth += 1\n",
    "        for element in stack:\n",
    "            if type(element) == int:\n",
    "                depth_dic[depth].append(element)\n",
    "            else:\n",
    "                new += element\n",
    "        \n",
    "        stack = new\n",
    "        \n",
    "    res = 0\n",
    "    for k, v in depth_dic.items():\n",
    "        for n in v:\n",
    "            res += (depth - k + 1) * n\n",
    "    \n",
    "    return res\n",
    "    \n",
    "                \n",
    "    \n"
   ]
  },
  {
   "cell_type": "code",
   "execution_count": 61,
   "metadata": {},
   "outputs": [
    {
     "data": {
      "text/plain": [
       "8"
      ]
     },
     "execution_count": 61,
     "metadata": {},
     "output_type": "execute_result"
    }
   ],
   "source": [
    "nestedList = [[1,1],2,[1,1]]\n",
    "depthSumInverse(nestedList)"
   ]
  },
  {
   "cell_type": "code",
   "execution_count": 62,
   "metadata": {},
   "outputs": [
    {
     "data": {
      "text/plain": [
       "17"
      ]
     },
     "execution_count": 62,
     "metadata": {},
     "output_type": "execute_result"
    }
   ],
   "source": [
    "nestedList = [1,[4,[6]]]\n",
    "depthSumInverse(nestedList)"
   ]
  },
  {
   "cell_type": "code",
   "execution_count": null,
   "metadata": {},
   "outputs": [],
   "source": [
    "## Nested List Format\n",
    "\n",
    "# \"\"\"\n",
    "# This is the interface that allows for creating nested lists.\n",
    "# You should not implement it, or speculate about its implementation\n",
    "# \"\"\"\n",
    "#class NestedInteger(object):\n",
    "#    def __init__(self, value=None):\n",
    "#        \"\"\"\n",
    "#        If value is not specified, initializes an empty list.\n",
    "#        Otherwise initializes a single integer equal to value.\n",
    "#        \"\"\"\n",
    "#\n",
    "#    def isInteger(self):\n",
    "#        \"\"\"\n",
    "#        @return True if this NestedInteger holds a single integer, rather than a nested list.\n",
    "#        :rtype bool\n",
    "#        \"\"\"\n",
    "#\n",
    "#    def add(self, elem):\n",
    "#        \"\"\"\n",
    "#        Set this NestedInteger to hold a nested list and adds a nested integer elem to it.\n",
    "#        :rtype void\n",
    "#        \"\"\"\n",
    "#\n",
    "#    def setInteger(self, value):\n",
    "#        \"\"\"\n",
    "#        Set this NestedInteger to hold a single integer equal to value.\n",
    "#        :rtype void\n",
    "#        \"\"\"\n",
    "#\n",
    "#    def getInteger(self):\n",
    "#        \"\"\"\n",
    "#        @return the single integer that this NestedInteger holds, if it holds a single integer\n",
    "#        Return None if this NestedInteger holds a nested list\n",
    "#        :rtype int\n",
    "#        \"\"\"\n",
    "#\n",
    "#    def getList(self):\n",
    "#        \"\"\"\n",
    "#        @return the nested list that this NestedInteger holds, if it holds a nested list\n",
    "#        Return None if this NestedInteger holds a single integer\n",
    "#        :rtype List[NestedInteger]\n",
    "#        \"\"\"\n",
    "\n",
    "class Solution(object):\n",
    "    def depthSumInverse(self, nestedList):\n",
    "        \"\"\"\n",
    "        :type nestedList: List[NestedInteger]\n",
    "        :rtype: int\n",
    "        \"\"\"\n",
    "        from collections import defaultdict\n",
    "\n",
    "        stack = nestedList\n",
    "        depth_dic = defaultdict(list)\n",
    "        depth = 0\n",
    "\n",
    "        while stack:\n",
    "            new = []\n",
    "            depth += 1\n",
    "            for element in stack:\n",
    "                if element.isInteger():\n",
    "                    depth_dic[depth].append(element.getInteger())\n",
    "                else:\n",
    "                    new.extend(element.getList())\n",
    "\n",
    "            stack = new\n",
    "\n",
    "        res = 0\n",
    "        for k, v in depth_dic.items():\n",
    "            for n in v:\n",
    "                res += (depth - k + 1) * n\n",
    "\n",
    "        return res\n",
    "\n",
    "\n",
    "\n"
   ]
  }
 ],
 "metadata": {
  "kernelspec": {
   "display_name": "Python 3",
   "language": "python",
   "name": "python3"
  },
  "language_info": {
   "codemirror_mode": {
    "name": "ipython",
    "version": 3
   },
   "file_extension": ".py",
   "mimetype": "text/x-python",
   "name": "python",
   "nbconvert_exporter": "python",
   "pygments_lexer": "ipython3",
   "version": "3.8.5"
  }
 },
 "nbformat": 4,
 "nbformat_minor": 4
}
