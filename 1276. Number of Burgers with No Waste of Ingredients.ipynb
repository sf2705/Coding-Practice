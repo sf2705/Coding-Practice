{
 "cells": [
  {
   "cell_type": "markdown",
   "metadata": {},
   "source": [
    "### 2022-01-23\n",
    "\n",
    "https://leetcode.com/problems/number-of-burgers-with-no-waste-of-ingredients/"
   ]
  },
  {
   "cell_type": "code",
   "execution_count": 10,
   "metadata": {},
   "outputs": [],
   "source": [
    "def numOfBurgers(tomatoSlices, cheeseSlices):\n",
    "    \"\"\"\n",
    "    :type tomatoSlices: int\n",
    "    :type cheeseSlices: int\n",
    "    :rtype: List[int]\n",
    "    \"\"\"\n",
    "\n",
    "    all_jumbo_tomato = cheeseSlices * 4\n",
    "    \n",
    "    remain = all_jumbo_tomato - tomatoSlices\n",
    "    if remain >= 0 and remain%2 == 0:\n",
    "        small = remain // 2\n",
    "        jumbo = cheeseSlices - small\n",
    "        \n",
    "        if jumbo >= 0:\n",
    "            return [jumbo, small]\n",
    "    \n",
    "    return []"
   ]
  },
  {
   "cell_type": "code",
   "execution_count": 11,
   "metadata": {},
   "outputs": [
    {
     "data": {
      "text/plain": [
       "[1, 6]"
      ]
     },
     "execution_count": 11,
     "metadata": {},
     "output_type": "execute_result"
    }
   ],
   "source": [
    "tomatoSlices = 16\n",
    "cheeseSlices = 7\n",
    "numOfBurgers(tomatoSlices, cheeseSlices)"
   ]
  },
  {
   "cell_type": "code",
   "execution_count": 12,
   "metadata": {},
   "outputs": [
    {
     "data": {
      "text/plain": [
       "[]"
      ]
     },
     "execution_count": 12,
     "metadata": {},
     "output_type": "execute_result"
    }
   ],
   "source": [
    "tomatoSlices = 17\n",
    "cheeseSlices = 4\n",
    "numOfBurgers(tomatoSlices, cheeseSlices)"
   ]
  },
  {
   "cell_type": "code",
   "execution_count": 13,
   "metadata": {},
   "outputs": [
    {
     "data": {
      "text/plain": [
       "[]"
      ]
     },
     "execution_count": 13,
     "metadata": {},
     "output_type": "execute_result"
    }
   ],
   "source": [
    "tomatoSlices = 4\n",
    "cheeseSlices = 17\n",
    "numOfBurgers(tomatoSlices, cheeseSlices)"
   ]
  },
  {
   "cell_type": "code",
   "execution_count": null,
   "metadata": {},
   "outputs": [],
   "source": []
  }
 ],
 "metadata": {
  "kernelspec": {
   "display_name": "Python 3",
   "language": "python",
   "name": "python3"
  },
  "language_info": {
   "codemirror_mode": {
    "name": "ipython",
    "version": 3
   },
   "file_extension": ".py",
   "mimetype": "text/x-python",
   "name": "python",
   "nbconvert_exporter": "python",
   "pygments_lexer": "ipython3",
   "version": "3.8.5"
  }
 },
 "nbformat": 4,
 "nbformat_minor": 4
}
