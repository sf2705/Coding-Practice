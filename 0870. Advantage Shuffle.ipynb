{
 "cells": [
  {
   "cell_type": "markdown",
   "metadata": {},
   "source": [
    "### 2021-03-25\n",
    "\n",
    "https://leetcode.com/problems/advantage-shuffle/"
   ]
  },
  {
   "cell_type": "code",
   "execution_count": 4,
   "metadata": {},
   "outputs": [],
   "source": [
    "def advantageCount(A, B):\n",
    "    \"\"\"\n",
    "    :type A: List[int]\n",
    "    :type B: List[int]\n",
    "    :rtype: List[int]\n",
    "    \"\"\"\n",
    "    from collections import defaultdict\n",
    "    A = sorted(A)\n",
    "    dic = defaultdict(list)\n",
    "    for b in sorted(B)[::-1]:\n",
    "        if b < A[-1]:\n",
    "            dic[b].append(A.pop())\n",
    "    return[(dic[b] or A).pop() for b in B]"
   ]
  },
  {
   "cell_type": "code",
   "execution_count": 5,
   "metadata": {},
   "outputs": [
    {
     "data": {
      "text/plain": [
       "[2, 11, 7, 15]"
      ]
     },
     "execution_count": 5,
     "metadata": {},
     "output_type": "execute_result"
    }
   ],
   "source": [
    "A = [2,7,11,15]\n",
    "B = [1,10,4,11]\n",
    "advantageCount(A, B)"
   ]
  },
  {
   "cell_type": "code",
   "execution_count": 6,
   "metadata": {},
   "outputs": [
    {
     "data": {
      "text/plain": [
       "[24, 32, 8, 12]"
      ]
     },
     "execution_count": 6,
     "metadata": {},
     "output_type": "execute_result"
    }
   ],
   "source": [
    "A = [12,24,8,32]\n",
    "B = [13,25,32,11]\n",
    "advantageCount(A, B)"
   ]
  },
  {
   "cell_type": "code",
   "execution_count": null,
   "metadata": {},
   "outputs": [],
   "source": []
  },
  {
   "cell_type": "code",
   "execution_count": null,
   "metadata": {},
   "outputs": [],
   "source": []
  }
 ],
 "metadata": {
  "kernelspec": {
   "display_name": "Python 3",
   "language": "python",
   "name": "python3"
  },
  "language_info": {
   "codemirror_mode": {
    "name": "ipython",
    "version": 3
   },
   "file_extension": ".py",
   "mimetype": "text/x-python",
   "name": "python",
   "nbconvert_exporter": "python",
   "pygments_lexer": "ipython3",
   "version": "3.8.5"
  }
 },
 "nbformat": 4,
 "nbformat_minor": 4
}
