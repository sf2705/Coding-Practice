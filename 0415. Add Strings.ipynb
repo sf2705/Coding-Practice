{
 "cells": [
  {
   "cell_type": "markdown",
   "metadata": {},
   "source": [
    "### 2022-01-24\n",
    "\n",
    "https://leetcode.com/problems/add-strings/"
   ]
  },
  {
   "cell_type": "code",
   "execution_count": 16,
   "metadata": {},
   "outputs": [],
   "source": [
    "def addStrings(num1, num2):\n",
    "    \"\"\"\n",
    "    :type num1: str\n",
    "    :type num2: str\n",
    "    :rtype: str\n",
    "    \"\"\"\n",
    "\n",
    "    res = 0\n",
    "        \n",
    "    l = max(len(num1), len(num2))\n",
    "    \n",
    "    if len(num1) < len(num2):\n",
    "        num1 = '0' * (len(num2) - len(num1)) + num1\n",
    "    if len(num1) > len(num2):\n",
    "        num2 = '0' * (len(num1) - len(num2)) + num2\n",
    "    \n",
    "    \n",
    "    for i in range(l):\n",
    "        cur = int(num1[i]) + int(num2[i]) \n",
    "        res = res * 10 + cur\n",
    "    return str(res)"
   ]
  },
  {
   "cell_type": "code",
   "execution_count": 17,
   "metadata": {},
   "outputs": [
    {
     "data": {
      "text/plain": [
       "134"
      ]
     },
     "execution_count": 17,
     "metadata": {},
     "output_type": "execute_result"
    }
   ],
   "source": [
    "num1 = \"11\"\n",
    "num2 = \"123\"\n",
    "addStrings(num1, num2)"
   ]
  },
  {
   "cell_type": "code",
   "execution_count": 18,
   "metadata": {},
   "outputs": [
    {
     "data": {
      "text/plain": [
       "533"
      ]
     },
     "execution_count": 18,
     "metadata": {},
     "output_type": "execute_result"
    }
   ],
   "source": [
    "num1 = \"456\"\n",
    "num2 = \"77\"\n",
    "addStrings(num1, num2)"
   ]
  },
  {
   "cell_type": "code",
   "execution_count": 19,
   "metadata": {},
   "outputs": [
    {
     "data": {
      "text/plain": [
       "0"
      ]
     },
     "execution_count": 19,
     "metadata": {},
     "output_type": "execute_result"
    }
   ],
   "source": [
    "num1 = \"0\"\n",
    "num2 = \"0\"\n",
    "addStrings(num1, num2)"
   ]
  },
  {
   "cell_type": "code",
   "execution_count": null,
   "metadata": {},
   "outputs": [],
   "source": []
  }
 ],
 "metadata": {
  "kernelspec": {
   "display_name": "Python 3",
   "language": "python",
   "name": "python3"
  },
  "language_info": {
   "codemirror_mode": {
    "name": "ipython",
    "version": 3
   },
   "file_extension": ".py",
   "mimetype": "text/x-python",
   "name": "python",
   "nbconvert_exporter": "python",
   "pygments_lexer": "ipython3",
   "version": "3.8.5"
  }
 },
 "nbformat": 4,
 "nbformat_minor": 4
}
