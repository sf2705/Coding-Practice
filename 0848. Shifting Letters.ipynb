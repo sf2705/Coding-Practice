{
 "cells": [
  {
   "cell_type": "markdown",
   "metadata": {},
   "source": [
    "### 2021-09-08\n",
    "\n",
    "https://leetcode.com/problems/shifting-letters/"
   ]
  },
  {
   "cell_type": "code",
   "execution_count": 42,
   "metadata": {},
   "outputs": [],
   "source": [
    "def shiftingLetters(s, shifts):\n",
    "    \"\"\"\n",
    "    :type s: str\n",
    "    :type shifts: List[int]\n",
    "    :rtype: str\n",
    "    \"\"\"\n",
    "    def helper(ch, i):\n",
    "        if ord(ch) + i > ord('z'):\n",
    "            return chr(ord(ch)+i-26)\n",
    "        return chr(ord(ch)+i)\n",
    "                \n",
    "    if len(shifts) == 1:\n",
    "        return helper(s[0], shifts[0]%26)\n",
    "        \n",
    "    new_shift = [shifts[-1]%26]\n",
    "    for i in range(len(shifts)-2, -1, -1):\n",
    "        new_shift.append((shifts[i]+new_shift[-1])%26)\n",
    "    \n",
    "    new_shift = new_shift[::-1]\n",
    "    res = ''\n",
    "    for j in range(len(s)):\n",
    "        res += helper(s[j], new_shift[j])\n",
    "    return res\n"
   ]
  },
  {
   "cell_type": "code",
   "execution_count": 44,
   "metadata": {},
   "outputs": [
    {
     "data": {
      "text/plain": [
       "'a'"
      ]
     },
     "execution_count": 44,
     "metadata": {},
     "output_type": "execute_result"
    }
   ],
   "source": [
    "s = 'a'\n",
    "shifts = [0]\n",
    "shiftingLetters(s, shifts)"
   ]
  },
  {
   "cell_type": "code",
   "execution_count": 39,
   "metadata": {},
   "outputs": [
    {
     "data": {
      "text/plain": [
       "'rpl'"
      ]
     },
     "execution_count": 39,
     "metadata": {},
     "output_type": "execute_result"
    }
   ],
   "source": [
    "s = \"abc\"\n",
    "shifts = [3,5,9]\n",
    "shiftingLetters(s, shifts)"
   ]
  },
  {
   "cell_type": "code",
   "execution_count": 40,
   "metadata": {},
   "outputs": [
    {
     "data": {
      "text/plain": [
       "'gfd'"
      ]
     },
     "execution_count": 40,
     "metadata": {},
     "output_type": "execute_result"
    }
   ],
   "source": [
    "s = \"aaa\"\n",
    "shifts = [1,2,3]\n",
    "shiftingLetters(s, shifts)"
   ]
  },
  {
   "cell_type": "code",
   "execution_count": 41,
   "metadata": {},
   "outputs": [
    {
     "data": {
      "text/plain": [
       "'dbxp'"
      ]
     },
     "execution_count": 41,
     "metadata": {},
     "output_type": "execute_result"
    }
   ],
   "source": [
    "s = \"abcd\"\n",
    "shifts = [3,5,9,90]\n",
    "shiftingLetters(s, shifts)"
   ]
  },
  {
   "cell_type": "code",
   "execution_count": null,
   "metadata": {},
   "outputs": [],
   "source": []
  }
 ],
 "metadata": {
  "kernelspec": {
   "display_name": "Python 3",
   "language": "python",
   "name": "python3"
  },
  "language_info": {
   "codemirror_mode": {
    "name": "ipython",
    "version": 3
   },
   "file_extension": ".py",
   "mimetype": "text/x-python",
   "name": "python",
   "nbconvert_exporter": "python",
   "pygments_lexer": "ipython3",
   "version": "3.8.5"
  }
 },
 "nbformat": 4,
 "nbformat_minor": 4
}
