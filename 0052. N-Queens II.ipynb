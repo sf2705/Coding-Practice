{
 "cells": [
  {
   "cell_type": "markdown",
   "metadata": {},
   "source": [
    "### 2021-02-27\n",
    "\n",
    "https://leetcode.com/problems/n-queens-ii/"
   ]
  },
  {
   "cell_type": "code",
   "execution_count": null,
   "metadata": {},
   "outputs": [],
   "source": [
    "class Solution(object):\n",
    "    def totalNQueens(self, n):\n",
    "        \"\"\"\n",
    "        :type n: int\n",
    "        :rtype: int\n",
    "        \"\"\"\n",
    "        diag1 = set()\n",
    "        diag2 = set()\n",
    "        usedCols = set()\n",
    "\n",
    "        return self.helper(n, diag1, diag2, usedCols, 0)\n",
    "\n",
    "    def helper(self, n, diag1, diag2, usedCols, row):\n",
    "        if row == n:\n",
    "            return 1\n",
    "\n",
    "        res = 0\n",
    "        for col in range(n):\n",
    "            if row + col in diag1 or row-col in diag2 or col in usedCols:\n",
    "                continue\n",
    "\n",
    "            diag1.add(row + col)\n",
    "            diag2.add(row - col)\n",
    "            usedCols.add(col)\n",
    "\n",
    "            res += self.helper(n, diag1, diag2, usedCols, row+1)\n",
    "\n",
    "            diag1.remove(row + col)\n",
    "            diag2.remove(row - col)\n",
    "            usedCols.remove(col)\n",
    "        return res"
   ]
  }
 ],
 "metadata": {
  "kernelspec": {
   "display_name": "Python 3",
   "language": "python",
   "name": "python3"
  },
  "language_info": {
   "codemirror_mode": {
    "name": "ipython",
    "version": 3
   },
   "file_extension": ".py",
   "mimetype": "text/x-python",
   "name": "python",
   "nbconvert_exporter": "python",
   "pygments_lexer": "ipython3",
   "version": "3.8.5"
  }
 },
 "nbformat": 4,
 "nbformat_minor": 4
}
