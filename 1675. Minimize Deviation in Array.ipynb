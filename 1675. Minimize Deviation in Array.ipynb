{
 "cells": [
  {
   "cell_type": "markdown",
   "metadata": {},
   "source": [
    "### 2021-01-30\n",
    "\n",
    "https://leetcode.com/problems/minimize-deviation-in-array/"
   ]
  },
  {
   "cell_type": "code",
   "execution_count": null,
   "metadata": {},
   "outputs": [],
   "source": [
    "### need to find the upper bound and lower bound of each number"
   ]
  },
  {
   "cell_type": "code",
   "execution_count": 21,
   "metadata": {},
   "outputs": [],
   "source": [
    "def minimumDeviation(nums):\n",
    "    \"\"\"\n",
    "    :type nums: List[int]\n",
    "    :rtype: int\n",
    "    \"\"\"\n",
    "    import heapq\n",
    "    \n",
    "    def bounds(n):\n",
    "        # find the lower and upper bound of number n\n",
    "        upper = n\n",
    "        if upper % 2 == 1:\n",
    "            upper *= 2\n",
    "        lower = upper\n",
    "        while lower %2 == 0:\n",
    "            lower /= 2\n",
    "        return lower, upper\n",
    "    \n",
    "    nums = [(lower, upper) for lower, upper in map(bounds, nums)]\n",
    "    print(nums)\n",
    "    heapq.heapify(nums)\n",
    "    print(nums)\n",
    "    upper = max(x[0] for x in nums)\n",
    "    lower = min(x[0] for x in nums)\n",
    "    \n",
    "    res = upper - lower\n",
    "    while nums[0][0] < nums[0][1]:\n",
    "        print(nums, res)\n",
    "        cur, mx = heapq.heappop(nums)\n",
    "        print(cur, mx)\n",
    "        heapq.heappush(nums, (cur*2, mx))\n",
    "        upper = max(upper, cur * 2)\n",
    "        lower = nums[0][0]\n",
    "        res = min(res, upper - lower)\n",
    "    \n",
    "    return res"
   ]
  },
  {
   "cell_type": "code",
   "execution_count": 23,
   "metadata": {},
   "outputs": [
    {
     "name": "stdout",
     "output_type": "stream",
     "text": [
      "[(1.0, 2), (1.0, 2), (3.0, 6), (1.0, 4)]\n",
      "[(1.0, 2), (1.0, 2), (3.0, 6), (1.0, 4)]\n",
      "[(1.0, 2), (1.0, 2), (3.0, 6), (1.0, 4)] 2.0\n",
      "1.0 2\n",
      "[(1.0, 2), (1.0, 4), (3.0, 6), (2.0, 2)] 2.0\n",
      "1.0 2\n",
      "[(1.0, 4), (2.0, 2), (3.0, 6), (2.0, 2)] 2.0\n",
      "1.0 4\n"
     ]
    },
    {
     "data": {
      "text/plain": [
       "1.0"
      ]
     },
     "execution_count": 23,
     "metadata": {},
     "output_type": "execute_result"
    }
   ],
   "source": [
    "nums = [1,2,3,4]\n",
    "minimumDeviation(nums)"
   ]
  },
  {
   "cell_type": "code",
   "execution_count": 24,
   "metadata": {},
   "outputs": [
    {
     "name": "stdout",
     "output_type": "stream",
     "text": [
      "[(1.0, 4), (1.0, 2), (5.0, 10), (5.0, 20), (3.0, 6)]\n",
      "[(1.0, 2), (1.0, 4), (5.0, 10), (5.0, 20), (3.0, 6)]\n",
      "[(1.0, 2), (1.0, 4), (5.0, 10), (5.0, 20), (3.0, 6)] 4.0\n",
      "1.0 2\n",
      "[(1.0, 4), (2.0, 2), (5.0, 10), (5.0, 20), (3.0, 6)] 4.0\n",
      "1.0 4\n"
     ]
    },
    {
     "data": {
      "text/plain": [
       "3.0"
      ]
     },
     "execution_count": 24,
     "metadata": {},
     "output_type": "execute_result"
    }
   ],
   "source": [
    "nums = [4,1,5,20,3]\n",
    "minimumDeviation(nums)"
   ]
  },
  {
   "cell_type": "code",
   "execution_count": 25,
   "metadata": {},
   "outputs": [
    {
     "name": "stdout",
     "output_type": "stream",
     "text": [
      "[(1.0, 2), (5.0, 10), (1.0, 8)]\n",
      "[(1.0, 2), (5.0, 10), (1.0, 8)]\n",
      "[(1.0, 2), (5.0, 10), (1.0, 8)] 4.0\n",
      "1.0 2\n",
      "[(1.0, 8), (5.0, 10), (2.0, 2)] 4.0\n",
      "1.0 8\n"
     ]
    },
    {
     "data": {
      "text/plain": [
       "3.0"
      ]
     },
     "execution_count": 25,
     "metadata": {},
     "output_type": "execute_result"
    }
   ],
   "source": [
    "nums = [2,10,8]\n",
    "minimumDeviation(nums)"
   ]
  },
  {
   "cell_type": "code",
   "execution_count": null,
   "metadata": {},
   "outputs": [],
   "source": []
  }
 ],
 "metadata": {
  "kernelspec": {
   "display_name": "Python 3",
   "language": "python",
   "name": "python3"
  },
  "language_info": {
   "codemirror_mode": {
    "name": "ipython",
    "version": 3
   },
   "file_extension": ".py",
   "mimetype": "text/x-python",
   "name": "python",
   "nbconvert_exporter": "python",
   "pygments_lexer": "ipython3",
   "version": "3.8.5"
  }
 },
 "nbformat": 4,
 "nbformat_minor": 4
}
