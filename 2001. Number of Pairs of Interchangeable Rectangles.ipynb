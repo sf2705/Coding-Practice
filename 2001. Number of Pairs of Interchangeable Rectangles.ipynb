{
 "cells": [
  {
   "cell_type": "markdown",
   "metadata": {},
   "source": [
    "### 2021-09-11\n",
    "\n",
    "https://leetcode.com/problems/number-of-pairs-of-interchangeable-rectangles/"
   ]
  },
  {
   "cell_type": "code",
   "execution_count": 20,
   "metadata": {},
   "outputs": [],
   "source": [
    "def interchangeableRectangles(rectangles):\n",
    "    \"\"\"\n",
    "    :type rectangles: List[List[int]]\n",
    "    :rtype: int\n",
    "    \"\"\"\n",
    "    from collections import defaultdict\n",
    "    dic = defaultdict(int)\n",
    "    \n",
    "    for w, h in rectangles:\n",
    "        dic[w/h] += 1\n",
    "    \n",
    "    res = 0\n",
    "    for k,v in dic.items():\n",
    "        if v > 1:\n",
    "            res += v * (v-1) // 2\n",
    "    return res\n",
    "    \n"
   ]
  },
  {
   "cell_type": "code",
   "execution_count": 21,
   "metadata": {},
   "outputs": [
    {
     "name": "stdout",
     "output_type": "stream",
     "text": [
      "defaultdict(<class 'int'>, {0.5: 4})\n"
     ]
    },
    {
     "data": {
      "text/plain": [
       "6"
      ]
     },
     "execution_count": 21,
     "metadata": {},
     "output_type": "execute_result"
    }
   ],
   "source": [
    "rectangles = [[4,8],[3,6],[10,20],[15,30]]\n",
    "interchangeableRectangles(rectangles)"
   ]
  },
  {
   "cell_type": "code",
   "execution_count": 22,
   "metadata": {},
   "outputs": [
    {
     "name": "stdout",
     "output_type": "stream",
     "text": [
      "defaultdict(<class 'int'>, {0.8: 1, 0.875: 1})\n"
     ]
    },
    {
     "data": {
      "text/plain": [
       "0"
      ]
     },
     "execution_count": 22,
     "metadata": {},
     "output_type": "execute_result"
    }
   ],
   "source": [
    "rectangles = [[4,5],[7,8]]\n",
    "interchangeableRectangles(rectangles)"
   ]
  },
  {
   "cell_type": "code",
   "execution_count": 23,
   "metadata": {},
   "outputs": [
    {
     "name": "stdout",
     "output_type": "stream",
     "text": [
      "defaultdict(<class 'int'>, {0.14285714285714285: 1, 0.25: 2, 1.0: 1, 0.4: 1, 1.75: 1})\n"
     ]
    },
    {
     "data": {
      "text/plain": [
       "1"
      ]
     },
     "execution_count": 23,
     "metadata": {},
     "output_type": "execute_result"
    }
   ],
   "source": [
    "rectangles = [[1,7],[2,8],[8,8],[2,5],[2,8],[7,4]]\n",
    "interchangeableRectangles(rectangles)"
   ]
  },
  {
   "cell_type": "code",
   "execution_count": null,
   "metadata": {},
   "outputs": [],
   "source": []
  }
 ],
 "metadata": {
  "kernelspec": {
   "display_name": "Python 3",
   "language": "python",
   "name": "python3"
  },
  "language_info": {
   "codemirror_mode": {
    "name": "ipython",
    "version": 3
   },
   "file_extension": ".py",
   "mimetype": "text/x-python",
   "name": "python",
   "nbconvert_exporter": "python",
   "pygments_lexer": "ipython3",
   "version": "3.8.5"
  }
 },
 "nbformat": 4,
 "nbformat_minor": 4
}
