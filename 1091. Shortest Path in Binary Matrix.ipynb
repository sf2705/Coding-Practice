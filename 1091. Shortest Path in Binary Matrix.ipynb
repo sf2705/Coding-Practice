{
 "cells": [
  {
   "cell_type": "markdown",
   "metadata": {},
   "source": [
    "### 2021-02-13\n",
    "\n",
    "https://leetcode.com/problems/shortest-path-in-binary-matrix/"
   ]
  },
  {
   "cell_type": "code",
   "execution_count": 5,
   "metadata": {},
   "outputs": [],
   "source": [
    "def shortestPathBinaryMatrix(grid):\n",
    "    \"\"\"\n",
    "    :type grid: List[List[int]]\n",
    "    :rtype: int\n",
    "    \"\"\"\n",
    "    n = len(grid)-1\n",
    "    if grid[0][0] == 1 or grid[n][n] == 1:\n",
    "        return -1\n",
    "    queue = [(0,0,1)]\n",
    "    # set visited grid as 1 to aviod revisiting\n",
    "    grid[0][0] = 1\n",
    "    for r, c, step in queue:\n",
    "        if r == n and c == n:\n",
    "            return step\n",
    "        for x, y in ((r-1,c-1), (r-1, c), (r-1, c+1), \\\n",
    "                    (r, c-1), (r, c+1), \\\n",
    "                    (r+1, c-1), (r+1, c), (r+1, c+1)):\n",
    "            if 0<=x<=n and 0<=y<=n and grid[x][y] == 0:\n",
    "                grid[x][y] = 1\n",
    "                queue.append((x, y, step+1))\n",
    "    return -1"
   ]
  },
  {
   "cell_type": "code",
   "execution_count": 6,
   "metadata": {},
   "outputs": [
    {
     "data": {
      "text/plain": [
       "2"
      ]
     },
     "execution_count": 6,
     "metadata": {},
     "output_type": "execute_result"
    }
   ],
   "source": [
    "grid = [[0,1],[1,0]]\n",
    "shortestPathBinaryMatrix(grid)"
   ]
  },
  {
   "cell_type": "code",
   "execution_count": 7,
   "metadata": {},
   "outputs": [
    {
     "data": {
      "text/plain": [
       "4"
      ]
     },
     "execution_count": 7,
     "metadata": {},
     "output_type": "execute_result"
    }
   ],
   "source": [
    "grid = [[0,0,0],[1,1,0],[1,1,0]]\n",
    "shortestPathBinaryMatrix(grid)"
   ]
  },
  {
   "cell_type": "code",
   "execution_count": null,
   "metadata": {},
   "outputs": [],
   "source": []
  }
 ],
 "metadata": {
  "kernelspec": {
   "display_name": "Python 3",
   "language": "python",
   "name": "python3"
  },
  "language_info": {
   "codemirror_mode": {
    "name": "ipython",
    "version": 3
   },
   "file_extension": ".py",
   "mimetype": "text/x-python",
   "name": "python",
   "nbconvert_exporter": "python",
   "pygments_lexer": "ipython3",
   "version": "3.8.5"
  }
 },
 "nbformat": 4,
 "nbformat_minor": 4
}
