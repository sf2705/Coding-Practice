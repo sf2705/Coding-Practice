{
 "cells": [
  {
   "cell_type": "markdown",
   "metadata": {},
   "source": [
    "### 2021-11-04\n",
    "\n",
    "https://leetcode.com/problems/arranging-coins/"
   ]
  },
  {
   "cell_type": "markdown",
   "metadata": {},
   "source": [
    "#### Method 1"
   ]
  },
  {
   "cell_type": "code",
   "execution_count": 3,
   "metadata": {},
   "outputs": [],
   "source": [
    "def arrangeCoins(n):\n",
    "    \"\"\"\n",
    "    :type n: int\n",
    "    :rtype: int\n",
    "    \"\"\"\n",
    "    \n",
    "    res = 0\n",
    "    total = n\n",
    "    \n",
    "    for i in range(1, n+1):\n",
    "        total -= i\n",
    "        if total >= 0:\n",
    "            res += 1\n",
    "        else:\n",
    "            break\n",
    "    \n",
    "    return res"
   ]
  },
  {
   "cell_type": "markdown",
   "metadata": {},
   "source": [
    "#### Method 2"
   ]
  },
  {
   "cell_type": "code",
   "execution_count": 62,
   "metadata": {},
   "outputs": [],
   "source": [
    "def arrangeCoins(n):\n",
    "    \"\"\"\n",
    "    :type n: int\n",
    "    :rtype: int\n",
    "    \"\"\"\n",
    "    \n",
    "    l, r = 0, n\n",
    "    while l <= r:\n",
    "        mid = (l+r)//2\n",
    "        print(l, mid, r)\n",
    "        total = mid * (mid+1) // 2\n",
    "        if total == n:\n",
    "            return mid\n",
    "        elif total > n:\n",
    "            r = mid-1\n",
    "        else:\n",
    "            l = mid+1\n",
    "        \n",
    "    return r\n",
    "    "
   ]
  },
  {
   "cell_type": "code",
   "execution_count": 63,
   "metadata": {},
   "outputs": [
    {
     "name": "stdout",
     "output_type": "stream",
     "text": [
      "0 0 0\n"
     ]
    },
    {
     "data": {
      "text/plain": [
       "0"
      ]
     },
     "execution_count": 63,
     "metadata": {},
     "output_type": "execute_result"
    }
   ],
   "source": [
    "arrangeCoins(0)"
   ]
  },
  {
   "cell_type": "code",
   "execution_count": 64,
   "metadata": {},
   "outputs": [
    {
     "name": "stdout",
     "output_type": "stream",
     "text": [
      "0 2 5\n",
      "3 4 5\n",
      "3 3 3\n"
     ]
    },
    {
     "data": {
      "text/plain": [
       "2"
      ]
     },
     "execution_count": 64,
     "metadata": {},
     "output_type": "execute_result"
    }
   ],
   "source": [
    "arrangeCoins(5)"
   ]
  },
  {
   "cell_type": "code",
   "execution_count": 65,
   "metadata": {},
   "outputs": [
    {
     "name": "stdout",
     "output_type": "stream",
     "text": [
      "0 4 8\n",
      "0 1 3\n",
      "2 2 3\n",
      "3 3 3\n"
     ]
    },
    {
     "data": {
      "text/plain": [
       "3"
      ]
     },
     "execution_count": 65,
     "metadata": {},
     "output_type": "execute_result"
    }
   ],
   "source": [
    "arrangeCoins(8)"
   ]
  },
  {
   "cell_type": "code",
   "execution_count": 43,
   "metadata": {},
   "outputs": [
    {
     "name": "stdout",
     "output_type": "stream",
     "text": [
      "0 902144691 1804289383\n",
      "0 451072345 902144690\n",
      "0 225536172 451072344\n",
      "0 112768085 225536171\n",
      "0 56384042 112768084\n",
      "0 28192020 56384041\n",
      "0 14096009 28192019\n",
      "0 7048004 14096008\n",
      "0 3524001 7048003\n",
      "0 1762000 3524000\n",
      "0 880999 1761999\n",
      "0 440499 880998\n",
      "0 220249 440498\n",
      "0 110124 220248\n",
      "0 55061 110123\n",
      "55062 82592 110123\n",
      "55062 68826 82591\n",
      "55062 61943 68825\n",
      "55062 58502 61942\n",
      "58503 60222 61942\n",
      "58503 59362 60221\n",
      "59363 59792 60221\n",
      "59793 60007 60221\n",
      "60008 60114 60221\n",
      "60008 60060 60113\n",
      "60061 60087 60113\n",
      "60061 60073 60086\n",
      "60061 60066 60072\n",
      "60067 60069 60072\n",
      "60070 60071 60072\n"
     ]
    },
    {
     "data": {
      "text/plain": [
       "60070"
      ]
     },
     "execution_count": 43,
     "metadata": {},
     "output_type": "execute_result"
    }
   ],
   "source": [
    "arrangeCoins(1804289383)"
   ]
  },
  {
   "cell_type": "code",
   "execution_count": null,
   "metadata": {},
   "outputs": [],
   "source": []
  }
 ],
 "metadata": {
  "kernelspec": {
   "display_name": "Python 3",
   "language": "python",
   "name": "python3"
  },
  "language_info": {
   "codemirror_mode": {
    "name": "ipython",
    "version": 3
   },
   "file_extension": ".py",
   "mimetype": "text/x-python",
   "name": "python",
   "nbconvert_exporter": "python",
   "pygments_lexer": "ipython3",
   "version": "3.8.5"
  }
 },
 "nbformat": 4,
 "nbformat_minor": 4
}
