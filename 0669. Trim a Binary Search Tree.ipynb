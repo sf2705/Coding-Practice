{
 "cells": [
  {
   "cell_type": "markdown",
   "metadata": {},
   "source": [
    "### 2021-02-02\n",
    "\n",
    "https://leetcode.com/problems/trim-a-binary-search-tree/"
   ]
  },
  {
   "cell_type": "code",
   "execution_count": null,
   "metadata": {},
   "outputs": [],
   "source": [
    "# Definition for a binary tree node.\n",
    "# class TreeNode(object):\n",
    "#     def __init__(self, val=0, left=None, right=None):\n",
    "#         self.val = val\n",
    "#         self.left = left\n",
    "#         self.right = right\n",
    "class Solution(object):\n",
    "    def trimBST(self, root, low, high):\n",
    "        \"\"\"\n",
    "        :type root: TreeNode\n",
    "        :type low: int\n",
    "        :type high: int\n",
    "        :rtype: TreeNode\n",
    "        \"\"\"\n",
    "        \n",
    "        if not root:\n",
    "            return None\n",
    "        \n",
    "        # if val is less than lower limit, then only search for the right subtree\n",
    "        if root.val < low:\n",
    "            return self.trimBST(root.right, low, high)\n",
    "        \n",
    "        # if val is greater than upper limit, then only serach for the left subtree\n",
    "        if root.val > high:\n",
    "            return self.trimBST(root.left, low, high)\n",
    "        \n",
    "        # otherwise, recursively search for the subtrees\n",
    "        root.left = self.trimBST(root.left, low, high)\n",
    "        root.right = self.trimBST(root.right, low, high)\n",
    "        return root"
   ]
  }
 ],
 "metadata": {
  "kernelspec": {
   "display_name": "Python 3",
   "language": "python",
   "name": "python3"
  },
  "language_info": {
   "codemirror_mode": {
    "name": "ipython",
    "version": 3
   },
   "file_extension": ".py",
   "mimetype": "text/x-python",
   "name": "python",
   "nbconvert_exporter": "python",
   "pygments_lexer": "ipython3",
   "version": "3.8.5"
  }
 },
 "nbformat": 4,
 "nbformat_minor": 4
}
