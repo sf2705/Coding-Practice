{
 "cells": [
  {
   "cell_type": "markdown",
   "metadata": {},
   "source": [
    "### 2021-02-28\n",
    "\n",
    "https://leetcode.com/problems/find-first-and-last-position-of-element-in-sorted-array/"
   ]
  },
  {
   "cell_type": "code",
   "execution_count": 5,
   "metadata": {},
   "outputs": [],
   "source": [
    "def searchRange(nums, target):\n",
    "    \"\"\"\n",
    "    :type nums: List[int]\n",
    "    :type target: int\n",
    "    :rtype: List[int]\n",
    "    \"\"\"\n",
    "    def searchleft(nums, target):\n",
    "        l, r = 0, len(nums)-1\n",
    "        while l <= r:\n",
    "            mid = (l+r)//2\n",
    "            if nums[mid] >= target:\n",
    "                r = mid - 1\n",
    "            else:\n",
    "                l = mid + 1\n",
    "        return l\n",
    "    \n",
    "    def searchright(nums, target):\n",
    "    \n",
    "        l, r = 0, len(nums)-1\n",
    "        while l <= r:\n",
    "            mid = (l+r)//2\n",
    "            if nums[mid] > target:\n",
    "                r = mid - 1\n",
    "            else:      \n",
    "                l = mid + 1\n",
    "        return r\n",
    "        \n",
    "    left = searchleft(nums, target)\n",
    "    right = searchright(nums, target)\n",
    "    \n",
    "    if left <= right:\n",
    "        return [left, right]\n",
    "    else:\n",
    "        return [-1, -1]"
   ]
  },
  {
   "cell_type": "code",
   "execution_count": 6,
   "metadata": {},
   "outputs": [
    {
     "data": {
      "text/plain": [
       "[3, 4]"
      ]
     },
     "execution_count": 6,
     "metadata": {},
     "output_type": "execute_result"
    }
   ],
   "source": [
    "nums = [5,7,7,8,8,10]\n",
    "target = 8\n",
    "searchRange(nums, target)"
   ]
  },
  {
   "cell_type": "code",
   "execution_count": 7,
   "metadata": {},
   "outputs": [
    {
     "data": {
      "text/plain": [
       "[-1, -1]"
      ]
     },
     "execution_count": 7,
     "metadata": {},
     "output_type": "execute_result"
    }
   ],
   "source": [
    "nums = [5,7,7,8,8,10]\n",
    "target = 6\n",
    "searchRange(nums, target)"
   ]
  },
  {
   "cell_type": "code",
   "execution_count": 8,
   "metadata": {},
   "outputs": [
    {
     "data": {
      "text/plain": [
       "[-1, -1]"
      ]
     },
     "execution_count": 8,
     "metadata": {},
     "output_type": "execute_result"
    }
   ],
   "source": [
    "nums = []\n",
    "target = 0\n",
    "searchRange(nums, target)"
   ]
  },
  {
   "cell_type": "code",
   "execution_count": null,
   "metadata": {},
   "outputs": [],
   "source": []
  }
 ],
 "metadata": {
  "kernelspec": {
   "display_name": "Python 3",
   "language": "python",
   "name": "python3"
  },
  "language_info": {
   "codemirror_mode": {
    "name": "ipython",
    "version": 3
   },
   "file_extension": ".py",
   "mimetype": "text/x-python",
   "name": "python",
   "nbconvert_exporter": "python",
   "pygments_lexer": "ipython3",
   "version": "3.8.5"
  }
 },
 "nbformat": 4,
 "nbformat_minor": 4
}
