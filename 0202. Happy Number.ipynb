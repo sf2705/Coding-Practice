{
 "cells": [
  {
   "cell_type": "markdown",
   "metadata": {},
   "source": [
    "### 2021-10-10\n",
    "\n",
    "https://leetcode.com/problems/happy-number/"
   ]
  },
  {
   "cell_type": "code",
   "execution_count": 12,
   "metadata": {},
   "outputs": [],
   "source": [
    "def isHappy(n):\n",
    "    \"\"\"\n",
    "    :type n: int\n",
    "    :rtype: bool\n",
    "    \"\"\"\n",
    "    cycle = set()\n",
    "    \n",
    "    \n",
    "    while n != 1 and (n not in cycle):\n",
    "        cycle.add(n)\n",
    "        total_sum = 0\n",
    "        while n:\n",
    "            n, digit = n//10, n%10\n",
    "            total_sum += digit**2\n",
    "        n = total_sum\n",
    "    \n",
    "    return n == 1\n",
    "        \n"
   ]
  },
  {
   "cell_type": "code",
   "execution_count": 13,
   "metadata": {},
   "outputs": [
    {
     "name": "stdout",
     "output_type": "stream",
     "text": [
      "set() 19\n",
      "{19} 82\n",
      "{82, 19} 68\n",
      "{82, 19, 68} 100\n"
     ]
    },
    {
     "data": {
      "text/plain": [
       "True"
      ]
     },
     "execution_count": 13,
     "metadata": {},
     "output_type": "execute_result"
    }
   ],
   "source": [
    "isHappy(19)"
   ]
  },
  {
   "cell_type": "code",
   "execution_count": 14,
   "metadata": {},
   "outputs": [
    {
     "name": "stdout",
     "output_type": "stream",
     "text": [
      "set() 2\n",
      "{2} 4\n",
      "{2, 4} 16\n",
      "{16, 2, 4} 37\n",
      "{16, 2, 4, 37} 58\n",
      "{2, 4, 37, 16, 58} 89\n",
      "{2, 4, 37, 16, 89, 58} 145\n",
      "{2, 4, 37, 16, 145, 89, 58} 42\n",
      "{2, 4, 37, 42, 16, 145, 89, 58} 20\n"
     ]
    },
    {
     "data": {
      "text/plain": [
       "False"
      ]
     },
     "execution_count": 14,
     "metadata": {},
     "output_type": "execute_result"
    }
   ],
   "source": [
    "isHappy(2)"
   ]
  },
  {
   "cell_type": "code",
   "execution_count": null,
   "metadata": {},
   "outputs": [],
   "source": []
  }
 ],
 "metadata": {
  "kernelspec": {
   "display_name": "Python 3",
   "language": "python",
   "name": "python3"
  },
  "language_info": {
   "codemirror_mode": {
    "name": "ipython",
    "version": 3
   },
   "file_extension": ".py",
   "mimetype": "text/x-python",
   "name": "python",
   "nbconvert_exporter": "python",
   "pygments_lexer": "ipython3",
   "version": "3.8.5"
  }
 },
 "nbformat": 4,
 "nbformat_minor": 4
}
