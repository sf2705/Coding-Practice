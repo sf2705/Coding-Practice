{
 "cells": [
  {
   "cell_type": "code",
   "execution_count": 13,
   "metadata": {},
   "outputs": [],
   "source": [
    "class Solution(object):\n",
    "  \n",
    "        \n",
    "    def minimumTimeRequired(self, jobs, k):\n",
    "        \"\"\"\n",
    "        :type jobs: List[int]\n",
    "        :type k: int\n",
    "        :rtype: int\n",
    "        \"\"\"\n",
    "        jobs = sorted(jobs, reverse = True)\n",
    "        workers = [0] * k\n",
    "        self.res = float('inf')\n",
    "\n",
    "        def dfs(i):\n",
    "            if i == len(jobs):\n",
    "                self.res = min(self.res, max(workers))\n",
    "                return \n",
    "\n",
    "            visited = set()\n",
    "            for j in range(k):\n",
    "                if workers[j] in visited:\n",
    "                    continue\n",
    "                if workers[j] + jobs[i] >= self.res:\n",
    "                    continue\n",
    "                visited.add(workers[j])\n",
    "                workers[j] += jobs[i]\n",
    "                dfs(i+1)\n",
    "                workers[j] -= jobs[i]\n",
    "            return\n",
    "        dfs(0)\n",
    "        return self.res"
   ]
  },
  {
   "cell_type": "code",
   "execution_count": null,
   "metadata": {},
   "outputs": [],
   "source": []
  }
 ],
 "metadata": {
  "kernelspec": {
   "display_name": "Python 3",
   "language": "python",
   "name": "python3"
  },
  "language_info": {
   "codemirror_mode": {
    "name": "ipython",
    "version": 3
   },
   "file_extension": ".py",
   "mimetype": "text/x-python",
   "name": "python",
   "nbconvert_exporter": "python",
   "pygments_lexer": "ipython3",
   "version": "3.8.5"
  }
 },
 "nbformat": 4,
 "nbformat_minor": 4
}
