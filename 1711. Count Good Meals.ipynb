{
 "cells": [
  {
   "cell_type": "markdown",
   "metadata": {},
   "source": [
    "### 2021-01-02"
   ]
  },
  {
   "cell_type": "markdown",
   "metadata": {},
   "source": [
    "https://leetcode.com/problems/count-good-meals/"
   ]
  },
  {
   "cell_type": "code",
   "execution_count": 7,
   "metadata": {},
   "outputs": [],
   "source": [
    "def countPairs(deliciousness):\n",
    "    \"\"\"\n",
    "    :type deliciousness: List[int]\n",
    "    :rtype: int\n",
    "    \"\"\"\n",
    "    dic = dict()\n",
    "    for d in deliciousness:\n",
    "        if d not in dic:\n",
    "            dic[d] = 1\n",
    "        else:\n",
    "            dic[d] += 1\n",
    "    deliciousness = list(set(deliciousness))\n",
    "\n",
    "    pow_2 = []\n",
    "    two = 1\n",
    "    while two <= max(deliciousness)*2:\n",
    "        pow_2.append(two)\n",
    "        two *= 2\n",
    "\n",
    "    res = 0\n",
    "    for i in range(len(deliciousness)):\n",
    "        for t in pow_2:\n",
    "            second = t-deliciousness[i]\n",
    "            if second >= deliciousness[i] and second in dic:\n",
    "                if second == deliciousness[i]:\n",
    "                    res += dic[deliciousness[i]] * (dic[deliciousness[i]]-1) // 2\n",
    "                else:\n",
    "                    res += dic[deliciousness[i]] * dic[second]\n",
    "    return res % (10**9 + 7)"
   ]
  },
  {
   "cell_type": "code",
   "execution_count": 8,
   "metadata": {},
   "outputs": [
    {
     "data": {
      "text/plain": [
       "4"
      ]
     },
     "execution_count": 8,
     "metadata": {},
     "output_type": "execute_result"
    }
   ],
   "source": [
    "deliciousness = [1,3,5,7,9]\n",
    "countPairs(deliciousness)"
   ]
  },
  {
   "cell_type": "code",
   "execution_count": 9,
   "metadata": {},
   "outputs": [
    {
     "data": {
      "text/plain": [
       "15"
      ]
     },
     "execution_count": 9,
     "metadata": {},
     "output_type": "execute_result"
    }
   ],
   "source": [
    "deliciousness = [1,1,1,3,3,3,7]\n",
    "countPairs(deliciousness)"
   ]
  },
  {
   "cell_type": "code",
   "execution_count": 10,
   "metadata": {},
   "outputs": [
    {
     "data": {
      "text/plain": [
       "12"
      ]
     },
     "execution_count": 10,
     "metadata": {},
     "output_type": "execute_result"
    }
   ],
   "source": [
    "deliciousness = [149,107,1,63,0,1,6867,1325,5611,2581,39,89,46,18,12,20,22,234]\n",
    "countPairs(deliciousness)"
   ]
  },
  {
   "cell_type": "code",
   "execution_count": 11,
   "metadata": {},
   "outputs": [
    {
     "data": {
      "text/plain": [
       "528"
      ]
     },
     "execution_count": 11,
     "metadata": {},
     "output_type": "execute_result"
    }
   ],
   "source": [
    "deliciousness = [64,64,64,64,64,64,64,64,64,64,64,64,64,64,64,64,64,64,64,64,64,64,64,64,64,64,64,64,64,64,64,64,64]\n",
    "countPairs(deliciousness)"
   ]
  },
  {
   "cell_type": "code",
   "execution_count": null,
   "metadata": {},
   "outputs": [],
   "source": []
  }
 ],
 "metadata": {
  "kernelspec": {
   "display_name": "Python 3",
   "language": "python",
   "name": "python3"
  },
  "language_info": {
   "codemirror_mode": {
    "name": "ipython",
    "version": 3
   },
   "file_extension": ".py",
   "mimetype": "text/x-python",
   "name": "python",
   "nbconvert_exporter": "python",
   "pygments_lexer": "ipython3",
   "version": "3.8.5"
  }
 },
 "nbformat": 4,
 "nbformat_minor": 4
}
