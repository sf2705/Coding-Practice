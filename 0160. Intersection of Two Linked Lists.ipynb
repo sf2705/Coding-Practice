{
 "cells": [
  {
   "cell_type": "markdown",
   "metadata": {},
   "source": [
    "### 2021-01-07"
   ]
  },
  {
   "cell_type": "markdown",
   "metadata": {},
   "source": [
    "https://leetcode.com/problems/intersection-of-two-linked-lists/"
   ]
  },
  {
   "cell_type": "code",
   "execution_count": null,
   "metadata": {},
   "outputs": [],
   "source": [
    "# Definition for singly-linked list.\n",
    "# class ListNode(object):\n",
    "#     def __init__(self, x):\n",
    "#         self.val = x\n",
    "#         self.next = None\n",
    "\n",
    "class Solution(object):\n",
    "    def getIntersectionNode(self, headA, headB):\n",
    "        \"\"\"\n",
    "        :type head1, head1: ListNode\n",
    "        :rtype: ListNode\n",
    "        \"\"\"\n",
    "        if not headA or not headB:\n",
    "            return None\n",
    "        \n",
    "        # create two pointers\n",
    "        p1 = headA\n",
    "        p2 = headB\n",
    "        \n",
    "        while p1 != p2:\n",
    "            # if one of the pointer reach to the end, start from the beginning of another linked list\n",
    "            # if there is a intersection, p1 and p2 will meet\n",
    "            if p1 is None:\n",
    "                p1 = headB\n",
    "            else:\n",
    "                p1 = p1.next\n",
    "            \n",
    "            if p2 is None:\n",
    "                p2 = headA\n",
    "            else:\n",
    "                p2 = p2.next\n",
    "        \n",
    "        return p1\n",
    "                "
   ]
  }
 ],
 "metadata": {
  "kernelspec": {
   "display_name": "Python 3",
   "language": "python",
   "name": "python3"
  },
  "language_info": {
   "codemirror_mode": {
    "name": "ipython",
    "version": 3
   },
   "file_extension": ".py",
   "mimetype": "text/x-python",
   "name": "python",
   "nbconvert_exporter": "python",
   "pygments_lexer": "ipython3",
   "version": "3.8.5"
  }
 },
 "nbformat": 4,
 "nbformat_minor": 4
}
