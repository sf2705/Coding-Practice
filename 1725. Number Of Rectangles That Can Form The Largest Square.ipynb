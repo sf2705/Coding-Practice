{
 "cells": [
  {
   "cell_type": "markdown",
   "metadata": {},
   "source": [
    "### 2021-01-16\n",
    "\n",
    "https://leetcode.com/problems/number-of-rectangles-that-can-form-the-largest-square/"
   ]
  },
  {
   "cell_type": "code",
   "execution_count": null,
   "metadata": {},
   "outputs": [],
   "source": [
    "def countGoodRectangles(rectangles):\n",
    "    \"\"\"\n",
    "    :type rectangles: List[List[int]]\n",
    "    :rtype: int\n",
    "    \"\"\"\n",
    "    max_len = 0\n",
    "    count = 0\n",
    "    for item in rectangles:\n",
    "        if min(item[0], item[1]) > max_len:\n",
    "            max_len = min(item[0], item[1])\n",
    "            count = 1\n",
    "        elif min(item[0], item[1]) == max_len:\n",
    "            count += 1\n",
    "    return count"
   ]
  },
  {
   "cell_type": "code",
   "execution_count": null,
   "metadata": {},
   "outputs": [],
   "source": [
    "rectangles = [[5,8],[3,9],[5,12],[16,5]]\n",
    "countGoodRectangles(rectangles)"
   ]
  },
  {
   "cell_type": "code",
   "execution_count": null,
   "metadata": {},
   "outputs": [],
   "source": [
    "rectangles = [[2,3],[3,7],[4,3],[3,7]]\n",
    "countGoodRectangles(rectangles)"
   ]
  },
  {
   "cell_type": "code",
   "execution_count": null,
   "metadata": {},
   "outputs": [],
   "source": []
  }
 ],
 "metadata": {
  "kernelspec": {
   "display_name": "Python 3",
   "language": "python",
   "name": "python3"
  },
  "language_info": {
   "codemirror_mode": {
    "name": "ipython",
    "version": 3
   },
   "file_extension": ".py",
   "mimetype": "text/x-python",
   "name": "python",
   "nbconvert_exporter": "python",
   "pygments_lexer": "ipython3",
   "version": "3.8.5"
  }
 },
 "nbformat": 4,
 "nbformat_minor": 4
}
