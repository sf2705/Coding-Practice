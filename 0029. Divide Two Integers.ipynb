{
 "cells": [
  {
   "cell_type": "markdown",
   "metadata": {},
   "source": [
    "### 2021-02-27\n",
    "\n",
    "https://leetcode.com/problems/divide-two-integers/"
   ]
  },
  {
   "cell_type": "code",
   "execution_count": 5,
   "metadata": {},
   "outputs": [],
   "source": [
    "def divide(dividend, divisor):\n",
    "    \"\"\"\n",
    "    :type dividend: int\n",
    "    :type divisor: int\n",
    "    :rtype: int\n",
    "    \"\"\"\n",
    "    pos = (dividend <0) == (divisor <0)\n",
    "    dividend, divisor = abs(dividend), abs(divisor)\n",
    "    res = 0\n",
    "    while dividend >= divisor:\n",
    "        temp, i = divisor, 1\n",
    "        while dividend >= temp:\n",
    "            dividend -= temp\n",
    "            res += i\n",
    "            i <<= 1\n",
    "            temp <<= 1\n",
    "    if not pos:\n",
    "        res = -res\n",
    "    return min(max(-2147483648, res), 2147483648)\n"
   ]
  },
  {
   "cell_type": "code",
   "execution_count": 6,
   "metadata": {},
   "outputs": [
    {
     "data": {
      "text/plain": [
       "3"
      ]
     },
     "execution_count": 6,
     "metadata": {},
     "output_type": "execute_result"
    }
   ],
   "source": [
    "dividend = 10\n",
    "divisor = 3\n",
    "divide(dividend, divisor)"
   ]
  },
  {
   "cell_type": "code",
   "execution_count": 7,
   "metadata": {},
   "outputs": [
    {
     "data": {
      "text/plain": [
       "2147483647"
      ]
     },
     "execution_count": 7,
     "metadata": {},
     "output_type": "execute_result"
    }
   ],
   "source": [
    "2**31-1"
   ]
  },
  {
   "cell_type": "code",
   "execution_count": null,
   "metadata": {},
   "outputs": [],
   "source": []
  }
 ],
 "metadata": {
  "kernelspec": {
   "display_name": "Python 3",
   "language": "python",
   "name": "python3"
  },
  "language_info": {
   "codemirror_mode": {
    "name": "ipython",
    "version": 3
   },
   "file_extension": ".py",
   "mimetype": "text/x-python",
   "name": "python",
   "nbconvert_exporter": "python",
   "pygments_lexer": "ipython3",
   "version": "3.8.5"
  }
 },
 "nbformat": 4,
 "nbformat_minor": 4
}
