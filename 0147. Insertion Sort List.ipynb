{
 "cells": [
  {
   "cell_type": "markdown",
   "metadata": {},
   "source": [
    "### 2021-12-14\n",
    "\n",
    "https://leetcode.com/problems/insertion-sort-list/"
   ]
  },
  {
   "cell_type": "code",
   "execution_count": null,
   "metadata": {},
   "outputs": [],
   "source": [
    "# Definition for singly-linked list.\n",
    "# class ListNode(object):\n",
    "#     def __init__(self, val=0, next=None):\n",
    "#         self.val = val\n",
    "#         self.next = next\n",
    "class Solution(object):\n",
    "    def insertionSortList(self, head):\n",
    "        \"\"\"\n",
    "        :type head: ListNode\n",
    "        :rtype: ListNode\n",
    "        \"\"\"\n",
    "        \n",
    "        dummy = ListNode(0)\n",
    "        dummy.next = nodeInsert = head\n",
    "        \n",
    "        while head and head.next:\n",
    "            if head.val > head.next.val:\n",
    "                nodeInsert = head.next\n",
    "                pre = dummy\n",
    "                \n",
    "                while pre.next.val < nodeInsert.val:\n",
    "                    pre = pre.next\n",
    "                \n",
    "                head.next = nodeInsert.next\n",
    "                nodeInsert.next = pre.next\n",
    "                pre.next = nodeInsert\n",
    "            else:\n",
    "                head = head.next\n",
    "        \n",
    "        return dummy.next"
   ]
  }
 ],
 "metadata": {
  "kernelspec": {
   "display_name": "Python 3",
   "language": "python",
   "name": "python3"
  },
  "language_info": {
   "codemirror_mode": {
    "name": "ipython",
    "version": 3
   },
   "file_extension": ".py",
   "mimetype": "text/x-python",
   "name": "python",
   "nbconvert_exporter": "python",
   "pygments_lexer": "ipython3",
   "version": "3.8.5"
  }
 },
 "nbformat": 4,
 "nbformat_minor": 4
}
