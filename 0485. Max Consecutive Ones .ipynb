{
 "cells": [
  {
   "cell_type": "markdown",
   "metadata": {},
   "source": [
    "## 2020-12-29"
   ]
  },
  {
   "cell_type": "markdown",
   "metadata": {},
   "source": [
    "Given a binary array, find the maximum number of consecutive 1s in this array.\n"
   ]
  },
  {
   "cell_type": "markdown",
   "metadata": {},
   "source": [
    "### Example 1:\n",
    "`\n",
    "Input: [1,1,0,1,1,1]\n",
    "Output: 3\n",
    "Explanation: The first two digits or the last three digits are consecutive 1s.\n",
    "The maximum number of consecutive 1s is 3.\n",
    "`\n",
    "\n",
    "**Note:**\n",
    "\n",
    "The input array will only contain 0 and 1.\n"
   ]
  },
  {
   "cell_type": "markdown",
   "metadata": {},
   "source": [
    "### Solution 1"
   ]
  },
  {
   "cell_type": "code",
   "execution_count": 13,
   "metadata": {},
   "outputs": [],
   "source": [
    "def findMaxConsecutiveOnes(nums):\n",
    "    \"\"\"\n",
    "    :type nums: List[int]\n",
    "    :rtype: int\n",
    "    \"\"\"\n",
    "    start = 0\n",
    "    end = 0\n",
    "    max_length = 0\n",
    "    \n",
    "    # cornor case\n",
    "    if not nums:\n",
    "        return 0\n",
    "    \n",
    "    while end < len(nums):\n",
    "        # if starting point is 0, then move to next one\n",
    "        if nums[start] == 0:\n",
    "            start += 1\n",
    "            end = start\n",
    "        # if starting point is 1, then check for ending point\n",
    "        else:\n",
    "            # if ending point is 1, then move ending point to next one\n",
    "            # else, get the length and reset starting point\n",
    "            if nums[end] == 1:\n",
    "                end += 1\n",
    "            else:\n",
    "                max_length = max(max_length, end-start)\n",
    "                start = end + 1\n",
    "                end = start\n",
    "    max_length = max(max_length, end-start)\n",
    "    return max_length\n"
   ]
  },
  {
   "cell_type": "markdown",
   "metadata": {},
   "source": [
    "### Solution 2 - simpler"
   ]
  },
  {
   "cell_type": "code",
   "execution_count": null,
   "metadata": {},
   "outputs": [],
   "source": [
    "def findMaxConsecutiveOnes(nums):\n",
    "    \"\"\"\n",
    "    :type nums: List[int]\n",
    "    :rtype: int\n",
    "    \"\"\"\n",
    "    max_length = 0\n",
    "    cur_length = 0\n",
    "    for n in nums:\n",
    "        if n == 1:\n",
    "            cur_length += 1\n",
    "            max_length = max(max_length, cur_length)\n",
    "        else:\n",
    "            cur_length = 0\n",
    "    return max_length\n"
   ]
  },
  {
   "cell_type": "code",
   "execution_count": 17,
   "metadata": {},
   "outputs": [
    {
     "name": "stdout",
     "output_type": "stream",
     "text": [
      "0 0 0\n",
      "1 1 0\n",
      "2 2 0\n",
      "2 3 0\n",
      "2 4 0\n",
      "2 5 0\n",
      "6 6 3\n",
      "6 7 3\n",
      "8 8 3\n",
      "8 9 3\n"
     ]
    },
    {
     "data": {
      "text/plain": [
       "3"
      ]
     },
     "execution_count": 17,
     "metadata": {},
     "output_type": "execute_result"
    }
   ],
   "source": [
    "nums = [0,0,1,1,1,0,1,0,1,1]\n",
    "findMaxConsecutiveOnes(nums)"
   ]
  },
  {
   "cell_type": "code",
   "execution_count": null,
   "metadata": {},
   "outputs": [],
   "source": []
  }
 ],
 "metadata": {
  "kernelspec": {
   "display_name": "Python 3",
   "language": "python",
   "name": "python3"
  },
  "language_info": {
   "codemirror_mode": {
    "name": "ipython",
    "version": 3
   },
   "file_extension": ".py",
   "mimetype": "text/x-python",
   "name": "python",
   "nbconvert_exporter": "python",
   "pygments_lexer": "ipython3",
   "version": "3.8.5"
  }
 },
 "nbformat": 4,
 "nbformat_minor": 4
}
