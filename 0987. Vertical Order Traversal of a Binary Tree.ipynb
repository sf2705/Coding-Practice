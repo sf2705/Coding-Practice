{
 "cells": [
  {
   "cell_type": "markdown",
   "metadata": {},
   "source": [
    "### 2021-01-29\n",
    "\n",
    "https://leetcode.com/problems/vertical-order-traversal-of-a-binary-tree/"
   ]
  },
  {
   "cell_type": "code",
   "execution_count": null,
   "metadata": {},
   "outputs": [],
   "source": [
    "def verticalTraversal(self, root):\n",
    "    \"\"\"\n",
    "    :type root: TreeNode\n",
    "    :rtype: List[List[int]]\n",
    "    \"\"\"\n",
    "    import collections\n",
    "    dic = collections.defaultdict(list)\n",
    "    queue = [(root, 0)]\n",
    "    while queue:\n",
    "        new = []\n",
    "        d = collections.defaultdict(list)\n",
    "        for node, col in queue:\n",
    "            d[col].append(node.val)\n",
    "            if node.left:\n",
    "                new.append((node.left, col - 1))\n",
    "            if node.right:\n",
    "                new.append((node.right, col + 1))\n",
    "        for k in d:\n",
    "            dic[k].extend(sorted(d[k]))\n",
    "        queue = new\n",
    "    \n",
    "    return [dic[k] for k in sorted(dic)] "
   ]
  }
 ],
 "metadata": {
  "kernelspec": {
   "display_name": "Python 3",
   "language": "python",
   "name": "python3"
  },
  "language_info": {
   "codemirror_mode": {
    "name": "ipython",
    "version": 3
   },
   "file_extension": ".py",
   "mimetype": "text/x-python",
   "name": "python",
   "nbconvert_exporter": "python",
   "pygments_lexer": "ipython3",
   "version": "3.8.5"
  }
 },
 "nbformat": 4,
 "nbformat_minor": 4
}
