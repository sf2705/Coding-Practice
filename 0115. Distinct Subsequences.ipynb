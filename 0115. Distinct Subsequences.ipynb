{
 "cells": [
  {
   "cell_type": "markdown",
   "metadata": {},
   "source": [
    "### 2021-09-19\n",
    "\n",
    "https://leetcode.com/problems/distinct-subsequences/"
   ]
  },
  {
   "cell_type": "code",
   "execution_count": 2,
   "metadata": {},
   "outputs": [],
   "source": [
    "def numDistinct(s, t):\n",
    "    \"\"\"\n",
    "    :type s: str\n",
    "    :type t: str\n",
    "    :rtype: int\n",
    "    \"\"\"\n",
    "    cur = [0]*(len(t)+1)\n",
    "    cur[0] = 1\n",
    "    \n",
    "    for i in range(1, len(s)+1):\n",
    "        prev = cur[:]\n",
    "        for j in range(1, len(t)+1):\n",
    "            cur[j] = prev[j] + prev[j-1] * (s[i-1] == t[j-1])\n",
    "            print(i, j, cur)\n",
    "    return cur[-1]\n",
    "        "
   ]
  },
  {
   "cell_type": "code",
   "execution_count": 5,
   "metadata": {},
   "outputs": [
    {
     "name": "stdout",
     "output_type": "stream",
     "text": [
      "1 1 [1, 1, 0, 0, 0, 0, 0]\n",
      "1 2 [1, 1, 0, 0, 0, 0, 0]\n",
      "1 3 [1, 1, 0, 0, 0, 0, 0]\n",
      "1 4 [1, 1, 0, 0, 0, 0, 0]\n",
      "1 5 [1, 1, 0, 0, 0, 0, 0]\n",
      "1 6 [1, 1, 0, 0, 0, 0, 0]\n",
      "2 1 [1, 1, 0, 0, 0, 0, 0]\n",
      "2 2 [1, 1, 1, 0, 0, 0, 0]\n",
      "2 3 [1, 1, 1, 0, 0, 0, 0]\n",
      "2 4 [1, 1, 1, 0, 0, 0, 0]\n",
      "2 5 [1, 1, 1, 0, 0, 0, 0]\n",
      "2 6 [1, 1, 1, 0, 0, 0, 0]\n",
      "3 1 [1, 1, 1, 0, 0, 0, 0]\n",
      "3 2 [1, 1, 1, 0, 0, 0, 0]\n",
      "3 3 [1, 1, 1, 1, 0, 0, 0]\n",
      "3 4 [1, 1, 1, 1, 0, 0, 0]\n",
      "3 5 [1, 1, 1, 1, 0, 0, 0]\n",
      "3 6 [1, 1, 1, 1, 0, 0, 0]\n",
      "4 1 [1, 1, 1, 1, 0, 0, 0]\n",
      "4 2 [1, 1, 1, 1, 0, 0, 0]\n",
      "4 3 [1, 1, 1, 2, 0, 0, 0]\n",
      "4 4 [1, 1, 1, 2, 1, 0, 0]\n",
      "4 5 [1, 1, 1, 2, 1, 0, 0]\n",
      "4 6 [1, 1, 1, 2, 1, 0, 0]\n",
      "5 1 [1, 1, 1, 2, 1, 0, 0]\n",
      "5 2 [1, 1, 1, 2, 1, 0, 0]\n",
      "5 3 [1, 1, 1, 3, 1, 0, 0]\n",
      "5 4 [1, 1, 1, 3, 3, 0, 0]\n",
      "5 5 [1, 1, 1, 3, 3, 0, 0]\n",
      "5 6 [1, 1, 1, 3, 3, 0, 0]\n",
      "6 1 [1, 1, 1, 3, 3, 0, 0]\n",
      "6 2 [1, 1, 1, 3, 3, 0, 0]\n",
      "6 3 [1, 1, 1, 3, 3, 0, 0]\n",
      "6 4 [1, 1, 1, 3, 3, 0, 0]\n",
      "6 5 [1, 1, 1, 3, 3, 3, 0]\n",
      "6 6 [1, 1, 1, 3, 3, 3, 0]\n",
      "7 1 [1, 1, 1, 3, 3, 3, 0]\n",
      "7 2 [1, 1, 1, 3, 3, 3, 0]\n",
      "7 3 [1, 1, 1, 3, 3, 3, 0]\n",
      "7 4 [1, 1, 1, 3, 3, 3, 0]\n",
      "7 5 [1, 1, 1, 3, 3, 3, 0]\n",
      "7 6 [1, 1, 1, 3, 3, 3, 3]\n"
     ]
    },
    {
     "data": {
      "text/plain": [
       "3"
      ]
     },
     "execution_count": 5,
     "metadata": {},
     "output_type": "execute_result"
    }
   ],
   "source": [
    "s = \"rabbbit\"\n",
    "t = \"rabbit\"\n",
    "numDistinct(s, t)"
   ]
  },
  {
   "cell_type": "code",
   "execution_count": 6,
   "metadata": {},
   "outputs": [
    {
     "name": "stdout",
     "output_type": "stream",
     "text": [
      "1 1 [1, 1, 0, 0]\n",
      "1 2 [1, 1, 0, 0]\n",
      "1 3 [1, 1, 0, 0]\n",
      "2 1 [1, 1, 0, 0]\n",
      "2 2 [1, 1, 1, 0]\n",
      "2 3 [1, 1, 1, 0]\n",
      "3 1 [1, 2, 1, 0]\n",
      "3 2 [1, 2, 1, 0]\n",
      "3 3 [1, 2, 1, 0]\n",
      "4 1 [1, 2, 1, 0]\n",
      "4 2 [1, 2, 1, 0]\n",
      "4 3 [1, 2, 1, 1]\n",
      "5 1 [1, 3, 1, 1]\n",
      "5 2 [1, 3, 1, 1]\n",
      "5 3 [1, 3, 1, 1]\n",
      "6 1 [1, 3, 1, 1]\n",
      "6 2 [1, 3, 4, 1]\n",
      "6 3 [1, 3, 4, 1]\n",
      "7 1 [1, 3, 4, 1]\n",
      "7 2 [1, 3, 4, 1]\n",
      "7 3 [1, 3, 4, 5]\n"
     ]
    },
    {
     "data": {
      "text/plain": [
       "5"
      ]
     },
     "execution_count": 6,
     "metadata": {},
     "output_type": "execute_result"
    }
   ],
   "source": [
    "s = \"babgbag\"\n",
    "t = \"bag\"\n",
    "numDistinct(s, t)"
   ]
  }
 ],
 "metadata": {
  "kernelspec": {
   "display_name": "Python 3",
   "language": "python",
   "name": "python3"
  },
  "language_info": {
   "codemirror_mode": {
    "name": "ipython",
    "version": 3
   },
   "file_extension": ".py",
   "mimetype": "text/x-python",
   "name": "python",
   "nbconvert_exporter": "python",
   "pygments_lexer": "ipython3",
   "version": "3.8.5"
  }
 },
 "nbformat": 4,
 "nbformat_minor": 4
}
