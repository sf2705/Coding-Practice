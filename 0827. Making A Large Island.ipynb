{
 "cells": [
  {
   "cell_type": "markdown",
   "metadata": {},
   "source": [
    "### 2021-08-01\n",
    "https://leetcode.com/problems/making-a-large-island/"
   ]
  },
  {
   "cell_type": "code",
   "execution_count": 13,
   "metadata": {},
   "outputs": [],
   "source": [
    "def largestIsland(grid):\n",
    "    \"\"\"\n",
    "    :type grid: List[List[int]]\n",
    "    :rtype: int\n",
    "    \"\"\"\n",
    "    n = len(grid)\n",
    "    \n",
    "    def move(x, y):\n",
    "        for r, c in ((x-1, y), (x+1, y), (x, y-1), (x, y+1)):\n",
    "            if 0 <= r < n and 0 <= c < n:\n",
    "                yield r, c\n",
    "    \n",
    "    def dfs(x, y, idx):\n",
    "        res = 1\n",
    "        grid[x][y] = idx\n",
    "        for r, c in move(x, y):\n",
    "            if grid[r][c] == 1:\n",
    "                res += dfs(r, c, idx)\n",
    "        return res\n",
    "    \n",
    "    area = {0:0}\n",
    "    idx = 2\n",
    "    for x in range(n):\n",
    "        for y in range(n):\n",
    "            if grid[x][y] == 1:\n",
    "                area[idx] = dfs(x, y, idx)\n",
    "                idx += 1\n",
    "    \n",
    "    res = max(area.values() or [0])\n",
    "    for x in range(n):\n",
    "        for y in range(n):\n",
    "            if grid[x][y] == 0:\n",
    "                visit = {grid[r][c] for r,c in move(x,y)}\n",
    "                res = max(res, sum(area[idx] for idx in visit) + 1)\n",
    "    return res\n",
    "        \n"
   ]
  },
  {
   "cell_type": "code",
   "execution_count": 14,
   "metadata": {},
   "outputs": [
    {
     "data": {
      "text/plain": [
       "3"
      ]
     },
     "execution_count": 14,
     "metadata": {},
     "output_type": "execute_result"
    }
   ],
   "source": [
    "grid = [[1,0],[0,1]]\n",
    "largestIsland(grid)"
   ]
  },
  {
   "cell_type": "code",
   "execution_count": 15,
   "metadata": {},
   "outputs": [
    {
     "data": {
      "text/plain": [
       "4"
      ]
     },
     "execution_count": 15,
     "metadata": {},
     "output_type": "execute_result"
    }
   ],
   "source": [
    "grid = [[1,1],[1,0]]\n",
    "largestIsland(grid)"
   ]
  },
  {
   "cell_type": "code",
   "execution_count": 16,
   "metadata": {},
   "outputs": [
    {
     "data": {
      "text/plain": [
       "4"
      ]
     },
     "execution_count": 16,
     "metadata": {},
     "output_type": "execute_result"
    }
   ],
   "source": [
    "grid = [[1,1],[1,1]]\n",
    "largestIsland(grid)"
   ]
  },
  {
   "cell_type": "code",
   "execution_count": 17,
   "metadata": {},
   "outputs": [
    {
     "data": {
      "text/plain": [
       "1"
      ]
     },
     "execution_count": 17,
     "metadata": {},
     "output_type": "execute_result"
    }
   ],
   "source": [
    "grid = [[0,0],[0,0]]\n",
    "largestIsland(grid)"
   ]
  },
  {
   "cell_type": "code",
   "execution_count": null,
   "metadata": {},
   "outputs": [],
   "source": []
  }
 ],
 "metadata": {
  "kernelspec": {
   "display_name": "Python 3",
   "language": "python",
   "name": "python3"
  },
  "language_info": {
   "codemirror_mode": {
    "name": "ipython",
    "version": 3
   },
   "file_extension": ".py",
   "mimetype": "text/x-python",
   "name": "python",
   "nbconvert_exporter": "python",
   "pygments_lexer": "ipython3",
   "version": "3.8.5"
  }
 },
 "nbformat": 4,
 "nbformat_minor": 4
}
