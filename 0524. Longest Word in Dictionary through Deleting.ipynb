{
 "cells": [
  {
   "cell_type": "markdown",
   "metadata": {},
   "source": [
    "### 2021-02-22\n",
    "\n",
    "https://leetcode.com/problems/longest-word-in-dictionary-through-deleting/"
   ]
  },
  {
   "cell_type": "code",
   "execution_count": null,
   "metadata": {},
   "outputs": [],
   "source": [
    "def findLongestWord(s, d):\n",
    "    \"\"\"\n",
    "    :type s: str\n",
    "    :type d: List[str]\n",
    "    :rtype: str\n",
    "    \"\"\"\n",
    "    d.sort(key = lambda x: (-len(x), x))\n",
    "    for word in d:\n",
    "        i = 0\n",
    "        for ch in s:\n",
    "            if i < len(word) and word[i] == ch:\n",
    "                i += 1\n",
    "        if i == len(word):\n",
    "            return word\n",
    "    return ''"
   ]
  }
 ],
 "metadata": {
  "kernelspec": {
   "display_name": "Python 3",
   "language": "python",
   "name": "python3"
  },
  "language_info": {
   "codemirror_mode": {
    "name": "ipython",
    "version": 3
   },
   "file_extension": ".py",
   "mimetype": "text/x-python",
   "name": "python",
   "nbconvert_exporter": "python",
   "pygments_lexer": "ipython3",
   "version": "3.8.5"
  }
 },
 "nbformat": 4,
 "nbformat_minor": 4
}
