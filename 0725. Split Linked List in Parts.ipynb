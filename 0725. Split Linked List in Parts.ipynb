{
 "cells": [
  {
   "cell_type": "markdown",
   "metadata": {},
   "source": [
    "### 2021-09-29\n",
    "\n",
    "https://leetcode.com/problems/split-linked-list-in-parts/"
   ]
  },
  {
   "cell_type": "code",
   "execution_count": null,
   "metadata": {},
   "outputs": [],
   "source": [
    "# Definition for singly-linked list.\n",
    "# class ListNode(object):\n",
    "#     def __init__(self, val=0, next=None):\n",
    "#         self.val = val\n",
    "#         self.next = next\n",
    "class Solution(object):\n",
    "    def splitListToParts(self, head, k):\n",
    "        \"\"\"\n",
    "        :type head: ListNode\n",
    "        :type k: int\n",
    "        :rtype: List[ListNode]\n",
    "        \"\"\"\n",
    "        cur = head\n",
    "        length = [0] * k\n",
    "        i = 0\n",
    "        while cur:\n",
    "            cur = cur.next\n",
    "            length[i%k] += 1\n",
    "            i += 1\n",
    "        \n",
    "        pre, cur = None, head\n",
    "        res = []\n",
    "        for i in range(len(length)):\n",
    "            if pre:\n",
    "                pre.next = None\n",
    "            res.append(cur)\n",
    "            for j in range(length[i]):\n",
    "                pre, cur = cur, cur.next\n",
    "        return res"
   ]
  }
 ],
 "metadata": {
  "kernelspec": {
   "display_name": "Python 3",
   "language": "python",
   "name": "python3"
  },
  "language_info": {
   "codemirror_mode": {
    "name": "ipython",
    "version": 3
   },
   "file_extension": ".py",
   "mimetype": "text/x-python",
   "name": "python",
   "nbconvert_exporter": "python",
   "pygments_lexer": "ipython3",
   "version": "3.8.5"
  }
 },
 "nbformat": 4,
 "nbformat_minor": 4
}
