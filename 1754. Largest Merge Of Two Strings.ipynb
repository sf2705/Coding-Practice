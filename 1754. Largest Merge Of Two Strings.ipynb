{
 "cells": [
  {
   "cell_type": "markdown",
   "metadata": {},
   "source": [
    "### 2021-02-07\n",
    "\n",
    "https://leetcode.com/problems/largest-merge-of-two-strings/"
   ]
  },
  {
   "cell_type": "code",
   "execution_count": 3,
   "metadata": {},
   "outputs": [],
   "source": [
    "def largestMerge(word1, word2):\n",
    "    \"\"\"\n",
    "    :type word1: str\n",
    "    :type word2: str\n",
    "    :rtype: str\n",
    "    \"\"\"\n",
    "    res = ''\n",
    "    i = j = 0\n",
    "    while i < len(word1) and j < len(word2):\n",
    "        if word1[i:] > word2[j:]:\n",
    "            res += word1[i]\n",
    "            i += 1\n",
    "        else:\n",
    "            res += word2[j]\n",
    "            j += 1\n",
    "    res += word1[i:] + word2[j:]\n",
    "    return res"
   ]
  },
  {
   "cell_type": "code",
   "execution_count": 4,
   "metadata": {},
   "outputs": [
    {
     "data": {
      "text/plain": [
       "'cbcabaaaaa'"
      ]
     },
     "execution_count": 4,
     "metadata": {},
     "output_type": "execute_result"
    }
   ],
   "source": [
    "word1 = \"cabaa\"\n",
    "word2 = \"bcaaa\"\n",
    "largestMerge(word1, word2)"
   ]
  },
  {
   "cell_type": "code",
   "execution_count": 5,
   "metadata": {},
   "outputs": [
    {
     "data": {
      "text/plain": [
       "'abdcabcabcaba'"
      ]
     },
     "execution_count": 5,
     "metadata": {},
     "output_type": "execute_result"
    }
   ],
   "source": [
    "word1 = \"abcabc\"\n",
    "word2 = \"abdcaba\"\n",
    "largestMerge(word1, word2)"
   ]
  },
  {
   "cell_type": "code",
   "execution_count": null,
   "metadata": {},
   "outputs": [],
   "source": []
  }
 ],
 "metadata": {
  "kernelspec": {
   "display_name": "Python 3",
   "language": "python",
   "name": "python3"
  },
  "language_info": {
   "codemirror_mode": {
    "name": "ipython",
    "version": 3
   },
   "file_extension": ".py",
   "mimetype": "text/x-python",
   "name": "python",
   "nbconvert_exporter": "python",
   "pygments_lexer": "ipython3",
   "version": "3.8.5"
  }
 },
 "nbformat": 4,
 "nbformat_minor": 4
}
